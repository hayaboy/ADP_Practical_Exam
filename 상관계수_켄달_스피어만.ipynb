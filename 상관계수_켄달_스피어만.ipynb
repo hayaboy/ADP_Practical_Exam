{
  "nbformat": 4,
  "nbformat_minor": 0,
  "metadata": {
    "colab": {
      "provenance": [],
      "authorship_tag": "ABX9TyOko05RdowiDQufDGVnG4HV",
      "include_colab_link": true
    },
    "kernelspec": {
      "name": "python3",
      "display_name": "Python 3"
    },
    "language_info": {
      "name": "python"
    }
  },
  "cells": [
    {
      "cell_type": "markdown",
      "metadata": {
        "id": "view-in-github",
        "colab_type": "text"
      },
      "source": [
        "<a href=\"https://colab.research.google.com/github/hayaboy/ADP_Practical_Exam/blob/main/%EC%83%81%EA%B4%80%EA%B3%84%EC%88%98_%EC%BC%84%EB%8B%AC_%EC%8A%A4%ED%94%BC%EC%96%B4%EB%A7%8C.ipynb\" target=\"_parent\"><img src=\"https://colab.research.google.com/assets/colab-badge.svg\" alt=\"Open In Colab\"/></a>"
      ]
    },
    {
      "cell_type": "code",
      "execution_count": 1,
      "metadata": {
        "colab": {
          "base_uri": "https://localhost:8080/"
        },
        "id": "_Gu24--okUPp",
        "outputId": "6e041980-c10e-4959-e5cd-f9f5ba0c5530"
      },
      "outputs": [
        {
          "output_type": "stream",
          "name": "stdout",
          "text": [
            "Kendall correlation: 0.39999999999999997\n"
          ]
        }
      ],
      "source": [
        "import pandas as pd\n",
        "\n",
        "# 예제 데이터\n",
        "data1 = [1, 2, 3, 4, 5]\n",
        "data2 = [3, 1, 2, 5, 4]\n",
        "\n",
        "# 데이터프레임 생성\n",
        "df = pd.DataFrame({'data1': data1, 'data2': data2})\n",
        "\n",
        "# 켄달 상관 계수 계산\n",
        "kendall_corr = df['data1'].corr(df['data2'], method='kendall')\n",
        "print(f\"Kendall correlation: {kendall_corr}\")"
      ]
    },
    {
      "cell_type": "code",
      "source": [
        "import pandas as pd\n",
        "\n",
        "# 예제 데이터\n",
        "data1 = [1, 2, 3, 4, 5]\n",
        "data2 = [3, 1, 2, 5, 4]\n",
        "\n",
        "# 데이터프레임 생성\n",
        "df = pd.DataFrame({'data1': data1, 'data2': data2})\n",
        "\n",
        "# 스피어만 상관 계수 계산\n",
        "spearman_corr = df['data1'].corr(df['data2'], method='spearman')\n",
        "print(f\"Spearman correlation: {spearman_corr}\")"
      ],
      "metadata": {
        "colab": {
          "base_uri": "https://localhost:8080/"
        },
        "id": "eZ8jt_iFkZiS",
        "outputId": "fcb07dec-7029-4997-879a-066058daf5cc"
      },
      "execution_count": 2,
      "outputs": [
        {
          "output_type": "stream",
          "name": "stdout",
          "text": [
            "Spearman correlation: 0.6\n"
          ]
        }
      ]
    }
  ]
}