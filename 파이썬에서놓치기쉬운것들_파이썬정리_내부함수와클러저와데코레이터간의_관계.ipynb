{
  "nbformat": 4,
  "nbformat_minor": 0,
  "metadata": {
    "colab": {
      "provenance": [],
      "authorship_tag": "ABX9TyMVLoWag3bT2yO938bZUr6n",
      "include_colab_link": true
    },
    "kernelspec": {
      "name": "python3",
      "display_name": "Python 3"
    },
    "language_info": {
      "name": "python"
    }
  },
  "cells": [
    {
      "cell_type": "markdown",
      "metadata": {
        "id": "view-in-github",
        "colab_type": "text"
      },
      "source": [
        "<a href=\"https://colab.research.google.com/github/hayaboy/ADP_Practical_Exam/blob/main/%ED%8C%8C%EC%9D%B4%EC%8D%AC%EC%97%90%EC%84%9C%EB%86%93%EC%B9%98%EA%B8%B0%EC%89%AC%EC%9A%B4%EA%B2%83%EB%93%A4_%ED%8C%8C%EC%9D%B4%EC%8D%AC%EC%A0%95%EB%A6%AC_%EB%82%B4%EB%B6%80%ED%95%A8%EC%88%98%EC%99%80%ED%81%B4%EB%9F%AC%EC%A0%80%EC%99%80%EB%8D%B0%EC%BD%94%EB%A0%88%EC%9D%B4%ED%84%B0%EA%B0%84%EC%9D%98_%EA%B4%80%EA%B3%84.ipynb\" target=\"_parent\"><img src=\"https://colab.research.google.com/assets/colab-badge.svg\" alt=\"Open In Colab\"/></a>"
      ]
    },
    {
      "cell_type": "markdown",
      "source": [
        "위치 매개변수(인수,인자)"
      ],
      "metadata": {
        "id": "MJbyUde0W3ES"
      }
    },
    {
      "cell_type": "code",
      "source": [
        "def menu(liquor,main_dish,dessert):\n",
        "  return {'liquor':liquor,'main_dish':main_dish, 'dessert':dessert}"
      ],
      "metadata": {
        "id": "yWNB3MOGXS_i"
      },
      "execution_count": 12,
      "outputs": []
    },
    {
      "cell_type": "code",
      "source": [
        "menu('와인', '스테이크', '아이스크림')"
      ],
      "metadata": {
        "colab": {
          "base_uri": "https://localhost:8080/"
        },
        "id": "2hcSfWhDYR2W",
        "outputId": "553000c8-61d3-4bcc-daee-8606ff9d2bf8"
      },
      "execution_count": 14,
      "outputs": [
        {
          "output_type": "execute_result",
          "data": {
            "text/plain": [
              "{'liquor': '와인', 'main_dish': '스테이크', 'dessert': '아이스크림'}"
            ]
          },
          "metadata": {},
          "execution_count": 14
        }
      ]
    },
    {
      "cell_type": "code",
      "source": [
        "menu('와인',  '아이스크림', '스테이크')"
      ],
      "metadata": {
        "colab": {
          "base_uri": "https://localhost:8080/"
        },
        "id": "t7aOqqLBYfbd",
        "outputId": "a4a53ffc-8402-44f1-d661-ee99b9acaa2f"
      },
      "execution_count": 15,
      "outputs": [
        {
          "output_type": "execute_result",
          "data": {
            "text/plain": [
              "{'liquor': '와인', 'main_dish': '아이스크림', 'dessert': '스테이크'}"
            ]
          },
          "metadata": {},
          "execution_count": 15
        }
      ]
    },
    {
      "cell_type": "markdown",
      "source": [
        "키워드 매개변수(인수, 인자)"
      ],
      "metadata": {
        "id": "A0GcrsYNY2-C"
      }
    },
    {
      "cell_type": "markdown",
      "source": [
        "위치 인자의 혼동을 피하기 위해 매개변수에 상응하는 이름을 인수에 지정할 수 있다. 심지어 순서도 변경 가능"
      ],
      "metadata": {
        "id": "GMiIXdDXZJ_c"
      }
    },
    {
      "cell_type": "code",
      "source": [
        "menu(main_dish='스파게티',dessert='식혜', liquor='막걸리' )"
      ],
      "metadata": {
        "colab": {
          "base_uri": "https://localhost:8080/"
        },
        "id": "U6oq9568ZJQ_",
        "outputId": "61df1445-6b2b-40ac-a71f-5426eb207103"
      },
      "execution_count": 16,
      "outputs": [
        {
          "output_type": "execute_result",
          "data": {
            "text/plain": [
              "{'liquor': '막걸리', 'main_dish': '스파게티', 'dessert': '식혜'}"
            ]
          },
          "metadata": {},
          "execution_count": 16
        }
      ]
    },
    {
      "cell_type": "markdown",
      "source": [
        "기본 매개변수값 지정"
      ],
      "metadata": {
        "id": "XaaogIMoZqW6"
      }
    },
    {
      "cell_type": "code",
      "source": [
        "def menu(liquor,main_dish,dessert='pudding'):\n",
        "  return {'liquor':liquor,'main_dish':main_dish, 'dessert':dessert}"
      ],
      "metadata": {
        "id": "qqgTFOiSZqDy"
      },
      "execution_count": 18,
      "outputs": []
    },
    {
      "cell_type": "code",
      "source": [
        "menu('소주', '한정식')"
      ],
      "metadata": {
        "colab": {
          "base_uri": "https://localhost:8080/"
        },
        "id": "fAsZFrljZy7U",
        "outputId": "c566734e-8243-407e-c209-4bc581113fba"
      },
      "execution_count": 19,
      "outputs": [
        {
          "output_type": "execute_result",
          "data": {
            "text/plain": [
              "{'liquor': '소주', 'main_dish': '한정식', 'dessert': 'pudding'}"
            ]
          },
          "metadata": {},
          "execution_count": 19
        }
      ]
    },
    {
      "cell_type": "code",
      "source": [
        "menu('소주', '한정식',dessert='숭늉' )"
      ],
      "metadata": {
        "colab": {
          "base_uri": "https://localhost:8080/"
        },
        "id": "_V4ldCDFYnxN",
        "outputId": "b7b90785-6c12-4253-cb83-37acaf3d2053"
      },
      "execution_count": 20,
      "outputs": [
        {
          "output_type": "execute_result",
          "data": {
            "text/plain": [
              "{'liquor': '소주', 'main_dish': '한정식', 'dessert': '숭늉'}"
            ]
          },
          "metadata": {},
          "execution_count": 20
        }
      ]
    },
    {
      "cell_type": "markdown",
      "source": [
        "   "
      ],
      "metadata": {
        "id": "LqFJ7lEtavlb"
      }
    },
    {
      "cell_type": "markdown",
      "source": [
        " <!-- 두 언더스코어(__와__) 사용 -->"
      ],
      "metadata": {
        "id": "sf6Yh8VAas4q"
      }
    },
    {
      "cell_type": "code",
      "source": [
        "# __와__"
      ],
      "metadata": {
        "id": "22TQhTpPW1EO"
      },
      "execution_count": 21,
      "outputs": []
    },
    {
      "cell_type": "code",
      "execution_count": 22,
      "metadata": {
        "id": "c3NuKF62SWXz"
      },
      "outputs": [],
      "source": [
        "# 파이썬 내의 사용을 위해 예약되어 있다.\n",
        "# 함수의 이름은  function.__name__\n",
        "# 함수의 문서는  function.__doc__\n"
      ]
    },
    {
      "cell_type": "markdown",
      "source": [],
      "metadata": {
        "id": "96s7yu0GbGCD"
      }
    },
    {
      "cell_type": "markdown",
      "source": [
        "데커레이터 사용이유\n"
      ],
      "metadata": {
        "id": "cb1xkho3SkIx"
      }
    },
    {
      "cell_type": "markdown",
      "source": [
        "데커레이터는 하나의 함수를 취해서 또 다른 함수를 반환하는 함수"
      ],
      "metadata": {
        "id": "05ij0KzDSi5C"
      }
    },
    {
      "cell_type": "markdown",
      "source": [
        "파이썬 데코레이터의 사용 이유를 가장 쉽게 설명할 수 있는 예는 함수의 동작을 수정하거나 확장할 때입니다. 데코레이터를 사용하면 함수의 코드를 변경하지 않고도 기능을 추가할 수 있습니다. 다음은 로그를 기록하는 간단한 데코레이터 예제입니다."
      ],
      "metadata": {
        "id": "qlMeM4WjVLMy"
      }
    },
    {
      "cell_type": "code",
      "source": [
        "def logger(func):\n",
        "  print(func.__name__)\n",
        "  def wrapper(*args, **kwargs):\n",
        "    print(f\"Function '{func.__name__}' is about to be called\")\n",
        "    result = func(*args, **kwargs)\n",
        "    print(f\"Function '{func.__name__}' has been called\")\n",
        "    return result\n",
        "  return wrapper\n",
        "\n",
        "@logger\n",
        "def say_hello(name):\n",
        "    print(f\"Hello, {name}!\")\n",
        "\n",
        "# 예제 사용\n",
        "say_hello(\"Alice\")"
      ],
      "metadata": {
        "colab": {
          "base_uri": "https://localhost:8080/"
        },
        "id": "9r7VKPUGVKlW",
        "outputId": "de21a673-305b-4f0f-cead-502d5d267931"
      },
      "execution_count": 4,
      "outputs": [
        {
          "output_type": "stream",
          "name": "stdout",
          "text": [
            "say_hello\n",
            "Function 'say_hello' is about to be called\n",
            "Hello, Alice!\n",
            "Function 'say_hello' has been called\n"
          ]
        }
      ]
    },
    {
      "cell_type": "code",
      "source": [],
      "metadata": {
        "id": "pTvq85sqUswY"
      },
      "execution_count": null,
      "outputs": []
    },
    {
      "cell_type": "markdown",
      "source": [
        "설명:\n",
        "데코레이터 정의:\n",
        "\n",
        "logger 함수는 데코레이터입니다. 이 함수는 다른 함수를 인자로 받아 내부에서 wrapper 함수를 정의하고 이를 반환합니다.\n",
        "wrapper 함수는 원래 함수(func)가 호출되기 전과 후에 로그 메시지를 출력합니다.\n",
        "데코레이터 적용:\n",
        "\n",
        "@logger 구문을 사용하여 say_hello 함수에 데코레이터를 적용합니다. 이렇게 하면 say_hello 함수가 호출될 때마다 logger 데코레이터가 먼저 실행됩니다.\n",
        "함수 호출:\n",
        "\n",
        "say_hello(\"Alice\")를 호출하면 logger 데코레이터가 적용된 wrapper 함수가 실행됩니다.\n",
        "wrapper 함수는 원래 say_hello 함수를 호출하기 전에 로그 메시지를 출력하고, 호출 후에도 로그 메시지를 출력합니다.\n",
        "실행 결과:\n",
        "plaintext\n",
        "코드 복사\n",
        "Function 'say_hello' is about to be called\n",
        "Hello, Alice!\n",
        "Function 'say_hello' has been called\n",
        "데코레이터 사용 이유:\n",
        "반복 코드 제거:\n",
        "\n",
        "여러 함수에서 공통적으로 수행해야 하는 작업(예: 로그 기록, 권한 검사, 성능 측정 등)을 데코레이터로 정의하면 반복적인 코드를 제거할 수 있습니다.\n",
        "코드 가독성 향상:\n",
        "\n",
        "데코레이터를 사용하면 함수의 핵심 로직과 부가 기능(예: 로그 기록)을 분리할 수 있어 코드의 가독성이 향상됩니다.\n",
        "유지보수 용이:\n",
        "\n",
        "함수의 동작을 수정하거나 확장할 때 함수 본체를 수정할 필요 없이 데코레이터만 수정하면 되므로 유지보수가 용이합니다.\n",
        "이 예제는 데코레이터의 기본 개념과 사용 이유를 쉽게 이해할 수 있게 해줍니다. 데코레이터를 사용하면 함수의 동작을 변경하거나 확장할 때 코드의 반복을 줄이고 가독성을 높일 수 있습니다."
      ],
      "metadata": {
        "id": "Oy3-51EiWnZ6"
      }
    },
    {
      "cell_type": "code",
      "source": [],
      "metadata": {
        "id": "qKYv94O-WoUj"
      },
      "execution_count": null,
      "outputs": []
    }
  ]
}