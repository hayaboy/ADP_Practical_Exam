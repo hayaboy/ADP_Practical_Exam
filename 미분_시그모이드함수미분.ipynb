{
  "nbformat": 4,
  "nbformat_minor": 0,
  "metadata": {
    "colab": {
      "provenance": [],
      "authorship_tag": "ABX9TyMA4RVn4q+o9H3fu3Hp9BQg",
      "include_colab_link": true
    },
    "kernelspec": {
      "name": "python3",
      "display_name": "Python 3"
    },
    "language_info": {
      "name": "python"
    }
  },
  "cells": [
    {
      "cell_type": "markdown",
      "metadata": {
        "id": "view-in-github",
        "colab_type": "text"
      },
      "source": [
        "<a href=\"https://colab.research.google.com/github/hayaboy/ADP_Practical_Exam/blob/main/%EB%AF%B8%EB%B6%84_%EC%8B%9C%EA%B7%B8%EB%AA%A8%EC%9D%B4%EB%93%9C%ED%95%A8%EC%88%98%EB%AF%B8%EB%B6%84.ipynb\" target=\"_parent\"><img src=\"https://colab.research.google.com/assets/colab-badge.svg\" alt=\"Open In Colab\"/></a>"
      ]
    },
    {
      "cell_type": "code",
      "execution_count": null,
      "metadata": {
        "id": "Ab6NgV_HnpeR"
      },
      "outputs": [],
      "source": [
        "import sympy as sp"
      ]
    },
    {
      "cell_type": "code",
      "source": [
        "import sympy as sp\n",
        "\n",
        "# 심볼 x 정의\n",
        "x = sp.symbols('x')\n",
        "\n",
        "# 1. 상수 함수의 미분\n",
        "f1 = 5\n",
        "f1_prime = sp.diff(f1, x)\n",
        "print(f\"상수 함수 f(x) = 5의 미분: {f1_prime}\")\n",
        "\n",
        "# 2. 멱 함수의 미분\n",
        "f2 = x**4\n",
        "f2_prime = sp.diff(f2, x)\n",
        "print(f\"\\nf(x) = x^4의 미분: {f2_prime}\")\n",
        "\n",
        "# 3. 합의 미분\n",
        "f3 = x**2 + 3*x\n",
        "f3_prime = sp.diff(f3, x)\n",
        "print(f\"\\nf(x) = x^2 + 3x의 미분: {f3_prime}\")\n",
        "\n",
        "# 4. 곱의 미분\n",
        "f4 = (x**2) * sp.sin(x)\n",
        "f4_prime = sp.diff(f4, x)\n",
        "print(f\"\\nf(x) = (x^2)(sin(x))의 미분: {f4_prime}\")\n",
        "\n",
        "# 5. 체인 룰\n",
        "f5 = sp.sin(x**2)\n",
        "f5_prime = sp.diff(f5, x)\n",
        "print(f\"\\nf(x) = sin(x^2)의 미분: {f5_prime}\")\n"
      ],
      "metadata": {
        "colab": {
          "base_uri": "https://localhost:8080/"
        },
        "id": "4f-8mBTAnuVR",
        "outputId": "4b11ca6f-d4fe-4900-be69-43d5a549e2cb"
      },
      "execution_count": null,
      "outputs": [
        {
          "output_type": "stream",
          "name": "stdout",
          "text": [
            "상수 함수 f(x) = 5의 미분: 0\n",
            "\n",
            "f(x) = x^4의 미분: 4*x**3\n",
            "\n",
            "f(x) = x^2 + 3x의 미분: 2*x + 3\n",
            "\n",
            "f(x) = (x^2)(sin(x))의 미분: x**2*cos(x) + 2*x*sin(x)\n",
            "\n",
            "f(x) = sin(x^2)의 미분: 2*x*cos(x**2)\n"
          ]
        }
      ]
    },
    {
      "cell_type": "code",
      "source": [
        "f1 = 5\n",
        "f1_prime = sp.diff(f1, x)"
      ],
      "metadata": {
        "id": "wEaqzynyn2NM"
      },
      "execution_count": null,
      "outputs": []
    },
    {
      "cell_type": "code",
      "source": [
        "f1_prime"
      ],
      "metadata": {
        "colab": {
          "base_uri": "https://localhost:8080/",
          "height": 37
        },
        "id": "0qfCVHdin4r8",
        "outputId": "cfe95f43-e895-449d-e189-388ca3e6efe3"
      },
      "execution_count": null,
      "outputs": [
        {
          "output_type": "execute_result",
          "data": {
            "text/plain": [
              "0"
            ],
            "text/latex": "$\\displaystyle 0$"
          },
          "metadata": {},
          "execution_count": 4
        }
      ]
    },
    {
      "cell_type": "code",
      "source": [
        "f2 = x**4\n",
        "f2_prime = sp.diff(f2, x)"
      ],
      "metadata": {
        "id": "QZ3QneC-n7nC"
      },
      "execution_count": null,
      "outputs": []
    },
    {
      "cell_type": "code",
      "source": [
        "f2_prime"
      ],
      "metadata": {
        "colab": {
          "base_uri": "https://localhost:8080/",
          "height": 39
        },
        "id": "MDMZJ98pn99i",
        "outputId": "5e98532b-0483-40dd-bbab-a337e8b937fd"
      },
      "execution_count": null,
      "outputs": [
        {
          "output_type": "execute_result",
          "data": {
            "text/plain": [
              "4*x**3"
            ],
            "text/latex": "$\\displaystyle 4 x^{3}$"
          },
          "metadata": {},
          "execution_count": 6
        }
      ]
    },
    {
      "cell_type": "code",
      "source": [
        "f3 = x**2 + 3*x\n",
        "f3_prime = sp.diff(f3, x)"
      ],
      "metadata": {
        "id": "VQXCyZNtoBMZ"
      },
      "execution_count": null,
      "outputs": []
    },
    {
      "cell_type": "code",
      "source": [
        "f3_prime"
      ],
      "metadata": {
        "colab": {
          "base_uri": "https://localhost:8080/",
          "height": 39
        },
        "id": "jcnJ0SzCoCuS",
        "outputId": "cf1de4f2-3f7a-4bf0-8f40-35c13a62995a"
      },
      "execution_count": null,
      "outputs": [
        {
          "output_type": "execute_result",
          "data": {
            "text/plain": [
              "2*x + 3"
            ],
            "text/latex": "$\\displaystyle 2 x + 3$"
          },
          "metadata": {},
          "execution_count": 9
        }
      ]
    },
    {
      "cell_type": "code",
      "source": [
        "f4 = (x**2) * sp.sin(x)\n",
        "f4_prime = sp.diff(f4, x)\n"
      ],
      "metadata": {
        "id": "GVcAUNtwoHT6"
      },
      "execution_count": null,
      "outputs": []
    },
    {
      "cell_type": "code",
      "source": [
        "f4_prime"
      ],
      "metadata": {
        "colab": {
          "base_uri": "https://localhost:8080/",
          "height": 39
        },
        "id": "6C6hGNlZoIo6",
        "outputId": "6dacc97d-acc6-4286-90e2-0f4e1351f0c8"
      },
      "execution_count": null,
      "outputs": [
        {
          "output_type": "execute_result",
          "data": {
            "text/plain": [
              "x**2*cos(x) + 2*x*sin(x)"
            ],
            "text/latex": "$\\displaystyle x^{2} \\cos{\\left(x \\right)} + 2 x \\sin{\\left(x \\right)}$"
          },
          "metadata": {},
          "execution_count": 13
        }
      ]
    },
    {
      "cell_type": "code",
      "source": [
        "f5 = sp.sin(x**2)\n",
        "f5_prime = sp.diff(f5, x)\n"
      ],
      "metadata": {
        "id": "uf0T-QRAoZfk"
      },
      "execution_count": null,
      "outputs": []
    },
    {
      "cell_type": "code",
      "source": [
        "f5"
      ],
      "metadata": {
        "colab": {
          "base_uri": "https://localhost:8080/",
          "height": 39
        },
        "id": "kkx-CeEOoftH",
        "outputId": "aca153cc-1f6a-4650-a5c8-5529c2b8acba"
      },
      "execution_count": null,
      "outputs": [
        {
          "output_type": "execute_result",
          "data": {
            "text/plain": [
              "sin(x**2)"
            ],
            "text/latex": "$\\displaystyle \\sin{\\left(x^{2} \\right)}$"
          },
          "metadata": {},
          "execution_count": 16
        }
      ]
    },
    {
      "cell_type": "code",
      "source": [
        "f5_prime"
      ],
      "metadata": {
        "colab": {
          "base_uri": "https://localhost:8080/",
          "height": 39
        },
        "id": "u5Ad3M1uobdk",
        "outputId": "62a6e859-c5c5-46b4-da1d-5cf08d4f09cc"
      },
      "execution_count": null,
      "outputs": [
        {
          "output_type": "execute_result",
          "data": {
            "text/plain": [
              "2*x*cos(x**2)"
            ],
            "text/latex": "$\\displaystyle 2 x \\cos{\\left(x^{2} \\right)}$"
          },
          "metadata": {},
          "execution_count": 15
        }
      ]
    },
    {
      "cell_type": "code",
      "source": [
        "# 쉬운 예제"
      ],
      "metadata": {
        "id": "dnKCIKa9pFzk"
      },
      "execution_count": null,
      "outputs": []
    },
    {
      "cell_type": "code",
      "source": [
        "import sympy as sp\n",
        "\n",
        "# 심볼 x 정의\n",
        "x = sp.symbols('x')\n",
        "\n",
        "# 1. 상수 함수의 미분\n",
        "f1 = 5\n",
        "f1_prime = sp.diff(f1, x)\n",
        "print(f\"상수 함수 f(x) = 5의 미분: {f1_prime}\")\n",
        "\n",
        "# 2. 멱 함수의 미분\n",
        "f2 = x**4\n",
        "f2_prime = sp.diff(f2, x)\n",
        "print(f\"\\nf(x) = x^4의 미분: {f2_prime}\")\n",
        "\n",
        "# 3. 합의 미분\n",
        "f3 = x**2 + 3*x\n",
        "f3_prime = sp.diff(f3, x)\n",
        "print(f\"\\nf(x) = x^2 + 3x의 미분: {f3_prime}\")\n",
        "\n",
        "# 4. 곱의 미분\n",
        "f4 = (x**2) * (3*x)\n",
        "f4_prime = sp.diff(f4, x)\n",
        "print(f\"\\nf(x) = (x^2)(3x)의 미분: {f4_prime}\")\n",
        "\n",
        "# 5. 체인 룰\n",
        "f5 = (x**2 + 1)**3\n",
        "f5_prime = sp.diff(f5, x)\n",
        "print(f\"\\nf(x) = (x^2 + 1)^3의 미분: {f5_prime}\")\n"
      ],
      "metadata": {
        "id": "g3MAr4eVpHA0",
        "outputId": "1d5add0c-422a-4be1-bc5e-1ac05cf98d51",
        "colab": {
          "base_uri": "https://localhost:8080/"
        }
      },
      "execution_count": null,
      "outputs": [
        {
          "output_type": "stream",
          "name": "stdout",
          "text": [
            "상수 함수 f(x) = 5의 미분: 0\n",
            "\n",
            "f(x) = x^4의 미분: 4*x**3\n",
            "\n",
            "f(x) = x^2 + 3x의 미분: 2*x + 3\n",
            "\n",
            "f(x) = (x^2)(3x)의 미분: 9*x**2\n",
            "\n",
            "f(x) = (x^2 + 1)^3의 미분: 6*x*(x**2 + 1)**2\n"
          ]
        }
      ]
    },
    {
      "cell_type": "code",
      "source": [
        "# 변수 설정\n",
        "x, y = sp.symbols('x y')\n",
        "\n",
        "# 함수 정의\n",
        "f = x / y\n",
        "\n",
        "# 몫의 미분 (Quotient rule)\n",
        "f_prime = sp.diff(f, x) * y - sp.diff(f, y) * x / (y ** 2)\n",
        "\n",
        "# 결과 출력\n",
        "print(\"f'(x) =\", f_prime)"
      ],
      "metadata": {
        "colab": {
          "base_uri": "https://localhost:8080/"
        },
        "id": "SmpbNw2sphmO",
        "outputId": "1e0fab4d-ad7f-403b-db6f-9e7beb8e529d"
      },
      "execution_count": null,
      "outputs": [
        {
          "output_type": "stream",
          "name": "stdout",
          "text": [
            "f'(x) = x**2/y**4 + 1\n"
          ]
        }
      ]
    },
    {
      "cell_type": "code",
      "source": [
        "# 변수 설정\n",
        "x, y = sp.symbols('x y')\n",
        "\n",
        "# 함수 정의\n",
        "f = x / y\n",
        "\n",
        "# 몫의 미분 (Quotient rule)\n",
        "f_prime = ( sp.diff(f, x) * y - sp.diff(f, y) * x   )/ (y ** 2)\n",
        "\n",
        "# 결과 출력\n",
        "print(\"f'(x) =\", f_prime)"
      ],
      "metadata": {
        "colab": {
          "base_uri": "https://localhost:8080/"
        },
        "id": "kkOc7FzNpigD",
        "outputId": "1bc8f690-3a2e-4021-f1de-b086554f3def"
      },
      "execution_count": null,
      "outputs": [
        {
          "output_type": "stream",
          "name": "stdout",
          "text": [
            "f'(x) = (x**2/y**2 + 1)/y**2\n"
          ]
        }
      ]
    },
    {
      "cell_type": "code",
      "source": [
        "import numpy as np"
      ],
      "metadata": {
        "id": "RKEq3ISKxzuW"
      },
      "execution_count": null,
      "outputs": []
    },
    {
      "cell_type": "code",
      "source": [
        "x = sp.symbols('x')"
      ],
      "metadata": {
        "id": "xCQGhQJlyLQM"
      },
      "execution_count": null,
      "outputs": []
    },
    {
      "cell_type": "code",
      "source": [],
      "metadata": {
        "id": "aeA6661-ydEU"
      },
      "execution_count": null,
      "outputs": []
    },
    {
      "cell_type": "markdown",
      "source": [
        "Sigmoid 함수 미분"
      ],
      "metadata": {
        "id": "aGG8YUYB25pe"
      }
    },
    {
      "cell_type": "code",
      "source": [
        "import sympy as sp\n",
        "# 기호 변수 정의\n",
        "x = sp.symbols('x')\n",
        "# Sigmoid 함수 정의\n",
        "sigmoid = 1 / (1 + sp.exp(-x))"
      ],
      "metadata": {
        "id": "lJmxLDAa3Ajn"
      },
      "execution_count": 1,
      "outputs": []
    },
    {
      "cell_type": "code",
      "source": [
        "sigmoid"
      ],
      "metadata": {
        "id": "ZEn_3WxipoVX",
        "colab": {
          "base_uri": "https://localhost:8080/",
          "height": 52
        },
        "outputId": "a8a91d49-2c4a-4d3b-d225-89fab4353326"
      },
      "execution_count": 2,
      "outputs": [
        {
          "output_type": "execute_result",
          "data": {
            "text/plain": [
              "1/(1 + exp(-x))"
            ],
            "text/latex": "$\\displaystyle \\frac{1}{1 + e^{- x}}$"
          },
          "metadata": {},
          "execution_count": 2
        }
      ]
    },
    {
      "cell_type": "code",
      "source": [
        "# Sigmoid 함수의 미분\n",
        "sigmoid_derivative = sp.diff(sigmoid, x)"
      ],
      "metadata": {
        "id": "wcC_5hFlyHvm"
      },
      "execution_count": 3,
      "outputs": []
    },
    {
      "cell_type": "code",
      "source": [
        "sigmoid_derivative"
      ],
      "metadata": {
        "id": "0t-HGWzByoMf",
        "colab": {
          "base_uri": "https://localhost:8080/",
          "height": 60
        },
        "outputId": "e32d4ece-10b5-49ed-8b4e-a34ff354f6ef"
      },
      "execution_count": 4,
      "outputs": [
        {
          "output_type": "execute_result",
          "data": {
            "text/plain": [
              "exp(-x)/(1 + exp(-x))**2"
            ],
            "text/latex": "$\\displaystyle \\frac{e^{- x}}{\\left(1 + e^{- x}\\right)^{2}}$"
          },
          "metadata": {},
          "execution_count": 4
        }
      ]
    },
    {
      "cell_type": "code",
      "source": [],
      "metadata": {
        "id": "QW-8TZmD3NqP"
      },
      "execution_count": null,
      "outputs": []
    }
  ]
}