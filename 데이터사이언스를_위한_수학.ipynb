{
  "nbformat": 4,
  "nbformat_minor": 0,
  "metadata": {
    "colab": {
      "provenance": [],
      "authorship_tag": "ABX9TyPgoIg3sTUhJiGMfS7Nmt5r",
      "include_colab_link": true
    },
    "kernelspec": {
      "name": "python3",
      "display_name": "Python 3"
    },
    "language_info": {
      "name": "python"
    }
  },
  "cells": [
    {
      "cell_type": "markdown",
      "metadata": {
        "id": "view-in-github",
        "colab_type": "text"
      },
      "source": [
        "<a href=\"https://colab.research.google.com/github/hayaboy/ADP_Practical_Exam/blob/main/%EB%8D%B0%EC%9D%B4%ED%84%B0%EC%82%AC%EC%9D%B4%EC%96%B8%EC%8A%A4%EB%A5%BC_%EC%9C%84%ED%95%9C_%EC%88%98%ED%95%99.ipynb\" target=\"_parent\"><img src=\"https://colab.research.google.com/assets/colab-badge.svg\" alt=\"Open In Colab\"/></a>"
      ]
    },
    {
      "cell_type": "markdown",
      "source": [
        "# 기초 수학"
      ],
      "metadata": {
        "id": "swCbBtvJKxn5"
      }
    },
    {
      "cell_type": "markdown",
      "source": [
        " ## 방정식과 부등식"
      ],
      "metadata": {
        "id": "5esVV0dtdhlD"
      }
    },
    {
      "cell_type": "code",
      "source": [
        "from sympy import Symbol, solve"
      ],
      "metadata": {
        "id": "rmbFvPmQV3s3"
      },
      "execution_count": null,
      "outputs": []
    },
    {
      "cell_type": "code",
      "source": [
        "x=Symbol('x')"
      ],
      "metadata": {
        "id": "NkhEu0psV6gF"
      },
      "execution_count": null,
      "outputs": []
    },
    {
      "cell_type": "code",
      "source": [
        "equation=2*x-6\n",
        "solve(equation)"
      ],
      "metadata": {
        "colab": {
          "base_uri": "https://localhost:8080/"
        },
        "id": "cM3lbo07V7uU",
        "outputId": "911f9a19-866a-45fa-bdb6-06c91bad4904"
      },
      "execution_count": null,
      "outputs": [
        {
          "output_type": "execute_result",
          "data": {
            "text/plain": [
              "[3]"
            ]
          },
          "metadata": {},
          "execution_count": 4
        }
      ]
    },
    {
      "cell_type": "code",
      "source": [
        "# help(solve)"
      ],
      "metadata": {
        "id": "e8VCAsD5WAgk"
      },
      "execution_count": null,
      "outputs": []
    },
    {
      "cell_type": "markdown",
      "source": [
        "![image.png](data:image/png;base64,iVBORw0KGgoAAAANSUhEUgAAATUAAADfCAYAAACXt0RUAAAAAXNSR0IArs4c6QAAAARnQU1BAACxjwv8YQUAAAAJcEhZcwAADsMAAA7DAcdvqGQAADq9SURBVHhe7Z0FXFTZF8d/iIqAioEodrfY3bq6drsWNrauvXa71tquii1219piJ4rd3YKFCdLzv+fOHaUZY/jL83z381bmzJvhxb2/e8655z7MdAIwDMNohDjqX4ZhGE3AosYwjKZgUWMYRlOwqDEMoylY1BiG0RQsagzDaArzkQL18/+Nd2/fYsGcf3H18mUEBgYiTdq06h3jePTwAVYsXQJra2vYpUyprKbj/fv3mD97Fq5euoh4FhZIbmuLOHG+fXzYtmkj9uzcgbfiOqSwS4kECRKod76Ok8eOYu2KFXj58iVskiRBokSJ1Dtfzzn3M1jk7IynT54glb29vLY/guDgYJiZmalXwPrVq+C6Z7e8fvap04R6T2scPnAAK5YsxutXr5A6TZpvus9UgWW4Rp8+fcLq5cvgdvIkAvwDkCZdOk1fP2P5KUQtfvx40AUDLgsXSHEqWKiwvEHRERQUhBeenti3ZxfGjRyBm9evI1eePEiYMJH4zvhqr+/Hy8sL79+9k42QOl/cuHERGByE1cuWYfF8ZxQvUUp0yNRq76/H0soaF8+dw7hRI8QrHUqVLad/IwKei/N99uQxbGySII65ubLqSShEzNPTA+NGjMD1a9dQrWYteayR4e/nh9evXyOBpWU4UU5sY4NHDx5gxuRJOHXiBBo1afpDOszO7f9h9vSp4jw8kC5dBimYrrt34Z/xfyNlKnvkyZtP7Unn6oGlCxbg0AFXMeBdwqULF6TY3rtzG7dv3hT3+xpu3biOHdu2YuqkCaIN6ZDXwUF9OnqCxAD68vlzKQ7ytWhPgf7+CAgIkJuvn6+472/x4e17vHr1Ag/u3RcDzxtxbZLAPMy1Jz5+/CBFJ7JrniRpUly+eAFTJ07AtauXUbteg6++pof2u2LujBl4+vQJ0qVPJx2ATevW4l9xTUuUKg17IZZRQed668YNeItjpYFPiyL4U4iamVkccYPSI2nSZHI0q12/vhzJokIn/ps/+184C4/JTng3TVo4Iku2rFizfDl27fgP+RzyI2my5Grv6PEVN5s6CjVK64QJlVXPtSuXMWXC3+LY9iNbjpxInjw50mfIKBvFxrVrUKN2HWTImEntrcdLiMWd27fEqPwSL0THefHcEy9fvMDDB/dFw9wnhOI4UqSwk99BW+68eXFg717prZSvVEl9S3jIK50yYTwunj+HgoWLhBrtLYU4OeQvgPNn3cXI7Y+6DRpG2PkM3Lp1E53btBLC9golS5dRVj00KOQvWBA3rl2Fx7NnaNG6jdEdgLwxulZ0zsFitCIBNngYGTJmwCefTxjav6+01axXD+kyZMC+XTvx2+/VkC17DvUtgJWlNQKDAnH9yhX4iM/Yp7aX4kviR/eW7lPSZMmE4LzE+lWrULnq70LU8qtPRw+JGHnIUyaMw46tW7B7x3YcPnRQCsf+vXtEe7iBy0JI3c+cxkFXV4waOhjHDh9GdTFYJEqcWH3LF/bt3o2p4t6cPX1a7nf61Al5vNS2CbpXxUuWwiVx77y9fdDwjyZRXtOQXpmBdOkzyPs1ZvhQGdXUbdAIVsKL3rphPWrWrSvbZVT4eHujecN6WOg8V/z+phGeR2wn8mH8B0EjXrx48dQrPb6+vtLDogZva5tCehiETRIbJE6cyKiwaeWSJZgnBG3G3HkoV/GLCNRt2Bid27bGwD694bJ2vezoxkAh26oVy4Sw7EG7Tl3QvlNn9Q5QuGgxvBYNoF+PbqhQ+TdkzpJF2hMksJSiEVHDfPPGC6tcXHBFeBgJRecjTy6FCI2TJEmKxfPmwl9cl6LFSiB9Rn0jpO+h74tOOHLnyYs69RugQ+uWSJ4iBbr36qPe+YKlpRX8haiJL1OW0Hh5vRYisgu7hNdkFsdMdOitePr4Mdo4OQlRKKD2EojP03EFCWH5Gqgjkwe0ToSWHz58kOdfQHjf/YcMgYVFAjRu1hz/jBuLhOJeE/HixZfHHPa+k6DlL1AQxUqUlMcR1ps08O79O9FuEqNM+fLKYhzULusI4c9fsBAuXTwvjjMxcubOpd7VX0cLCwuYC8+LvOOTx4+iQOHCkXpDFUXbsLK2gvspNynsRNg7QOdhnyYtbt+6oSwR88nHBxPGjBL7x0XbTp2EV6sXRvICqwjxX+Q8R4qahMRPXJuo2g4NsksWzMO927eRVQwc1O4G9uklzjePHLAM7VALmEzUPrx/j80b1uG0iPdpJE6cmFxd/ShOoQR5KtTxmjq2xJCRo+VngkX4ECxuEI1Q0bFt0ybZUUIKGkEdw1HcpLbNm0hXnzqEMdBoOmj4SNwRrjmFXWFJLRoihQ+hGg7FzJGQJWs2jJ86TYQs95BMeHYUzhEH9+0VIaInBgwbjoJFikjbF4xbsUahpa0QtPJhzt1AVNePvMYenZxEmBWAfoOHoFDRouJefcAWMdJ3aNVSXgPq6ASdK3Xo8F0zeho3b4HfqlfHk0ePhNdnIbyrVFLQDJiJ/wzhMx2vYQvJvXt3MXvKFPh88kEmMZDQOYfdhzr5HdFRrcV9f3j/PtKqzm8sJFrZc+aUW1ToRcoM+fLnj1Q8yGOqWLmK3AzQAE4RAIXZBq8oCu35jKWVFdp37oqGtarj5s3rcF68VLRt/efN4wqBF9fO2LvySgzYXdq3kSI98u/xyJw1q7Q/e/oU/06bIgZIR0ycNkP2Jy1gstlPytNUqVZdXMBsYlT+W7jML2WjTGZrizLlysuLu/6/HWjboZP6xNcRN17cLyNVWESriS86kJVoGF8DhVzkTVHYscplKZYvXiQ3+nnXf9tkA6UR8WvImDnzZ0GjfAzlfn6vURNOosGGhDqrYXSPigf372HT+rVo3d5JdLAQXpWRrFq2VOYex0z6ByXLlJVCQ/fFqUtXmeOhsObJ40dyX+q8mbNklWFadNC9uHLpogh9z8p/KTwmQafUwi1xPWdM/gfD/uqP0UMGy1yYXiyjJqtoO+SlbNm4QYal1WrURuUqv4faSEB69O6LbXtcpcdlKiiXSdeB8lYG6H7NnPIP+nbvhpGDB8m87r/TpmLh3DmYPX0aenXpjCZ1a6NLuzZoXLum9E6JqDyqkHh7f6SGAQfhPRsEjUiW3BbJRYRjTHshaFLr7p07mDB1+mdBIyjFM3zM37KvTvp7DLw/it+nAUwmauTaU36oUpUq0lMpVrwEGjVthqYtHNGsVWvUFiFUzly5o82dRUa9Ro2kx3fk0AFl0fNOCMfcmdNRrkIl5BDf/3XohYUEJiAwINQWFCw6dkQOkGqgVy5exPw5/8Jl8UKZOwsLeaUTx4wWIZQ5Jk2fKTzYExg/eqRsTNTYZ02dAg+PZzI8iQwSjqkTxyPAz0+cf2NlNR5KEp9xOyW9klwijA1LjTp1hWjexxsvL2XR38eITzw0lGa4eP48xg4fIsL/NpgwdrQcCA4fcMX9u3dlaiGZbXIZntG+xvRr8sLSpE0nZ17Jy8mYOdNnr8qwkfdMkweULKdcogy7TcCjhw/F70oiwzUDFA7XqlcfufLmFcKQAKnTpkGefPlkG0ohBormrVrhryHDMGbiJAwdPRqNmjSTnwvrbUbGjatXxfkEfPacQ2Iufrdx3wIcPXxI9IeK0lsOCwkaTXTRvaNJIy1gMlELhZFeyNfwR3NHmU+aNHYMhg3oj8XznDHjn0lydEwuRrKR48eHy+UZAx0ndfjW7TugXcfOcqOfa9WtLxuuLuR5iJ5pLkRq3r+zMH7MSKxbtRLrxUYhV1hoZveACD3JKyJxyVuggBDdXPD380fefA7i++vK/GIwiWckuCxagOuiodcSA8Jk4f1ev3pFCkR4Im7ulKimnJ73R29lCc2zZ09gbWUtc1xfC+UuKTfjsmY9Nu/ag1Ubt8jj3L93r/RWe/UfgN5/DRQh71CZzA8rPuS9RJQzo0mUNk4dsFJ4y3926hBq69m5Iwb17Y0Fc2dj1XIX4VUvjnBA+RGQYNJkSpwwakyerFPnLhg4bIQ4zo7InTefnHxYsnA+korBvHS5ctIjLlO+ogyhjYVmpv/bsgn1GzaSM/r37t7BnVu3ZKhNg8T79+8izTGGhUQ0ULSTqMTUWO8xNhAzovaV0M2iWcJlwuuhGanI3OJ2nTpj2uy5YoRMK0cZmhFt2b49Fq1cjazZsqu9vp6Ibz7lfKQ+f0G8oCR6p+49sHLDZrgeO4ntrgfD5cpWLXPBf5s3YeXGTTLJ382pLXZt2ybD86Gjx6B67ToyTLcQohNZu6PZuI1r1mC8CCFGjZsgZ7q6d3BC945OIrS4rfbSEzcSMaeGS4OBx7OnWL9mtbLqITGYM2M6KlWt8l1JY5r0SWFnJ3N0S8RAQ7OwK5cukR6pp/BEDdgID8ugvXS/afaZ8n1hISEePWGSuL6bMHPeglDbDOf5WLBsBf7bux8HT57G/GXLv7rG0RgoP0x51hq16372zMNCEyI06Awf+Bdy5MyFgoWLSg+cvHdKO4QlOhG5Jgasw/sPIJ8Y/IizZ05j8vi/MXbYEKxfu1om/slbMwaaBT925DAeiD4VFjq3Iwf2i7ZYzSTX7v+ByWc/vwZq3OS5LFmwAM89n8lQiBL/8UUnLV2ufLjQjMSHxKBLji9JXjkqiTCNNl/fT9IroWls8sAsrSxhlzJV5DVsqpNRKQJ5QYacXTyxP+WIqA4p9DFQwyQpjRjyoiiHdfLYMUz+d7YQ2hxyCwoMwuD+fWTDHT1+4ufvjGwk3btrpyxVmTzrX+kJEHXqN5SFur27dcHgvn0wb+kyGYoRJCqvyGOJ4PuoXGSYENK5s2bigvA+sotrR57j4YP7ZUnN8LHjvjoXGRKdLhjTJ03Czu3bMHTUGBQqUlQWV1Oo3UN4V3MWLpbHbS1+h9frV3jx4rnwEJ/io/dHWZrhLe7Vw/v3ROgZT7QHc3FtRJglzoNmygmZHlDeMuXrAik1EBQk7/XpEyfx6NFDORGTK3duWeaTKXN47+jtmzeyADZe/HjyO+j748bVzz7Td5FA0T0hO50PJdSpDZE4zZjyD+4Kb8lPeFIOQnDaCC+eSkum/zNRlrFMm+Osr7UTTeOu8KycWjri2ZMnGCGuqyEfS4JG50n7U60jpR1oVr3PgIHyfYJmyGuL0JZmppMmS4rGTZujWo1a8vjoPlNdY4Bqn9HRSHyWflf/7t0xRITBdM/pGCjNQMdNx9quY5dw/Su28lOJ2gchGjSANWnR4nPSl9zm5UsXY0GzObCxsfncMKhxW1layRknmvoPC920l6LDPBQj7BPRqOh7MmbKiCmz5kSaUKbvplml+8LV375l6+dQkMSWOkISEQrlzPMlT0fHQKFaRGEueT7OIiylTvH3P1PkqgMDDZo0kQ1p/KiRaNqipZxRk/KjOpGBN+J3rl+9UoQedzFq/AQ5ixwSCocWC6902sQJ0rM1iBrNLFIZhWF2MSz1GzdBoaLFpPdHgkLn19SxFarXqi1nA7+HG9euYYXLEhlqlq9UWdooH9ZfhJ2NatcQ93IJ+oj3qFTBdc9u3LtzR3ZOKmGgwebBvbvCu5mNc2fO4OmTx3KSpYg41sTi2hOUWrC108+CUs7N+8NHKcpxhPgRfr6+Mvy4df26nA2NSNTui99BtWk3b1yXRdV0LDTzR+UyJOjPxaB28vgx2d4oL0v3t0z5Cjjv7o779+/KAl36/ZQKeCc+T9vaFcuFYIyV9ZEGqKbRqUsXjB0+DD369PvcBuh6ezx9Bnc3N2TKmkV6xhSa0r0nkSWv3tPDE85LXGRx8ehhQ0VbeCvr2j4jfr+x0PUfN2Ua9uzYIdM1VlbWcqKNBmrqQ+OmTJVtUCvEmKiFne0iQfgowkpK7NPFvX3zFh4/fChnGGlkN0Cfq1Wnnhh588iCRnKXbVPaCfe+sMwPUYM0jOJhiSMaCI0+n0cgISQ0eREZtN8fzVuIxpdcjLahK9PpeOn4SCioI1Bny5o9u5yqD7s0i8pYDrjuRfmKFcOVnBigRL9FAgu5EQmEmNB3Go6PvMRTx47Kol7H1m2leEcEdcTpc+eFElYSN+r4UY289L2UL/zRvHz+Qg4AhYsWVRY9dDxZsmbFnZs35Ws/P1+Zp+z11wA5W+rUsoVc6pMnnwP+mTFLelIfxb1OIESGri8JHt0DEoSoQjfyjmk/IjKPnARslvMCvBSeIYkfTWSlz5BJdnTKDdJKg/bieCiXNVqE+oHCO6KEOhHy+8mLJI/S7cRx2W5TRZCIp5wbtfOQM8j0M7WdvoMGhzsXik5WLV+GwSNHyeMqIQaudh07YfiA/qLtv5N5u6+FwstlixfDLlVKWbJD7Uz2P+GR0uoOmvGmcJ48OC1gXFD+HVDtGc0eUqL1uIjr165cIcLL+ej3Z3e5UbnH3Vu3hWtdU86MUuc0NBqCbjqVWdDNpbqqURMmyin8MuUqyIQzNTxy9yPa6D2aIcuSLZt+E6FqdKEVzRKFFTSCOhOFGQ1rVkP/Xj2kjYpHaRY3bBV32vTp0XfAoEgFjaDvo2U/A3r+KXNilE8rUaYMihYvId8nL6Sa8Jyo/IMEjToahT0hBd8AzQ7S++SB0OoHa2sr5Mj5tTO/kI2cVhCcEl7KpvXrREdYBLeTJ6Q3aix0r6jTHD54UFn0PHn8WHgdN8X51JKvqR6RzouEh8Jeuh6GQJ5sVKycTdw7CkXXrVohk+9Uqe924oQ4vuOy6p+Ob/mSxbI6flDfXjiwb49sP+Rt0haZ+JGdkvjUiWn2kpalpU2fTg5QNDFhIQSMBgT6LspPGgSNCPn9JGhE9py5kCRZMhw9JM45jAe1d/cuKWCU+ghNeE+LQnEqv+jas2eomjGqGqjbsJHMeVLkoSdyYQ9LVdGGqlavjsPimtG5U1/IliOHzP0WLl5cLgNMHKJkJLZjck+NSjbKCtd9786dIq4/IBsyXVAqiqV8C43ChrCJGmt0UH5j0by58PH2ES6zA1KmTPV5bSbdMNpoNL0qOre/r58UQrqJ3wPlPyjZffa0m5zS93r1WnoWzRxbonP3P6UAhSS6MhUS+HUrVwoRuiNXFowaMlg0uhpo3c5JFl0aCNkpKTSnRf80AxafPDzRqRIltpFhECXTaSMvljygk8eOo0adOqKzlpViQVCHcxeiQJ2JPFj6nLcI+R6IcCq+EC3yJug7yU6lE7SEK7fwmkgoaebNWGgg6d1/gAxBU6SwRVFxn0mMnWfNRIlSpWRCOiz0O/WE76gUdrqL604rFMqWryivLZ2TLLMRG4nP65cvsHXjRqRJmx6VqvyuPvk9iOMRx0SHRUcWnXzQUi2qu6TQjlZ5UC6M7h2t2jh59Kic2AlZZ0bf+9Yr9OQBtV+aPadBMuySNYJKQ+j+0rK7DN8wkUPlHLTG2HClDXx49x4JRZ9MKQRdM4gG9dNw8tgxXamCDrqDrvuUJWKOHDqoK+aQR9ehlaNOuNa6fbt36UQD+rwdOXhQV7/G77ryxYvovF6/Vp/6NoRA6vr37KGrVqGcTnhByqrTrVmxXFc4Vw7diqWLlcU4DuzbqyuaN5du3r+z5HcTIvzW1ahYTtevRzedECVpiwgRtujOuZ/R7dmxQ3fh3Fn5ecMmwlW5j7+/v65M4QK6of376oTHK23EvTu3ddP+mahrXLumrkal8vKcpovXK12W6vaLYxJekE6It9r7Cwud5+jyZ88S6ruM4cjBA7oh/fvpnBxb6Lp3dNJtXr9O5+f75dyqifOdNXWK/FmInq5w7hy6+XNmy9dfC32+SplS4pqcU5bv4+PHD7qGNarphg3466vO+9L58+K699O1atJY16ppY93A3j117m5u6t0vDB/4l65K2VKhvvvt2zc6Tw8P9Sp6mjeopxs6oL/8mdpUjnSpdSISkq8j4qCrq2wX593dlUXP2OFDdbV/qySPRQyYujOnTsntxrVrn9tnbOOn+mtS5Kn17dFVJtZpNigqqFKbRpeZzvOVJTR/du6I5x4eWLv1P2X5Ns64uaFja0cMGDpcLukKyYBef+LC+XNYsX6jnNEzhvrVf5cJ6Hkuy6VnZIBq2No1b4bVm7agpPCwvhXREFG5VHF5/UaNnxjK26NbTeUxNHNHYVZYDzMiyCt2njkTp69cC/VdxkITADR7HPZ3Va9UHjVr10X33n3kZMEfdWvJ0pgOXbqpPSDzarSa4/GTR3KhfurUaeQ5hIRyrlcuX8ayRQtlLi6qhwEYC1Xyt/6jsfRUaYLma847OChIPpqKQunEwpOOKK85YtAAnDh2DHuPHPuma0q0aFgfmUUEMmbCJDmzSasWaNKIIgmaob166ZJMAwQE+IvoKKH0zqlYnZ5iQmkUuo507a5TROPnL9M0tJyLJl0ISgGMmTQJRYsbt8zwZ8LkObWvRrRZY3TWOqG1nNGMDApRvnW1QkiePH4oCyHTh5l5JLLnyi0TxBS6GQt1YCrLCCloBC0DsrBMIMO978dMPoYnLNSBqI6MZuGMETSC7kWKlHbq1ddD4XTkv+vLMdL9ojWiIaHjrFqzppwJ3bltmzgWIRq0PjjERpMLOUSHnDB1GlLZh0/UfxPUBuW/4a9hdNBEEqVTKE8Y6USNuA8kON+Dju6xOj5bOztxrVLIa0G/u0OXrqjfuLHM9WbKnBUlS5VG81atMXfREnTq1kP+TIXSlMMeO2myLBVq27ETJkybjpnz5mOG8zy5L9XaEVQ2E1Eu92flpxI1mtKOLzp7yPKHyKDRh2aRaGSkBHfIjWwkeFHNdBoLTenTYmmaoQ0LTfunSmUvE8zGQlPnlCOiuqeQ0PIlXVAw8v+ARcVUEEx5nm/1AkJC5SGG0ftHQiJmyB/S8VqL+5k2gmfoZcuWXT6WiQaVSlWrokr16uG3atXlRFKadOlDTTJ9K3TdSJAsra1+yDUMh9AiSzGAfQ/m5mZImkSfi05goc+pWifSPzKLHr7QrGVrDB/7N0aOG49W7Z3kygZazkXFvFTSZNhoso0GWfqZ1hLTa/o3U9ascjAiz1+E1MKTri0fwRQb+KlEjcKUePHiyoLb6KAQjuqE6NliM6dMDrXRjOq7t+/kI3ao8vp7oJKJrj16YpHzXPnoFlpQfvvWTflsrUf378tpeXr6gbFQESbVsI0YNFCGA1SpTtX3NLPl1LWrCB++ftYyJNQJE4lrE3Lh8vdAtXo0afCjIS/aUApDz0ajNaEkbGEhzydNmnSyQ23dtFGuhJDL0VavkkunFsydgz7duqBC8SKoXLqEnCX9XkggaGClJW2mgASTHnP0PdCDUA3PjqN7RIXEWb5jFU1kPHn0EK579sgC8otnzyrrz81PlVOjWbZ/p03DROEGh6y7iojtWzbLQk/Htm0jXMRM1egWFvFFw7T77tGWQrn9+/bIBwnS76LF7fTUVqpYp+n6r4UKZZcumC8fvki5iyDhoTVs0kSWFlCH+h7IS6WZxjIVKsqK9++FBOSFEOHuvXory4+BnuBBomaov+veoT0GjRgpF7CHhSrfySumYloShDwODtLTI2+c7gd5FFR6QU05ffoM3/1sMCo3GS0GrarVasgZ5B+N86wZIvxMIsPAb4WeXktPh6ZyHhpoadAdNGLUd60GiYw1K1ZIcaM1uBTq/uz8VKJGUPhoeGjkzwi540R0omsMVGBLl586KnXSnxEKPUk0fsT5RgU9zZVWC/ws0AQHCaUpzptSD1SXGGnO7Suh8J3aJS3zYn5CUWMYhvkefk73gGEY5hthUWMYRlOwqDEMoylY1BiG0RQsagzDaAoWNYZhNAWLGsMwmoJFjWEYTcGixjCMpmBRYxhGU7CoMQyjKVjUGIbRFCxqDMNoChY1hmE0BYsawzCagkWNYRhNwaLGMIymYFFjGEZTsKgxDKMpWNQYhtEULGoMw2gKFjWGYTQFixrDMJqCRY1hGE3BosYwjKZgUWMYRlPEuKgd2u+Ke3fvqFfRc/bMaVy6cF69YhiGiZoYFbVN69bAw8MDmbNkVZboyZo9B7Zv3QK3UyeUhWEYJnJiTNT279uLK5cuo1GTpspiHDY2NmjZth3WLF+OB/fuKWvswt/fH15eXvAUgq7T6ZSVYRhTECOi9vTJE+GlrUWr9u0RL148ZQ3NrRvXsXPbVnz8+FFZvpAufQbUrlsfzrNmSIH4Hl48f44l8+fhzq1bymJaFsydjS7tWqN5g3pYuXQJzMzM1Dsxw6OHDzB/9r+YNnECXBYugNfr1+odhtEmMSJqq5YtRXYRRmbMlFlZvnDl8iUM7tcHTevVwcwpk+HjHV7UiNLly+Pt27c4IDy+b4W8JOdZMzFs4F+4ce2qspoO+n0VK1dBxsxZcP/eXRQuXly9EzNs2bAeXdq3xbLFC7HCZQlGDBqAxrVr4KDrPrUHw2gPk4vafREy7t+7BzXq1FWW0Hi9eoWSZcoiKDhYioBZnIgPycLCAuUqVBQC6fLNIdwhV1esXbkcVlZWiBs3Yo/xR0JeWdbs2eHv54fktrbIniOHesf0PLh/D3t27sDAIcNx7OwFHD93AYNHjpb3Y9TggXj04IHak2G0hclF7fTJE0iSJKkIIdMrS2jKVayE2vXqw94+NYJ1wcK9UW9EQMEiRfHyxQvcvH5dWYznuYcHtm7cgDz5HBAUFCQsMZPbei1E+/xZdxQuXASp06RVVtNz++ZN9B4wEGUrVpSvEySwhFPnLqjToCGuX7uGo4cPSTvDaA2Ti9rhA/uRK08eJLC0VJaISZosmfopcsjrsbRMANe9u5XFOIKFFzh/zmxU+K0KCglhDAiIOi8XGBiIqyIsPn3yJM6cOhXp5nbiBO7evq0+FTGPHj6U+bvS5corS8xQpVp14RnmVK/0xDE3RynhFVNe09f3k7IyjLYwqaiRmNy8eQPZflDYRZ3RPnUa3LtjfJ0bQbVxr16+RL1GjRAYFKiskRPg748VS5dg1NDBGDtiWKTb8EEDsHnDevWpiHE/fUp6hiXLlsOGtavRqklj1K5SCS0a1ce4USPw8eMHtWfMQNcwafLkEeY3GUYLmFzU3r99C+uECZXlx/DC09PoWdBXIlzdsHYNuvXuLV/rxDFFh6WVFcZNnor/9u3H5l17It12HTyMvgMHqU9FDOXxChQuDLuUKdGoSTPkzJVLiGYAOnXvgX6DhyBhwkRqTz2UL6SQ9bHw8J48ehTt9uzJk6/KMV6/egXZsueQeUyG0SImFbXnQnwCAgLUqx+EmZks+/jk46MMUbPQeS7KidAvbCgWHZTkjxMnTrRbVCUaHk+f4pz7GRQuWkyEzZbYv2cPUqayx9qt/6FchUqIHy++2vMLFBZOmzQBndu1RrcO7aPcaGazb49uciLCGOh4KB1AuTWaLGEYLWImRnmTZcxJ0EoVdMDQ0WNQt0EjZY2YZvXr4tWrl1i1cQtS2Nkpa3i6ObXDixfPsXT1OlhbWytrxLju2Y1DohOPGDvuc33cmGFDsGDuHMx3WY5qNWtJm6nYvH4dRg4ZiMkzZ4vw9wU+fviI9kJQSAwjg7zbh/fv493bN0bVtJmbmyN3Pocov9PAVCGWb157YeS48fJzDKNFTOqpUUczj2MOP1/jPAljoGQ35dWiE7Q3b7ywZsVyVBfC5S08O5o1pX8/fdInyN+JsPjjhw9yUiAsvmIfync5NmqANk3/iHQjIXaeOUN9Kjwnjx8V3pgFjhw8gLHDh8M2RYpoxYfez5QliwhZiyB/ocLRbnnzFzBK0A6KMPjZ4ycyXGZBY7SMST01omGNaihSogQGDR+pLBFjjKdGh9qkbm2ZD+r91wBljZi9u3fBybG5zKGFPEHy2KhTk7hR7diytRtQoFAh9a4emh09cfQovIRXE5VgBAlBTJ8pE4oUK6YsXyDPrE3TJiKc9MUM53no0dEJZStWwqhxE9QeMce1y5fhsmgBevbtj9Tp0ikrw2gUEjVTMnv6NF3Lxg11fn5+yhIxTevX0VUpU0r38sVzZQnPndu3dL+VKanbv2+vskTO61evdMePHtEdO3zo8+budkrXuW1rXQbbpLqpE8frzrmf0b1//1594sdy+uRJXRZ7O92SBfPk6z87ddQ5iusgvED52sfHR/5rau6KazZ80ADd7Zs3lUWPCHN1QUFB6hXDaAeThp9E+cqV8fjxI3h6PFOWiPH95CvzSeKYlCU8l89fgJWVNcoLjyc6kiVPLmuyqD7MsBUuVhyp06SRvyN3nrwoKEK8RIlCzz7+KM6ecZMztLQKgihRujTcT7vh/bt3cDt5QoakpoYe8bRkwXy069hJ1vgZIE90y4Z1eO7poSwMox1MLmq5cueBg0MB7Nu1U1lC4+PjjbOnT8siVuGJ4dSJEzLXFVbagoOCsHfPLlStUeO7ckL+/gHw9vaOMJf2o6C6tO1btiB33nwy/0fky59fzlK2avoHDu3fh7LlK0i7qaBavq7t2mL39u0Y0r+vDO+biq1Zg3qoU6UydmzbhsSJbdTeDKMdzEcK1M8mgWbwUqZKhY1r18olUVTaEJKjhw5h0/q10pPIJbyne3duy5KNPEIQQuazLl+6iCOHDqLPXwNhFc0kQVS8f/8OiW1sUEF4kFReYQr8/Hxx7coV1G3QEA4FCkobeZhx48ZF9ly50KFLNyQ0kYdoYPeO7fAR4p0hc2bEjx9flnAYNpskSdDMsaU8FobRGiafKDAwb/Ys+Hz0lusRvxZK6g/t3w/Va9fGb79XU1aGYZjwmDz8NNCsZSvpge3a/p+yGAfl2ZYvWYRCRYuwoDEMEy0xJmqUv+nWu498WgY9FsdYqCI/TZq0aNKipbIwDMNEToyFnwbI86KN8kvGQDN19OwzY6rrGYZhYlzUGIZhTEmMhZ8MwzAxAYsawzCagkWNYRhNwaLGMIymYFFjGEZTsKgxDKMpWNQYhtEULGoMw2gKFjWGYTQFixrDMJqCRY1hGE3BosYwjKZgUWMYRlOwqDEMoylY1BiG0RQsagzDaAoWNYZhNAWLGsMwmoJFjWEYTcGixjCMpmBRYxhGU7CoMQyjKVjUGIbRFCxqDMNoChY1hmE0BYsawzCaIsZF7cSxo7h37656FT3nz7rj1vXr6hXDMEzUxKio7di2FXdv30KmTJmUJXoyZMyEdatX4cK5s8rCMAwTOTEmasePHIHbieP4o7kjzMyM/7XJkidH89atsWzRIjx98kRZmcDAQPj6+uL1q1fQ6XTKyjCMmegQJu8RL54/x5jhQ/Fnn37IliOHsup5/twTJ48ehdfr10iSLBmKlSiJtOnSqXe/sGv7fzh+9DBGjZsAc/O4ymo8dJrn3M8IQTVDoSJFlTU8nh7PsG/3LgQEBMhjyeuQX71jWuj4bt64jrNubvD390f6jBlRrGQpJEqUSO2hh/Y7fuQwNq5bg+cenrBJmhQznecjXrx4ag+G+bWJEU9t9fJlyJAhYzhBO3X8OLq2a4Nxo0diyoRx6N2lE1o3aYxD+13VHl+oWPk3vPB8jsMHDiiLcQQFBWHz+nXo0MoRjo0aYu/Oneqd8Bx03YdeXToL5QCSJ7fFqCGDsXXjBvWuaVnoPBfdO7THlInjMX7MKHQUx/tnRyfhnT5We+ghUbZLlQoOBQrhgDjeAoUKsaAxTAhMLmqPHj7A7p3bUbNuPWXR8+zpUyxZMA+t23fAqQuXcf7mHQwcPgL3793FgN49cef2bbWnngSWlihTrjxWLF2sLMbx/t1bxIkTB7a2KUSo9hIWFhbqndDcuXULQ/r1RdESJdCyXXvUbdgIrcS/Q//qj2MidDYle3ftxMVzZzF9jjPOXb+Fw27uqFGnLv7bshkjBg1EcHCw2lNP9hw5YWOTRGw2QtwKKivDMITJRc1dhFOJEiZCxjCTAxTmNW/VGnUaNJSiEz9+fHT5sxeaOraSwua6J7xHVbhYMXg8exZO8KIiabLkUqDqNGiARIkThxMIAySwHz9+RK0Q4lu2QkWZ05s1dbKy/HgonPT2/ohBI0Z+DnXtU6fGyPETRJhcRAjqIVw8f07aQ3LogCsyZ8mKrNmyKwvDMITJRY1Culx5csPSykpZ9BQsXATlK1VWr75QuUpVmTPz8fZRli9kzZ4DFgkSwHX3LmUxHvociWdE0ATE7h3bkVKEdTly5VZWwDphQuTJ54ALZ8/g4oXzyhqaT58+4cb1a7hy6SKuXr4U6Xb54gV4vX6lPvUFCifrNWyMNGlD5xEp/C1RugwCAwLF7wh9LV6/fIlr4jtz5c0D2xQplJVhGMKkokZeCHX4bDlyKcsXqDNHhHVCa/F/nfBCsugNIaDQMXXqNCJUvKksP4b7d+/AQ4TDYQWCclXJbJPDx+dTpLVyLzw9MWH0KPT7swf+6tUz0q1nl844fvSo+lRoIrsWliLkTiDEOF26DMqi59rVK/AUv7dC5So4f/YsenbuiFZNGqNtsybo060Lnj4OnYdjmF8Jk4oaJenfvnmDhGFm8KLi0oULyJM3H0qVLa8soTGLYyZnTGl28kfx4P59KcAReT2JRcjq6/spXMLeAM1Szlvigi279mDj9p2Rbjv3H0SNWrXVp6LHz88PN65dw+81ayFdhtCi5n7mNIICA1GiVGkZopYpX0HuW7psOfQfMhSp06ZVezLMr4dJRe2FEp9IHJFwUEem0o3mrdvCLmVKZQ2LGT6+/yDCU2/1+vuhEgrxtbBJkkRZvhA/XnwheOR1KkMYyMui0JYmMqLbzOMaX4py68Z13LlzG+07dlYWPSSwxw8flmFxCjs7OcFx//5dLF65Gk5du8FeeLKReX4M8ytgUlGzTWGHuHGNLzdYvdwF6YVX0qJVa2WJCB3iirAw7lcIRLQoxSJvLSyUxI8jRMLc3KSXKhQB/gFYPM8Z7Tp0Qu58+ZRVz8uXr+TEAXlwVNC8duVydOjSDXkdHNQeDPNrY9Keam5uLsUgwC/6UPG8uzuOCQ/kr6HDpOcTGeZx4iKlvb1M4v8oaIKABO3d27fKoods79+/R3wLCySztVXW0NBs7JD+fdGxdUt0adcm0q1d86YR1t9FxPIli5AkaVK06xTaSyNOHj0iPTEqlRnUt5c8xqRJkqp3GYYxuajZ26fGvbt3lCViPJ49xca1a9B34OBws4Bhee7pgcyZw08ifA95HPIjadJksnYuJBSWvnr5ElbWVsiVJ4+yhiZBAgsULloM5SpUlLmtyDaa6bVPk0Z9KnKOHjqIJ48fo++gwRGGkccOH0K8+PHhII65kPi9F86dQ2BQkHqXYRga6U3K9MmTdK2b/KHz9/NTltC8fvVKN3bEMN3Z06eVRU9wcLAuKChIvdJz/+5d3W9lSur27NyhLMbjLr4/a+qUusnj/1aWL/h4e+scGzXQFcqVXSc8L2XV6d54eenKFyusq1ahXKTH/yM5e+a0btzIETohpMqix3Adnj55rCtTuICud9dO8vXCubN1+bJk0r1791a+DggIkNeNYX5lTJ4oqvRbVTx8cB8vXjxXli/QYmxaHlSzTl3hdXxZj0ke0gkRZt2+eUNZ9Fy5eFF4RpbiO6soi/EImVQ/6P8JCdXQtW7vBN9Pvjhz6pSyArdv3ZQzo63bt5fekSmh8JtWFnTp2RPJQ4S6tCbWdc9uWat2++ZN+bpI8ZLyPfIwKby/ID777MkTbNu0UT/pwTC/MCZf0E5Pk6A1jFRI2koIhwEK6/r37CGFqkTp0p87I4VcwkNCsAipXNZtgJUq2qXD7Nmloww9e/01UNqMhWZKXRYtwIjBg1C56u+YMdcZyWxTIK4Ij0MyecI4HBPh39R/58pylGED+8vykoHDR5p0feXZ027o1bWLXPFA9XmGchW6Fg/u3RWh629yxcGYYUPlyod9R08gS7Zs8PTwgGPjBtAFBaO4uIYdunZDph8cmjNMbMN8pED9bBKoip+q4zdtWCc9LMPayz07d+Lm9Wsy6e/j4y07sn7Tl1c0atYcBQoWkvsSVMRLT8/oM3AQEiY0vu6NxHDcqBG4d+eOXDNJv//smTNInTo1UqayV3vpKV6ylEzQr1u9Uj6/reEfTdHGqeOPnWkNA62cWLdqpRD/ACRMlFB6ZIZr4efnK2eQWzt1kOUb58Rx586bF/UaNpKCR/V/799/EOcUH1179mZBYxhBjDx6iKD1k3HimKNbr97KYjwBwosb8lc/mWynUJVhGCYyYqz4yrFNO7m056CrcWUNBkhzV7osRc5cuVnQGIaJlhgTtaTJkqFH7z6yUp4mDozlnLs7EiexgWPbdsrCMAwTOTEWfhqgiQN6/A89asgYfD99kjOPVPPGMAwTHTEuagzDMKYkxsJPhmGYmIBFjWEYTcGixjCMpmBRYxhGU7CoMQyjKVjUGIbRFCxqDMNoChY1hmE0BYsawzCagkWNYRhNwaLGMIymYFFjGEZTsKgxDKMpWNQYhtEULGoMw2gKFjWGYTQFixrDMJqCRY1hGE3BosYwjKZgUWMYRlOwqDEMoylY1BiG0RS/tKjR3yD99OkT3r55oywMw8R2fsm/+xng748D+/bivy2b8PLlS+TMnQejxk1Q7zIME5v5JT01szhxYJ8mDdKmz4ADe/eiVJmy6h2GYWI7v6SoxY0bFw4FCsIygSXsUqVCnnz51DsMw8R2fumc2n4RghYrURIpUtgpC8MwsZ1fVtTu3bmDB/fuokix4rBIkEBZGYaJ7fySEwXESpel+GfcWCxYtgLv3r7Flg3r8fHjR5ibmyNd+vToO3AwEiVOrPZmGCa28Mt6am4njyNJ0qTIX6Agfvu9GjJkyoz7d++iivi5e5++LGgME0v5JUXt2dOnuHjuHAoULIz4FhZwP+0GM2F3WbsOTVu2gq1tCv2ODMPEOn7J8NPt5Ak0qlVDhp5BgYG4fesmOvf4EwkSWKo9GIaJrfySntrRw4eQKFEi6aENG9AftnZ2LGgMoxF+OVEjt/TYoUNIbGMjw89sOXLC3c1N/ybDMLGeX07Url2+hJvXr6FF67aoVa8eMmXJgutXr6p3gaCgIPyiE8IMowliXNTevXuLN15e6lX0vHzxHP7+/urV9+N++jTixosHh4IF5euChYvi7Rsv3L55AzeuXcPeXTtZ1BgmFhOjovbc0xOrly1DQGCAskTPs2fPsHieMz58+KAs3w5NChw5cADW1tbI5+Agbfny54e/nz/69/wTG9eukcW4ceL8fxxYEtML585i07q1+G/zJvkzCyzDfB0x1ntfv3qFOTOno1LVqrCzS6ms0UN1ZPZpUsNl4QJl+XZIGO3T2MOxTVskS24rbTly5UTNunWR1yE/OnXvgRR2/58lUx/FsQ3u3xfbNm1CuvQZYGdvj2WLF2Hs8GFCdP3UXgzDREeMlXRMnThePhXjj2bNleULwcHBcjMzM5MV/WGhPNe4kSOkV1WvUWNl1RZzZ0yH6949WLJ6DRIntpG2x48eonnD+ujcrQdaCCFmGCZ6YsRTozzV44cP0ahJU2XREyz0dPP69ahZqQJyZ0yH30qXxKJ5c/Hpk4/aQw8JXcdu3bF180Y8evBAWbXFju3bYJsiBSwtrZQF0mNLmDAhrly6qCwMw0SHyUWNniy7ZuUKuRQpbK5q6YL52Lppg/RChowaA7M4ZhgiQjCXhQvVHl9ImSoVMmbIhDUrliuLtqCw99jhQ7h84byyAA+FgNN61LzCQ2UYxjhMLmrUST2fPkWpsuWURc+L58+RNGlSzFm4WOa4Wrd3wgKXFUifISP27NohZ0nDUrFKFRw7cgjeoqNrjabNW0oB69ujO86fPQtfMRjMmT4VRYoWR6Om4UN2hmEixuSidvjgAWTMlEkWu4bELmVK1G/8B6ysrZUFyJItG9JnzAQrKyvEj2+hrF/IljOn/LsCtCLgZ4DygL6+vkZtlBeMit+qVcOAIcNkHs2pZXP06d4N6TJkwISp02BhEf5aMAwTMSafKGhYszoqCQ+rW68+yhI5AQEB6NCyhQxHq1SrrqyhadWkMTJlzoxR4ycqy/+PSxcuYPG8uVSLIa4kLYmPGBK/Jo6OKF22vLJEDN0KWra1culSBAYFot+gwejaszfixYun9mAYJjpMKmrknZQtWgj9Bg5Ggz+aKGvEUMdfvmQxbG1tUbNuPWUNz5+dOgrx88fcxUuVRTtQndyFc+dQolQp/D1iOB7R7GfL1pg4Y6Z8igjDMNFj0vDTx9sbfiL0Mo8bvkzDAHln27duESFXC4wZNgTLlizC9atX1LvhIQ+G8nEf3r9Xluihhes0u1ooV3ajN4dsmVGzcgX1DabnoOs+TJk4Ho5t20pRd1m7Hvkc8mPlsqVYvij8xAnDMBFjUk/t1csXqFq2NEb8PR51GzZS1tBQQey2TRtx5uRJHBAd29PTA0WLF8cy0amTR/Bcs24d2uPZ48dYumYdbJIkUdao8Xj6FFs2bpB/cMVYyHOkPGCzlq2UJTy0D23GQDO/Ua1UoDDdJomN8EBdPufQqJSD6tRy5s6NxStWI2GiRNLOMEzkmDj8DETJAvkxaMRI1DeiaPaM2ykM6PWnXIO5YNly4bHUV+98oUfHDsJLe4fFq1YLkYjcA4wJLl04j4XOxuXUmjm2ROlyEefUfHy8Ub5YETlDPG323FDiN/SvfjjvfkZ4bhtkHRvDMFFjUlGjzlyuaGG07dAJ7Tt3VtaoWbF0Mfr16I7xU6aibcfwn+nQyhGpUqfGmAmTlEUbtGn6hyzpWLp6bSiPbPTQwfIPLpPYfY2nyTC/KibNqZHHUaxECVy/etnohdlFipeQn7NPk1ZZvvD2zRv5KO4sWbMpi3YYNHKUrL+bNXUKnorwmp5Osmfndnm+fQYMZEFjGCMxeZ3ab9Wq49rVq9ILMYa3Xm+QNXsO5C9YSFm+QI/d9vP9JItwtUaOnLkw32W5/IMv2zZvwqH9+/Hi+QsMGT0GmTJnUXsxDBMdJhe1wkWLwtw8Di5fvKAseqh0oVqFsljlsvTz89JevniBTevXot/gIbAXIWZYjh05LAUvQ4aMyqItqNi2e+8+cOrSRU6stGzbDunSpVfvMgxjDCYvviWcZ83Eg3v3MGHadGXRz+xRfowWutdu0ABFS5SSCfdsQrTKVghfSkElHO1bNhedvi/KVaiorN8OlZJcu3JZfi/9qbycufNwiMcwGiBGRM3b2xuD+/aWj9AuVrKksurXf1KezM/PVz6NNoNaIhURLosW4smjh3Lh+/fi8ewZBvbphUvnz8kC4eBgHUqVKYthY/+Wf8iYYZjYS4yIGnHa7SRWLF6M0RP/QRIj68sMXBTis3ThAgwcNhwpU9kr67eiQ9/u3cWZA6VKl0VAUAA2r1+H/Xv3oFrNWliwbCUsLfkvSzFMbCXGRI3Yu2sHLl+8KP/GprV1QmWNGk8PD6xe7oLa9Rsga7bsyvrtHD92BFcuXIRTl66fH0hJjxnv5tQOF866Y+GK1ahQubK0MwwT+zD5REFIqlavieq1aouQM/xjhSLj3ds3aNik2Q8RNCJZ0mRo2rJlqCfs0rPaatapi0ARij739FBWhmFiIzEqakTuvPmQJm34GrTIyJErN9JnyKBefT+58uSFjU348DeBZQIkSpxI/sk8hmFiLzEuaj8rVy9fFt5gDvnXpBiGib2wqAmePX0CtxMn0KNP3ygXnTMM8/PDPVhA5SLlKlZChcraW6nAML8av7youe7ZhXdv36LPwEHCS+NHMTJMbOeXFjV6eCStsewrBI3+ajvDMLGfX1bULp47J9edtuvUGSlC/MV4Hx8fuYSKYZjYyS8paufd3TH9n4lo1LQZ7FKlwhsvLxmC3rpxA/9OmyKflMswTOwkRlcU/AycE4LWtX0beHm9ln9jNChQ/6frzMzM4OHxDDVr18HkWbOljWGY2McvJWp0qvQX3k+fOgmL+PHlCgID9F4cIWwNmzRFidJllJVhmNjGL+epMQyjbbhOjWEYTcGixjCMpmBRYxhGU7CoMQyjKVjUGIbRFCxqDMNoChY1hmE0BYsawzCagkWNYRhNwaLGMIymYFFjGEZTsKgxDKMpWNQYhtEULGoMw2gKFjWGYTQFixrDMJqCRY1hGE3BosYwjKZgUWMYRlOwqDEMoylY1BiG0RQsagzDaAoWNYZhNAWLGsMwmoJFjWEYTcGixjCMpmBRYxhGU7CoMQyjIYD/AdS0So7zV3roAAAAAElFTkSuQmCC)"
      ],
      "metadata": {
        "id": "MBsV95nYWbV9"
      }
    },
    {
      "cell_type": "code",
      "source": [
        "k=Symbol('k')"
      ],
      "metadata": {
        "id": "QhxUMLOhWDst"
      },
      "execution_count": null,
      "outputs": []
    },
    {
      "cell_type": "code",
      "source": [
        "equation1=-4+k-2"
      ],
      "metadata": {
        "id": "zXkXJgrwWjAa"
      },
      "execution_count": null,
      "outputs": []
    },
    {
      "cell_type": "code",
      "source": [
        "solve(equation1)"
      ],
      "metadata": {
        "colab": {
          "base_uri": "https://localhost:8080/"
        },
        "id": "duPFW-I3WurE",
        "outputId": "158a4dbd-5512-4929-86a1-14f39a7c110a"
      },
      "execution_count": null,
      "outputs": [
        {
          "output_type": "execute_result",
          "data": {
            "text/plain": [
              "[6]"
            ]
          },
          "metadata": {},
          "execution_count": 16
        }
      ]
    },
    {
      "cell_type": "code",
      "source": [
        "equation2=2*k-10"
      ],
      "metadata": {
        "id": "89esGZ9QWxab"
      },
      "execution_count": null,
      "outputs": []
    },
    {
      "cell_type": "code",
      "source": [
        "solve(equation2)"
      ],
      "metadata": {
        "colab": {
          "base_uri": "https://localhost:8080/"
        },
        "id": "NvnQgtRmXfIL",
        "outputId": "6da2ff41-dfd5-42b3-ffae-5ad3224b32ec"
      },
      "execution_count": null,
      "outputs": [
        {
          "output_type": "execute_result",
          "data": {
            "text/plain": [
              "[5]"
            ]
          },
          "metadata": {},
          "execution_count": 18
        }
      ]
    },
    {
      "cell_type": "code",
      "source": [
        "equation3=-(k/2) +8"
      ],
      "metadata": {
        "id": "iS9dHUu6XkN9"
      },
      "execution_count": null,
      "outputs": []
    },
    {
      "cell_type": "code",
      "source": [
        "solve(equation3)"
      ],
      "metadata": {
        "colab": {
          "base_uri": "https://localhost:8080/"
        },
        "id": "zNDFU8J_XrCL",
        "outputId": "299446c3-d362-4443-f80b-166b6f158b4f"
      },
      "execution_count": null,
      "outputs": [
        {
          "output_type": "execute_result",
          "data": {
            "text/plain": [
              "[16]"
            ]
          },
          "metadata": {},
          "execution_count": 20
        }
      ]
    },
    {
      "cell_type": "code",
      "source": [
        "x=Symbol('x')\n",
        "y=Symbol('y')"
      ],
      "metadata": {
        "id": "e2W8-3z2XtQE"
      },
      "execution_count": null,
      "outputs": []
    },
    {
      "cell_type": "code",
      "source": [
        "equation1=3*x+y-2\n",
        "equation2=x-2*y-3"
      ],
      "metadata": {
        "id": "oj9_jMpda3fz"
      },
      "execution_count": null,
      "outputs": []
    },
    {
      "cell_type": "code",
      "source": [
        "solve([equation1,equation2])"
      ],
      "metadata": {
        "colab": {
          "base_uri": "https://localhost:8080/"
        },
        "id": "nMfG_V_HbAnK",
        "outputId": "e930d63e-69f0-458b-f48a-43720f1119d2"
      },
      "execution_count": null,
      "outputs": [
        {
          "output_type": "execute_result",
          "data": {
            "text/plain": [
              "{x: 1, y: -1}"
            ]
          },
          "metadata": {},
          "execution_count": 23
        }
      ]
    },
    {
      "cell_type": "code",
      "source": [
        "# 거듭제곱근"
      ],
      "metadata": {
        "id": "6Hbd0rptbHJz"
      },
      "execution_count": null,
      "outputs": []
    },
    {
      "cell_type": "code",
      "source": [
        "import math"
      ],
      "metadata": {
        "id": "N57gHvNZP5YP"
      },
      "execution_count": null,
      "outputs": []
    },
    {
      "cell_type": "code",
      "source": [
        "math.sqrt(9)"
      ],
      "metadata": {
        "colab": {
          "base_uri": "https://localhost:8080/"
        },
        "id": "guyRhrBgP8FW",
        "outputId": "4f9c42b3-9df3-4ffe-a75b-d2557fc9d1ae"
      },
      "execution_count": null,
      "outputs": [
        {
          "output_type": "execute_result",
          "data": {
            "text/plain": [
              "3.0"
            ]
          },
          "metadata": {},
          "execution_count": 3
        }
      ]
    },
    {
      "cell_type": "code",
      "source": [
        "# 인수분해"
      ],
      "metadata": {
        "id": "QdJRBYIYP9i_"
      },
      "execution_count": null,
      "outputs": []
    },
    {
      "cell_type": "code",
      "source": [
        "from sympy import expand, factor, Symbol"
      ],
      "metadata": {
        "id": "AkmLxjitQCrI"
      },
      "execution_count": null,
      "outputs": []
    },
    {
      "cell_type": "code",
      "source": [
        "x=Symbol('x')"
      ],
      "metadata": {
        "id": "XsJfPkXyQHcv"
      },
      "execution_count": null,
      "outputs": []
    },
    {
      "cell_type": "code",
      "source": [
        "expand((x+1)*(x+5))"
      ],
      "metadata": {
        "colab": {
          "base_uri": "https://localhost:8080/",
          "height": 39
        },
        "id": "Cp-NHhNPQKre",
        "outputId": "1fbc7e52-2d7f-48dd-de17-0fd81f2166ea"
      },
      "execution_count": null,
      "outputs": [
        {
          "output_type": "execute_result",
          "data": {
            "text/plain": [
              "x**2 + 6*x + 5"
            ],
            "text/latex": "$\\displaystyle x^{2} + 6 x + 5$"
          },
          "metadata": {},
          "execution_count": 7
        }
      ]
    },
    {
      "cell_type": "code",
      "source": [
        "factor(x**2 + 6*x + 5)"
      ],
      "metadata": {
        "colab": {
          "base_uri": "https://localhost:8080/",
          "height": 39
        },
        "id": "7CLnnuseQPXf",
        "outputId": "6170a311-6263-49e7-ad86-d39faf8ac2fd"
      },
      "execution_count": null,
      "outputs": [
        {
          "output_type": "execute_result",
          "data": {
            "text/plain": [
              "(x + 1)*(x + 5)"
            ],
            "text/latex": "$\\displaystyle \\left(x + 1\\right) \\left(x + 5\\right)$"
          },
          "metadata": {},
          "execution_count": 8
        }
      ]
    },
    {
      "cell_type": "markdown",
      "source": [
        "(1)$x^2y - xy^3$을 인수분해하세요.  \n",
        "(2)$x^2 + 3x +2$를 인수분해하세요."
      ],
      "metadata": {
        "id": "AMOlzWhxQll8"
      }
    },
    {
      "cell_type": "code",
      "source": [
        "y=Symbol('y')"
      ],
      "metadata": {
        "id": "_4HhzSP8RloH"
      },
      "execution_count": null,
      "outputs": []
    },
    {
      "cell_type": "code",
      "source": [
        "factor(x**3*y - x*y**3)"
      ],
      "metadata": {
        "colab": {
          "base_uri": "https://localhost:8080/",
          "height": 39
        },
        "id": "hdWh66NEQf2E",
        "outputId": "a86f46b8-1219-4aeb-8125-5298b1bf6935"
      },
      "execution_count": null,
      "outputs": [
        {
          "output_type": "execute_result",
          "data": {
            "text/plain": [
              "x*y*(x - y)*(x + y)"
            ],
            "text/latex": "$\\displaystyle x y \\left(x - y\\right) \\left(x + y\\right)$"
          },
          "metadata": {},
          "execution_count": 13
        }
      ]
    },
    {
      "cell_type": "code",
      "source": [
        "factor(x**2 +3*x + 2)"
      ],
      "metadata": {
        "colab": {
          "base_uri": "https://localhost:8080/",
          "height": 39
        },
        "id": "bGD54i7cQUge",
        "outputId": "02e3623a-ec26-435f-f1bf-019a449b2bcb"
      },
      "execution_count": null,
      "outputs": [
        {
          "output_type": "execute_result",
          "data": {
            "text/plain": [
              "(x + 1)*(x + 2)"
            ],
            "text/latex": "$\\displaystyle \\left(x + 1\\right) \\left(x + 2\\right)$"
          },
          "metadata": {},
          "execution_count": 12
        }
      ]
    },
    {
      "cell_type": "markdown",
      "source": [
        "## 지수함수"
      ],
      "metadata": {
        "id": "Enu4qiqmdb07"
      }
    },
    {
      "cell_type": "code",
      "source": [
        "import math"
      ],
      "metadata": {
        "id": "SL7bAVtN6I-h"
      },
      "execution_count": null,
      "outputs": []
    },
    {
      "cell_type": "code",
      "source": [
        "# 2의 5제곱"
      ],
      "metadata": {
        "id": "kBCLQsk38gVg"
      },
      "execution_count": null,
      "outputs": []
    },
    {
      "cell_type": "code",
      "source": [
        "math.pow(2,5)"
      ],
      "metadata": {
        "colab": {
          "base_uri": "https://localhost:8080/"
        },
        "id": "8gRrwyId8PTR",
        "outputId": "cb31e9ca-13c7-4ade-e710-00e28e3f390b"
      },
      "execution_count": null,
      "outputs": [
        {
          "output_type": "execute_result",
          "data": {
            "text/plain": [
              "32.0"
            ]
          },
          "metadata": {},
          "execution_count": 3
        }
      ]
    },
    {
      "cell_type": "code",
      "source": [
        "2**5"
      ],
      "metadata": {
        "colab": {
          "base_uri": "https://localhost:8080/"
        },
        "id": "3GINvb838Rhp",
        "outputId": "72b73f4a-027e-4092-c308-2bb6d91df5af"
      },
      "execution_count": null,
      "outputs": [
        {
          "output_type": "execute_result",
          "data": {
            "text/plain": [
              "32"
            ]
          },
          "metadata": {},
          "execution_count": 4
        }
      ]
    },
    {
      "cell_type": "code",
      "source": [
        "import numpy as np"
      ],
      "metadata": {
        "id": "fkM_4sMD8U9R"
      },
      "execution_count": null,
      "outputs": []
    },
    {
      "cell_type": "code",
      "source": [
        "np.power(2,5)"
      ],
      "metadata": {
        "colab": {
          "base_uri": "https://localhost:8080/"
        },
        "id": "QCt8peuL8kbk",
        "outputId": "30f7604e-27f7-40a0-adc6-fbc9b329258b"
      },
      "execution_count": null,
      "outputs": [
        {
          "output_type": "execute_result",
          "data": {
            "text/plain": [
              "32"
            ]
          },
          "metadata": {},
          "execution_count": 8
        }
      ]
    },
    {
      "cell_type": "code",
      "source": [
        "# 2의 제곱근"
      ],
      "metadata": {
        "id": "ElWqK73q8or5"
      },
      "execution_count": null,
      "outputs": []
    },
    {
      "cell_type": "code",
      "source": [
        "math.sqrt(2)"
      ],
      "metadata": {
        "colab": {
          "base_uri": "https://localhost:8080/"
        },
        "id": "b4jVObYX8rzR",
        "outputId": "5b544674-0c29-434c-8355-a95982905220"
      },
      "execution_count": null,
      "outputs": [
        {
          "output_type": "execute_result",
          "data": {
            "text/plain": [
              "1.4142135623730951"
            ]
          },
          "metadata": {},
          "execution_count": 10
        }
      ]
    },
    {
      "cell_type": "code",
      "source": [
        "np.sqrt(2)"
      ],
      "metadata": {
        "colab": {
          "base_uri": "https://localhost:8080/"
        },
        "id": "QCTnpUeZ8tRo",
        "outputId": "9caf380f-b1ec-4d0d-af6c-84bca67cea6c"
      },
      "execution_count": null,
      "outputs": [
        {
          "output_type": "execute_result",
          "data": {
            "text/plain": [
              "1.4142135623730951"
            ]
          },
          "metadata": {},
          "execution_count": 11
        }
      ]
    },
    {
      "cell_type": "code",
      "source": [
        "# e의 2제곱"
      ],
      "metadata": {
        "id": "6raUzOHv8vPg"
      },
      "execution_count": null,
      "outputs": []
    },
    {
      "cell_type": "code",
      "source": [
        "math.exp(2)"
      ],
      "metadata": {
        "colab": {
          "base_uri": "https://localhost:8080/"
        },
        "id": "xzYAh9XR8zdY",
        "outputId": "3d1f3347-9d3b-4c8f-bc6d-0d87596692aa"
      },
      "execution_count": null,
      "outputs": [
        {
          "output_type": "execute_result",
          "data": {
            "text/plain": [
              "7.38905609893065"
            ]
          },
          "metadata": {},
          "execution_count": 13
        }
      ]
    },
    {
      "cell_type": "code",
      "source": [
        "np.exp(2)"
      ],
      "metadata": {
        "colab": {
          "base_uri": "https://localhost:8080/"
        },
        "id": "I0NeojSc81yM",
        "outputId": "5781dba1-0118-4c41-c67f-9d39bdecb99c"
      },
      "execution_count": null,
      "outputs": [
        {
          "output_type": "execute_result",
          "data": {
            "text/plain": [
              "7.38905609893065"
            ]
          },
          "metadata": {},
          "execution_count": 14
        }
      ]
    },
    {
      "cell_type": "code",
      "source": [
        "2.718281 ** 2"
      ],
      "metadata": {
        "colab": {
          "base_uri": "https://localhost:8080/"
        },
        "id": "OtrIoypR-Fsx",
        "outputId": "7722f5f5-59f4-4ded-a5df-18466d4273f2"
      },
      "execution_count": null,
      "outputs": [
        {
          "output_type": "execute_result",
          "data": {
            "text/plain": [
              "7.389051594961001"
            ]
          },
          "metadata": {},
          "execution_count": 26
        }
      ]
    },
    {
      "cell_type": "markdown",
      "source": [
        "## 로그함수"
      ],
      "metadata": {
        "id": "4-e5dw4EdXj7"
      }
    },
    {
      "cell_type": "code",
      "source": [
        "import math"
      ],
      "metadata": {
        "id": "D3ukr3hz89jb"
      },
      "execution_count": null,
      "outputs": []
    },
    {
      "cell_type": "code",
      "source": [
        "# 밑이 4이고, 진수가 2인 로그"
      ],
      "metadata": {
        "id": "jUG5MGaW9DcR"
      },
      "execution_count": null,
      "outputs": []
    },
    {
      "cell_type": "code",
      "source": [
        "math.log(2,4)"
      ],
      "metadata": {
        "colab": {
          "base_uri": "https://localhost:8080/"
        },
        "id": "dov8afXL8_dU",
        "outputId": "45f959a5-143e-4314-db66-2551512b889a"
      },
      "execution_count": null,
      "outputs": [
        {
          "output_type": "execute_result",
          "data": {
            "text/plain": [
              "0.5"
            ]
          },
          "metadata": {},
          "execution_count": 17
        }
      ]
    },
    {
      "cell_type": "code",
      "source": [
        "# 밑이 2이고, 진수가 4인 로그"
      ],
      "metadata": {
        "id": "M1J6rJe19BPD"
      },
      "execution_count": null,
      "outputs": []
    },
    {
      "cell_type": "code",
      "source": [
        "math.log(4,2)"
      ],
      "metadata": {
        "colab": {
          "base_uri": "https://localhost:8080/"
        },
        "id": "dDA6KI4D9OqF",
        "outputId": "ed5ca508-4051-4e60-b7d0-8b7154e3109a"
      },
      "execution_count": null,
      "outputs": [
        {
          "output_type": "execute_result",
          "data": {
            "text/plain": [
              "2.0"
            ]
          },
          "metadata": {},
          "execution_count": 20
        }
      ]
    },
    {
      "cell_type": "code",
      "source": [
        "# numpy에서 log는 자연로그(즉 밑이 e(2.718281...))"
      ],
      "metadata": {
        "id": "iZRGfamD9ek-"
      },
      "execution_count": null,
      "outputs": []
    },
    {
      "cell_type": "code",
      "source": [
        "np.log(2)"
      ],
      "metadata": {
        "colab": {
          "base_uri": "https://localhost:8080/"
        },
        "id": "8kFXYVa89Qic",
        "outputId": "9748ee46-852c-4a92-fb52-3144830b45d4"
      },
      "execution_count": null,
      "outputs": [
        {
          "output_type": "execute_result",
          "data": {
            "text/plain": [
              "0.6931471805599453"
            ]
          },
          "metadata": {},
          "execution_count": 24
        }
      ]
    },
    {
      "cell_type": "code",
      "source": [
        "# 함수의 극한과 최대, 최소"
      ],
      "metadata": {
        "id": "Lsy0GGmL-Cjs"
      },
      "execution_count": null,
      "outputs": []
    },
    {
      "cell_type": "code",
      "source": [
        "from sympy import Limit, S,Symbol"
      ],
      "metadata": {
        "id": "U9FKTcScQ0bq"
      },
      "execution_count": null,
      "outputs": []
    },
    {
      "cell_type": "code",
      "source": [
        "# SymPy는 Python의 수학 기호 연산 라이브러리"
      ],
      "metadata": {
        "id": "JbqG05tNREo8"
      },
      "execution_count": null,
      "outputs": []
    },
    {
      "cell_type": "code",
      "source": [
        "# SymPy는 Python의 수학 기호 연산 라이브러리로, 수학적 표현식과 방정식을 기호적으로 다룰 수 있습니다.\n",
        "# SymPy에서 제공하는 여러 모듈 중 S는 여러 유용한 상수와 객체를 제공하는 모듈입니다."
      ],
      "metadata": {
        "id": "DdO_XvBTQ6EZ"
      },
      "execution_count": null,
      "outputs": []
    },
    {
      "cell_type": "markdown",
      "source": [
        "1. 무한대 (oo)  \n",
        "S는 양의 무한대를 나타내는 객체를 포함합니다."
      ],
      "metadata": {
        "id": "aC5lSOxXR14m"
      }
    },
    {
      "cell_type": "code",
      "source": [
        "from sympy import S\n",
        "\n",
        "positive_infinity = S.Infinity\n",
        "negative_infinity = S.NegativeInfinity\n"
      ],
      "metadata": {
        "id": "JPxcBNT3RxRq"
      },
      "execution_count": null,
      "outputs": []
    },
    {
      "cell_type": "code",
      "source": [
        "positive_infinity"
      ],
      "metadata": {
        "colab": {
          "base_uri": "https://localhost:8080/",
          "height": 37
        },
        "id": "UP5gTupFR4WQ",
        "outputId": "ba838eb0-e56e-4d73-ebcf-f446fbb9c0ec"
      },
      "execution_count": null,
      "outputs": [
        {
          "output_type": "execute_result",
          "data": {
            "text/plain": [
              "oo"
            ],
            "text/latex": "$\\displaystyle \\infty$"
          },
          "metadata": {},
          "execution_count": 7
        }
      ]
    },
    {
      "cell_type": "code",
      "source": [
        "negative_infinity"
      ],
      "metadata": {
        "colab": {
          "base_uri": "https://localhost:8080/",
          "height": 37
        },
        "id": "0Dkb44y3R5gB",
        "outputId": "ef8a411d-ac0e-40d5-9ffd-cecccdc9b475"
      },
      "execution_count": null,
      "outputs": [
        {
          "output_type": "execute_result",
          "data": {
            "text/plain": [
              "-oo"
            ],
            "text/latex": "$\\displaystyle -\\infty$"
          },
          "metadata": {},
          "execution_count": 8
        }
      ]
    },
    {
      "cell_type": "markdown",
      "source": [
        "여기서 S.Infinity는 양의 무한대(∞)를, S.NegativeInfinity는 음의 무한대(−∞)를 나타냅니다."
      ],
      "metadata": {
        "id": "0JbZ5X3wR-fQ"
      }
    },
    {
      "cell_type": "markdown",
      "source": [
        "2. 유리수  \n",
        "S를 사용하여 유리수를 정의할 수 있습니다. 예를 들어, 1/2을 정의할 때 Rational 클래스를 사용할 수 있지만 S를 통해 더 간결하게 표현할 수 있습니다."
      ],
      "metadata": {
        "id": "YhEHZFefSBQ5"
      }
    },
    {
      "cell_type": "code",
      "source": [
        "from sympy import S\n",
        "\n",
        "half = S(1)/2\n"
      ],
      "metadata": {
        "id": "e2FgjSUnR7UK"
      },
      "execution_count": 1,
      "outputs": []
    },
    {
      "cell_type": "code",
      "source": [
        "help(S)"
      ],
      "metadata": {
        "colab": {
          "base_uri": "https://localhost:8080/"
        },
        "id": "ppx6KwqQQo_Z",
        "outputId": "766a52c5-5c74-407d-c66d-ae20544b841b"
      },
      "execution_count": 2,
      "outputs": [
        {
          "output_type": "stream",
          "name": "stdout",
          "text": [
            "Help on SingletonRegistry in module sympy.core.singleton object:\n",
            "\n",
            "class SingletonRegistry(sympy.core.core.Registry)\n",
            " |  The registry for the singleton classes (accessible as ``S``).\n",
            " |  \n",
            " |  Explanation\n",
            " |  ===========\n",
            " |  \n",
            " |  This class serves as two separate things.\n",
            " |  \n",
            " |  The first thing it is is the ``SingletonRegistry``. Several classes in\n",
            " |  SymPy appear so often that they are singletonized, that is, using some\n",
            " |  metaprogramming they are made so that they can only be instantiated once\n",
            " |  (see the :class:`sympy.core.singleton.Singleton` class for details). For\n",
            " |  instance, every time you create ``Integer(0)``, this will return the same\n",
            " |  instance, :class:`sympy.core.numbers.Zero`. All singleton instances are\n",
            " |  attributes of the ``S`` object, so ``Integer(0)`` can also be accessed as\n",
            " |  ``S.Zero``.\n",
            " |  \n",
            " |  Singletonization offers two advantages: it saves memory, and it allows\n",
            " |  fast comparison. It saves memory because no matter how many times the\n",
            " |  singletonized objects appear in expressions in memory, they all point to\n",
            " |  the same single instance in memory. The fast comparison comes from the\n",
            " |  fact that you can use ``is`` to compare exact instances in Python\n",
            " |  (usually, you need to use ``==`` to compare things). ``is`` compares\n",
            " |  objects by memory address, and is very fast.\n",
            " |  \n",
            " |  Examples\n",
            " |  ========\n",
            " |  \n",
            " |  >>> from sympy import S, Integer\n",
            " |  >>> a = Integer(0)\n",
            " |  >>> a is S.Zero\n",
            " |  True\n",
            " |  \n",
            " |  For the most part, the fact that certain objects are singletonized is an\n",
            " |  implementation detail that users should not need to worry about. In SymPy\n",
            " |  library code, ``is`` comparison is often used for performance purposes\n",
            " |  The primary advantage of ``S`` for end users is the convenient access to\n",
            " |  certain instances that are otherwise difficult to type, like ``S.Half``\n",
            " |  (instead of ``Rational(1, 2)``).\n",
            " |  \n",
            " |  When using ``is`` comparison, make sure the argument is sympified. For\n",
            " |  instance,\n",
            " |  \n",
            " |  >>> x = 0\n",
            " |  >>> x is S.Zero\n",
            " |  False\n",
            " |  \n",
            " |  This problem is not an issue when using ``==``, which is recommended for\n",
            " |  most use-cases:\n",
            " |  \n",
            " |  >>> 0 == S.Zero\n",
            " |  True\n",
            " |  \n",
            " |  The second thing ``S`` is is a shortcut for\n",
            " |  :func:`sympy.core.sympify.sympify`. :func:`sympy.core.sympify.sympify` is\n",
            " |  the function that converts Python objects such as ``int(1)`` into SymPy\n",
            " |  objects such as ``Integer(1)``. It also converts the string form of an\n",
            " |  expression into a SymPy expression, like ``sympify(\"x**2\")`` ->\n",
            " |  ``Symbol(\"x\")**2``. ``S(1)`` is the same thing as ``sympify(1)``\n",
            " |  (basically, ``S.__call__`` has been defined to call ``sympify``).\n",
            " |  \n",
            " |  This is for convenience, since ``S`` is a single letter. It's mostly\n",
            " |  useful for defining rational numbers. Consider an expression like ``x +\n",
            " |  1/2``. If you enter this directly in Python, it will evaluate the ``1/2``\n",
            " |  and give ``0.5``, because both arguments are ints (see also\n",
            " |  :ref:`tutorial-gotchas-final-notes`). However, in SymPy, you usually want\n",
            " |  the quotient of two integers to give an exact rational number. The way\n",
            " |  Python's evaluation works, at least one side of an operator needs to be a\n",
            " |  SymPy object for the SymPy evaluation to take over. You could write this\n",
            " |  as ``x + Rational(1, 2)``, but this is a lot more typing. A shorter\n",
            " |  version is ``x + S(1)/2``. Since ``S(1)`` returns ``Integer(1)``, the\n",
            " |  division will return a ``Rational`` type, since it will call\n",
            " |  ``Integer.__truediv__``, which knows how to return a ``Rational``.\n",
            " |  \n",
            " |  Method resolution order:\n",
            " |      SingletonRegistry\n",
            " |      sympy.core.core.Registry\n",
            " |      builtins.object\n",
            " |  \n",
            " |  Methods defined here:\n",
            " |  \n",
            " |  __getattr__(self, name)\n",
            " |      Python calls __getattr__ if no attribute of that name was installed\n",
            " |      yet.\n",
            " |      \n",
            " |      Explanation\n",
            " |      ===========\n",
            " |      \n",
            " |      This __getattr__ checks whether a class with the requested name was\n",
            " |      already registered but not installed; if no, raises an AttributeError.\n",
            " |      Otherwise, retrieves the class, calculates its singleton value, installs\n",
            " |      it as an attribute of the given name, and unregisters the class.\n",
            " |  \n",
            " |  __init__(self)\n",
            " |      Initialize self.  See help(type(self)) for accurate signature.\n",
            " |  \n",
            " |  __repr__(self)\n",
            " |      Return repr(self).\n",
            " |  \n",
            " |  register(self, cls)\n",
            " |  \n",
            " |  ----------------------------------------------------------------------\n",
            " |  Static methods defined here:\n",
            " |  \n",
            " |  __call__ = sympify(a, locals=None, convert_xor=True, strict=False, rational=False, evaluate=None)\n",
            " |      Converts an arbitrary expression to a type that can be used inside SymPy.\n",
            " |      \n",
            " |      Explanation\n",
            " |      ===========\n",
            " |      \n",
            " |      It will convert Python ints into instances of :class:`~.Integer`, floats\n",
            " |      into instances of :class:`~.Float`, etc. It is also able to coerce\n",
            " |      symbolic expressions which inherit from :class:`~.Basic`. This can be\n",
            " |      useful in cooperation with SAGE.\n",
            " |      \n",
            " |      .. warning::\n",
            " |          Note that this function uses ``eval``, and thus shouldn't be used on\n",
            " |          unsanitized input.\n",
            " |      \n",
            " |      If the argument is already a type that SymPy understands, it will do\n",
            " |      nothing but return that value. This can be used at the beginning of a\n",
            " |      function to ensure you are working with the correct type.\n",
            " |      \n",
            " |      Examples\n",
            " |      ========\n",
            " |      \n",
            " |      >>> from sympy import sympify\n",
            " |      \n",
            " |      >>> sympify(2).is_integer\n",
            " |      True\n",
            " |      >>> sympify(2).is_real\n",
            " |      True\n",
            " |      \n",
            " |      >>> sympify(2.0).is_real\n",
            " |      True\n",
            " |      >>> sympify(\"2.0\").is_real\n",
            " |      True\n",
            " |      >>> sympify(\"2e-45\").is_real\n",
            " |      True\n",
            " |      \n",
            " |      If the expression could not be converted, a SympifyError is raised.\n",
            " |      \n",
            " |      >>> sympify(\"x***2\")\n",
            " |      Traceback (most recent call last):\n",
            " |      ...\n",
            " |      SympifyError: SympifyError: \"could not parse 'x***2'\"\n",
            " |      \n",
            " |      When attempting to parse non-Python syntax using ``sympify``, it raises a\n",
            " |      ``SympifyError``:\n",
            " |      \n",
            " |      >>> sympify(\"2x+1\")\n",
            " |      Traceback (most recent call last):\n",
            " |      ...\n",
            " |      SympifyError: Sympify of expression 'could not parse '2x+1'' failed\n",
            " |      \n",
            " |      To parse non-Python syntax, use ``parse_expr`` from ``sympy.parsing.sympy_parser``.\n",
            " |      \n",
            " |      >>> from sympy.parsing.sympy_parser import parse_expr\n",
            " |      >>> parse_expr(\"2x+1\", transformations=\"all\")\n",
            " |      2*x + 1\n",
            " |      \n",
            " |      For more details about ``transformations``: see :func:`~sympy.parsing.sympy_parser.parse_expr`\n",
            " |      \n",
            " |      Locals\n",
            " |      ------\n",
            " |      \n",
            " |      The sympification happens with access to everything that is loaded\n",
            " |      by ``from sympy import *``; anything used in a string that is not\n",
            " |      defined by that import will be converted to a symbol. In the following,\n",
            " |      the ``bitcount`` function is treated as a symbol and the ``O`` is\n",
            " |      interpreted as the :class:`~.Order` object (used with series) and it raises\n",
            " |      an error when used improperly:\n",
            " |      \n",
            " |      >>> s = 'bitcount(42)'\n",
            " |      >>> sympify(s)\n",
            " |      bitcount(42)\n",
            " |      >>> sympify(\"O(x)\")\n",
            " |      O(x)\n",
            " |      >>> sympify(\"O + 1\")\n",
            " |      Traceback (most recent call last):\n",
            " |      ...\n",
            " |      TypeError: unbound method...\n",
            " |      \n",
            " |      In order to have ``bitcount`` be recognized it can be imported into a\n",
            " |      namespace dictionary and passed as locals:\n",
            " |      \n",
            " |      >>> ns = {}\n",
            " |      >>> exec('from sympy.core.evalf import bitcount', ns)\n",
            " |      >>> sympify(s, locals=ns)\n",
            " |      6\n",
            " |      \n",
            " |      In order to have the ``O`` interpreted as a Symbol, identify it as such\n",
            " |      in the namespace dictionary. This can be done in a variety of ways; all\n",
            " |      three of the following are possibilities:\n",
            " |      \n",
            " |      >>> from sympy import Symbol\n",
            " |      >>> ns[\"O\"] = Symbol(\"O\")  # method 1\n",
            " |      >>> exec('from sympy.abc import O', ns)  # method 2\n",
            " |      >>> ns.update(dict(O=Symbol(\"O\")))  # method 3\n",
            " |      >>> sympify(\"O + 1\", locals=ns)\n",
            " |      O + 1\n",
            " |      \n",
            " |      If you want *all* single-letter and Greek-letter variables to be symbols\n",
            " |      then you can use the clashing-symbols dictionaries that have been defined\n",
            " |      there as private variables: ``_clash1`` (single-letter variables),\n",
            " |      ``_clash2`` (the multi-letter Greek names) or ``_clash`` (both single and\n",
            " |      multi-letter names that are defined in ``abc``).\n",
            " |      \n",
            " |      >>> from sympy.abc import _clash1\n",
            " |      >>> set(_clash1)  # if this fails, see issue #23903\n",
            " |      {'E', 'I', 'N', 'O', 'Q', 'S'}\n",
            " |      >>> sympify('I & Q', _clash1)\n",
            " |      I & Q\n",
            " |      \n",
            " |      Strict\n",
            " |      ------\n",
            " |      \n",
            " |      If the option ``strict`` is set to ``True``, only the types for which an\n",
            " |      explicit conversion has been defined are converted. In the other\n",
            " |      cases, a SympifyError is raised.\n",
            " |      \n",
            " |      >>> print(sympify(None))\n",
            " |      None\n",
            " |      >>> sympify(None, strict=True)\n",
            " |      Traceback (most recent call last):\n",
            " |      ...\n",
            " |      SympifyError: SympifyError: None\n",
            " |      \n",
            " |      .. deprecated:: 1.6\n",
            " |      \n",
            " |         ``sympify(obj)`` automatically falls back to ``str(obj)`` when all\n",
            " |         other conversion methods fail, but this is deprecated. ``strict=True``\n",
            " |         will disable this deprecated behavior. See\n",
            " |         :ref:`deprecated-sympify-string-fallback`.\n",
            " |      \n",
            " |      Evaluation\n",
            " |      ----------\n",
            " |      \n",
            " |      If the option ``evaluate`` is set to ``False``, then arithmetic and\n",
            " |      operators will be converted into their SymPy equivalents and the\n",
            " |      ``evaluate=False`` option will be added. Nested ``Add`` or ``Mul`` will\n",
            " |      be denested first. This is done via an AST transformation that replaces\n",
            " |      operators with their SymPy equivalents, so if an operand redefines any\n",
            " |      of those operations, the redefined operators will not be used. If\n",
            " |      argument a is not a string, the mathematical expression is evaluated\n",
            " |      before being passed to sympify, so adding ``evaluate=False`` will still\n",
            " |      return the evaluated result of expression.\n",
            " |      \n",
            " |      >>> sympify('2**2 / 3 + 5')\n",
            " |      19/3\n",
            " |      >>> sympify('2**2 / 3 + 5', evaluate=False)\n",
            " |      2**2/3 + 5\n",
            " |      >>> sympify('4/2+7', evaluate=True)\n",
            " |      9\n",
            " |      >>> sympify('4/2+7', evaluate=False)\n",
            " |      4/2 + 7\n",
            " |      >>> sympify(4/2+7, evaluate=False)\n",
            " |      9.00000000000000\n",
            " |      \n",
            " |      Extending\n",
            " |      ---------\n",
            " |      \n",
            " |      To extend ``sympify`` to convert custom objects (not derived from ``Basic``),\n",
            " |      just define a ``_sympy_`` method to your class. You can do that even to\n",
            " |      classes that you do not own by subclassing or adding the method at runtime.\n",
            " |      \n",
            " |      >>> from sympy import Matrix\n",
            " |      >>> class MyList1(object):\n",
            " |      ...     def __iter__(self):\n",
            " |      ...         yield 1\n",
            " |      ...         yield 2\n",
            " |      ...         return\n",
            " |      ...     def __getitem__(self, i): return list(self)[i]\n",
            " |      ...     def _sympy_(self): return Matrix(self)\n",
            " |      >>> sympify(MyList1())\n",
            " |      Matrix([\n",
            " |      [1],\n",
            " |      [2]])\n",
            " |      \n",
            " |      If you do not have control over the class definition you could also use the\n",
            " |      ``converter`` global dictionary. The key is the class and the value is a\n",
            " |      function that takes a single argument and returns the desired SymPy\n",
            " |      object, e.g. ``converter[MyList] = lambda x: Matrix(x)``.\n",
            " |      \n",
            " |      >>> class MyList2(object):   # XXX Do not do this if you control the class!\n",
            " |      ...     def __iter__(self):  #     Use _sympy_!\n",
            " |      ...         yield 1\n",
            " |      ...         yield 2\n",
            " |      ...         return\n",
            " |      ...     def __getitem__(self, i): return list(self)[i]\n",
            " |      >>> from sympy.core.sympify import converter\n",
            " |      >>> converter[MyList2] = lambda x: Matrix(x)\n",
            " |      >>> sympify(MyList2())\n",
            " |      Matrix([\n",
            " |      [1],\n",
            " |      [2]])\n",
            " |      \n",
            " |      Notes\n",
            " |      =====\n",
            " |      \n",
            " |      The keywords ``rational`` and ``convert_xor`` are only used\n",
            " |      when the input is a string.\n",
            " |      \n",
            " |      convert_xor\n",
            " |      -----------\n",
            " |      \n",
            " |      >>> sympify('x^y',convert_xor=True)\n",
            " |      x**y\n",
            " |      >>> sympify('x^y',convert_xor=False)\n",
            " |      x ^ y\n",
            " |      \n",
            " |      rational\n",
            " |      --------\n",
            " |      \n",
            " |      >>> sympify('0.1',rational=False)\n",
            " |      0.1\n",
            " |      >>> sympify('0.1',rational=True)\n",
            " |      1/10\n",
            " |      \n",
            " |      Sometimes autosimplification during sympification results in expressions\n",
            " |      that are very different in structure than what was entered. Until such\n",
            " |      autosimplification is no longer done, the ``kernS`` function might be of\n",
            " |      some use. In the example below you can see how an expression reduces to\n",
            " |      $-1$ by autosimplification, but does not do so when ``kernS`` is used.\n",
            " |      \n",
            " |      >>> from sympy.core.sympify import kernS\n",
            " |      >>> from sympy.abc import x\n",
            " |      >>> -2*(-(-x + 1/x)/(x*(x - 1/x)**2) - 1/(x*(x - 1/x))) - 1\n",
            " |      -1\n",
            " |      >>> s = '-2*(-(-x + 1/x)/(x*(x - 1/x)**2) - 1/(x*(x - 1/x))) - 1'\n",
            " |      >>> sympify(s)\n",
            " |      -1\n",
            " |      >>> kernS(s)\n",
            " |      -2*(-(-x + 1/x)/(x*(x - 1/x)**2) - 1/(x*(x - 1/x))) - 1\n",
            " |      \n",
            " |      Parameters\n",
            " |      ==========\n",
            " |      \n",
            " |      a :\n",
            " |          - any object defined in SymPy\n",
            " |          - standard numeric Python types: ``int``, ``long``, ``float``, ``Decimal``\n",
            " |          - strings (like ``\"0.09\"``, ``\"2e-19\"`` or ``'sin(x)'``)\n",
            " |          - booleans, including ``None`` (will leave ``None`` unchanged)\n",
            " |          - dicts, lists, sets or tuples containing any of the above\n",
            " |      \n",
            " |      convert_xor : bool, optional\n",
            " |          If true, treats ``^`` as exponentiation.\n",
            " |          If False, treats ``^`` as XOR itself.\n",
            " |          Used only when input is a string.\n",
            " |      \n",
            " |      locals : any object defined in SymPy, optional\n",
            " |          In order to have strings be recognized it can be imported\n",
            " |          into a namespace dictionary and passed as locals.\n",
            " |      \n",
            " |      strict : bool, optional\n",
            " |          If the option strict is set to ``True``, only the types for which\n",
            " |          an explicit conversion has been defined are converted. In the\n",
            " |          other cases, a SympifyError is raised.\n",
            " |      \n",
            " |      rational : bool, optional\n",
            " |          If ``True``, converts floats into :class:`~.Rational`.\n",
            " |          If ``False``, it lets floats remain as it is.\n",
            " |          Used only when input is a string.\n",
            " |      \n",
            " |      evaluate : bool, optional\n",
            " |          If False, then arithmetic and operators will be converted into\n",
            " |          their SymPy equivalents. If True the expression will be evaluated\n",
            " |          and the result will be returned.\n",
            " |  \n",
            " |  ----------------------------------------------------------------------\n",
            " |  Data and other attributes defined here:\n",
            " |  \n",
            " |  Catalan = Catalan\n",
            " |  \n",
            " |  ComplexInfinity = zoo\n",
            " |  \n",
            " |  Complexes = Complexes\n",
            " |  \n",
            " |  EmptySequence = EmptySequence\n",
            " |  \n",
            " |  EmptySet = EmptySet\n",
            " |  \n",
            " |  EulerGamma = EulerGamma\n",
            " |  \n",
            " |  Exp1 = E\n",
            " |  \n",
            " |  GoldenRatio = GoldenRatio\n",
            " |  \n",
            " |  Half = 1/2\n",
            " |  \n",
            " |  IdentityFunction = Lambda(_x, _x)\n",
            " |  \n",
            " |  ImaginaryUnit = I\n",
            " |  \n",
            " |  Infinity = oo\n",
            " |  \n",
            " |  Integers = Integers\n",
            " |  \n",
            " |  NaN = nan\n",
            " |  \n",
            " |  Naturals = Naturals\n",
            " |  \n",
            " |  Naturals0 = Naturals0\n",
            " |  \n",
            " |  NegativeInfinity = -oo\n",
            " |  \n",
            " |  NegativeOne = -1\n",
            " |  \n",
            " |  One = 1\n",
            " |  \n",
            " |  Pi = pi\n",
            " |  \n",
            " |  Rationals = Rationals\n",
            " |  \n",
            " |  Reals = Reals\n",
            " |  \n",
            " |  TribonacciConstant = TribonacciConstant\n",
            " |  \n",
            " |  UniversalSet = UniversalSet\n",
            " |  \n",
            " |  Zero = 0\n",
            " |  \n",
            " |  false = False\n",
            " |  \n",
            " |  true = True\n",
            " |  \n",
            " |  ----------------------------------------------------------------------\n",
            " |  Methods inherited from sympy.core.core.Registry:\n",
            " |  \n",
            " |  __delattr__(self, name)\n",
            " |      Implement delattr(self, name).\n",
            " |  \n",
            " |  __setattr__(self, name, obj)\n",
            " |      Implement setattr(self, name, value).\n",
            "\n"
          ]
        }
      ]
    },
    {
      "cell_type": "code",
      "source": [
        "half"
      ],
      "metadata": {
        "colab": {
          "base_uri": "https://localhost:8080/",
          "height": 51
        },
        "id": "GxyP3XttSEPI",
        "outputId": "34126877-76c7-41a1-bddc-b2b82c4cbb16"
      },
      "execution_count": null,
      "outputs": [
        {
          "output_type": "execute_result",
          "data": {
            "text/plain": [
              "1/2"
            ],
            "text/latex": "$\\displaystyle \\frac{1}{2}$"
          },
          "metadata": {},
          "execution_count": 10
        }
      ]
    },
    {
      "cell_type": "markdown",
      "source": [
        "3. 기호적 표현  \n",
        "S는 기호적 표현을 정의하는 데에도 사용됩니다."
      ],
      "metadata": {
        "id": "-5zXjwz2SITz"
      }
    },
    {
      "cell_type": "code",
      "source": [
        "from sympy import Symbol, S\n",
        "\n",
        "x = Symbol('x')\n",
        "limit_expr = Limit(1/x, x, S.Infinity)\n"
      ],
      "metadata": {
        "id": "Lh5MHkkMSFPx"
      },
      "execution_count": null,
      "outputs": []
    },
    {
      "cell_type": "code",
      "source": [
        "limit_expr"
      ],
      "metadata": {
        "colab": {
          "base_uri": "https://localhost:8080/",
          "height": 51
        },
        "id": "VfX19HvSSLh4",
        "outputId": "c2027168-7766-4588-b40b-20488f1cb1ea"
      },
      "execution_count": null,
      "outputs": [
        {
          "output_type": "execute_result",
          "data": {
            "text/plain": [
              "Limit(1/x, x, oo, dir='-')"
            ],
            "text/latex": "$\\displaystyle \\lim_{x \\to \\infty} \\frac{1}{x}$"
          },
          "metadata": {},
          "execution_count": 12
        }
      ]
    },
    {
      "cell_type": "markdown",
      "source": [
        "종합적인 예제  \n",
        "S를 사용하여 여러 상수를 함께 사용하는 예제를 살펴보겠습니다."
      ],
      "metadata": {
        "id": "CxUNg6E6STDp"
      }
    },
    {
      "cell_type": "code",
      "source": [
        "from sympy import Symbol, Limit, S\n",
        "\n",
        "# 기호 변수 정의\n",
        "x = Symbol('x')\n",
        "\n",
        "# 극한 표현식 정의: 1/x가 x가 무한대로 갈 때의 값\n",
        "limit_expr = Limit(1/x, x, S.Infinity)\n",
        "\n",
        "# 극한 계산\n",
        "limit_value = limit_expr.doit()\n",
        "\n",
        "print(\"The limit of 1/x as x approaches infinity is:\", limit_value)\n"
      ],
      "metadata": {
        "colab": {
          "base_uri": "https://localhost:8080/"
        },
        "id": "rCE5wJu8SM7S",
        "outputId": "0be3dd80-0d14-43fa-f0cf-80354f3bbd78"
      },
      "execution_count": null,
      "outputs": [
        {
          "output_type": "stream",
          "name": "stdout",
          "text": [
            "The limit of 1/x as x approaches infinity is: 0\n"
          ]
        }
      ]
    },
    {
      "cell_type": "code",
      "source": [
        "# doit() 메서드는 여러 유형의 기호적 표현식에 대해 사용할 수 있습니다. 이 메서드는 기호적 연산을 수행하고, 가능한 경우 그 결과를 반환합니다"
      ],
      "metadata": {
        "id": "ezvxGeIPSV2S"
      },
      "execution_count": null,
      "outputs": []
    },
    {
      "cell_type": "markdown",
      "source": [
        "## 다항함수의 미분"
      ],
      "metadata": {
        "id": "0WBiXC2ydROj"
      }
    },
    {
      "cell_type": "code",
      "source": [
        "from sympy import symbols"
      ],
      "metadata": {
        "id": "r0q5lkm-SjZY"
      },
      "execution_count": null,
      "outputs": []
    },
    {
      "cell_type": "code",
      "source": [
        "def average(a,b):\n",
        "  m=max(a,b)\n",
        "  n=min(a,b)\n",
        "  x=symbols('x')\n",
        "\n",
        "  fx=2*x**2+4*x+7\n",
        "  fb=fx.subs(x,m)\n",
        "  fa=fx.subs(x,n)\n",
        "\n",
        "  result=(fb-fa) / (b-a)\n",
        "  return result"
      ],
      "metadata": {
        "id": "arQNieBsdO4T"
      },
      "execution_count": null,
      "outputs": []
    },
    {
      "cell_type": "code",
      "source": [
        "print(average(0,2))"
      ],
      "metadata": {
        "colab": {
          "base_uri": "https://localhost:8080/"
        },
        "id": "pMgc1vWQfj1S",
        "outputId": "567fca8a-5c52-4523-a46c-cb22c4e4ae27"
      },
      "execution_count": null,
      "outputs": [
        {
          "output_type": "stream",
          "name": "stdout",
          "text": [
            "8\n"
          ]
        }
      ]
    },
    {
      "cell_type": "markdown",
      "source": [
        "subs는 SymPy에서 제공하는 메서드로, 수학적 표현식 내의 기호를 다른 기호나 값으로 대체(substitute)하는 역할을 합니다. SymPy는 Python을 사용하여 기호적 수학을 다루는 라이브러리이며, subs 메서드는 이러한 기호적 대체 작업을 수행할 때 매우 유용합니다."
      ],
      "metadata": {
        "id": "CtbRYZe_fTiK"
      }
    },
    {
      "cell_type": "markdown",
      "source": [
        "subs 메서드의 의미와 사용법  \n",
        "subs 메서드는 다음과 같은 형식으로 사용됩니다:  \n",
        "\n",
        "\n",
        "expression.subs(old, new)  \n",
        "expression: 기호적 표현식 (SymPy의 Expr 객체)  \n",
        "old: 대체될 기호 (또는 값)  \n",
        "new: 대체할 기호 (또는 값)   \n",
        "이 메서드는 expression 내에서 old를 찾아 new로 대체합니다."
      ],
      "metadata": {
        "id": "N_d_RzyifY4p"
      }
    },
    {
      "cell_type": "code",
      "source": [
        "from sympy import symbols\n",
        "\n",
        "x = symbols('x')\n",
        "expression = 2*x**2 + 4*x + 7\n",
        "\n",
        "# x를 3으로 대체\n",
        "new_expression = expression.subs(x, 3)\n",
        "print(new_expression)  # 출력: 37\n"
      ],
      "metadata": {
        "colab": {
          "base_uri": "https://localhost:8080/"
        },
        "id": "KGP8ShcEfSWk",
        "outputId": "3895aea5-8cd9-4e77-8fee-03d035326dbc"
      },
      "execution_count": null,
      "outputs": [
        {
          "output_type": "stream",
          "name": "stdout",
          "text": [
            "37\n"
          ]
        }
      ]
    },
    {
      "cell_type": "code",
      "source": [
        "from sympy import Derivative, symbols"
      ],
      "metadata": {
        "id": "rcqSoieGeQO8"
      },
      "execution_count": null,
      "outputs": []
    },
    {
      "cell_type": "code",
      "source": [
        "x=symbols('x')\n",
        "fx=2*x**2+4*x+7"
      ],
      "metadata": {
        "id": "mCvMDuoHgLr1"
      },
      "execution_count": null,
      "outputs": []
    },
    {
      "cell_type": "code",
      "source": [
        "fprime=Derivative(fx,x).doit()"
      ],
      "metadata": {
        "id": "paBdbLgRgQ5b"
      },
      "execution_count": null,
      "outputs": []
    },
    {
      "cell_type": "code",
      "source": [
        "fprime"
      ],
      "metadata": {
        "colab": {
          "base_uri": "https://localhost:8080/",
          "height": 39
        },
        "id": "iqnSkIdMgV00",
        "outputId": "9ce8b930-3b3e-412f-c424-e7504e625afe"
      },
      "execution_count": null,
      "outputs": [
        {
          "output_type": "execute_result",
          "data": {
            "text/plain": [
              "4*x + 4"
            ],
            "text/latex": "$\\displaystyle 4 x + 4$"
          },
          "metadata": {},
          "execution_count": 27
        }
      ]
    },
    {
      "cell_type": "code",
      "source": [
        "n=fprime.subs({x:3})"
      ],
      "metadata": {
        "id": "odzXRYO2gWpd"
      },
      "execution_count": null,
      "outputs": []
    },
    {
      "cell_type": "code",
      "source": [
        "print('fx에서 x=3에서의 순간변화율(미분계수는)', n, '입니다.')"
      ],
      "metadata": {
        "colab": {
          "base_uri": "https://localhost:8080/"
        },
        "id": "ct3rnwZEgeGz",
        "outputId": "fe1e9d3f-cc05-4f1b-f75c-6f0165c6badf"
      },
      "execution_count": null,
      "outputs": [
        {
          "output_type": "stream",
          "name": "stdout",
          "text": [
            "fx에서 x=3에서의 순간변화율(미분계수는) 16 입니다.\n"
          ]
        }
      ]
    },
    {
      "cell_type": "markdown",
      "source": [
        "함수 f(x)=$2x^2-1$의 도함수를 구하세요. 또 이 도함수를 이용하여 f(x)에서 x=6에서의 미분계수를 구하세요"
      ],
      "metadata": {
        "id": "IPso060fhG2o"
      }
    },
    {
      "cell_type": "code",
      "source": [
        "from sympy import Derivative, symbols"
      ],
      "metadata": {
        "id": "AkIES-BvgncU"
      },
      "execution_count": null,
      "outputs": []
    },
    {
      "cell_type": "code",
      "source": [
        "x=symbols('x')\n",
        "fx=2*x**2-1"
      ],
      "metadata": {
        "id": "7rEGOygshihl"
      },
      "execution_count": null,
      "outputs": []
    },
    {
      "cell_type": "code",
      "source": [
        "Derivative(fx,x)"
      ],
      "metadata": {
        "colab": {
          "base_uri": "https://localhost:8080/",
          "height": 52
        },
        "id": "GMmHBYpPhlUF",
        "outputId": "3925b1e3-863c-4361-99a2-e5c9d601b10f"
      },
      "execution_count": null,
      "outputs": [
        {
          "output_type": "execute_result",
          "data": {
            "text/plain": [
              "Derivative(2*x**2 - 1, x)"
            ],
            "text/latex": "$\\displaystyle \\frac{d}{d x} \\left(2 x^{2} - 1\\right)$"
          },
          "metadata": {},
          "execution_count": 32
        }
      ]
    },
    {
      "cell_type": "code",
      "source": [
        "Derivative(fx,x).doit()"
      ],
      "metadata": {
        "colab": {
          "base_uri": "https://localhost:8080/",
          "height": 39
        },
        "id": "aXIIWp-jhoTt",
        "outputId": "86fd652a-f245-47a7-ef92-595fc72ac589"
      },
      "execution_count": null,
      "outputs": [
        {
          "output_type": "execute_result",
          "data": {
            "text/plain": [
              "4*x"
            ],
            "text/latex": "$\\displaystyle 4 x$"
          },
          "metadata": {},
          "execution_count": 33
        }
      ]
    },
    {
      "cell_type": "markdown",
      "source": [
        "![image.png](data:image/png;base64,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)"
      ],
      "metadata": {
        "id": "rMjPwpDFh6WK"
      }
    },
    {
      "cell_type": "markdown",
      "source": [
        "$y=(5x+2)(x^2-3)$ 함수를 미분하면"
      ],
      "metadata": {
        "id": "LyOzOGNTiB5D"
      }
    },
    {
      "cell_type": "code",
      "source": [
        "import sympy  as sym"
      ],
      "metadata": {
        "id": "pPwKW1noiFxZ"
      },
      "execution_count": null,
      "outputs": []
    },
    {
      "cell_type": "code",
      "source": [
        "x=sym.Symbol('x')\n"
      ],
      "metadata": {
        "id": "LH2kW6TviI8a"
      },
      "execution_count": null,
      "outputs": []
    },
    {
      "cell_type": "code",
      "source": [
        "a=sym.diff(((5*x+2)*(x**2-3)),x)"
      ],
      "metadata": {
        "id": "KkJ9R_-UjlF5"
      },
      "execution_count": null,
      "outputs": []
    },
    {
      "cell_type": "code",
      "source": [
        "print(a)"
      ],
      "metadata": {
        "colab": {
          "base_uri": "https://localhost:8080/"
        },
        "id": "5nRLVTDsi6KC",
        "outputId": "e75d8cbd-603b-4b83-8fba-724c4bb9b63c"
      },
      "execution_count": null,
      "outputs": [
        {
          "output_type": "stream",
          "name": "stdout",
          "text": [
            "5*x**2 + 2*x*(5*x + 2) - 15\n"
          ]
        }
      ]
    },
    {
      "cell_type": "markdown",
      "source": [
        "$y=(2x+1)(3x^2+2x)$ 함수를 미분하면"
      ],
      "metadata": {
        "id": "tj7_sWpix5Jn"
      }
    },
    {
      "cell_type": "code",
      "source": [
        "x=sym.Symbol('x')"
      ],
      "metadata": {
        "id": "B93Wv7XajqrS"
      },
      "execution_count": null,
      "outputs": []
    },
    {
      "cell_type": "code",
      "source": [
        "a2=sym.diff(((2*x+1)*(3*x**2+2*x)),x)"
      ],
      "metadata": {
        "id": "K2PVwtg8yC8A"
      },
      "execution_count": null,
      "outputs": []
    },
    {
      "cell_type": "code",
      "source": [
        "print(a2)"
      ],
      "metadata": {
        "colab": {
          "base_uri": "https://localhost:8080/"
        },
        "id": "20riUdHByTDv",
        "outputId": "0ba97132-106d-4103-9630-42d72e3242f3"
      },
      "execution_count": null,
      "outputs": [
        {
          "output_type": "stream",
          "name": "stdout",
          "text": [
            "6*x**2 + 4*x + (2*x + 1)*(6*x + 2)\n"
          ]
        }
      ]
    },
    {
      "cell_type": "markdown",
      "source": [
        "$y=(x-1)(x^2+3x+1)$ 함수를 미분하면"
      ],
      "metadata": {
        "id": "bOiPtZLxyguo"
      }
    },
    {
      "cell_type": "code",
      "source": [
        "x=sym.Symbol('x')"
      ],
      "metadata": {
        "id": "jlvtqxpByoRA"
      },
      "execution_count": null,
      "outputs": []
    },
    {
      "cell_type": "code",
      "source": [
        "a3=sym.diff(((x-1)*(x**2+3*x+1)),x)"
      ],
      "metadata": {
        "id": "n_6jDzjtyqQv"
      },
      "execution_count": null,
      "outputs": []
    },
    {
      "cell_type": "code",
      "source": [
        "print(a3)"
      ],
      "metadata": {
        "colab": {
          "base_uri": "https://localhost:8080/"
        },
        "id": "HDCy1J9Ty1Lm",
        "outputId": "101a5691-48b8-4acf-9057-39b8eaf3df60"
      },
      "execution_count": null,
      "outputs": [
        {
          "output_type": "stream",
          "name": "stdout",
          "text": [
            "x**2 + 3*x + (x - 1)*(2*x + 3) + 1\n"
          ]
        }
      ]
    },
    {
      "cell_type": "markdown",
      "source": [
        "# 선형대수\n",
        "## 벡터와 공간"
      ],
      "metadata": {
        "id": "q0PvQIQiKhuN"
      }
    },
    {
      "cell_type": "code",
      "source": [
        "import numpy as np"
      ],
      "metadata": {
        "id": "GnQcUTvny2_o"
      },
      "execution_count": null,
      "outputs": []
    },
    {
      "cell_type": "code",
      "source": [
        "x=np.array([1,2,3])"
      ],
      "metadata": {
        "id": "vWx3vk0KLCj-"
      },
      "execution_count": null,
      "outputs": []
    },
    {
      "cell_type": "code",
      "source": [
        "x"
      ],
      "metadata": {
        "colab": {
          "base_uri": "https://localhost:8080/"
        },
        "id": "ZF1isQhJLGQ9",
        "outputId": "d6448a27-a80d-44e4-cfab-497c4c2b45a4"
      },
      "execution_count": null,
      "outputs": [
        {
          "output_type": "execute_result",
          "data": {
            "text/plain": [
              "array([1, 2, 3])"
            ]
          },
          "metadata": {},
          "execution_count": 3
        }
      ]
    },
    {
      "cell_type": "code",
      "source": [
        "A=np.array([[1,2,3],[4,5,6]])"
      ],
      "metadata": {
        "id": "-hqxvJrBLGlc"
      },
      "execution_count": null,
      "outputs": []
    },
    {
      "cell_type": "code",
      "source": [
        "A"
      ],
      "metadata": {
        "colab": {
          "base_uri": "https://localhost:8080/"
        },
        "id": "Gjpnamc2LO17",
        "outputId": "bf9d613c-d361-4bff-f68c-25064cd0d504"
      },
      "execution_count": null,
      "outputs": [
        {
          "output_type": "execute_result",
          "data": {
            "text/plain": [
              "array([[1, 2, 3],\n",
              "       [4, 5, 6]])"
            ]
          },
          "metadata": {},
          "execution_count": 9
        }
      ]
    },
    {
      "cell_type": "code",
      "source": [
        "# 행벡터"
      ],
      "metadata": {
        "id": "LPrs0GIMLRXT"
      },
      "execution_count": null,
      "outputs": []
    },
    {
      "cell_type": "code",
      "source": [
        "x_row=np.array([[1,2,3]])"
      ],
      "metadata": {
        "id": "Y1m_Q8IlLVSI"
      },
      "execution_count": null,
      "outputs": []
    },
    {
      "cell_type": "code",
      "source": [
        "x_row"
      ],
      "metadata": {
        "colab": {
          "base_uri": "https://localhost:8080/"
        },
        "id": "7DDaGngSLdWj",
        "outputId": "db83e623-8959-46bf-c2e3-f3828c3f2891"
      },
      "execution_count": null,
      "outputs": [
        {
          "output_type": "execute_result",
          "data": {
            "text/plain": [
              "array([[1, 2, 3]])"
            ]
          },
          "metadata": {},
          "execution_count": 13
        }
      ]
    },
    {
      "cell_type": "code",
      "source": [
        "# 열벡터\n",
        "x_column=np.array([[1],[2],[3]])"
      ],
      "metadata": {
        "id": "5JTqhRUCLhmz"
      },
      "execution_count": null,
      "outputs": []
    },
    {
      "cell_type": "code",
      "source": [
        "x_column"
      ],
      "metadata": {
        "colab": {
          "base_uri": "https://localhost:8080/"
        },
        "id": "BSVrgwK9LnW0",
        "outputId": "fba2085c-8112-4255-9cfe-aa48500f2d05"
      },
      "execution_count": null,
      "outputs": [
        {
          "output_type": "execute_result",
          "data": {
            "text/plain": [
              "array([[1],\n",
              "       [2],\n",
              "       [3]])"
            ]
          },
          "metadata": {},
          "execution_count": 15
        }
      ]
    },
    {
      "cell_type": "code",
      "source": [
        "vec1=np.array([[3],[2]])"
      ],
      "metadata": {
        "id": "_pqoVmb3Lofa"
      },
      "execution_count": null,
      "outputs": []
    },
    {
      "cell_type": "code",
      "source": [
        "vec1"
      ],
      "metadata": {
        "colab": {
          "base_uri": "https://localhost:8080/"
        },
        "id": "adFLwcbkMY1k",
        "outputId": "9efa5868-eead-4a34-f8b4-1e09584e66ab"
      },
      "execution_count": null,
      "outputs": [
        {
          "output_type": "execute_result",
          "data": {
            "text/plain": [
              "array([[3],\n",
              "       [2]])"
            ]
          },
          "metadata": {},
          "execution_count": 17
        }
      ]
    },
    {
      "cell_type": "code",
      "source": [
        "# 크기"
      ],
      "metadata": {
        "id": "KXAYuRy9MZpT"
      },
      "execution_count": null,
      "outputs": []
    },
    {
      "cell_type": "code",
      "source": [
        "vec1[0]"
      ],
      "metadata": {
        "colab": {
          "base_uri": "https://localhost:8080/"
        },
        "id": "hG9mdsk0MozB",
        "outputId": "24888606-917a-4d57-b184-f22b4a7699ad"
      },
      "execution_count": null,
      "outputs": [
        {
          "output_type": "execute_result",
          "data": {
            "text/plain": [
              "array([3])"
            ]
          },
          "metadata": {},
          "execution_count": 20
        }
      ]
    },
    {
      "cell_type": "code",
      "source": [
        "np.sqrt(vec1[0]**2 + vec1[1]**2)"
      ],
      "metadata": {
        "colab": {
          "base_uri": "https://localhost:8080/"
        },
        "id": "BoZaxjthMiBs",
        "outputId": "2f642bb9-d4a8-4b04-c733-b52880c7b0f2"
      },
      "execution_count": null,
      "outputs": [
        {
          "output_type": "execute_result",
          "data": {
            "text/plain": [
              "array([3.60555128])"
            ]
          },
          "metadata": {},
          "execution_count": 21
        }
      ]
    },
    {
      "cell_type": "code",
      "source": [
        "np.linalg.norm(vec1)"
      ],
      "metadata": {
        "colab": {
          "base_uri": "https://localhost:8080/"
        },
        "id": "coz6ccNwMbQN",
        "outputId": "f445914f-a8eb-4cb9-971a-49f81f9c1e01"
      },
      "execution_count": null,
      "outputs": [
        {
          "output_type": "execute_result",
          "data": {
            "text/plain": [
              "3.605551275463989"
            ]
          },
          "metadata": {},
          "execution_count": 19
        }
      ]
    },
    {
      "cell_type": "code",
      "source": [
        "# 방향"
      ],
      "metadata": {
        "id": "UWvAEcyWMfQs"
      },
      "execution_count": null,
      "outputs": []
    },
    {
      "cell_type": "code",
      "source": [
        "np.arctan2(vec1[0],vec1[1])"
      ],
      "metadata": {
        "colab": {
          "base_uri": "https://localhost:8080/"
        },
        "id": "DLRqVfrJMzqn",
        "outputId": "8da69d64-61f4-4f76-8814-cdd578ef246e"
      },
      "execution_count": null,
      "outputs": [
        {
          "output_type": "execute_result",
          "data": {
            "text/plain": [
              "array([0.98279372])"
            ]
          },
          "metadata": {},
          "execution_count": 24
        }
      ]
    },
    {
      "cell_type": "markdown",
      "source": [
        "$\\theta = arctan(\\frac{3}{2})$ 는 약 0.9828 라디안"
      ],
      "metadata": {
        "id": "jQnd6UL0NVgG"
      }
    },
    {
      "cell_type": "markdown",
      "source": [
        " 도 단위로 바꾸면"
      ],
      "metadata": {
        "id": "n82VWxIXOAdK"
      }
    },
    {
      "cell_type": "code",
      "source": [
        "0.9828 * (180/np.pi)"
      ],
      "metadata": {
        "colab": {
          "base_uri": "https://localhost:8080/"
        },
        "id": "ndxtSMwwM8Ny",
        "outputId": "5ac83a5b-aafe-4cdf-bb8d-167ac64c65b7"
      },
      "execution_count": null,
      "outputs": [
        {
          "output_type": "execute_result",
          "data": {
            "text/plain": [
              "56.31029210545731"
            ]
          },
          "metadata": {},
          "execution_count": 26
        }
      ]
    },
    {
      "cell_type": "markdown",
      "source": [
        "약 56.31도"
      ],
      "metadata": {
        "id": "H37lhvj4OX9F"
      }
    },
    {
      "cell_type": "code",
      "source": [
        "# 단위벡터 구하기"
      ],
      "metadata": {
        "id": "Jz8WtecOOJMa"
      },
      "execution_count": 3,
      "outputs": []
    },
    {
      "cell_type": "code",
      "source": [
        "import numpy as np"
      ],
      "metadata": {
        "id": "oy0mprcGSAIq"
      },
      "execution_count": 4,
      "outputs": []
    },
    {
      "cell_type": "code",
      "source": [
        "from scipy import linalg"
      ],
      "metadata": {
        "id": "DK1BV6tsSC8d"
      },
      "execution_count": 7,
      "outputs": []
    },
    {
      "cell_type": "code",
      "source": [
        "s=np.array([2,3,1])"
      ],
      "metadata": {
        "id": "T02UNsbgSGF0"
      },
      "execution_count": 8,
      "outputs": []
    },
    {
      "cell_type": "code",
      "source": [
        "# 단위 벡터를 위해 두가지 방법을 사용\n",
        "# numpy의 서브 패키지인 linalg.norm()을 사용하여 벡터의 크기를 계산한 후 기존 벡터로 나누어 줌"
      ],
      "metadata": {
        "id": "TNNQj7jLSRvM"
      },
      "execution_count": 10,
      "outputs": []
    },
    {
      "cell_type": "code",
      "source": [
        "np.sqrt(2**2 + 3**2 + 1**2)"
      ],
      "metadata": {
        "colab": {
          "base_uri": "https://localhost:8080/"
        },
        "id": "wZDkw8xOSVm5",
        "outputId": "63f643d1-439c-47b2-816e-3a7885d58ee2"
      },
      "execution_count": 13,
      "outputs": [
        {
          "output_type": "execute_result",
          "data": {
            "text/plain": [
              "3.7416573867739413"
            ]
          },
          "metadata": {},
          "execution_count": 13
        }
      ]
    },
    {
      "cell_type": "code",
      "source": [
        "div=np.sqrt(2**2 + 3**2 + 1**2)"
      ],
      "metadata": {
        "id": "EnYAWaa5Stpw"
      },
      "execution_count": 14,
      "outputs": []
    },
    {
      "cell_type": "code",
      "source": [
        "s/div"
      ],
      "metadata": {
        "colab": {
          "base_uri": "https://localhost:8080/"
        },
        "id": "Bl56ZuMtTJtO",
        "outputId": "a3ca839f-c876-48e8-fcd0-6f1010af59d2"
      },
      "execution_count": 15,
      "outputs": [
        {
          "output_type": "execute_result",
          "data": {
            "text/plain": [
              "array([0.53452248, 0.80178373, 0.26726124])"
            ]
          },
          "metadata": {},
          "execution_count": 15
        }
      ]
    },
    {
      "cell_type": "code",
      "source": [
        "linalg.norm(s)"
      ],
      "metadata": {
        "colab": {
          "base_uri": "https://localhost:8080/"
        },
        "id": "Y8OWmKBpTO5p",
        "outputId": "b7c241d0-257e-4070-aef6-b5c41aca57cd"
      },
      "execution_count": 16,
      "outputs": [
        {
          "output_type": "execute_result",
          "data": {
            "text/plain": [
              "3.7416573867739413"
            ]
          },
          "metadata": {},
          "execution_count": 16
        }
      ]
    },
    {
      "cell_type": "code",
      "source": [
        "# 정규화(벡터를 단위벡터로 변환)"
      ],
      "metadata": {
        "id": "SmEDfuoAUcGq"
      },
      "execution_count": 22,
      "outputs": []
    },
    {
      "cell_type": "code",
      "source": [
        " s / linalg.norm(s)"
      ],
      "metadata": {
        "colab": {
          "base_uri": "https://localhost:8080/"
        },
        "id": "MZ7I1ENCTSTl",
        "outputId": "e0bd8f51-218b-440f-a5fc-9d145f517bdc"
      },
      "execution_count": 17,
      "outputs": [
        {
          "output_type": "execute_result",
          "data": {
            "text/plain": [
              "array([0.53452248, 0.80178373, 0.26726124])"
            ]
          },
          "metadata": {},
          "execution_count": 17
        }
      ]
    },
    {
      "cell_type": "markdown",
      "source": [
        "![image.png](data:image/png;base64,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)"
      ],
      "metadata": {
        "id": "2l-BEGiGTvWe"
      }
    },
    {
      "cell_type": "code",
      "source": [
        "# (1)"
      ],
      "metadata": {
        "id": "kvDUOvP7TafL"
      },
      "execution_count": 18,
      "outputs": []
    },
    {
      "cell_type": "code",
      "source": [
        "v1=np.array([1,-3])"
      ],
      "metadata": {
        "id": "DovYeat8Tyrx"
      },
      "execution_count": 19,
      "outputs": []
    },
    {
      "cell_type": "code",
      "source": [
        "v1 / linalg.norm(v1)"
      ],
      "metadata": {
        "colab": {
          "base_uri": "https://localhost:8080/"
        },
        "id": "rS2YwZ9RT6Yq",
        "outputId": "26d5da17-40d5-486b-c0ba-50fa4dccfde1"
      },
      "execution_count": 20,
      "outputs": [
        {
          "output_type": "execute_result",
          "data": {
            "text/plain": [
              "array([ 0.31622777, -0.9486833 ])"
            ]
          },
          "metadata": {},
          "execution_count": 20
        }
      ]
    },
    {
      "cell_type": "code",
      "source": [
        "v2=np.array([-6,-8])\n",
        "v2 / linalg.norm(v2)"
      ],
      "metadata": {
        "colab": {
          "base_uri": "https://localhost:8080/"
        },
        "id": "dgwj9D5mT-6P",
        "outputId": "709e7c7c-983c-4a50-ce5f-fe405e98b82c"
      },
      "execution_count": 23,
      "outputs": [
        {
          "output_type": "execute_result",
          "data": {
            "text/plain": [
              "array([-0.6, -0.8])"
            ]
          },
          "metadata": {},
          "execution_count": 23
        }
      ]
    },
    {
      "cell_type": "code",
      "source": [
        "v3=np.array([-5,-4])\n",
        "v3 / linalg.norm(v3)"
      ],
      "metadata": {
        "colab": {
          "base_uri": "https://localhost:8080/"
        },
        "id": "VIOivQW5UJQ7",
        "outputId": "abb3204c-e534-43b3-f319-34666141ba1d"
      },
      "execution_count": 24,
      "outputs": [
        {
          "output_type": "execute_result",
          "data": {
            "text/plain": [
              "array([-0.78086881, -0.62469505])"
            ]
          },
          "metadata": {},
          "execution_count": 24
        }
      ]
    },
    {
      "cell_type": "code",
      "source": [
        "# 영 벡터"
      ],
      "metadata": {
        "id": "i5yU079DUsS9"
      },
      "execution_count": 1,
      "outputs": []
    },
    {
      "cell_type": "code",
      "source": [
        "import numpy as np"
      ],
      "metadata": {
        "id": "8gLIyxYEQjQj"
      },
      "execution_count": 2,
      "outputs": []
    },
    {
      "cell_type": "code",
      "source": [
        "np.zeros(5)"
      ],
      "metadata": {
        "colab": {
          "base_uri": "https://localhost:8080/"
        },
        "id": "uVUsE-doQo0o",
        "outputId": "8f657652-ea9e-4334-c2dd-e59be1be8fd6"
      },
      "execution_count": 3,
      "outputs": [
        {
          "output_type": "execute_result",
          "data": {
            "text/plain": [
              "array([0., 0., 0., 0., 0.])"
            ]
          },
          "metadata": {},
          "execution_count": 3
        }
      ]
    },
    {
      "cell_type": "code",
      "source": [
        "np.zeros(5).shape"
      ],
      "metadata": {
        "colab": {
          "base_uri": "https://localhost:8080/"
        },
        "id": "Iaa3O-iuQsPh",
        "outputId": "5b20f202-234f-4233-bba0-381153082239"
      },
      "execution_count": 4,
      "outputs": [
        {
          "output_type": "execute_result",
          "data": {
            "text/plain": [
              "(5,)"
            ]
          },
          "metadata": {},
          "execution_count": 4
        }
      ]
    },
    {
      "cell_type": "code",
      "source": [
        "np.zeros((2,2))"
      ],
      "metadata": {
        "colab": {
          "base_uri": "https://localhost:8080/"
        },
        "id": "JnhalCQzQwxh",
        "outputId": "dbcab25d-2285-449d-944f-9dec21d3c8f8"
      },
      "execution_count": 5,
      "outputs": [
        {
          "output_type": "execute_result",
          "data": {
            "text/plain": [
              "array([[0., 0.],\n",
              "       [0., 0.]])"
            ]
          },
          "metadata": {},
          "execution_count": 5
        }
      ]
    },
    {
      "cell_type": "code",
      "source": [
        "# 선형 결합과 생성"
      ],
      "metadata": {
        "id": "_XCDMx7TQ0dp"
      },
      "execution_count": 6,
      "outputs": []
    },
    {
      "cell_type": "code",
      "source": [
        "# 파이썬에는 선형 결합을 할 수 있는 함수가 없기 때문에 일반 연산으로 원하는 결과를\n",
        "# 얻어야 합니다."
      ],
      "metadata": {
        "id": "Fe-asYcwSb-B"
      },
      "execution_count": 7,
      "outputs": []
    },
    {
      "cell_type": "code",
      "source": [
        "a=np.array([2,4])\n",
        "b=np.array([1,6])"
      ],
      "metadata": {
        "id": "KHuKA1HKSm8a"
      },
      "execution_count": 8,
      "outputs": []
    },
    {
      "cell_type": "code",
      "source": [
        "c=(4*a) + ((-3)*b)\n",
        "print(c)"
      ],
      "metadata": {
        "colab": {
          "base_uri": "https://localhost:8080/"
        },
        "id": "0ogHknkPSvSM",
        "outputId": "78a7edf8-8dc6-4740-90b8-1ae8b6c27b92"
      },
      "execution_count": 9,
      "outputs": [
        {
          "output_type": "stream",
          "name": "stdout",
          "text": [
            "[ 5 -2]\n"
          ]
        }
      ]
    },
    {
      "cell_type": "code",
      "source": [
        "# 랭크"
      ],
      "metadata": {
        "id": "AifelFvuolwo"
      },
      "execution_count": 1,
      "outputs": []
    },
    {
      "cell_type": "markdown",
      "source": [
        "![image.png](data:image/png;base64,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)"
      ],
      "metadata": {
        "id": "h2kaC3eloijk"
      }
    },
    {
      "cell_type": "code",
      "source": [
        "import numpy as np"
      ],
      "metadata": {
        "id": "vk4kkyTyS6bK"
      },
      "execution_count": 2,
      "outputs": []
    },
    {
      "cell_type": "code",
      "source": [
        "X1=np.array([[2,7],[5,1]])"
      ],
      "metadata": {
        "id": "YquIUMXro5Xa"
      },
      "execution_count": 3,
      "outputs": []
    },
    {
      "cell_type": "code",
      "source": [
        "np.linalg.matrix_rank(X1)"
      ],
      "metadata": {
        "colab": {
          "base_uri": "https://localhost:8080/"
        },
        "id": "WVZSx4rHo-7K",
        "outputId": "5c7b96dc-a986-42b7-d20f-35d7f50e15ba"
      },
      "execution_count": 4,
      "outputs": [
        {
          "output_type": "execute_result",
          "data": {
            "text/plain": [
              "2"
            ]
          },
          "metadata": {},
          "execution_count": 4
        }
      ]
    },
    {
      "cell_type": "code",
      "source": [
        "X2=np.array([[2,4],[3,6]])\n",
        "np.linalg.matrix_rank(X2)"
      ],
      "metadata": {
        "colab": {
          "base_uri": "https://localhost:8080/"
        },
        "id": "tXRHK9rGpEmx",
        "outputId": "ee97aa32-b67e-4a64-aa6b-dc6bf8536c1b"
      },
      "execution_count": 5,
      "outputs": [
        {
          "output_type": "execute_result",
          "data": {
            "text/plain": [
              "1"
            ]
          },
          "metadata": {},
          "execution_count": 5
        }
      ]
    },
    {
      "cell_type": "code",
      "source": [
        "# 벡터 덧셈"
      ],
      "metadata": {
        "id": "_SqWzQHPpTLy"
      },
      "execution_count": 6,
      "outputs": []
    },
    {
      "cell_type": "code",
      "source": [
        "x=[2,3]\n",
        "y=[3,1]\n",
        "z=[i+j for i, j in zip(x,y)]"
      ],
      "metadata": {
        "id": "dX20CYz0vb3e"
      },
      "execution_count": 7,
      "outputs": []
    },
    {
      "cell_type": "code",
      "source": [
        "z"
      ],
      "metadata": {
        "colab": {
          "base_uri": "https://localhost:8080/"
        },
        "id": "ro7jj_GSvmIe",
        "outputId": "27845273-267b-43ca-e99c-5befd6f5c3f7"
      },
      "execution_count": 8,
      "outputs": [
        {
          "output_type": "execute_result",
          "data": {
            "text/plain": [
              "[5, 4]"
            ]
          },
          "metadata": {},
          "execution_count": 8
        }
      ]
    },
    {
      "cell_type": "code",
      "source": [
        "# zip\n",
        "# zip(*iterable)은 동일한 개수로 된 자료형을 묶어 주는 역할을 하는 함수"
      ],
      "metadata": {
        "id": "L3TK2tk0vmpw"
      },
      "execution_count": 9,
      "outputs": []
    },
    {
      "cell_type": "code",
      "source": [
        "list(zip([1,2,3],[4,5,6]))"
      ],
      "metadata": {
        "colab": {
          "base_uri": "https://localhost:8080/"
        },
        "id": "Jgcl_X6Cv7Bs",
        "outputId": "82045807-ffbc-4a46-f284-fd6b92df655f"
      },
      "execution_count": 10,
      "outputs": [
        {
          "output_type": "execute_result",
          "data": {
            "text/plain": [
              "[(1, 4), (2, 5), (3, 6)]"
            ]
          },
          "metadata": {},
          "execution_count": 10
        }
      ]
    },
    {
      "cell_type": "code",
      "source": [
        "list(zip([1,2,3],[4,5,6],[7,8,9]))"
      ],
      "metadata": {
        "colab": {
          "base_uri": "https://localhost:8080/"
        },
        "id": "Ezi49EUZv_lZ",
        "outputId": "b933a36c-bd4b-4833-9b68-cc49a4cb3ecd"
      },
      "execution_count": 11,
      "outputs": [
        {
          "output_type": "execute_result",
          "data": {
            "text/plain": [
              "[(1, 4, 7), (2, 5, 8), (3, 6, 9)]"
            ]
          },
          "metadata": {},
          "execution_count": 11
        }
      ]
    },
    {
      "cell_type": "code",
      "source": [
        "# numpy를 이용한 벡터의 덧셈"
      ],
      "metadata": {
        "id": "N-1hjAxiwD7R"
      },
      "execution_count": 12,
      "outputs": []
    },
    {
      "cell_type": "code",
      "source": [
        "import numpy as np"
      ],
      "metadata": {
        "id": "SLng9C1cwIjs"
      },
      "execution_count": 13,
      "outputs": []
    },
    {
      "cell_type": "code",
      "source": [
        "u=np.array(x)\n",
        "v=np.array(y)"
      ],
      "metadata": {
        "id": "XKqfNVwPwMEG"
      },
      "execution_count": 14,
      "outputs": []
    },
    {
      "cell_type": "code",
      "source": [
        "w=u+v"
      ],
      "metadata": {
        "id": "5n7yxxSnwR6F"
      },
      "execution_count": 15,
      "outputs": []
    },
    {
      "cell_type": "code",
      "source": [
        "w"
      ],
      "metadata": {
        "colab": {
          "base_uri": "https://localhost:8080/"
        },
        "id": "yeMipvoiwTSo",
        "outputId": "0e95d5a4-7695-4cca-8cc5-09f4652979ad"
      },
      "execution_count": 16,
      "outputs": [
        {
          "output_type": "execute_result",
          "data": {
            "text/plain": [
              "array([5, 4])"
            ]
          },
          "metadata": {},
          "execution_count": 16
        }
      ]
    },
    {
      "cell_type": "code",
      "source": [
        "# numpy를 이용한 벡터의 뺄셈"
      ],
      "metadata": {
        "id": "wkTV78CCwTvS"
      },
      "execution_count": 17,
      "outputs": []
    },
    {
      "cell_type": "code",
      "source": [
        "w=u-v"
      ],
      "metadata": {
        "id": "ttyoAylZw2BW"
      },
      "execution_count": 18,
      "outputs": []
    },
    {
      "cell_type": "code",
      "source": [
        "w"
      ],
      "metadata": {
        "colab": {
          "base_uri": "https://localhost:8080/"
        },
        "id": "Z-vwKy4bw4fG",
        "outputId": "3144a66a-fff2-446c-dc93-439dea9bdd82"
      },
      "execution_count": 19,
      "outputs": [
        {
          "output_type": "execute_result",
          "data": {
            "text/plain": [
              "array([-1,  2])"
            ]
          },
          "metadata": {},
          "execution_count": 19
        }
      ]
    },
    {
      "cell_type": "code",
      "source": [
        "# 벡터의 곱셈은 크게 내적과 외적으로 구분"
      ],
      "metadata": {
        "id": "BizEQkWEw5cO"
      },
      "execution_count": null,
      "outputs": []
    },
    {
      "cell_type": "markdown",
      "source": [
        "![image.png](data:image/png;base64,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)"
      ],
      "metadata": {
        "id": "L_tlxhY3xPA2"
      }
    },
    {
      "cell_type": "code",
      "source": [
        "# 스칼라 곱셈"
      ],
      "metadata": {
        "id": "FBsJM6KRxOBe"
      },
      "execution_count": 20,
      "outputs": []
    },
    {
      "cell_type": "code",
      "source": [
        "u=np.array([3,4])\n",
        "c=8"
      ],
      "metadata": {
        "id": "bU6v2VLOxeht"
      },
      "execution_count": 22,
      "outputs": []
    },
    {
      "cell_type": "code",
      "source": [
        "w=u*c"
      ],
      "metadata": {
        "id": "_316rTr-xhSQ"
      },
      "execution_count": 23,
      "outputs": []
    },
    {
      "cell_type": "code",
      "source": [
        "w"
      ],
      "metadata": {
        "colab": {
          "base_uri": "https://localhost:8080/"
        },
        "id": "fgO44wFdxpMe",
        "outputId": "4a92d5b2-67cb-4454-c761-4a6efe054a16"
      },
      "execution_count": 24,
      "outputs": [
        {
          "output_type": "execute_result",
          "data": {
            "text/plain": [
              "array([24, 32])"
            ]
          },
          "metadata": {},
          "execution_count": 24
        }
      ]
    },
    {
      "cell_type": "code",
      "source": [
        "# 벡터의 내적"
      ],
      "metadata": {
        "id": "FSwBK5QNxpku"
      },
      "execution_count": 25,
      "outputs": []
    },
    {
      "cell_type": "markdown",
      "source": [
        "![image.png](data:image/png;base64,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)"
      ],
      "metadata": {
        "id": "IW15WOY-xxIo"
      }
    },
    {
      "cell_type": "code",
      "source": [],
      "metadata": {
        "id": "667zTSnhxyK4"
      },
      "execution_count": null,
      "outputs": []
    }
  ]
}