{
  "cells": [
    {
      "cell_type": "markdown",
      "metadata": {
        "id": "view-in-github",
        "colab_type": "text"
      },
      "source": [
        "<a href=\"https://colab.research.google.com/github/hayaboy/ADP_Practical_Exam/blob/main/3_4%EC%A4%91%EB%B3%B5%EB%8D%B0%EC%9D%B4%ED%84%B0%ED%99%95%EC%9D%B8%EB%B0%8F%EC%B2%98%EB%A6%AC.ipynb\" target=\"_parent\"><img src=\"https://colab.research.google.com/assets/colab-badge.svg\" alt=\"Open In Colab\"/></a>"
      ]
    },
    {
      "cell_type": "code",
      "execution_count": null,
      "id": "607016e0-2d0b-43a5-b6b8-1c390c5fc038",
      "metadata": {
        "id": "607016e0-2d0b-43a5-b6b8-1c390c5fc038"
      },
      "outputs": [],
      "source": [
        "import pandas as pd"
      ]
    },
    {
      "cell_type": "code",
      "execution_count": null,
      "id": "065db3dd-6353-47ec-b899-292623dbda35",
      "metadata": {
        "id": "065db3dd-6353-47ec-b899-292623dbda35"
      },
      "outputs": [],
      "source": [
        "df=pd.DataFrame({'c1':['a','a','b','a','b'],\n",
        "                'c2':[1,1,1,2,2],\n",
        "                 'c3':[1,1,2,2,2]}\n",
        "               )"
      ]
    },
    {
      "cell_type": "code",
      "execution_count": null,
      "id": "e60e4601-d7fb-4ca0-9853-375867cb7005",
      "metadata": {
        "id": "e60e4601-d7fb-4ca0-9853-375867cb7005",
        "outputId": "96a5db4b-5a8a-4f72-8a78-abe8d64ec021"
      },
      "outputs": [
        {
          "data": {
            "text/html": [
              "<div>\n",
              "<style scoped>\n",
              "    .dataframe tbody tr th:only-of-type {\n",
              "        vertical-align: middle;\n",
              "    }\n",
              "\n",
              "    .dataframe tbody tr th {\n",
              "        vertical-align: top;\n",
              "    }\n",
              "\n",
              "    .dataframe thead th {\n",
              "        text-align: right;\n",
              "    }\n",
              "</style>\n",
              "<table border=\"1\" class=\"dataframe\">\n",
              "  <thead>\n",
              "    <tr style=\"text-align: right;\">\n",
              "      <th></th>\n",
              "      <th>c1</th>\n",
              "      <th>c2</th>\n",
              "      <th>c3</th>\n",
              "    </tr>\n",
              "  </thead>\n",
              "  <tbody>\n",
              "    <tr>\n",
              "      <th>0</th>\n",
              "      <td>a</td>\n",
              "      <td>1</td>\n",
              "      <td>1</td>\n",
              "    </tr>\n",
              "    <tr>\n",
              "      <th>1</th>\n",
              "      <td>a</td>\n",
              "      <td>1</td>\n",
              "      <td>1</td>\n",
              "    </tr>\n",
              "    <tr>\n",
              "      <th>2</th>\n",
              "      <td>b</td>\n",
              "      <td>1</td>\n",
              "      <td>2</td>\n",
              "    </tr>\n",
              "    <tr>\n",
              "      <th>3</th>\n",
              "      <td>a</td>\n",
              "      <td>2</td>\n",
              "      <td>2</td>\n",
              "    </tr>\n",
              "    <tr>\n",
              "      <th>4</th>\n",
              "      <td>b</td>\n",
              "      <td>2</td>\n",
              "      <td>2</td>\n",
              "    </tr>\n",
              "  </tbody>\n",
              "</table>\n",
              "</div>"
            ],
            "text/plain": [
              "  c1  c2  c3\n",
              "0  a   1   1\n",
              "1  a   1   1\n",
              "2  b   1   2\n",
              "3  a   2   2\n",
              "4  b   2   2"
            ]
          },
          "execution_count": 4,
          "metadata": {},
          "output_type": "execute_result"
        }
      ],
      "source": [
        "df"
      ]
    },
    {
      "cell_type": "code",
      "execution_count": null,
      "id": "3085840a-fd4f-4470-9111-6163474f5b2e",
      "metadata": {
        "id": "3085840a-fd4f-4470-9111-6163474f5b2e"
      },
      "outputs": [],
      "source": [
        "df_dup=df.duplicated()"
      ]
    },
    {
      "cell_type": "code",
      "execution_count": null,
      "id": "a50f480a-2bf4-43ae-9a51-071136cadf8f",
      "metadata": {
        "id": "a50f480a-2bf4-43ae-9a51-071136cadf8f",
        "outputId": "e07c4395-7965-411f-8d90-3a31a5a49599"
      },
      "outputs": [
        {
          "data": {
            "text/plain": [
              "0    False\n",
              "1     True\n",
              "2    False\n",
              "3    False\n",
              "4    False\n",
              "dtype: bool"
            ]
          },
          "execution_count": 6,
          "metadata": {},
          "output_type": "execute_result"
        }
      ],
      "source": [
        "df_dup"
      ]
    },
    {
      "cell_type": "code",
      "execution_count": null,
      "id": "f75ae76d-21f7-48bb-8c7a-56e3fd577fd2",
      "metadata": {
        "id": "f75ae76d-21f7-48bb-8c7a-56e3fd577fd2"
      },
      "outputs": [],
      "source": [
        "col_dup=df['c2'].duplicated()"
      ]
    },
    {
      "cell_type": "code",
      "execution_count": null,
      "id": "f1a1f504-8e22-42e3-a221-2416754bbf1e",
      "metadata": {
        "id": "f1a1f504-8e22-42e3-a221-2416754bbf1e",
        "outputId": "bd2ba0dd-88fe-46b0-da03-1ae4ee577651"
      },
      "outputs": [
        {
          "data": {
            "text/plain": [
              "0    False\n",
              "1     True\n",
              "2     True\n",
              "3    False\n",
              "4     True\n",
              "Name: c2, dtype: bool"
            ]
          },
          "execution_count": 8,
          "metadata": {},
          "output_type": "execute_result"
        }
      ],
      "source": [
        "col_dup"
      ]
    },
    {
      "cell_type": "code",
      "execution_count": null,
      "id": "88c5095a-f291-46ec-8115-92a46d6480ee",
      "metadata": {
        "id": "88c5095a-f291-46ec-8115-92a46d6480ee"
      },
      "outputs": [],
      "source": [
        "df2=df.drop_duplicates()"
      ]
    },
    {
      "cell_type": "code",
      "execution_count": null,
      "id": "2f72dd25-ea20-4f67-a4c9-6c5bcee56d72",
      "metadata": {
        "id": "2f72dd25-ea20-4f67-a4c9-6c5bcee56d72",
        "outputId": "5c08a1a7-aed4-460f-9cb3-39be406b0034"
      },
      "outputs": [
        {
          "data": {
            "text/html": [
              "<div>\n",
              "<style scoped>\n",
              "    .dataframe tbody tr th:only-of-type {\n",
              "        vertical-align: middle;\n",
              "    }\n",
              "\n",
              "    .dataframe tbody tr th {\n",
              "        vertical-align: top;\n",
              "    }\n",
              "\n",
              "    .dataframe thead th {\n",
              "        text-align: right;\n",
              "    }\n",
              "</style>\n",
              "<table border=\"1\" class=\"dataframe\">\n",
              "  <thead>\n",
              "    <tr style=\"text-align: right;\">\n",
              "      <th></th>\n",
              "      <th>c1</th>\n",
              "      <th>c2</th>\n",
              "      <th>c3</th>\n",
              "    </tr>\n",
              "  </thead>\n",
              "  <tbody>\n",
              "    <tr>\n",
              "      <th>0</th>\n",
              "      <td>a</td>\n",
              "      <td>1</td>\n",
              "      <td>1</td>\n",
              "    </tr>\n",
              "    <tr>\n",
              "      <th>2</th>\n",
              "      <td>b</td>\n",
              "      <td>1</td>\n",
              "      <td>2</td>\n",
              "    </tr>\n",
              "    <tr>\n",
              "      <th>3</th>\n",
              "      <td>a</td>\n",
              "      <td>2</td>\n",
              "      <td>2</td>\n",
              "    </tr>\n",
              "    <tr>\n",
              "      <th>4</th>\n",
              "      <td>b</td>\n",
              "      <td>2</td>\n",
              "      <td>2</td>\n",
              "    </tr>\n",
              "  </tbody>\n",
              "</table>\n",
              "</div>"
            ],
            "text/plain": [
              "  c1  c2  c3\n",
              "0  a   1   1\n",
              "2  b   1   2\n",
              "3  a   2   2\n",
              "4  b   2   2"
            ]
          },
          "execution_count": 10,
          "metadata": {},
          "output_type": "execute_result"
        }
      ],
      "source": [
        "df2"
      ]
    },
    {
      "cell_type": "code",
      "execution_count": null,
      "id": "0fb99073-0c9b-43d8-b12d-0fc483f0aa0d",
      "metadata": {
        "id": "0fb99073-0c9b-43d8-b12d-0fc483f0aa0d",
        "outputId": "85adfda4-e9cb-4ebf-c659-51f0df772a87"
      },
      "outputs": [
        {
          "data": {
            "text/html": [
              "<div>\n",
              "<style scoped>\n",
              "    .dataframe tbody tr th:only-of-type {\n",
              "        vertical-align: middle;\n",
              "    }\n",
              "\n",
              "    .dataframe tbody tr th {\n",
              "        vertical-align: top;\n",
              "    }\n",
              "\n",
              "    .dataframe thead th {\n",
              "        text-align: right;\n",
              "    }\n",
              "</style>\n",
              "<table border=\"1\" class=\"dataframe\">\n",
              "  <thead>\n",
              "    <tr style=\"text-align: right;\">\n",
              "      <th></th>\n",
              "      <th>c1</th>\n",
              "      <th>c2</th>\n",
              "      <th>c3</th>\n",
              "    </tr>\n",
              "  </thead>\n",
              "  <tbody>\n",
              "    <tr>\n",
              "      <th>0</th>\n",
              "      <td>a</td>\n",
              "      <td>1</td>\n",
              "      <td>1</td>\n",
              "    </tr>\n",
              "    <tr>\n",
              "      <th>1</th>\n",
              "      <td>a</td>\n",
              "      <td>1</td>\n",
              "      <td>1</td>\n",
              "    </tr>\n",
              "    <tr>\n",
              "      <th>2</th>\n",
              "      <td>b</td>\n",
              "      <td>1</td>\n",
              "      <td>2</td>\n",
              "    </tr>\n",
              "    <tr>\n",
              "      <th>3</th>\n",
              "      <td>a</td>\n",
              "      <td>2</td>\n",
              "      <td>2</td>\n",
              "    </tr>\n",
              "    <tr>\n",
              "      <th>4</th>\n",
              "      <td>b</td>\n",
              "      <td>2</td>\n",
              "      <td>2</td>\n",
              "    </tr>\n",
              "  </tbody>\n",
              "</table>\n",
              "</div>"
            ],
            "text/plain": [
              "  c1  c2  c3\n",
              "0  a   1   1\n",
              "1  a   1   1\n",
              "2  b   1   2\n",
              "3  a   2   2\n",
              "4  b   2   2"
            ]
          },
          "execution_count": 11,
          "metadata": {},
          "output_type": "execute_result"
        }
      ],
      "source": [
        "df"
      ]
    },
    {
      "cell_type": "code",
      "execution_count": null,
      "id": "ad14ee49-1613-4c32-941c-d5b226edc7a8",
      "metadata": {
        "id": "ad14ee49-1613-4c32-941c-d5b226edc7a8"
      },
      "outputs": [],
      "source": [
        "df3=df.drop_duplicates(subset=['c2','c3'])"
      ]
    },
    {
      "cell_type": "code",
      "execution_count": null,
      "id": "fec0a868-6742-4a47-ab3b-1f55d105517d",
      "metadata": {
        "id": "fec0a868-6742-4a47-ab3b-1f55d105517d",
        "outputId": "e4cac3c0-f1e2-49d3-8a95-74e8a03c5377"
      },
      "outputs": [
        {
          "data": {
            "text/html": [
              "<div>\n",
              "<style scoped>\n",
              "    .dataframe tbody tr th:only-of-type {\n",
              "        vertical-align: middle;\n",
              "    }\n",
              "\n",
              "    .dataframe tbody tr th {\n",
              "        vertical-align: top;\n",
              "    }\n",
              "\n",
              "    .dataframe thead th {\n",
              "        text-align: right;\n",
              "    }\n",
              "</style>\n",
              "<table border=\"1\" class=\"dataframe\">\n",
              "  <thead>\n",
              "    <tr style=\"text-align: right;\">\n",
              "      <th></th>\n",
              "      <th>c1</th>\n",
              "      <th>c2</th>\n",
              "      <th>c3</th>\n",
              "    </tr>\n",
              "  </thead>\n",
              "  <tbody>\n",
              "    <tr>\n",
              "      <th>0</th>\n",
              "      <td>a</td>\n",
              "      <td>1</td>\n",
              "      <td>1</td>\n",
              "    </tr>\n",
              "    <tr>\n",
              "      <th>2</th>\n",
              "      <td>b</td>\n",
              "      <td>1</td>\n",
              "      <td>2</td>\n",
              "    </tr>\n",
              "    <tr>\n",
              "      <th>3</th>\n",
              "      <td>a</td>\n",
              "      <td>2</td>\n",
              "      <td>2</td>\n",
              "    </tr>\n",
              "  </tbody>\n",
              "</table>\n",
              "</div>"
            ],
            "text/plain": [
              "  c1  c2  c3\n",
              "0  a   1   1\n",
              "2  b   1   2\n",
              "3  a   2   2"
            ]
          },
          "execution_count": 14,
          "metadata": {},
          "output_type": "execute_result"
        }
      ],
      "source": [
        "df3"
      ]
    },
    {
      "cell_type": "code",
      "execution_count": null,
      "id": "0b83efa4-dd36-429f-93c4-7ff9f35a2a27",
      "metadata": {
        "id": "0b83efa4-dd36-429f-93c4-7ff9f35a2a27"
      },
      "outputs": [],
      "source": []
    }
  ],
  "metadata": {
    "kernelspec": {
      "display_name": "Python 3 (ipykernel)",
      "language": "python",
      "name": "python3"
    },
    "language_info": {
      "codemirror_mode": {
        "name": "ipython",
        "version": 3
      },
      "file_extension": ".py",
      "mimetype": "text/x-python",
      "name": "python",
      "nbconvert_exporter": "python",
      "pygments_lexer": "ipython3",
      "version": "3.11.7"
    },
    "colab": {
      "provenance": [],
      "include_colab_link": true
    }
  },
  "nbformat": 4,
  "nbformat_minor": 5
}