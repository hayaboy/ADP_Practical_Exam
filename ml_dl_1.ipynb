{
  "cells": [
    {
      "cell_type": "markdown",
      "metadata": {
        "id": "view-in-github",
        "colab_type": "text"
      },
      "source": [
        "<a href=\"https://colab.research.google.com/github/hayaboy/ADP_Practical_Exam/blob/main/ml_dl_1.ipynb\" target=\"_parent\"><img src=\"https://colab.research.google.com/assets/colab-badge.svg\" alt=\"Open In Colab\"/></a>"
      ]
    },
    {
      "cell_type": "markdown",
      "id": "bb63081a",
      "metadata": {
        "id": "bb63081a"
      },
      "source": [
        "## 지도(supervised) 학습(회귀, 분류)"
      ]
    },
    {
      "cell_type": "code",
      "execution_count": null,
      "id": "8e2f1035",
      "metadata": {
        "id": "8e2f1035"
      },
      "outputs": [],
      "source": [
        "# https://scikit-learn.org/stable/"
      ]
    },
    {
      "cell_type": "code",
      "execution_count": null,
      "id": "47e4bc3b",
      "metadata": {
        "id": "47e4bc3b"
      },
      "outputs": [],
      "source": [
        "bream_length = [25.4, 26.3, 26.5, 29.0, 29.0, 29.7, 29.7, 30.0, 30.0, 30.7, 31.0, 31.0, 31.5, 32.0, 32.0, 32.0, 33.0, 33.0, 33.5, 33.5, 34.0, 34.0, 34.5, 35.0, 35.0, 35.0, 35.0, 36.0, 36.0, 37.0, 38.5, 38.5, 39.5, 41.0, 41.0]\n",
        "bream_weight = [242.0, 290.0, 340.0, 363.0, 430.0, 450.0, 500.0, 390.0, 450.0, 500.0, 475.0, 500.0, 500.0, 340.0, 600.0, 600.0, 700.0, 700.0, 610.0, 650.0, 575.0, 685.0, 620.0, 680.0, 700.0, 725.0, 720.0, 714.0, 850.0, 1000.0, 920.0, 955.0, 925.0, 975.0, 950.0]"
      ]
    },
    {
      "cell_type": "code",
      "execution_count": null,
      "id": "25c79554",
      "metadata": {
        "id": "25c79554",
        "outputId": "0032f644-7c60-4c21-bf78-b178d90a928e"
      },
      "outputs": [
        {
          "name": "stdout",
          "output_type": "stream",
          "text": [
            "35\n",
            "35\n"
          ]
        }
      ],
      "source": [
        "print(len(bream_length))\n",
        "print(len(bream_weight))"
      ]
    },
    {
      "cell_type": "code",
      "execution_count": null,
      "id": "ae7ba1ab",
      "metadata": {
        "id": "ae7ba1ab",
        "outputId": "68067cde-b7b2-48ef-f247-60eae7ae337a"
      },
      "outputs": [
        {
          "name": "stdout",
          "output_type": "stream",
          "text": [
            "35 35\n"
          ]
        }
      ],
      "source": [
        "print(len(bream_weight), len(bream_weight))"
      ]
    },
    {
      "cell_type": "code",
      "execution_count": null,
      "id": "6abf0284",
      "metadata": {
        "id": "6abf0284"
      },
      "outputs": [],
      "source": [
        "import matplotlib.pyplot as plt"
      ]
    },
    {
      "cell_type": "code",
      "execution_count": null,
      "id": "c3ca5e78",
      "metadata": {
        "id": "c3ca5e78"
      },
      "outputs": [],
      "source": [
        "# 상관을 알기 위해서는 공분산을 알아야 함"
      ]
    },
    {
      "cell_type": "code",
      "execution_count": null,
      "id": "8d5f8804",
      "metadata": {
        "id": "8d5f8804"
      },
      "outputs": [],
      "source": [
        "# 공분산의 개념을 알아야 함"
      ]
    },
    {
      "cell_type": "markdown",
      "id": "fd4e58b6",
      "metadata": {
        "id": "fd4e58b6"
      },
      "source": [
        "![image.png](attachment:image.png)"
      ]
    },
    {
      "cell_type": "code",
      "execution_count": null,
      "id": "fbe59824",
      "metadata": {
        "id": "fbe59824"
      },
      "outputs": [],
      "source": [
        "import numpy as np"
      ]
    },
    {
      "cell_type": "code",
      "execution_count": null,
      "id": "af0535e6",
      "metadata": {
        "id": "af0535e6"
      },
      "outputs": [],
      "source": [
        "bream_length_mean=np.mean(bream_length)"
      ]
    },
    {
      "cell_type": "code",
      "execution_count": null,
      "id": "92f7134c",
      "metadata": {
        "id": "92f7134c"
      },
      "outputs": [],
      "source": [
        "bream_weight_mean=np.mean(bream_weight)"
      ]
    },
    {
      "cell_type": "code",
      "execution_count": null,
      "id": "69131b30",
      "metadata": {
        "id": "69131b30",
        "outputId": "2dc978fb-3115-4826-afe6-fd05141aad66"
      },
      "outputs": [
        {
          "name": "stdout",
          "output_type": "stream",
          "text": [
            "33.10857142857143 617.8285714285714\n"
          ]
        }
      ],
      "source": [
        "print(bream_length_mean, bream_weight_mean)"
      ]
    },
    {
      "cell_type": "code",
      "execution_count": null,
      "id": "877b2559",
      "metadata": {
        "id": "877b2559",
        "outputId": "b3e22c31-2401-4be6-e61e-c6539e547796"
      },
      "outputs": [
        {
          "name": "stdout",
          "output_type": "stream",
          "text": [
            "도미의 평균 길이: 33.11cm, 도미의 평균 무게: 617.83g\n"
          ]
        }
      ],
      "source": [
        "print('도미의 평균 길이: %.2fcm, 도미의 평균 무게: %.2fg'         %(bream_length_mean, bream_weight_mean))"
      ]
    },
    {
      "cell_type": "code",
      "execution_count": null,
      "id": "de27a67f",
      "metadata": {
        "id": "de27a67f",
        "outputId": "e6a7b7fa-894e-4734-e1ac-92a0cc61286d"
      },
      "outputs": [
        {
          "data": {
            "text/plain": [
              "752.2871836734696"
            ]
          },
          "execution_count": 29,
          "metadata": {},
          "output_type": "execute_result"
        }
      ],
      "source": [
        "np.sum((bream_length-bream_length_mean)*(bream_weight-bream_weight_mean)) / len(bream_weight)"
      ]
    },
    {
      "cell_type": "code",
      "execution_count": null,
      "id": "30427c1e",
      "metadata": {
        "id": "30427c1e",
        "outputId": "a844c2fe-6691-43f0-dd66-51d284be16dd"
      },
      "outputs": [
        {
          "data": {
            "text/plain": [
              "774.4132773109245"
            ]
          },
          "execution_count": 30,
          "metadata": {},
          "output_type": "execute_result"
        }
      ],
      "source": [
        "np.sum((bream_length-bream_length_mean)*(bream_weight-bream_weight_mean)) / (len(bream_weight)-1)"
      ]
    },
    {
      "cell_type": "code",
      "execution_count": null,
      "id": "f1dee10e",
      "metadata": {
        "id": "f1dee10e"
      },
      "outputs": [],
      "source": [
        "# help(np.cov)"
      ]
    },
    {
      "cell_type": "code",
      "execution_count": null,
      "id": "3addfce2",
      "metadata": {
        "id": "3addfce2",
        "outputId": "8d011c58-7682-436e-a1fc-0e9c91aa803b"
      },
      "outputs": [
        {
          "data": {
            "text/plain": [
              "array([[1.53031597e+01, 7.74413277e+02],\n",
              "       [7.74413277e+02, 4.37670286e+04]])"
            ]
          },
          "execution_count": 27,
          "metadata": {},
          "output_type": "execute_result"
        }
      ],
      "source": [
        "np.cov(bream_length,bream_weight)"
      ]
    },
    {
      "cell_type": "code",
      "execution_count": null,
      "id": "679b69e2",
      "metadata": {
        "id": "679b69e2",
        "outputId": "345d6e20-b7df-4172-8a4e-033f65fb07cb"
      },
      "outputs": [
        {
          "data": {
            "text/plain": [
              "774.413277"
            ]
          },
          "execution_count": 33,
          "metadata": {},
          "output_type": "execute_result"
        }
      ],
      "source": [
        "(7.74413277)*100"
      ]
    },
    {
      "cell_type": "markdown",
      "id": "a5623f90",
      "metadata": {
        "id": "a5623f90"
      },
      "source": [
        "![image.png](attachment:image.png)"
      ]
    },
    {
      "cell_type": "code",
      "execution_count": null,
      "id": "e53bfc62",
      "metadata": {
        "id": "e53bfc62",
        "outputId": "fbec6cef-5666-4f7e-a9ca-1bb918013951"
      },
      "outputs": [
        {
          "data": {
            "text/plain": [
              "0.946256126166132"
            ]
          },
          "execution_count": 42,
          "metadata": {},
          "output_type": "execute_result"
        }
      ],
      "source": [
        "(774.413277) / np.sqrt( (np.sum((bream_length-bream_length_mean)**2)/ (34))   * (np.sum((bream_weight-bream_weight_mean)**2)/ (34))  )"
      ]
    },
    {
      "cell_type": "code",
      "execution_count": null,
      "id": "b51b36bd",
      "metadata": {
        "id": "b51b36bd"
      },
      "outputs": [],
      "source": [
        "# help(np.corrcoef)"
      ]
    },
    {
      "cell_type": "code",
      "execution_count": null,
      "id": "7767ce1c",
      "metadata": {
        "id": "7767ce1c",
        "outputId": "83e9ed2e-c981-4df1-9ae0-828bc74d5a69"
      },
      "outputs": [
        {
          "data": {
            "text/plain": [
              "array([[1.        , 0.94625613],\n",
              "       [0.94625613, 1.        ]])"
            ]
          },
          "execution_count": 41,
          "metadata": {},
          "output_type": "execute_result"
        }
      ],
      "source": [
        "np.corrcoef(bream_length,bream_weight)"
      ]
    },
    {
      "cell_type": "code",
      "execution_count": null,
      "id": "c1805a1c",
      "metadata": {
        "id": "c1805a1c"
      },
      "outputs": [],
      "source": []
    }
  ],
  "metadata": {
    "kernelspec": {
      "display_name": "Python 3 (ipykernel)",
      "language": "python",
      "name": "python3"
    },
    "language_info": {
      "codemirror_mode": {
        "name": "ipython",
        "version": 3
      },
      "file_extension": ".py",
      "mimetype": "text/x-python",
      "name": "python",
      "nbconvert_exporter": "python",
      "pygments_lexer": "ipython3",
      "version": "3.11.5"
    },
    "colab": {
      "provenance": [],
      "include_colab_link": true
    }
  },
  "nbformat": 4,
  "nbformat_minor": 5
}