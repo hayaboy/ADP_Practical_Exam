{
  "nbformat": 4,
  "nbformat_minor": 0,
  "metadata": {
    "colab": {
      "provenance": [],
      "authorship_tag": "ABX9TyPxcy45Uvnnk7AvkyPT9gfy",
      "include_colab_link": true
    },
    "kernelspec": {
      "name": "python3",
      "display_name": "Python 3"
    },
    "language_info": {
      "name": "python"
    }
  },
  "cells": [
    {
      "cell_type": "markdown",
      "metadata": {
        "id": "view-in-github",
        "colab_type": "text"
      },
      "source": [
        "<a href=\"https://colab.research.google.com/github/hayaboy/ADP_Practical_Exam/blob/main/%EB%9E%AD%EC%B2%B4%EC%9D%B8%EC%9C%BC%EB%A1%9C%EC%9D%B8%EA%B3%B5%EC%A7%80%EB%8A%A5%EC%8B%9C%EC%9D%B8%EB%A7%8C%EB%93%A4%EA%B8%B01.ipynb\" target=\"_parent\"><img src=\"https://colab.research.google.com/assets/colab-badge.svg\" alt=\"Open In Colab\"/></a>"
      ]
    },
    {
      "cell_type": "code",
      "execution_count": 9,
      "metadata": {
        "id": "rGHFAajOEbcr"
      },
      "outputs": [],
      "source": [
        "# !pip install openai==0.28"
      ]
    },
    {
      "cell_type": "code",
      "source": [
        "import os\n",
        "os.environ[\"OPENAI_API_KEY\"]=\"sk-proj-SkiR4JQLEPcDrxmWHhYrT3BlbkFJo9Xd8HRqn5IsA6mhYsYp\""
      ],
      "metadata": {
        "id": "QihSF3duEmnd"
      },
      "execution_count": 30,
      "outputs": []
    },
    {
      "cell_type": "code",
      "source": [
        "prompt=\"\"\"\n",
        "다음 이야기를 써주세요.\n",
        "호랑이가 담배피던 시절의 이야기를 해주세요\"\"\""
      ],
      "metadata": {
        "id": "PeVpO7HUE5S1"
      },
      "execution_count": 3,
      "outputs": []
    },
    {
      "cell_type": "code",
      "source": [
        "import openai"
      ],
      "metadata": {
        "id": "xw0wqR5GE-qR"
      },
      "execution_count": 26,
      "outputs": []
    },
    {
      "cell_type": "code",
      "source": [
        "# 텍스트 생성 실행\n",
        "response = openai.Completion.create(\n",
        "    model=\"gpt-3.5-turbo-instruct\",\n",
        "    prompt=prompt,\n",
        "    temperature=0.7,\n",
        "    max_tokens=500\n",
        ")\n",
        "print(response[\"choices\"][0][\"text\"])"
      ],
      "metadata": {
        "colab": {
          "base_uri": "https://localhost:8080/"
        },
        "id": "UtDDqRsAE5u3",
        "outputId": "27d65a8c-0908-4a11-ecf9-a5b49bcd58db"
      },
      "execution_count": 6,
      "outputs": [
        {
          "output_type": "stream",
          "name": "stdout",
          "text": [
            "\n",
            "\n",
            "예전 옛날 호랑이는 담배를 매우 좋아했습니다. 그는 어릴 적부터 담배를 피우는 것에 대해 궁금해하던 아버지의 모습을 보며 자연스럽게 담배를 시작했습니다.\n",
            "\n",
            "그 당시 호랑이는 산 속에서 동물들과 함께 살았습니다. 그러나 담배를 피우기 시작한 이후로는 이웃 동물들과도 거리를 두게 되었습니다. 담배 냄새 때문에 다른 동물들은 호랑이를 피하고, 호랑이 역시 담배를 피우지 않는 동물들을 싫어하게 되었습니다.\n",
            "\n",
            "하지만 호랑이는 담배를 끊지 못했습니다. 그는 담배를 피지 않으면 불안해지고, 생각보다 많이 먹어서 건강도 나빠졌지만, 그래도 담배를 끊을 수 없었습니다. 그는 어떤 이유에서든 담배가 필요했던 것입니다.\n",
            "\n",
            "그러나 어느 날 호랑이는 숲 속에서 하나의 사건을 겪게 됩니다. 담배를 피우던 그는 갑작스럽게 숲 속에서 불이 나는 것을 발견했습니다. 호랑이는 담배꽁초가 불을 일으켜 숲을 불태우고 있었습니다. 호랑이는 담배를 피우는 것이 얼마나 위험한 일인지 깨달았습니다.\n",
            "\n",
            "그 이후로 호랑이는\n"
          ]
        }
      ]
    },
    {
      "cell_type": "code",
      "source": [
        "# !pip install langchain==0.0.181"
      ],
      "metadata": {
        "id": "Wr_NdOlxE8xu"
      },
      "execution_count": 8,
      "outputs": []
    },
    {
      "cell_type": "markdown",
      "source": [
        "# 질의응답"
      ],
      "metadata": {
        "id": "GDYHpbAnJKAs"
      }
    },
    {
      "cell_type": "code",
      "source": [
        "# 프롬프트 준비\n",
        "prompt = \"내가 좋아하는 동물은\""
      ],
      "metadata": {
        "id": "fZcsYgZ1JPKb"
      },
      "execution_count": 35,
      "outputs": []
    },
    {
      "cell_type": "code",
      "source": [
        "# 텍스트 생성 실행\n",
        "response = openai.Completion.create(\n",
        "    model=\"gpt-3.5-turbo-instruct\",\n",
        "    prompt=prompt,\n",
        "    temperature=0.7,\n",
        "    max_tokens=500\n",
        ")\n",
        "print(response[\"choices\"][0][\"text\"])"
      ],
      "metadata": {
        "colab": {
          "base_uri": "https://localhost:8080/"
        },
        "id": "vujT6_qjH8-G",
        "outputId": "f0b5a7eb-e083-423f-f2b5-6d0e1d52e609"
      },
      "execution_count": 36,
      "outputs": [
        {
          "output_type": "stream",
          "name": "stdout",
          "text": [
            " 닭입니다.\n",
            "\n",
            "저희 집에는 닭이 많이 있어서 항상 닭들과 함께 놀기도 하고 먹기도 합니다.\n",
            "\n",
            "닭은 귀엽고 깜찍한 외모와 달리 매우 똑똑하고 지적인 동물입니다. 전혀 멍청하지 않고 인간과 매우 비슷한 심리를 가지고 있습니다.\n",
            "\n",
            "또 닭은 정말 다양한 울음소리를 내며 소통할 수 있습니다. 닭들끼리 소통하는 모습을 보면 정말 귀엽고 재미있어서 항상 기분이 좋아집니다.\n",
            "\n",
            "무엇보다도 닭은 매우 깨끗하고 청결하다는 점이 매력적입니다. 집안에서 닭을 키우지만 전혀 냄새도 나지 않고 항상 깨끗한 상태를 유지합니다.\n",
            "\n",
            "닭은 먹이를 주기만 하면 자연스럽게 알을 낳아줘서 더 이상 번식을 위해 신경 쓸 필요가 없습니다. 또한 닭고기도 매우 맛있어서 저희 집에서는 자주 닭고기 요리를 합니다.\n",
            "\n",
            "매일 아침 닭들의 울음소리로 깨어나는 것도 참 좋은 경험이며, 닭들과 함께 시간을 보내는 것은 제 일상에서 가장 큰 기쁨 중 하나입니다. 그래서 저는 닭을 내가 좋아하는 동물로 선택하게 되었습니다.\n"
          ]
        }
      ]
    },
    {
      "cell_type": "code",
      "source": [
        "# help(llm)"
      ],
      "metadata": {
        "id": "mK4s3B3yGq0w"
      },
      "execution_count": 37,
      "outputs": []
    },
    {
      "cell_type": "markdown",
      "source": [],
      "metadata": {
        "id": "gDUGwGNcJgka"
      }
    },
    {
      "cell_type": "code",
      "source": [
        "# 채팅 메시지 리스트 준비\n",
        "messages = [\n",
        "    {\"role\": \"system\", \"content\": \"아카네는 여고생 여동생 캐릭터의 채팅 AI입니다. 남동생과 대화합니다.\"},\n",
        "    {\"role\": \"user\", \"content\": \"안녕!\"},\n",
        "]"
      ],
      "metadata": {
        "id": "EfWmNFXIGV4d"
      },
      "execution_count": 38,
      "outputs": []
    },
    {
      "cell_type": "code",
      "source": [
        "import openai\n",
        "\n",
        "# 채팅 실행\n",
        "response = openai.ChatCompletion.create(\n",
        "    model=\"gpt-3.5-turbo\",\n",
        "    messages=messages,\n",
        "    temperature=0\n",
        ")\n",
        "response[\"choices\"][0][\"message\"][\"content\"]"
      ],
      "metadata": {
        "colab": {
          "base_uri": "https://localhost:8080/",
          "height": 35
        },
        "id": "GIlhio3wGhVl",
        "outputId": "8c2ba7dc-9bc0-42bc-fb10-fe7aced373b1"
      },
      "execution_count": 39,
      "outputs": [
        {
          "output_type": "execute_result",
          "data": {
            "text/plain": [
              "'안녕! 오늘 뭐 했어?'"
            ],
            "application/vnd.google.colaboratory.intrinsic+json": {
              "type": "string"
            }
          },
          "metadata": {},
          "execution_count": 39
        }
      ]
    },
    {
      "cell_type": "code",
      "source": [
        "# 인공지능시인만들기"
      ],
      "metadata": {
        "id": "jiAxVkkyJ6Vi"
      },
      "execution_count": 40,
      "outputs": []
    },
    {
      "cell_type": "code",
      "source": [
        "content = \"봄비\""
      ],
      "metadata": {
        "id": "yK7yUNNNKGIC"
      },
      "execution_count": 44,
      "outputs": []
    },
    {
      "cell_type": "code",
      "source": [
        "messages = [\n",
        "    {\"role\": \"system\", \"content\": \"노벨 문학상을 맏은 시인 AI입니다. 저와 대화합니다.\"},\n",
        "    {\"role\": \"user\", \"content\": content+\"에 대한 시를 써줘\"},\n",
        "]"
      ],
      "metadata": {
        "id": "jEO2dr0JKXSy"
      },
      "execution_count": 45,
      "outputs": []
    },
    {
      "cell_type": "code",
      "source": [
        "response = openai.ChatCompletion.create(\n",
        "    model=\"gpt-3.5-turbo\",\n",
        "    messages=messages,\n",
        "    temperature=0\n",
        ")\n",
        "print(response[\"choices\"][0][\"message\"][\"content\"])"
      ],
      "metadata": {
        "colab": {
          "base_uri": "https://localhost:8080/"
        },
        "id": "WOFOXU5ZKqeS",
        "outputId": "d3b8d1f9-e3bd-4f5b-ed38-ea91d8df0139"
      },
      "execution_count": 46,
      "outputs": [
        {
          "output_type": "stream",
          "name": "stdout",
          "text": [
            "봄비가 내리는 이른 아침  \n",
            "작은 빗방울이 춤을 추며  \n",
            "꽃들은 더욱 빛나고  \n",
            "새들은 노래를 부르네  \n",
            "\n",
            "봄비는 마음을 씻어주는  \n",
            "맑고 상쾌한 향기를 안겨주며  \n",
            "고요한 마음을 일으켜주는  \n",
            "그 어느 것과도 바꿀 수 없는  \n",
            "\n",
            "봄비의 속삭임에 귀를 기울이면  \n",
            "세상은 더욱 아름다워지고  \n",
            "마음은 더욱 풍요로워지는  \n",
            "봄비의 소중한 선물을 받게 되리라.\n"
          ]
        }
      ]
    },
    {
      "cell_type": "code",
      "source": [],
      "metadata": {
        "id": "ODJMAl60KtVy"
      },
      "execution_count": null,
      "outputs": []
    }
  ]
}