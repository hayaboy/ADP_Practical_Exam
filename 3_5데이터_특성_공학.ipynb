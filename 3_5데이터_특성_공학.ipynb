{
  "cells": [
    {
      "cell_type": "markdown",
      "metadata": {
        "id": "view-in-github",
        "colab_type": "text"
      },
      "source": [
        "<a href=\"https://colab.research.google.com/github/hayaboy/ADP_Practical_Exam/blob/main/3_5%EB%8D%B0%EC%9D%B4%ED%84%B0_%ED%8A%B9%EC%84%B1_%EA%B3%B5%ED%95%99.ipynb\" target=\"_parent\"><img src=\"https://colab.research.google.com/assets/colab-badge.svg\" alt=\"Open In Colab\"/></a>"
      ]
    },
    {
      "cell_type": "code",
      "execution_count": null,
      "id": "8c5762fe-9886-43d6-a9a4-977c964c47dd",
      "metadata": {
        "id": "8c5762fe-9886-43d6-a9a4-977c964c47dd"
      },
      "outputs": [],
      "source": [
        "import pandas as pd\n",
        "import numpy as np"
      ]
    },
    {
      "cell_type": "code",
      "execution_count": null,
      "id": "eef6b1e6-4a3c-40df-a42d-4ab147331365",
      "metadata": {
        "id": "eef6b1e6-4a3c-40df-a42d-4ab147331365"
      },
      "outputs": [],
      "source": [
        "df=pd.read_csv('./auto-mpg.csv',header=None)"
      ]
    },
    {
      "cell_type": "code",
      "execution_count": null,
      "id": "5c6fe48b-5b02-40d0-b00b-e38fd33df168",
      "metadata": {
        "id": "5c6fe48b-5b02-40d0-b00b-e38fd33df168",
        "outputId": "40759a9e-334a-41d4-d6e4-545f80606262"
      },
      "outputs": [
        {
          "data": {
            "text/html": [
              "<div>\n",
              "<style scoped>\n",
              "    .dataframe tbody tr th:only-of-type {\n",
              "        vertical-align: middle;\n",
              "    }\n",
              "\n",
              "    .dataframe tbody tr th {\n",
              "        vertical-align: top;\n",
              "    }\n",
              "\n",
              "    .dataframe thead th {\n",
              "        text-align: right;\n",
              "    }\n",
              "</style>\n",
              "<table border=\"1\" class=\"dataframe\">\n",
              "  <thead>\n",
              "    <tr style=\"text-align: right;\">\n",
              "      <th></th>\n",
              "      <th>0</th>\n",
              "      <th>1</th>\n",
              "      <th>2</th>\n",
              "      <th>3</th>\n",
              "      <th>4</th>\n",
              "      <th>5</th>\n",
              "      <th>6</th>\n",
              "      <th>7</th>\n",
              "      <th>8</th>\n",
              "    </tr>\n",
              "  </thead>\n",
              "  <tbody>\n",
              "    <tr>\n",
              "      <th>0</th>\n",
              "      <td>18.0</td>\n",
              "      <td>8</td>\n",
              "      <td>307.0</td>\n",
              "      <td>130.0</td>\n",
              "      <td>3504.0</td>\n",
              "      <td>12.0</td>\n",
              "      <td>70</td>\n",
              "      <td>1</td>\n",
              "      <td>chevrolet chevelle malibu</td>\n",
              "    </tr>\n",
              "    <tr>\n",
              "      <th>1</th>\n",
              "      <td>15.0</td>\n",
              "      <td>8</td>\n",
              "      <td>350.0</td>\n",
              "      <td>165.0</td>\n",
              "      <td>3693.0</td>\n",
              "      <td>11.5</td>\n",
              "      <td>70</td>\n",
              "      <td>1</td>\n",
              "      <td>buick skylark 320</td>\n",
              "    </tr>\n",
              "    <tr>\n",
              "      <th>2</th>\n",
              "      <td>18.0</td>\n",
              "      <td>8</td>\n",
              "      <td>318.0</td>\n",
              "      <td>150.0</td>\n",
              "      <td>3436.0</td>\n",
              "      <td>11.0</td>\n",
              "      <td>70</td>\n",
              "      <td>1</td>\n",
              "      <td>plymouth satellite</td>\n",
              "    </tr>\n",
              "    <tr>\n",
              "      <th>3</th>\n",
              "      <td>16.0</td>\n",
              "      <td>8</td>\n",
              "      <td>304.0</td>\n",
              "      <td>150.0</td>\n",
              "      <td>3433.0</td>\n",
              "      <td>12.0</td>\n",
              "      <td>70</td>\n",
              "      <td>1</td>\n",
              "      <td>amc rebel sst</td>\n",
              "    </tr>\n",
              "    <tr>\n",
              "      <th>4</th>\n",
              "      <td>17.0</td>\n",
              "      <td>8</td>\n",
              "      <td>302.0</td>\n",
              "      <td>140.0</td>\n",
              "      <td>3449.0</td>\n",
              "      <td>10.5</td>\n",
              "      <td>70</td>\n",
              "      <td>1</td>\n",
              "      <td>ford torino</td>\n",
              "    </tr>\n",
              "    <tr>\n",
              "      <th>...</th>\n",
              "      <td>...</td>\n",
              "      <td>...</td>\n",
              "      <td>...</td>\n",
              "      <td>...</td>\n",
              "      <td>...</td>\n",
              "      <td>...</td>\n",
              "      <td>...</td>\n",
              "      <td>...</td>\n",
              "      <td>...</td>\n",
              "    </tr>\n",
              "    <tr>\n",
              "      <th>393</th>\n",
              "      <td>27.0</td>\n",
              "      <td>4</td>\n",
              "      <td>140.0</td>\n",
              "      <td>86.00</td>\n",
              "      <td>2790.0</td>\n",
              "      <td>15.6</td>\n",
              "      <td>82</td>\n",
              "      <td>1</td>\n",
              "      <td>ford mustang gl</td>\n",
              "    </tr>\n",
              "    <tr>\n",
              "      <th>394</th>\n",
              "      <td>44.0</td>\n",
              "      <td>4</td>\n",
              "      <td>97.0</td>\n",
              "      <td>52.00</td>\n",
              "      <td>2130.0</td>\n",
              "      <td>24.6</td>\n",
              "      <td>82</td>\n",
              "      <td>2</td>\n",
              "      <td>vw pickup</td>\n",
              "    </tr>\n",
              "    <tr>\n",
              "      <th>395</th>\n",
              "      <td>32.0</td>\n",
              "      <td>4</td>\n",
              "      <td>135.0</td>\n",
              "      <td>84.00</td>\n",
              "      <td>2295.0</td>\n",
              "      <td>11.6</td>\n",
              "      <td>82</td>\n",
              "      <td>1</td>\n",
              "      <td>dodge rampage</td>\n",
              "    </tr>\n",
              "    <tr>\n",
              "      <th>396</th>\n",
              "      <td>28.0</td>\n",
              "      <td>4</td>\n",
              "      <td>120.0</td>\n",
              "      <td>79.00</td>\n",
              "      <td>2625.0</td>\n",
              "      <td>18.6</td>\n",
              "      <td>82</td>\n",
              "      <td>1</td>\n",
              "      <td>ford ranger</td>\n",
              "    </tr>\n",
              "    <tr>\n",
              "      <th>397</th>\n",
              "      <td>31.0</td>\n",
              "      <td>4</td>\n",
              "      <td>119.0</td>\n",
              "      <td>82.00</td>\n",
              "      <td>2720.0</td>\n",
              "      <td>19.4</td>\n",
              "      <td>82</td>\n",
              "      <td>1</td>\n",
              "      <td>chevy s-10</td>\n",
              "    </tr>\n",
              "  </tbody>\n",
              "</table>\n",
              "<p>398 rows × 9 columns</p>\n",
              "</div>"
            ],
            "text/plain": [
              "        0  1      2      3       4     5   6  7                          8\n",
              "0    18.0  8  307.0  130.0  3504.0  12.0  70  1  chevrolet chevelle malibu\n",
              "1    15.0  8  350.0  165.0  3693.0  11.5  70  1          buick skylark 320\n",
              "2    18.0  8  318.0  150.0  3436.0  11.0  70  1         plymouth satellite\n",
              "3    16.0  8  304.0  150.0  3433.0  12.0  70  1              amc rebel sst\n",
              "4    17.0  8  302.0  140.0  3449.0  10.5  70  1                ford torino\n",
              "..    ... ..    ...    ...     ...   ...  .. ..                        ...\n",
              "393  27.0  4  140.0  86.00  2790.0  15.6  82  1            ford mustang gl\n",
              "394  44.0  4   97.0  52.00  2130.0  24.6  82  2                  vw pickup\n",
              "395  32.0  4  135.0  84.00  2295.0  11.6  82  1              dodge rampage\n",
              "396  28.0  4  120.0  79.00  2625.0  18.6  82  1                ford ranger\n",
              "397  31.0  4  119.0  82.00  2720.0  19.4  82  1                 chevy s-10\n",
              "\n",
              "[398 rows x 9 columns]"
            ]
          },
          "execution_count": 3,
          "metadata": {},
          "output_type": "execute_result"
        }
      ],
      "source": [
        "df"
      ]
    },
    {
      "cell_type": "code",
      "execution_count": null,
      "id": "6a8523b5-1feb-4232-a17a-470674e9eb1f",
      "metadata": {
        "id": "6a8523b5-1feb-4232-a17a-470674e9eb1f"
      },
      "outputs": [],
      "source": [
        "# 데이터는 갤런당 마일 단위의 도시 주기 연료 소비에 관한 것이며, 3개의 다중 값 이산 속성과 5개의 연속 속성"
      ]
    },
    {
      "cell_type": "code",
      "execution_count": null,
      "id": "008f6908-6414-49f3-b8dc-4d12c855cc37",
      "metadata": {
        "id": "008f6908-6414-49f3-b8dc-4d12c855cc37"
      },
      "outputs": [],
      "source": [
        "df.columns=['mpg','cylinders','displacement','horsepower','weight','acceleration','model_year','origin','car_name']"
      ]
    },
    {
      "cell_type": "code",
      "execution_count": null,
      "id": "254e862d-861b-4f08-8c09-bd761275bb88",
      "metadata": {
        "id": "254e862d-861b-4f08-8c09-bd761275bb88",
        "outputId": "46291289-d550-4610-c882-b2800460ec98"
      },
      "outputs": [
        {
          "name": "stdout",
          "output_type": "stream",
          "text": [
            "<class 'pandas.core.frame.DataFrame'>\n",
            "RangeIndex: 398 entries, 0 to 397\n",
            "Data columns (total 10 columns):\n",
            " #   Column        Non-Null Count  Dtype  \n",
            "---  ------        --------------  -----  \n",
            " 0   mpg           398 non-null    float64\n",
            " 1   cylinders     398 non-null    int64  \n",
            " 2   displacement  398 non-null    float64\n",
            " 3   horsepower    398 non-null    object \n",
            " 4   weight        398 non-null    float64\n",
            " 5   acceleration  398 non-null    float64\n",
            " 6   model_year    398 non-null    int64  \n",
            " 7   origin        398 non-null    int64  \n",
            " 8   car_name      398 non-null    object \n",
            " 9   kpl           398 non-null    float64\n",
            "dtypes: float64(5), int64(3), object(2)\n",
            "memory usage: 31.2+ KB\n"
          ]
        }
      ],
      "source": [
        "df.info()"
      ]
    },
    {
      "cell_type": "markdown",
      "id": "750dbff9-2851-4adb-8d88-01e74c982a56",
      "metadata": {
        "id": "750dbff9-2851-4adb-8d88-01e74c982a56"
      },
      "source": [
        "속성 정보:<br><br>\n",
        "\n",
        "mpg: 연속 <br>\n",
        "실린더: 다중 값 이산형 <br>\n",
        "변위: 연속 <br>\n",
        "마력: 연속 <br>형이여야 하나 object임(float로 형변환 필요함)\n",
        "무게: 연속 <br>\n",
        "가속도: 연속 <br>\n",
        "모델 연도: 다중 값 이산형 <br>\n",
        "출처: 다중 값 이산형 <br>\n",
        "자동차 이름: 문자열(각 인스턴스마다 고유함)"
      ]
    },
    {
      "cell_type": "markdown",
      "id": "a6992988-249e-435d-ac9f-001ddb330ee6",
      "metadata": {
        "id": "a6992988-249e-435d-ac9f-001ddb330ee6"
      },
      "source": [
        "origin 열은 보통 자동차의 제조 국가 또는 원산지를 나타냅니다. 대부분의 경우, 이 열은 숫자로 표시되는데, 일반적으로 다음과 같은 값을 가집니다:\n",
        "<br>\n",
        "1: 미국\n",
        "2: 유럽\n",
        "3: 아시아<br>\n",
        "따라서 origin 열을 기준으로 데이터를 분석하면 각 자동차가 어느 국가에서 생산되었는지 알 수 있습니다. 이는 자동차의 특성이나 성능에 영향을 줄 수 있는 다양한 문화적, 경제적, 기술적 요인을 고려할 수 있게 해줍니다."
      ]
    },
    {
      "cell_type": "code",
      "execution_count": null,
      "id": "37b3e7a7-fad5-4f67-a76e-59bf3fa3076a",
      "metadata": {
        "id": "37b3e7a7-fad5-4f67-a76e-59bf3fa3076a"
      },
      "outputs": [],
      "source": [
        "# mpg 파생변수만들기,"
      ]
    },
    {
      "cell_type": "code",
      "execution_count": null,
      "id": "a54edb57-c595-450f-bfdf-525d4e11fe85",
      "metadata": {
        "id": "a54edb57-c595-450f-bfdf-525d4e11fe85",
        "outputId": "713cf37a-50ed-4690-dceb-b8c78822be5e"
      },
      "outputs": [
        {
          "data": {
            "text/html": [
              "<div>\n",
              "<style scoped>\n",
              "    .dataframe tbody tr th:only-of-type {\n",
              "        vertical-align: middle;\n",
              "    }\n",
              "\n",
              "    .dataframe tbody tr th {\n",
              "        vertical-align: top;\n",
              "    }\n",
              "\n",
              "    .dataframe thead th {\n",
              "        text-align: right;\n",
              "    }\n",
              "</style>\n",
              "<table border=\"1\" class=\"dataframe\">\n",
              "  <thead>\n",
              "    <tr style=\"text-align: right;\">\n",
              "      <th></th>\n",
              "      <th>mpg</th>\n",
              "      <th>cylinders</th>\n",
              "      <th>displacement</th>\n",
              "      <th>horsepower</th>\n",
              "      <th>weight</th>\n",
              "      <th>acceleration</th>\n",
              "      <th>model_year</th>\n",
              "      <th>origin</th>\n",
              "      <th>car_name</th>\n",
              "    </tr>\n",
              "  </thead>\n",
              "  <tbody>\n",
              "    <tr>\n",
              "      <th>0</th>\n",
              "      <td>18.0</td>\n",
              "      <td>8</td>\n",
              "      <td>307.0</td>\n",
              "      <td>130.0</td>\n",
              "      <td>3504.0</td>\n",
              "      <td>12.0</td>\n",
              "      <td>70</td>\n",
              "      <td>1</td>\n",
              "      <td>chevrolet chevelle malibu</td>\n",
              "    </tr>\n",
              "    <tr>\n",
              "      <th>1</th>\n",
              "      <td>15.0</td>\n",
              "      <td>8</td>\n",
              "      <td>350.0</td>\n",
              "      <td>165.0</td>\n",
              "      <td>3693.0</td>\n",
              "      <td>11.5</td>\n",
              "      <td>70</td>\n",
              "      <td>1</td>\n",
              "      <td>buick skylark 320</td>\n",
              "    </tr>\n",
              "    <tr>\n",
              "      <th>2</th>\n",
              "      <td>18.0</td>\n",
              "      <td>8</td>\n",
              "      <td>318.0</td>\n",
              "      <td>150.0</td>\n",
              "      <td>3436.0</td>\n",
              "      <td>11.0</td>\n",
              "      <td>70</td>\n",
              "      <td>1</td>\n",
              "      <td>plymouth satellite</td>\n",
              "    </tr>\n",
              "    <tr>\n",
              "      <th>3</th>\n",
              "      <td>16.0</td>\n",
              "      <td>8</td>\n",
              "      <td>304.0</td>\n",
              "      <td>150.0</td>\n",
              "      <td>3433.0</td>\n",
              "      <td>12.0</td>\n",
              "      <td>70</td>\n",
              "      <td>1</td>\n",
              "      <td>amc rebel sst</td>\n",
              "    </tr>\n",
              "    <tr>\n",
              "      <th>4</th>\n",
              "      <td>17.0</td>\n",
              "      <td>8</td>\n",
              "      <td>302.0</td>\n",
              "      <td>140.0</td>\n",
              "      <td>3449.0</td>\n",
              "      <td>10.5</td>\n",
              "      <td>70</td>\n",
              "      <td>1</td>\n",
              "      <td>ford torino</td>\n",
              "    </tr>\n",
              "  </tbody>\n",
              "</table>\n",
              "</div>"
            ],
            "text/plain": [
              "    mpg  cylinders  displacement horsepower  weight  acceleration  model_year  \\\n",
              "0  18.0          8         307.0      130.0  3504.0          12.0          70   \n",
              "1  15.0          8         350.0      165.0  3693.0          11.5          70   \n",
              "2  18.0          8         318.0      150.0  3436.0          11.0          70   \n",
              "3  16.0          8         304.0      150.0  3433.0          12.0          70   \n",
              "4  17.0          8         302.0      140.0  3449.0          10.5          70   \n",
              "\n",
              "   origin                   car_name  \n",
              "0       1  chevrolet chevelle malibu  \n",
              "1       1          buick skylark 320  \n",
              "2       1         plymouth satellite  \n",
              "3       1              amc rebel sst  \n",
              "4       1                ford torino  "
            ]
          },
          "execution_count": 5,
          "metadata": {},
          "output_type": "execute_result"
        }
      ],
      "source": [
        "df.head()"
      ]
    },
    {
      "cell_type": "code",
      "execution_count": null,
      "id": "993a0f6b-3752-4d14-9750-d38284cfff21",
      "metadata": {
        "id": "993a0f6b-3752-4d14-9750-d38284cfff21"
      },
      "outputs": [],
      "source": [
        "# 1.60934 / 3.78541"
      ]
    },
    {
      "cell_type": "code",
      "execution_count": null,
      "id": "7f8035d2-5943-4e42-b99a-2fe0c497af38",
      "metadata": {
        "id": "7f8035d2-5943-4e42-b99a-2fe0c497af38",
        "outputId": "21dfc663-6efd-4d9e-df03-6b7229e8aa98"
      },
      "outputs": [
        {
          "data": {
            "text/plain": [
              "0.42514285110463595"
            ]
          },
          "execution_count": 7,
          "metadata": {},
          "output_type": "execute_result"
        }
      ],
      "source": [
        "1.60934 / 3.78541"
      ]
    },
    {
      "cell_type": "code",
      "execution_count": null,
      "id": "55b34558-d22b-459a-88a5-123d36c1df4a",
      "metadata": {
        "id": "55b34558-d22b-459a-88a5-123d36c1df4a"
      },
      "outputs": [],
      "source": [
        "mpg_to_kpl=1.60934 / 3.78541"
      ]
    },
    {
      "cell_type": "code",
      "execution_count": null,
      "id": "9e743115-e0bc-4153-9fca-68826faa55dd",
      "metadata": {
        "id": "9e743115-e0bc-4153-9fca-68826faa55dd"
      },
      "outputs": [],
      "source": [
        "df['kpl'] = df['mpg']*mpg_to_kpl"
      ]
    },
    {
      "cell_type": "code",
      "execution_count": null,
      "id": "700f479e-9f1b-4021-9dfc-edf47405ef1c",
      "metadata": {
        "id": "700f479e-9f1b-4021-9dfc-edf47405ef1c",
        "outputId": "23b5d0fb-6a85-45ed-fee0-27bf063f0cb9"
      },
      "outputs": [
        {
          "data": {
            "text/html": [
              "<div>\n",
              "<style scoped>\n",
              "    .dataframe tbody tr th:only-of-type {\n",
              "        vertical-align: middle;\n",
              "    }\n",
              "\n",
              "    .dataframe tbody tr th {\n",
              "        vertical-align: top;\n",
              "    }\n",
              "\n",
              "    .dataframe thead th {\n",
              "        text-align: right;\n",
              "    }\n",
              "</style>\n",
              "<table border=\"1\" class=\"dataframe\">\n",
              "  <thead>\n",
              "    <tr style=\"text-align: right;\">\n",
              "      <th></th>\n",
              "      <th>mpg</th>\n",
              "      <th>cylinders</th>\n",
              "      <th>displacement</th>\n",
              "      <th>horsepower</th>\n",
              "      <th>weight</th>\n",
              "      <th>acceleration</th>\n",
              "      <th>model_year</th>\n",
              "      <th>origin</th>\n",
              "      <th>car_name</th>\n",
              "      <th>kpl</th>\n",
              "    </tr>\n",
              "  </thead>\n",
              "  <tbody>\n",
              "    <tr>\n",
              "      <th>0</th>\n",
              "      <td>18.0</td>\n",
              "      <td>8</td>\n",
              "      <td>307.0</td>\n",
              "      <td>130.0</td>\n",
              "      <td>3504.0</td>\n",
              "      <td>12.0</td>\n",
              "      <td>70</td>\n",
              "      <td>1</td>\n",
              "      <td>chevrolet chevelle malibu</td>\n",
              "      <td>7.652571</td>\n",
              "    </tr>\n",
              "    <tr>\n",
              "      <th>1</th>\n",
              "      <td>15.0</td>\n",
              "      <td>8</td>\n",
              "      <td>350.0</td>\n",
              "      <td>165.0</td>\n",
              "      <td>3693.0</td>\n",
              "      <td>11.5</td>\n",
              "      <td>70</td>\n",
              "      <td>1</td>\n",
              "      <td>buick skylark 320</td>\n",
              "      <td>6.377143</td>\n",
              "    </tr>\n",
              "    <tr>\n",
              "      <th>2</th>\n",
              "      <td>18.0</td>\n",
              "      <td>8</td>\n",
              "      <td>318.0</td>\n",
              "      <td>150.0</td>\n",
              "      <td>3436.0</td>\n",
              "      <td>11.0</td>\n",
              "      <td>70</td>\n",
              "      <td>1</td>\n",
              "      <td>plymouth satellite</td>\n",
              "      <td>7.652571</td>\n",
              "    </tr>\n",
              "    <tr>\n",
              "      <th>3</th>\n",
              "      <td>16.0</td>\n",
              "      <td>8</td>\n",
              "      <td>304.0</td>\n",
              "      <td>150.0</td>\n",
              "      <td>3433.0</td>\n",
              "      <td>12.0</td>\n",
              "      <td>70</td>\n",
              "      <td>1</td>\n",
              "      <td>amc rebel sst</td>\n",
              "      <td>6.802286</td>\n",
              "    </tr>\n",
              "    <tr>\n",
              "      <th>4</th>\n",
              "      <td>17.0</td>\n",
              "      <td>8</td>\n",
              "      <td>302.0</td>\n",
              "      <td>140.0</td>\n",
              "      <td>3449.0</td>\n",
              "      <td>10.5</td>\n",
              "      <td>70</td>\n",
              "      <td>1</td>\n",
              "      <td>ford torino</td>\n",
              "      <td>7.227428</td>\n",
              "    </tr>\n",
              "  </tbody>\n",
              "</table>\n",
              "</div>"
            ],
            "text/plain": [
              "    mpg  cylinders  displacement horsepower  weight  acceleration  model_year  \\\n",
              "0  18.0          8         307.0      130.0  3504.0          12.0          70   \n",
              "1  15.0          8         350.0      165.0  3693.0          11.5          70   \n",
              "2  18.0          8         318.0      150.0  3436.0          11.0          70   \n",
              "3  16.0          8         304.0      150.0  3433.0          12.0          70   \n",
              "4  17.0          8         302.0      140.0  3449.0          10.5          70   \n",
              "\n",
              "   origin                   car_name       kpl  \n",
              "0       1  chevrolet chevelle malibu  7.652571  \n",
              "1       1          buick skylark 320  6.377143  \n",
              "2       1         plymouth satellite  7.652571  \n",
              "3       1              amc rebel sst  6.802286  \n",
              "4       1                ford torino  7.227428  "
            ]
          },
          "execution_count": 10,
          "metadata": {},
          "output_type": "execute_result"
        }
      ],
      "source": [
        "df.head()"
      ]
    },
    {
      "cell_type": "markdown",
      "id": "86ce11a5-7291-4854-af52-d02aea16bbbc",
      "metadata": {
        "id": "86ce11a5-7291-4854-af52-d02aea16bbbc"
      },
      "source": [
        "이러한 경우, \"실린더\" 열은 명목형 변수로 간주됩니다. 이는 그 자체로 범주를 나타내며, 순서나 간격의 개념이 없습니다.\n",
        "\n",
        "실린더 수가 증가함에 따라 엔진의 성능이 일반적으로 증가하지만, 이는 단순히 실린더 수의 증가 때문만이 아니라 다양한 다른 요인들에 의해 영향을 받을 수 있습니다. 따라서 \"실린더\" 열을 순서형, 등간형 또는 비율형 변수로 처리하는 것은 적절하지 않습니다. 대신, 이를 명목형 변수로 처리하여 각 범주에 대한 정보를 고려하는 것이 바람직합니다."
      ]
    },
    {
      "cell_type": "code",
      "execution_count": null,
      "id": "6ac1180c-2b39-45e4-9521-3e06877c0f54",
      "metadata": {
        "id": "6ac1180c-2b39-45e4-9521-3e06877c0f54",
        "outputId": "26b313e1-475a-4274-8d57-b9236d3454a4"
      },
      "outputs": [
        {
          "data": {
            "text/plain": [
              "cylinders\n",
              "4    204\n",
              "8    103\n",
              "6     84\n",
              "3      4\n",
              "5      3\n",
              "Name: count, dtype: int64"
            ]
          },
          "execution_count": 17,
          "metadata": {},
          "output_type": "execute_result"
        }
      ],
      "source": [
        "df.cylinders.value_counts()"
      ]
    },
    {
      "cell_type": "markdown",
      "id": "047887d3-9ab7-4bff-8c08-cbcbac39ead2",
      "metadata": {
        "id": "047887d3-9ab7-4bff-8c08-cbcbac39ead2"
      },
      "source": [
        "모델연도\" 열은 주로 자동차의 생산 연도를 나타냅니다. 예를 들어, 1980년 모델이나 1990년 모델 등이 될 수 있습니다. 이러한 경우, \"모델연도\" 열은 주로 순서형 변수로 간주됩니다.\n",
        "\n",
        "순서형 변수는 값들 간에 순서가 있고, 서수로 나타낼 수 있는 변수입니다. \"모델연도\"의 경우, 연도가 증가할수록 시간적으로 더 최근에 생산된 자동차임을 나타내므로 순서를 가집니다.\n",
        "\n",
        "하지만 \"모델연도\"를 등간형 변수로 처리할 수도 있습니다. 등간형 변수는 값들 간에 일정한 간격이 있고, 서수로 나타낼 수 있는 변수입니다. 예를 들어, 두 연도 사이의 간격이 정확히 1년일 경우 등간형 변수로 처리할 수 있습니다.\n",
        "\n",
        "따라서 \"모델연도\"를 순서형 변수로 처리하는 것이 일반적으로 더 적절할 것으로 생각됩니다. 그러나 분석의 목적과 특성에 따라 등간형 변수로 처리하는 것도 가능합니다."
      ]
    },
    {
      "cell_type": "code",
      "execution_count": null,
      "id": "11b55634-5bca-4762-b9fc-78e8962cea87",
      "metadata": {
        "id": "11b55634-5bca-4762-b9fc-78e8962cea87",
        "outputId": "b71617bd-6207-46e9-ae6a-46b78a3b1db7"
      },
      "outputs": [
        {
          "data": {
            "text/plain": [
              "model_year\n",
              "73    40\n",
              "78    36\n",
              "76    34\n",
              "82    31\n",
              "75    30\n",
              "70    29\n",
              "79    29\n",
              "80    29\n",
              "81    29\n",
              "71    28\n",
              "72    28\n",
              "77    28\n",
              "74    27\n",
              "Name: count, dtype: int64"
            ]
          },
          "execution_count": 18,
          "metadata": {},
          "output_type": "execute_result"
        }
      ],
      "source": [
        "df.model_year.value_counts()"
      ]
    },
    {
      "cell_type": "code",
      "execution_count": null,
      "id": "65d15d0e-75a1-4786-8b78-5208b8d9450b",
      "metadata": {
        "id": "65d15d0e-75a1-4786-8b78-5208b8d9450b",
        "outputId": "bd32caa6-f155-4f70-e623-976d8a568fbc"
      },
      "outputs": [
        {
          "data": {
            "text/plain": [
              "model_year\n",
              "70    29\n",
              "71    28\n",
              "72    28\n",
              "73    40\n",
              "74    27\n",
              "75    30\n",
              "76    34\n",
              "77    28\n",
              "78    36\n",
              "79    29\n",
              "80    29\n",
              "81    29\n",
              "82    31\n",
              "Name: count, dtype: int64"
            ]
          },
          "execution_count": 23,
          "metadata": {},
          "output_type": "execute_result"
        }
      ],
      "source": [
        "df.model_year.value_counts().sort_index()"
      ]
    },
    {
      "cell_type": "code",
      "execution_count": null,
      "id": "c92f2232-ab7d-4aa2-9f68-1489e76df0cf",
      "metadata": {
        "id": "c92f2232-ab7d-4aa2-9f68-1489e76df0cf",
        "outputId": "2d2c78a9-cf0d-49a5-ee62-022c1679176e"
      },
      "outputs": [
        {
          "data": {
            "text/plain": [
              "model_year\n",
              "74    27\n",
              "71    28\n",
              "72    28\n",
              "77    28\n",
              "70    29\n",
              "79    29\n",
              "80    29\n",
              "81    29\n",
              "75    30\n",
              "82    31\n",
              "76    34\n",
              "78    36\n",
              "73    40\n",
              "Name: count, dtype: int64"
            ]
          },
          "execution_count": 25,
          "metadata": {},
          "output_type": "execute_result"
        }
      ],
      "source": [
        "df.model_year.value_counts().sort_values()"
      ]
    },
    {
      "cell_type": "code",
      "execution_count": null,
      "id": "a864af49-62cc-4696-8c07-2fe04692099c",
      "metadata": {
        "id": "a864af49-62cc-4696-8c07-2fe04692099c"
      },
      "outputs": [],
      "source": [
        "# np.sort(df.model_year)"
      ]
    },
    {
      "cell_type": "code",
      "execution_count": null,
      "id": "5f7caabf-05de-4fd3-b048-f5839d2f8445",
      "metadata": {
        "id": "5f7caabf-05de-4fd3-b048-f5839d2f8445"
      },
      "outputs": [],
      "source": [
        "df['kpl']=df['kpl'].round(2)"
      ]
    },
    {
      "cell_type": "code",
      "execution_count": null,
      "id": "123b4b5c-79fc-45bf-9e6b-60b163c65f24",
      "metadata": {
        "id": "123b4b5c-79fc-45bf-9e6b-60b163c65f24",
        "outputId": "3c65c6e6-b106-46fc-be13-7d1600d9597d"
      },
      "outputs": [
        {
          "data": {
            "text/html": [
              "<div>\n",
              "<style scoped>\n",
              "    .dataframe tbody tr th:only-of-type {\n",
              "        vertical-align: middle;\n",
              "    }\n",
              "\n",
              "    .dataframe tbody tr th {\n",
              "        vertical-align: top;\n",
              "    }\n",
              "\n",
              "    .dataframe thead th {\n",
              "        text-align: right;\n",
              "    }\n",
              "</style>\n",
              "<table border=\"1\" class=\"dataframe\">\n",
              "  <thead>\n",
              "    <tr style=\"text-align: right;\">\n",
              "      <th></th>\n",
              "      <th>mpg</th>\n",
              "      <th>cylinders</th>\n",
              "      <th>displacement</th>\n",
              "      <th>horsepower</th>\n",
              "      <th>weight</th>\n",
              "      <th>acceleration</th>\n",
              "      <th>model_year</th>\n",
              "      <th>origin</th>\n",
              "      <th>car_name</th>\n",
              "      <th>kpl</th>\n",
              "    </tr>\n",
              "  </thead>\n",
              "  <tbody>\n",
              "    <tr>\n",
              "      <th>0</th>\n",
              "      <td>18.0</td>\n",
              "      <td>8</td>\n",
              "      <td>307.0</td>\n",
              "      <td>130.0</td>\n",
              "      <td>3504.0</td>\n",
              "      <td>12.0</td>\n",
              "      <td>70</td>\n",
              "      <td>1</td>\n",
              "      <td>chevrolet chevelle malibu</td>\n",
              "      <td>7.65</td>\n",
              "    </tr>\n",
              "    <tr>\n",
              "      <th>1</th>\n",
              "      <td>15.0</td>\n",
              "      <td>8</td>\n",
              "      <td>350.0</td>\n",
              "      <td>165.0</td>\n",
              "      <td>3693.0</td>\n",
              "      <td>11.5</td>\n",
              "      <td>70</td>\n",
              "      <td>1</td>\n",
              "      <td>buick skylark 320</td>\n",
              "      <td>6.38</td>\n",
              "    </tr>\n",
              "    <tr>\n",
              "      <th>2</th>\n",
              "      <td>18.0</td>\n",
              "      <td>8</td>\n",
              "      <td>318.0</td>\n",
              "      <td>150.0</td>\n",
              "      <td>3436.0</td>\n",
              "      <td>11.0</td>\n",
              "      <td>70</td>\n",
              "      <td>1</td>\n",
              "      <td>plymouth satellite</td>\n",
              "      <td>7.65</td>\n",
              "    </tr>\n",
              "    <tr>\n",
              "      <th>3</th>\n",
              "      <td>16.0</td>\n",
              "      <td>8</td>\n",
              "      <td>304.0</td>\n",
              "      <td>150.0</td>\n",
              "      <td>3433.0</td>\n",
              "      <td>12.0</td>\n",
              "      <td>70</td>\n",
              "      <td>1</td>\n",
              "      <td>amc rebel sst</td>\n",
              "      <td>6.80</td>\n",
              "    </tr>\n",
              "    <tr>\n",
              "      <th>4</th>\n",
              "      <td>17.0</td>\n",
              "      <td>8</td>\n",
              "      <td>302.0</td>\n",
              "      <td>140.0</td>\n",
              "      <td>3449.0</td>\n",
              "      <td>10.5</td>\n",
              "      <td>70</td>\n",
              "      <td>1</td>\n",
              "      <td>ford torino</td>\n",
              "      <td>7.23</td>\n",
              "    </tr>\n",
              "  </tbody>\n",
              "</table>\n",
              "</div>"
            ],
            "text/plain": [
              "    mpg  cylinders  displacement horsepower  weight  acceleration  model_year  \\\n",
              "0  18.0          8         307.0      130.0  3504.0          12.0          70   \n",
              "1  15.0          8         350.0      165.0  3693.0          11.5          70   \n",
              "2  18.0          8         318.0      150.0  3436.0          11.0          70   \n",
              "3  16.0          8         304.0      150.0  3433.0          12.0          70   \n",
              "4  17.0          8         302.0      140.0  3449.0          10.5          70   \n",
              "\n",
              "   origin                   car_name   kpl  \n",
              "0       1  chevrolet chevelle malibu  7.65  \n",
              "1       1          buick skylark 320  6.38  \n",
              "2       1         plymouth satellite  7.65  \n",
              "3       1              amc rebel sst  6.80  \n",
              "4       1                ford torino  7.23  "
            ]
          },
          "execution_count": 12,
          "metadata": {},
          "output_type": "execute_result"
        }
      ],
      "source": [
        "df.head()"
      ]
    },
    {
      "cell_type": "code",
      "execution_count": null,
      "id": "b8efef68-fff4-42cf-9b9c-85df101bc11d",
      "metadata": {
        "id": "b8efef68-fff4-42cf-9b9c-85df101bc11d",
        "outputId": "c249b9a5-3a85-448d-e00e-68c8c6b7f2ef"
      },
      "outputs": [
        {
          "data": {
            "text/plain": [
              "mpg             float64\n",
              "cylinders         int64\n",
              "displacement    float64\n",
              "horsepower       object\n",
              "weight          float64\n",
              "acceleration    float64\n",
              "model_year        int64\n",
              "origin            int64\n",
              "car_name         object\n",
              "kpl             float64\n",
              "dtype: object"
            ]
          },
          "execution_count": 13,
          "metadata": {},
          "output_type": "execute_result"
        }
      ],
      "source": [
        "df.dtypes"
      ]
    },
    {
      "cell_type": "code",
      "execution_count": null,
      "id": "6daad2f3-bdab-4329-bb09-67bbb794cbe1",
      "metadata": {
        "id": "6daad2f3-bdab-4329-bb09-67bbb794cbe1",
        "outputId": "cc7cd01b-77d1-445d-dc41-9d8edeb313bf"
      },
      "outputs": [
        {
          "data": {
            "text/plain": [
              "array([1, 3, 2], dtype=int64)"
            ]
          },
          "execution_count": 26,
          "metadata": {},
          "output_type": "execute_result"
        }
      ],
      "source": [
        "df.origin.unique()"
      ]
    },
    {
      "cell_type": "code",
      "execution_count": null,
      "id": "32d23dcd-ae11-4d8f-b6c2-37e16a12921c",
      "metadata": {
        "id": "32d23dcd-ae11-4d8f-b6c2-37e16a12921c",
        "outputId": "27a86e18-9e89-456e-f9e6-3b3fd28e5946"
      },
      "outputs": [
        {
          "data": {
            "text/plain": [
              "origin\n",
              "1    249\n",
              "3     79\n",
              "2     70\n",
              "Name: count, dtype: int64"
            ]
          },
          "execution_count": 28,
          "metadata": {},
          "output_type": "execute_result"
        }
      ],
      "source": [
        "df.origin.value_counts()  #1: 미국 2: 유럽 3: 아시아"
      ]
    },
    {
      "cell_type": "code",
      "execution_count": null,
      "id": "7d1e0432-58b2-409b-a19f-efcd6a996036",
      "metadata": {
        "id": "7d1e0432-58b2-409b-a19f-efcd6a996036",
        "outputId": "2e4d1037-d953-41a1-a55d-ee7b30cdc4e3"
      },
      "outputs": [
        {
          "data": {
            "text/plain": [
              "array(['130.0', '165.0', '150.0', '140.0', '198.0', '220.0', '215.0',\n",
              "       '225.0', '190.0', '170.0', '160.0', '95.00', '97.00', '85.00',\n",
              "       '88.00', '46.00', '87.00', '90.00', '113.0', '200.0', '210.0',\n",
              "       '193.0', '?', '100.0', '105.0', '175.0', '153.0', '180.0', '110.0',\n",
              "       '72.00', '86.00', '70.00', '76.00', '65.00', '69.00', '60.00',\n",
              "       '80.00', '54.00', '208.0', '155.0', '112.0', '92.00', '145.0',\n",
              "       '137.0', '158.0', '167.0', '94.00', '107.0', '230.0', '49.00',\n",
              "       '75.00', '91.00', '122.0', '67.00', '83.00', '78.00', '52.00',\n",
              "       '61.00', '93.00', '148.0', '129.0', '96.00', '71.00', '98.00',\n",
              "       '115.0', '53.00', '81.00', '79.00', '120.0', '152.0', '102.0',\n",
              "       '108.0', '68.00', '58.00', '149.0', '89.00', '63.00', '48.00',\n",
              "       '66.00', '139.0', '103.0', '125.0', '133.0', '138.0', '135.0',\n",
              "       '142.0', '77.00', '62.00', '132.0', '84.00', '64.00', '74.00',\n",
              "       '116.0', '82.00'], dtype=object)"
            ]
          },
          "execution_count": 16,
          "metadata": {},
          "output_type": "execute_result"
        }
      ],
      "source": [
        "df['horsepower'].unique()"
      ]
    },
    {
      "cell_type": "code",
      "execution_count": null,
      "id": "409be990-1b40-4e7c-a7d1-4f2c24f0e636",
      "metadata": {
        "id": "409be990-1b40-4e7c-a7d1-4f2c24f0e636"
      },
      "outputs": [],
      "source": [
        "df['origin'].replace({1:'USA',2:'EU',3:'JAPAN'}, inplace=True)"
      ]
    },
    {
      "cell_type": "code",
      "execution_count": null,
      "id": "d8854237-dd28-4eb7-af24-00b8defa773e",
      "metadata": {
        "id": "d8854237-dd28-4eb7-af24-00b8defa773e",
        "outputId": "164809de-a2ab-477d-98bc-bfb49895bfa6"
      },
      "outputs": [
        {
          "data": {
            "text/plain": [
              "array(['USA', 'JAPAN', 'EU'], dtype=object)"
            ]
          },
          "execution_count": 30,
          "metadata": {},
          "output_type": "execute_result"
        }
      ],
      "source": [
        "df.origin.unique()"
      ]
    },
    {
      "cell_type": "code",
      "execution_count": null,
      "id": "5c42a3ca-0f59-4137-a63e-5852a3f33c5f",
      "metadata": {
        "id": "5c42a3ca-0f59-4137-a63e-5852a3f33c5f"
      },
      "outputs": [],
      "source": [
        "df['origin']=df['origin'].astype('category')"
      ]
    },
    {
      "cell_type": "code",
      "execution_count": null,
      "id": "97fe7451-ca2c-49a7-9d70-038e78c27f5a",
      "metadata": {
        "id": "97fe7451-ca2c-49a7-9d70-038e78c27f5a",
        "outputId": "13c3d1e3-ec55-4a71-90ff-426fe1beb089"
      },
      "outputs": [
        {
          "data": {
            "text/plain": [
              "CategoricalDtype(categories=['EU', 'JAPAN', 'USA'], ordered=False, categories_dtype=object)"
            ]
          },
          "execution_count": 32,
          "metadata": {},
          "output_type": "execute_result"
        }
      ],
      "source": [
        "df['origin'].dtypes"
      ]
    },
    {
      "cell_type": "code",
      "execution_count": null,
      "id": "574a75e2-b077-4c7a-8d83-effad55a089a",
      "metadata": {
        "id": "574a75e2-b077-4c7a-8d83-effad55a089a"
      },
      "outputs": [],
      "source": [
        "df['origin']=df['origin'].astype('str')"
      ]
    },
    {
      "cell_type": "code",
      "execution_count": null,
      "id": "bd7b9aca-302d-4f96-96ab-3b5ad57ae0e3",
      "metadata": {
        "id": "bd7b9aca-302d-4f96-96ab-3b5ad57ae0e3",
        "outputId": "ebe26fc0-b371-4b8d-e139-35aa57d89db2"
      },
      "outputs": [
        {
          "data": {
            "text/plain": [
              "dtype('O')"
            ]
          },
          "execution_count": 34,
          "metadata": {},
          "output_type": "execute_result"
        }
      ],
      "source": [
        "df['origin'].dtypes"
      ]
    },
    {
      "cell_type": "code",
      "execution_count": null,
      "id": "d98f3d81-33fe-4629-80c6-0c2bd3036e94",
      "metadata": {
        "id": "d98f3d81-33fe-4629-80c6-0c2bd3036e94",
        "outputId": "e7d84ef4-12c0-43e2-ddaf-fc45e8e87dba"
      },
      "outputs": [
        {
          "name": "stdout",
          "output_type": "stream",
          "text": [
            "object\n"
          ]
        }
      ],
      "source": [
        "print(df['origin'].dtypes)"
      ]
    },
    {
      "cell_type": "code",
      "execution_count": null,
      "id": "884959d3-2a4f-4ed8-9084-533dab3cae69",
      "metadata": {
        "id": "884959d3-2a4f-4ed8-9084-533dab3cae69",
        "outputId": "26481835-356a-4378-a280-4ee97aa91c65"
      },
      "outputs": [
        {
          "data": {
            "text/plain": [
              "0      70\n",
              "1      70\n",
              "2      70\n",
              "3      70\n",
              "4      70\n",
              "       ..\n",
              "393    82\n",
              "394    82\n",
              "395    82\n",
              "396    82\n",
              "397    82\n",
              "Name: model_year, Length: 398, dtype: int64"
            ]
          },
          "execution_count": 36,
          "metadata": {},
          "output_type": "execute_result"
        }
      ],
      "source": [
        "df.model_year"
      ]
    },
    {
      "cell_type": "code",
      "execution_count": null,
      "id": "955ddc89-4866-4906-98fb-8c8b90f738de",
      "metadata": {
        "id": "955ddc89-4866-4906-98fb-8c8b90f738de",
        "outputId": "8d856ff4-00b2-45ab-b279-422271ae9e8b"
      },
      "outputs": [
        {
          "data": {
            "text/plain": [
              "361    81\n",
              "151    74\n",
              "347    81\n",
              "Name: model_year, dtype: int64"
            ]
          },
          "execution_count": 37,
          "metadata": {},
          "output_type": "execute_result"
        }
      ],
      "source": [
        "df['model_year'].sample(3)"
      ]
    },
    {
      "cell_type": "code",
      "execution_count": null,
      "id": "b4e35c54-6724-4139-91e3-47acea2b1346",
      "metadata": {
        "id": "b4e35c54-6724-4139-91e3-47acea2b1346"
      },
      "outputs": [],
      "source": [
        "df['model_year']=df['model_year'].astype('category')"
      ]
    },
    {
      "cell_type": "code",
      "execution_count": null,
      "id": "b36a88a1-4fe8-4c94-803f-70a04c180825",
      "metadata": {
        "id": "b36a88a1-4fe8-4c94-803f-70a04c180825",
        "outputId": "db9667e2-b1dc-49db-af31-616ba153af64"
      },
      "outputs": [
        {
          "data": {
            "text/plain": [
              "222    77\n",
              "232    77\n",
              "375    82\n",
              "Name: model_year, dtype: category\n",
              "Categories (13, int64): [70, 71, 72, 73, ..., 79, 80, 81, 82]"
            ]
          },
          "execution_count": 39,
          "metadata": {},
          "output_type": "execute_result"
        }
      ],
      "source": [
        "df['model_year'].sample(3)"
      ]
    },
    {
      "cell_type": "markdown",
      "id": "b31ff7d2-cf83-428a-b039-ce8fdc1e0edf",
      "metadata": {
        "id": "b31ff7d2-cf83-428a-b039-ce8fdc1e0edf"
      },
      "source": [
        "### 범주형 데이터 변환(구간 분할)"
      ]
    },
    {
      "cell_type": "code",
      "execution_count": null,
      "id": "7717c79f-a154-4327-9549-0d23b1d9443e",
      "metadata": {
        "id": "7717c79f-a154-4327-9549-0d23b1d9443e"
      },
      "outputs": [],
      "source": [
        "df=pd.read_csv('./auto-mpg.csv',header=None)"
      ]
    },
    {
      "cell_type": "code",
      "execution_count": null,
      "id": "656ee26f-1f38-4534-8b50-dbdf8ff92244",
      "metadata": {
        "id": "656ee26f-1f38-4534-8b50-dbdf8ff92244"
      },
      "outputs": [],
      "source": [
        "df.columns=['mpg','cylinders','displacement','horsepower','weight','acceleration','model_year','origin','car_name']"
      ]
    },
    {
      "cell_type": "code",
      "execution_count": null,
      "id": "f82953db-ee58-4feb-b3d8-8bc5c45d785d",
      "metadata": {
        "id": "f82953db-ee58-4feb-b3d8-8bc5c45d785d"
      },
      "outputs": [],
      "source": [
        "horsepower_series=df['horsepower']"
      ]
    },
    {
      "cell_type": "code",
      "execution_count": null,
      "id": "df00b96a-5a01-4fcf-a366-57daa06da2bb",
      "metadata": {
        "id": "df00b96a-5a01-4fcf-a366-57daa06da2bb",
        "outputId": "4706e93d-42a1-4526-f8ca-b3d371e9772f"
      },
      "outputs": [
        {
          "data": {
            "text/plain": [
              "32     ?\n",
              "126    ?\n",
              "330    ?\n",
              "336    ?\n",
              "354    ?\n",
              "374    ?\n",
              "Name: horsepower, dtype: object"
            ]
          },
          "execution_count": 52,
          "metadata": {},
          "output_type": "execute_result"
        }
      ],
      "source": [
        "horsepower_series[horsepower_series=='?']"
      ]
    },
    {
      "cell_type": "code",
      "execution_count": null,
      "id": "fa419892-e082-4a63-aa40-f232e86aa5d1",
      "metadata": {
        "id": "fa419892-e082-4a63-aa40-f232e86aa5d1",
        "outputId": "92a805fb-0828-4239-d5ba-110914c33da6"
      },
      "outputs": [
        {
          "data": {
            "text/plain": [
              "Index([32, 126, 330, 336, 354, 374], dtype='int64')"
            ]
          },
          "execution_count": 53,
          "metadata": {},
          "output_type": "execute_result"
        }
      ],
      "source": [
        "horsepower_series[horsepower_series=='?'].index"
      ]
    },
    {
      "cell_type": "code",
      "execution_count": null,
      "id": "3e875a73-6ab6-4c84-ac70-a6c0be12b9b4",
      "metadata": {
        "id": "3e875a73-6ab6-4c84-ac70-a6c0be12b9b4"
      },
      "outputs": [],
      "source": [
        "df['horsepower'].replace('?', np.nan, inplace=True)"
      ]
    },
    {
      "cell_type": "code",
      "execution_count": null,
      "id": "4dedc9bb-aa91-4551-a23f-22b4fb23a029",
      "metadata": {
        "id": "4dedc9bb-aa91-4551-a23f-22b4fb23a029",
        "outputId": "ce44c6ff-87fc-43b7-d8ca-046e68e75235"
      },
      "outputs": [
        {
          "data": {
            "text/plain": [
              "Index([], dtype='int64')"
            ]
          },
          "execution_count": 55,
          "metadata": {},
          "output_type": "execute_result"
        }
      ],
      "source": [
        "horsepower_series[horsepower_series=='?'].index"
      ]
    },
    {
      "cell_type": "code",
      "execution_count": null,
      "id": "7a0611ec-e00e-4a55-87bb-514b6f092815",
      "metadata": {
        "id": "7a0611ec-e00e-4a55-87bb-514b6f092815",
        "outputId": "3eb17be9-5ace-4392-d2ec-66eb1a3aeb4b"
      },
      "outputs": [
        {
          "data": {
            "text/plain": [
              "6"
            ]
          },
          "execution_count": 58,
          "metadata": {},
          "output_type": "execute_result"
        }
      ],
      "source": [
        "horsepower_series.isnull().sum()"
      ]
    },
    {
      "cell_type": "code",
      "execution_count": null,
      "id": "2c0282ca-3151-446d-a791-7f0ed9318542",
      "metadata": {
        "id": "2c0282ca-3151-446d-a791-7f0ed9318542"
      },
      "outputs": [],
      "source": [
        "df.dropna(subset=['horsepower'], axis=0, inplace=True)"
      ]
    },
    {
      "cell_type": "code",
      "execution_count": null,
      "id": "1194700d-ef21-42e9-b1f4-1a9fad0b960b",
      "metadata": {
        "id": "1194700d-ef21-42e9-b1f4-1a9fad0b960b",
        "outputId": "7da36788-d85f-4ec9-bd61-004f1c069e7d"
      },
      "outputs": [
        {
          "data": {
            "text/plain": [
              "0"
            ]
          },
          "execution_count": 61,
          "metadata": {},
          "output_type": "execute_result"
        }
      ],
      "source": [
        "df['horsepower'].isnull().sum()"
      ]
    },
    {
      "cell_type": "code",
      "execution_count": null,
      "id": "f1b6c4d1-1cc5-4394-b702-fcfcd5b9da4a",
      "metadata": {
        "id": "f1b6c4d1-1cc5-4394-b702-fcfcd5b9da4a"
      },
      "outputs": [],
      "source": [
        "# 398-6"
      ]
    },
    {
      "cell_type": "code",
      "execution_count": null,
      "id": "8080a4f8-5fa2-4cd0-9b35-5815c15c55be",
      "metadata": {
        "id": "8080a4f8-5fa2-4cd0-9b35-5815c15c55be",
        "outputId": "25a7bae9-3619-4e64-dd1c-90fed91e33cb"
      },
      "outputs": [
        {
          "data": {
            "text/plain": [
              "392"
            ]
          },
          "execution_count": 62,
          "metadata": {},
          "output_type": "execute_result"
        }
      ],
      "source": [
        "len(df)"
      ]
    },
    {
      "cell_type": "code",
      "execution_count": null,
      "id": "83475c33-a741-4af7-82d5-d05e19593868",
      "metadata": {
        "id": "83475c33-a741-4af7-82d5-d05e19593868"
      },
      "outputs": [],
      "source": [
        "#"
      ]
    },
    {
      "cell_type": "code",
      "execution_count": null,
      "id": "7f27332f-1485-423e-b4d9-cc0e4e5e225c",
      "metadata": {
        "id": "7f27332f-1485-423e-b4d9-cc0e4e5e225c",
        "outputId": "23120b3f-e755-40b8-8945-719631a1e15c"
      },
      "outputs": [
        {
          "data": {
            "text/plain": [
              "dtype('O')"
            ]
          },
          "execution_count": 65,
          "metadata": {},
          "output_type": "execute_result"
        }
      ],
      "source": [
        "df['horsepower'].dtype"
      ]
    },
    {
      "cell_type": "code",
      "execution_count": null,
      "id": "9e1f29ac-ade1-4dd2-9328-914d3ae0e624",
      "metadata": {
        "id": "9e1f29ac-ade1-4dd2-9328-914d3ae0e624"
      },
      "outputs": [],
      "source": [
        "df['horsepower']=df['horsepower'].astype('float')"
      ]
    },
    {
      "cell_type": "code",
      "execution_count": null,
      "id": "e0ec5264-ede1-4de0-ac9f-bcdf34653524",
      "metadata": {
        "id": "e0ec5264-ede1-4de0-ac9f-bcdf34653524"
      },
      "outputs": [],
      "source": [
        "count, bin_dividers=np.histogram(df['horsepower'],bins=3)"
      ]
    },
    {
      "cell_type": "code",
      "execution_count": null,
      "id": "593bf1b5-704f-4d0a-bef1-7814be4430fe",
      "metadata": {
        "id": "593bf1b5-704f-4d0a-bef1-7814be4430fe",
        "outputId": "7dcd869f-7d89-4db8-c70c-a01d150f09ea"
      },
      "outputs": [
        {
          "name": "stdout",
          "output_type": "stream",
          "text": [
            "[257 103  32] [ 46.         107.33333333 168.66666667 230.        ]\n"
          ]
        }
      ],
      "source": [
        "print(count, bin_dividers)"
      ]
    },
    {
      "cell_type": "code",
      "execution_count": null,
      "id": "ef795645-d2ef-4a24-a1d8-29cbe50c997e",
      "metadata": {
        "id": "ef795645-d2ef-4a24-a1d8-29cbe50c997e",
        "outputId": "b551b94a-6995-4abe-d6ab-158498fb9cb2"
      },
      "outputs": [
        {
          "name": "stdout",
          "output_type": "stream",
          "text": [
            "-61.33333333\n",
            "-61.33333334000001\n",
            "-61.33333332999999\n"
          ]
        }
      ],
      "source": [
        "print(46- 107.33333333)\n",
        "print(107.33333333 - 168.66666667)\n",
        "print(168.66666667 - 230)"
      ]
    },
    {
      "cell_type": "code",
      "execution_count": null,
      "id": "ddc015b1-fa2e-422b-a694-08bd3e3eb932",
      "metadata": {
        "id": "ddc015b1-fa2e-422b-a694-08bd3e3eb932"
      },
      "outputs": [],
      "source": [
        "bin_names=['저출력','보통출력','고출력']"
      ]
    },
    {
      "cell_type": "code",
      "execution_count": null,
      "id": "065621f7-2dbd-4a49-8ecc-b61d5a3c7ed0",
      "metadata": {
        "id": "065621f7-2dbd-4a49-8ecc-b61d5a3c7ed0"
      },
      "outputs": [],
      "source": [
        "df['hp_bin']=pd.cut(x=df['horsepower'],bins=bin_dividers,labels=bin_names,include_lowest=True)"
      ]
    },
    {
      "cell_type": "code",
      "execution_count": null,
      "id": "a806731c-ba83-467a-825c-195a51f5bdc9",
      "metadata": {
        "id": "a806731c-ba83-467a-825c-195a51f5bdc9",
        "outputId": "334465a8-7a1f-4783-a28e-00b53901f191"
      },
      "outputs": [
        {
          "data": {
            "text/plain": [
              "0      보통출력\n",
              "1      보통출력\n",
              "2      보통출력\n",
              "3      보통출력\n",
              "4      보통출력\n",
              "       ... \n",
              "393     저출력\n",
              "394     저출력\n",
              "395     저출력\n",
              "396     저출력\n",
              "397     저출력\n",
              "Name: hp_bin, Length: 392, dtype: category\n",
              "Categories (3, object): ['저출력' < '보통출력' < '고출력']"
            ]
          },
          "execution_count": 72,
          "metadata": {},
          "output_type": "execute_result"
        }
      ],
      "source": [
        "df['hp_bin']"
      ]
    },
    {
      "cell_type": "code",
      "execution_count": null,
      "id": "30f8728c-d480-4f83-bc5a-8e66e8728e78",
      "metadata": {
        "id": "30f8728c-d480-4f83-bc5a-8e66e8728e78",
        "outputId": "c8de4207-2f75-46f8-cd07-3428f4edbb20"
      },
      "outputs": [
        {
          "data": {
            "text/html": [
              "<div>\n",
              "<style scoped>\n",
              "    .dataframe tbody tr th:only-of-type {\n",
              "        vertical-align: middle;\n",
              "    }\n",
              "\n",
              "    .dataframe tbody tr th {\n",
              "        vertical-align: top;\n",
              "    }\n",
              "\n",
              "    .dataframe thead th {\n",
              "        text-align: right;\n",
              "    }\n",
              "</style>\n",
              "<table border=\"1\" class=\"dataframe\">\n",
              "  <thead>\n",
              "    <tr style=\"text-align: right;\">\n",
              "      <th></th>\n",
              "      <th>horsepower</th>\n",
              "      <th>hp_bin</th>\n",
              "    </tr>\n",
              "  </thead>\n",
              "  <tbody>\n",
              "    <tr>\n",
              "      <th>0</th>\n",
              "      <td>130.0</td>\n",
              "      <td>보통출력</td>\n",
              "    </tr>\n",
              "    <tr>\n",
              "      <th>1</th>\n",
              "      <td>165.0</td>\n",
              "      <td>보통출력</td>\n",
              "    </tr>\n",
              "    <tr>\n",
              "      <th>2</th>\n",
              "      <td>150.0</td>\n",
              "      <td>보통출력</td>\n",
              "    </tr>\n",
              "    <tr>\n",
              "      <th>3</th>\n",
              "      <td>150.0</td>\n",
              "      <td>보통출력</td>\n",
              "    </tr>\n",
              "    <tr>\n",
              "      <th>4</th>\n",
              "      <td>140.0</td>\n",
              "      <td>보통출력</td>\n",
              "    </tr>\n",
              "    <tr>\n",
              "      <th>5</th>\n",
              "      <td>198.0</td>\n",
              "      <td>고출력</td>\n",
              "    </tr>\n",
              "    <tr>\n",
              "      <th>6</th>\n",
              "      <td>220.0</td>\n",
              "      <td>고출력</td>\n",
              "    </tr>\n",
              "    <tr>\n",
              "      <th>7</th>\n",
              "      <td>215.0</td>\n",
              "      <td>고출력</td>\n",
              "    </tr>\n",
              "    <tr>\n",
              "      <th>8</th>\n",
              "      <td>225.0</td>\n",
              "      <td>고출력</td>\n",
              "    </tr>\n",
              "    <tr>\n",
              "      <th>9</th>\n",
              "      <td>190.0</td>\n",
              "      <td>고출력</td>\n",
              "    </tr>\n",
              "    <tr>\n",
              "      <th>10</th>\n",
              "      <td>170.0</td>\n",
              "      <td>고출력</td>\n",
              "    </tr>\n",
              "    <tr>\n",
              "      <th>11</th>\n",
              "      <td>160.0</td>\n",
              "      <td>보통출력</td>\n",
              "    </tr>\n",
              "    <tr>\n",
              "      <th>12</th>\n",
              "      <td>150.0</td>\n",
              "      <td>보통출력</td>\n",
              "    </tr>\n",
              "    <tr>\n",
              "      <th>13</th>\n",
              "      <td>225.0</td>\n",
              "      <td>고출력</td>\n",
              "    </tr>\n",
              "    <tr>\n",
              "      <th>14</th>\n",
              "      <td>95.0</td>\n",
              "      <td>저출력</td>\n",
              "    </tr>\n",
              "  </tbody>\n",
              "</table>\n",
              "</div>"
            ],
            "text/plain": [
              "    horsepower hp_bin\n",
              "0        130.0   보통출력\n",
              "1        165.0   보통출력\n",
              "2        150.0   보통출력\n",
              "3        150.0   보통출력\n",
              "4        140.0   보통출력\n",
              "5        198.0    고출력\n",
              "6        220.0    고출력\n",
              "7        215.0    고출력\n",
              "8        225.0    고출력\n",
              "9        190.0    고출력\n",
              "10       170.0    고출력\n",
              "11       160.0   보통출력\n",
              "12       150.0   보통출력\n",
              "13       225.0    고출력\n",
              "14        95.0    저출력"
            ]
          },
          "execution_count": 73,
          "metadata": {},
          "output_type": "execute_result"
        }
      ],
      "source": [
        "df[['horsepower','hp_bin']].head(15)"
      ]
    },
    {
      "cell_type": "markdown",
      "id": "0d229df3-f997-4efd-a3a6-1bdf5e7c28cf",
      "metadata": {
        "id": "0d229df3-f997-4efd-a3a6-1bdf5e7c28cf"
      },
      "source": [
        "## 더미 변수"
      ]
    },
    {
      "cell_type": "code",
      "execution_count": null,
      "id": "898e6fff-8d8b-4f98-b30e-0e087f9af251",
      "metadata": {
        "id": "898e6fff-8d8b-4f98-b30e-0e087f9af251",
        "outputId": "e9003e65-6df0-468a-d4cd-04898b280b05"
      },
      "outputs": [
        {
          "data": {
            "text/html": [
              "<div>\n",
              "<style scoped>\n",
              "    .dataframe tbody tr th:only-of-type {\n",
              "        vertical-align: middle;\n",
              "    }\n",
              "\n",
              "    .dataframe tbody tr th {\n",
              "        vertical-align: top;\n",
              "    }\n",
              "\n",
              "    .dataframe thead th {\n",
              "        text-align: right;\n",
              "    }\n",
              "</style>\n",
              "<table border=\"1\" class=\"dataframe\">\n",
              "  <thead>\n",
              "    <tr style=\"text-align: right;\">\n",
              "      <th></th>\n",
              "      <th>저출력</th>\n",
              "      <th>보통출력</th>\n",
              "      <th>고출력</th>\n",
              "    </tr>\n",
              "  </thead>\n",
              "  <tbody>\n",
              "    <tr>\n",
              "      <th>0</th>\n",
              "      <td>False</td>\n",
              "      <td>True</td>\n",
              "      <td>False</td>\n",
              "    </tr>\n",
              "    <tr>\n",
              "      <th>1</th>\n",
              "      <td>False</td>\n",
              "      <td>True</td>\n",
              "      <td>False</td>\n",
              "    </tr>\n",
              "    <tr>\n",
              "      <th>2</th>\n",
              "      <td>False</td>\n",
              "      <td>True</td>\n",
              "      <td>False</td>\n",
              "    </tr>\n",
              "    <tr>\n",
              "      <th>3</th>\n",
              "      <td>False</td>\n",
              "      <td>True</td>\n",
              "      <td>False</td>\n",
              "    </tr>\n",
              "    <tr>\n",
              "      <th>4</th>\n",
              "      <td>False</td>\n",
              "      <td>True</td>\n",
              "      <td>False</td>\n",
              "    </tr>\n",
              "    <tr>\n",
              "      <th>...</th>\n",
              "      <td>...</td>\n",
              "      <td>...</td>\n",
              "      <td>...</td>\n",
              "    </tr>\n",
              "    <tr>\n",
              "      <th>393</th>\n",
              "      <td>True</td>\n",
              "      <td>False</td>\n",
              "      <td>False</td>\n",
              "    </tr>\n",
              "    <tr>\n",
              "      <th>394</th>\n",
              "      <td>True</td>\n",
              "      <td>False</td>\n",
              "      <td>False</td>\n",
              "    </tr>\n",
              "    <tr>\n",
              "      <th>395</th>\n",
              "      <td>True</td>\n",
              "      <td>False</td>\n",
              "      <td>False</td>\n",
              "    </tr>\n",
              "    <tr>\n",
              "      <th>396</th>\n",
              "      <td>True</td>\n",
              "      <td>False</td>\n",
              "      <td>False</td>\n",
              "    </tr>\n",
              "    <tr>\n",
              "      <th>397</th>\n",
              "      <td>True</td>\n",
              "      <td>False</td>\n",
              "      <td>False</td>\n",
              "    </tr>\n",
              "  </tbody>\n",
              "</table>\n",
              "<p>392 rows × 3 columns</p>\n",
              "</div>"
            ],
            "text/plain": [
              "       저출력   보통출력    고출력\n",
              "0    False   True  False\n",
              "1    False   True  False\n",
              "2    False   True  False\n",
              "3    False   True  False\n",
              "4    False   True  False\n",
              "..     ...    ...    ...\n",
              "393   True  False  False\n",
              "394   True  False  False\n",
              "395   True  False  False\n",
              "396   True  False  False\n",
              "397   True  False  False\n",
              "\n",
              "[392 rows x 3 columns]"
            ]
          },
          "execution_count": 74,
          "metadata": {},
          "output_type": "execute_result"
        }
      ],
      "source": [
        "pd.get_dummies(df['hp_bin'])"
      ]
    },
    {
      "cell_type": "code",
      "execution_count": null,
      "id": "e14a0538-10f2-4617-a073-7b4dde2a7063",
      "metadata": {
        "id": "e14a0538-10f2-4617-a073-7b4dde2a7063",
        "outputId": "33e7476c-fafe-4beb-e5a8-66750e319987"
      },
      "outputs": [
        {
          "data": {
            "text/html": [
              "<div>\n",
              "<style scoped>\n",
              "    .dataframe tbody tr th:only-of-type {\n",
              "        vertical-align: middle;\n",
              "    }\n",
              "\n",
              "    .dataframe tbody tr th {\n",
              "        vertical-align: top;\n",
              "    }\n",
              "\n",
              "    .dataframe thead th {\n",
              "        text-align: right;\n",
              "    }\n",
              "</style>\n",
              "<table border=\"1\" class=\"dataframe\">\n",
              "  <thead>\n",
              "    <tr style=\"text-align: right;\">\n",
              "      <th></th>\n",
              "      <th>저출력</th>\n",
              "      <th>보통출력</th>\n",
              "      <th>고출력</th>\n",
              "    </tr>\n",
              "  </thead>\n",
              "  <tbody>\n",
              "    <tr>\n",
              "      <th>0</th>\n",
              "      <td>0</td>\n",
              "      <td>1</td>\n",
              "      <td>0</td>\n",
              "    </tr>\n",
              "    <tr>\n",
              "      <th>1</th>\n",
              "      <td>0</td>\n",
              "      <td>1</td>\n",
              "      <td>0</td>\n",
              "    </tr>\n",
              "    <tr>\n",
              "      <th>2</th>\n",
              "      <td>0</td>\n",
              "      <td>1</td>\n",
              "      <td>0</td>\n",
              "    </tr>\n",
              "    <tr>\n",
              "      <th>3</th>\n",
              "      <td>0</td>\n",
              "      <td>1</td>\n",
              "      <td>0</td>\n",
              "    </tr>\n",
              "    <tr>\n",
              "      <th>4</th>\n",
              "      <td>0</td>\n",
              "      <td>1</td>\n",
              "      <td>0</td>\n",
              "    </tr>\n",
              "    <tr>\n",
              "      <th>...</th>\n",
              "      <td>...</td>\n",
              "      <td>...</td>\n",
              "      <td>...</td>\n",
              "    </tr>\n",
              "    <tr>\n",
              "      <th>393</th>\n",
              "      <td>1</td>\n",
              "      <td>0</td>\n",
              "      <td>0</td>\n",
              "    </tr>\n",
              "    <tr>\n",
              "      <th>394</th>\n",
              "      <td>1</td>\n",
              "      <td>0</td>\n",
              "      <td>0</td>\n",
              "    </tr>\n",
              "    <tr>\n",
              "      <th>395</th>\n",
              "      <td>1</td>\n",
              "      <td>0</td>\n",
              "      <td>0</td>\n",
              "    </tr>\n",
              "    <tr>\n",
              "      <th>396</th>\n",
              "      <td>1</td>\n",
              "      <td>0</td>\n",
              "      <td>0</td>\n",
              "    </tr>\n",
              "    <tr>\n",
              "      <th>397</th>\n",
              "      <td>1</td>\n",
              "      <td>0</td>\n",
              "      <td>0</td>\n",
              "    </tr>\n",
              "  </tbody>\n",
              "</table>\n",
              "<p>392 rows × 3 columns</p>\n",
              "</div>"
            ],
            "text/plain": [
              "     저출력  보통출력  고출력\n",
              "0      0     1    0\n",
              "1      0     1    0\n",
              "2      0     1    0\n",
              "3      0     1    0\n",
              "4      0     1    0\n",
              "..   ...   ...  ...\n",
              "393    1     0    0\n",
              "394    1     0    0\n",
              "395    1     0    0\n",
              "396    1     0    0\n",
              "397    1     0    0\n",
              "\n",
              "[392 rows x 3 columns]"
            ]
          },
          "execution_count": 75,
          "metadata": {},
          "output_type": "execute_result"
        }
      ],
      "source": [
        "pd.get_dummies(df['hp_bin']).astype('int')"
      ]
    },
    {
      "cell_type": "markdown",
      "id": "a0236d67-3e03-483f-b9af-778beed6ec10",
      "metadata": {
        "id": "a0236d67-3e03-483f-b9af-778beed6ec10"
      },
      "source": [
        "## 정규화(normalization)"
      ]
    },
    {
      "cell_type": "code",
      "execution_count": null,
      "id": "ef995d13-cb09-46c1-af32-716be86cd3e8",
      "metadata": {
        "id": "ef995d13-cb09-46c1-af32-716be86cd3e8",
        "outputId": "e664b9a3-82b8-47fe-d5ea-784f47d243e7"
      },
      "outputs": [
        {
          "data": {
            "text/plain": [
              "count    392.000000\n",
              "mean     104.469388\n",
              "std       38.491160\n",
              "min       46.000000\n",
              "25%       75.000000\n",
              "50%       93.500000\n",
              "75%      126.000000\n",
              "max      230.000000\n",
              "Name: horsepower, dtype: float64"
            ]
          },
          "execution_count": 76,
          "metadata": {},
          "output_type": "execute_result"
        }
      ],
      "source": [
        "df.horsepower.describe()"
      ]
    },
    {
      "cell_type": "markdown",
      "id": "199cf890-2b3e-440d-82fe-c35fd3804d17",
      "metadata": {
        "id": "199cf890-2b3e-440d-82fe-c35fd3804d17"
      },
      "source": [
        "### 1. 최대 절대값을 나누는 형태의 정규화"
      ]
    },
    {
      "cell_type": "code",
      "execution_count": null,
      "id": "302de7c6-c223-4ed0-bcc6-7a6c75321779",
      "metadata": {
        "id": "302de7c6-c223-4ed0-bcc6-7a6c75321779",
        "outputId": "4e4f33c9-9215-4714-c4e1-a3671a4f726a"
      },
      "outputs": [
        {
          "data": {
            "text/plain": [
              "0      0.565217\n",
              "1      0.717391\n",
              "2      0.652174\n",
              "3      0.652174\n",
              "4      0.608696\n",
              "         ...   \n",
              "393    0.373913\n",
              "394    0.226087\n",
              "395    0.365217\n",
              "396    0.343478\n",
              "397    0.356522\n",
              "Name: horsepower, Length: 392, dtype: float64"
            ]
          },
          "execution_count": 77,
          "metadata": {},
          "output_type": "execute_result"
        }
      ],
      "source": [
        "df.horsepower / abs(df.horsepower.max())"
      ]
    },
    {
      "cell_type": "code",
      "execution_count": null,
      "id": "0fc94363-4123-4c3a-8c9d-b3f39264c259",
      "metadata": {
        "id": "0fc94363-4123-4c3a-8c9d-b3f39264c259"
      },
      "outputs": [],
      "source": [
        "df.horsepower=df.horsepower / abs(df.horsepower.max())"
      ]
    },
    {
      "cell_type": "code",
      "execution_count": null,
      "id": "01cd05bc-ff19-4629-94fe-d746126fbd1e",
      "metadata": {
        "id": "01cd05bc-ff19-4629-94fe-d746126fbd1e",
        "outputId": "6817a347-cbe3-40c1-ef62-75361631d651"
      },
      "outputs": [
        {
          "data": {
            "text/plain": [
              "count    392.000000\n",
              "mean       0.454215\n",
              "std        0.167353\n",
              "min        0.200000\n",
              "25%        0.326087\n",
              "50%        0.406522\n",
              "75%        0.547826\n",
              "max        1.000000\n",
              "Name: horsepower, dtype: float64"
            ]
          },
          "execution_count": 79,
          "metadata": {},
          "output_type": "execute_result"
        }
      ],
      "source": [
        "df.horsepower.describe()"
      ]
    },
    {
      "cell_type": "code",
      "execution_count": null,
      "id": "cd2a56fe-2e7f-410f-834f-a8b1e00f2f6d",
      "metadata": {
        "id": "cd2a56fe-2e7f-410f-834f-a8b1e00f2f6d",
        "outputId": "0517b66d-a917-4010-e261-cb7ef5e08582"
      },
      "outputs": [
        {
          "data": {
            "text/plain": [
              "0      0.565217\n",
              "1      0.717391\n",
              "2      0.652174\n",
              "3      0.652174\n",
              "4      0.608696\n",
              "         ...   \n",
              "393    0.373913\n",
              "394    0.226087\n",
              "395    0.365217\n",
              "396    0.343478\n",
              "397    0.356522\n",
              "Name: horsepower, Length: 392, dtype: float64"
            ]
          },
          "execution_count": 80,
          "metadata": {},
          "output_type": "execute_result"
        }
      ],
      "source": [
        "df.horsepower"
      ]
    },
    {
      "cell_type": "markdown",
      "id": "0b5cd114-1ab5-43fd-aea9-761f2a5ef853",
      "metadata": {
        "id": "0b5cd114-1ab5-43fd-aea9-761f2a5ef853"
      },
      "source": [
        "이는 데이터의 범위를 0과 1 사이로 스케일링하는 효과가 있지만, 엄밀히 말하면 최소-최대 정규화 또는 단위 벡터 정규화로 분류되지 않습니다."
      ]
    },
    {
      "cell_type": "markdown",
      "id": "a118c102-975c-4af9-b9a5-3fc043e1dd49",
      "metadata": {
        "id": "a118c102-975c-4af9-b9a5-3fc043e1dd49"
      },
      "source": [
        "### 2. 최소-최대 정규화"
      ]
    },
    {
      "cell_type": "code",
      "execution_count": null,
      "id": "a83cea3c-de72-4a19-a2d3-38005aef976f",
      "metadata": {
        "id": "a83cea3c-de72-4a19-a2d3-38005aef976f"
      },
      "outputs": [],
      "source": [
        "df=pd.read_csv('./auto-mpg.csv',header=None)\n",
        "df.columns=['mpg','cylinders','displacement','horsepower','weight','acceleration','model_year','origin','car_name']"
      ]
    },
    {
      "cell_type": "code",
      "execution_count": null,
      "id": "847602b4-52b0-4829-b0bd-1c700b8a739e",
      "metadata": {
        "id": "847602b4-52b0-4829-b0bd-1c700b8a739e"
      },
      "outputs": [],
      "source": [
        "# df.head()"
      ]
    },
    {
      "cell_type": "code",
      "execution_count": null,
      "id": "11e65156-e432-4098-a5b6-73c8569ad67e",
      "metadata": {
        "id": "11e65156-e432-4098-a5b6-73c8569ad67e"
      },
      "outputs": [],
      "source": [
        "# horsepower 열의 누락 데이터('?') 삭제하고 실수형으로 변환\n",
        "df['horsepower'].replace('?', np.nan, inplace=True)      # '?'을 np.nan으로 변경\n",
        "df.dropna(subset=['horsepower'], axis=0, inplace=True)   # 누락데이터 행을 삭제\n",
        "df['horsepower'] = df['horsepower'].astype('float')      # 문자열을 실수형으로 변환"
      ]
    },
    {
      "cell_type": "code",
      "execution_count": null,
      "id": "5370e10c-cd04-4436-9995-f76a21300267",
      "metadata": {
        "id": "5370e10c-cd04-4436-9995-f76a21300267",
        "outputId": "4e4f1eab-8cdd-41b9-a443-ec5fdc55709a"
      },
      "outputs": [
        {
          "name": "stdout",
          "output_type": "stream",
          "text": [
            "count    392.000000\n",
            "mean     104.469388\n",
            "std       38.491160\n",
            "min       46.000000\n",
            "25%       75.000000\n",
            "50%       93.500000\n",
            "75%      126.000000\n",
            "max      230.000000\n",
            "Name: horsepower, dtype: float64\n"
          ]
        }
      ],
      "source": [
        "# horsepower 열의 통계 요약정보로 최대값(max)과 최소값(min)을 확인\n",
        "print(df.horsepower.describe())"
      ]
    },
    {
      "cell_type": "code",
      "execution_count": null,
      "id": "0c5909ce-8259-4ec7-8e33-90d43f13caf9",
      "metadata": {
        "id": "0c5909ce-8259-4ec7-8e33-90d43f13caf9"
      },
      "outputs": [],
      "source": [
        "# horsepower 열의 최대값의 절대값으로 모든 데이터를 나눠서 저장\n",
        "min_x = df.horsepower - df.horsepower.min()\n",
        "min_max = df.horsepower.max() - df.horsepower.min()\n",
        "df.horsepower = min_x / min_max"
      ]
    },
    {
      "cell_type": "code",
      "execution_count": null,
      "id": "7c709889-574c-4c0f-89db-8410074a61ab",
      "metadata": {
        "id": "7c709889-574c-4c0f-89db-8410074a61ab",
        "outputId": "7de8a401-eecc-495f-dfc5-ef2c6a516d77"
      },
      "outputs": [
        {
          "name": "stdout",
          "output_type": "stream",
          "text": [
            "0    0.456522\n",
            "1    0.646739\n",
            "2    0.565217\n",
            "3    0.565217\n",
            "4    0.510870\n",
            "Name: horsepower, dtype: float64\n",
            "\n",
            "\n",
            "count    392.000000\n",
            "mean       0.317768\n",
            "std        0.209191\n",
            "min        0.000000\n",
            "25%        0.157609\n",
            "50%        0.258152\n",
            "75%        0.434783\n",
            "max        1.000000\n",
            "Name: horsepower, dtype: float64\n"
          ]
        }
      ],
      "source": [
        "print(df.horsepower.head())\n",
        "print('\\n')\n",
        "print(df.horsepower.describe())"
      ]
    },
    {
      "cell_type": "markdown",
      "id": "f2204a2b-67f5-41aa-8414-89fcbfc604b8",
      "metadata": {
        "id": "f2204a2b-67f5-41aa-8414-89fcbfc604b8"
      },
      "source": [
        "### 3. 단위 벡터 정규화(Unit Vector Normalization)"
      ]
    },
    {
      "cell_type": "code",
      "execution_count": null,
      "id": "5575ab62-0524-4fa9-aa67-9c2edb9c671b",
      "metadata": {
        "id": "5575ab62-0524-4fa9-aa67-9c2edb9c671b"
      },
      "outputs": [],
      "source": [
        "df=pd.read_csv('./auto-mpg.csv',header=None)\n",
        "df.columns=['mpg','cylinders','displacement','horsepower','weight','acceleration','model_year','origin','car_name']"
      ]
    },
    {
      "cell_type": "code",
      "execution_count": null,
      "id": "92d0b2ac-e1fe-448b-9ac7-7567d1890e37",
      "metadata": {
        "id": "92d0b2ac-e1fe-448b-9ac7-7567d1890e37"
      },
      "outputs": [],
      "source": [
        "# horsepower 열의 누락 데이터('?') 삭제하고 실수형으로 변환\n",
        "df['horsepower'].replace('?', np.nan, inplace=True)      # '?'을 np.nan으로 변경\n",
        "df.dropna(subset=['horsepower'], axis=0, inplace=True)   # 누락데이터 행을 삭제\n",
        "df['horsepower'] = df['horsepower'].astype('float')      # 문자열을 실수형으로 변환"
      ]
    },
    {
      "cell_type": "code",
      "execution_count": null,
      "id": "b39fabb2-6dbe-4b03-85f9-a8682b457e46",
      "metadata": {
        "id": "b39fabb2-6dbe-4b03-85f9-a8682b457e46"
      },
      "outputs": [],
      "source": [
        "# 단위 벡터 정규화 (L2 노름)\n",
        "df['horsepower'] = df['horsepower'] / np.linalg.norm(df['horsepower'])"
      ]
    },
    {
      "cell_type": "code",
      "execution_count": null,
      "id": "a9e5f56f-7618-48a1-8a3d-5b95a1cbf979",
      "metadata": {
        "id": "a9e5f56f-7618-48a1-8a3d-5b95a1cbf979",
        "outputId": "d2c3d38f-a2b0-4d48-e574-0b81279666c2"
      },
      "outputs": [
        {
          "name": "stdout",
          "output_type": "stream",
          "text": [
            "0    0.058984\n",
            "1    0.074865\n",
            "2    0.068059\n",
            "3    0.068059\n",
            "4    0.063521\n",
            "Name: horsepower, dtype: float64\n",
            "\n",
            "\n",
            "count    392.000000\n",
            "mean       0.047400\n",
            "std        0.017464\n",
            "min        0.020871\n",
            "25%        0.034029\n",
            "50%        0.042423\n",
            "75%        0.057169\n",
            "max        0.104357\n",
            "Name: horsepower, dtype: float64\n"
          ]
        }
      ],
      "source": [
        "print(df.horsepower.head())\n",
        "print('\\n')\n",
        "print(df.horsepower.describe())"
      ]
    },
    {
      "cell_type": "code",
      "execution_count": null,
      "id": "c6d860a3-98ad-4f04-a77a-0ca2feaf1f7a",
      "metadata": {
        "id": "c6d860a3-98ad-4f04-a77a-0ca2feaf1f7a",
        "outputId": "5f20452e-b6ed-4d4c-b742-a2f4f6135b78"
      },
      "outputs": [
        {
          "data": {
            "text/plain": [
              "1.0"
            ]
          },
          "execution_count": 94,
          "metadata": {},
          "output_type": "execute_result"
        }
      ],
      "source": [
        "np.linalg.norm(df['horsepower'])"
      ]
    },
    {
      "cell_type": "code",
      "execution_count": null,
      "id": "18daf7c7-da55-4c11-b608-9d6a28258240",
      "metadata": {
        "id": "18daf7c7-da55-4c11-b608-9d6a28258240"
      },
      "outputs": [],
      "source": []
    }
  ],
  "metadata": {
    "kernelspec": {
      "display_name": "Python 3 (ipykernel)",
      "language": "python",
      "name": "python3"
    },
    "language_info": {
      "codemirror_mode": {
        "name": "ipython",
        "version": 3
      },
      "file_extension": ".py",
      "mimetype": "text/x-python",
      "name": "python",
      "nbconvert_exporter": "python",
      "pygments_lexer": "ipython3",
      "version": "3.11.7"
    },
    "colab": {
      "provenance": [],
      "include_colab_link": true
    }
  },
  "nbformat": 4,
  "nbformat_minor": 5
}