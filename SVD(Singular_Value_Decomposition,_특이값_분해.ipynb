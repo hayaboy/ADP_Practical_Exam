{
  "nbformat": 4,
  "nbformat_minor": 0,
  "metadata": {
    "colab": {
      "provenance": [],
      "authorship_tag": "ABX9TyMTFNkFVzV62tWgDbHm81Xi",
      "include_colab_link": true
    },
    "kernelspec": {
      "name": "python3",
      "display_name": "Python 3"
    },
    "language_info": {
      "name": "python"
    }
  },
  "cells": [
    {
      "cell_type": "markdown",
      "metadata": {
        "id": "view-in-github",
        "colab_type": "text"
      },
      "source": [
        "<a href=\"https://colab.research.google.com/github/hayaboy/ADP_Practical_Exam/blob/main/SVD(Singular_Value_Decomposition%2C_%ED%8A%B9%EC%9D%B4%EA%B0%92_%EB%B6%84%ED%95%B4.ipynb\" target=\"_parent\"><img src=\"https://colab.research.google.com/assets/colab-badge.svg\" alt=\"Open In Colab\"/></a>"
      ]
    },
    {
      "cell_type": "code",
      "execution_count": 1,
      "metadata": {
        "colab": {
          "base_uri": "https://localhost:8080/"
        },
        "id": "RmpztbWcJllr",
        "outputId": "b92e66ee-13ad-4ae7-889b-8c7cc4d2f009"
      },
      "outputs": [
        {
          "output_type": "stream",
          "name": "stdout",
          "text": [
            "U:\n",
            " [[-0.21483724  0.88723069  0.40824829]\n",
            " [-0.52058739  0.24964395 -0.81649658]\n",
            " [-0.82633754 -0.38794278  0.40824829]]\n",
            "Sigma:\n",
            " [1.68481034e+01 1.06836951e+00 4.41842475e-16]\n",
            "VT:\n",
            " [[-0.47967118 -0.57236779 -0.66506441]\n",
            " [-0.77669099 -0.07568647  0.62531805]\n",
            " [-0.40824829  0.81649658 -0.40824829]]\n",
            "Reconstructed A:\n",
            " [[1. 2. 3.]\n",
            " [4. 5. 6.]\n",
            " [7. 8. 9.]]\n"
          ]
        }
      ],
      "source": [
        "import numpy as np\n",
        "\n",
        "# 임의의 행렬 A\n",
        "A = np.array([[1, 2, 3],\n",
        "              [4, 5, 6],\n",
        "              [7, 8, 9]])\n",
        "\n",
        "# SVD 수행\n",
        "U, Sigma, VT = np.linalg.svd(A)\n",
        "\n",
        "# U, Sigma, VT 출력\n",
        "print(\"U:\\n\", U)\n",
        "print(\"Sigma:\\n\", Sigma)\n",
        "print(\"VT:\\n\", VT)\n",
        "\n",
        "# 원본 행렬 복원\n",
        "Sigma_full = np.zeros_like(A, dtype=float)\n",
        "np.fill_diagonal(Sigma_full, Sigma)\n",
        "#행렬 곱셈\n",
        "A_reconstructed = U @ Sigma_full @ VT\n",
        "\n",
        "print(\"Reconstructed A:\\n\", A_reconstructed)\n"
      ]
    }
  ]
}