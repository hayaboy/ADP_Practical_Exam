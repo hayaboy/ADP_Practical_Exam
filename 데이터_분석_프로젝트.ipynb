{
  "cells": [
    {
      "cell_type": "markdown",
      "metadata": {
        "id": "view-in-github",
        "colab_type": "text"
      },
      "source": [
        "<a href=\"https://colab.research.google.com/github/hayaboy/ADP_Practical_Exam/blob/main/%EB%8D%B0%EC%9D%B4%ED%84%B0_%EB%B6%84%EC%84%9D_%ED%94%84%EB%A1%9C%EC%A0%9D%ED%8A%B8.ipynb\" target=\"_parent\"><img src=\"https://colab.research.google.com/assets/colab-badge.svg\" alt=\"Open In Colab\"/></a>"
      ]
    },
    {
      "cell_type": "markdown",
      "id": "8d7f848a",
      "metadata": {
        "id": "8d7f848a"
      },
      "source": [
        "### 데이터 분석 프로세스"
      ]
    },
    {
      "cell_type": "code",
      "execution_count": null,
      "id": "9df63afe",
      "metadata": {
        "id": "9df63afe"
      },
      "outputs": [],
      "source": [
        "import requests"
      ]
    },
    {
      "cell_type": "code",
      "execution_count": null,
      "id": "5d6dd83d",
      "metadata": {
        "id": "5d6dd83d"
      },
      "outputs": [],
      "source": [
        "url = 'https://github.com/wikibook/python-for-data-analysis-rev/raw/master/readme.txt'"
      ]
    },
    {
      "cell_type": "code",
      "execution_count": null,
      "id": "a470939e",
      "metadata": {
        "id": "a470939e"
      },
      "outputs": [],
      "source": [
        "# URL에 해당하는 파일을 내려받음\n",
        "r = requests.get(url)"
      ]
    },
    {
      "cell_type": "code",
      "execution_count": null,
      "id": "eec1f7d3",
      "metadata": {
        "id": "eec1f7d3",
        "outputId": "5c564c41-d07f-45a5-effa-39fcb00a85c7"
      },
      "outputs": [
        {
          "data": {
            "text/plain": [
              "<Response [200]>"
            ]
          },
          "execution_count": 4,
          "metadata": {},
          "output_type": "execute_result"
        }
      ],
      "source": [
        "r"
      ]
    },
    {
      "cell_type": "code",
      "execution_count": null,
      "id": "3bc50351",
      "metadata": {
        "id": "3bc50351"
      },
      "outputs": [],
      "source": [
        "# 파일을 저장할 폴더와 파일명을 지정\n",
        "file_name = 'C:/myPyCode/data/readme.txt'"
      ]
    },
    {
      "cell_type": "code",
      "execution_count": null,
      "id": "8347f7da",
      "metadata": {
        "id": "8347f7da"
      },
      "outputs": [],
      "source": [
        "# 내려받은 파일을 지정한 폴더에 저장\n",
        "with open(file_name, 'wb') as f:\n",
        "    f.write(r.content)"
      ]
    },
    {
      "cell_type": "code",
      "execution_count": null,
      "id": "8c06a71d",
      "metadata": {
        "id": "8c06a71d"
      },
      "outputs": [],
      "source": [
        "import os"
      ]
    },
    {
      "cell_type": "code",
      "execution_count": null,
      "id": "a21af8ca",
      "metadata": {
        "id": "a21af8ca",
        "outputId": "74806b9d-7f8a-44c5-9ce5-3bbdf91dd937"
      },
      "outputs": [
        {
          "name": "stdout",
          "output_type": "stream",
          "text": [
            "연도,제품1,제품2,제품3,제품4\n",
            "2015,250,150,,\n",
            "2016,200,160,170,\n",
            "2017,150,200,100,150\n",
            "2018,120,230,130,170\n",
            "2019,,250,140,\n"
          ]
        }
      ],
      "source": [
        "!type C:\\myPyCode\\data\\missing_data_test.csv"
      ]
    },
    {
      "cell_type": "code",
      "execution_count": null,
      "id": "3e6fe263",
      "metadata": {
        "id": "3e6fe263"
      },
      "outputs": [],
      "source": [
        "import pandas as pd"
      ]
    },
    {
      "cell_type": "code",
      "execution_count": 1,
      "id": "6682799b",
      "metadata": {
        "id": "6682799b"
      },
      "outputs": [],
      "source": [
        "# help(pd.read_csv)"
      ]
    },
    {
      "cell_type": "code",
      "execution_count": null,
      "id": "c38e93dd",
      "metadata": {
        "id": "c38e93dd"
      },
      "outputs": [],
      "source": [
        "data_file = \"C:/myPyCode/data/missing_data_test.csv\""
      ]
    },
    {
      "cell_type": "code",
      "execution_count": null,
      "id": "c283d703",
      "metadata": {
        "id": "c283d703"
      },
      "outputs": [],
      "source": [
        "df = pd.read_csv(data_file, encoding='cp949')"
      ]
    },
    {
      "cell_type": "code",
      "execution_count": null,
      "id": "15113083",
      "metadata": {
        "id": "15113083",
        "outputId": "b51439c9-6134-472c-9fb9-7af506da5d62"
      },
      "outputs": [
        {
          "data": {
            "text/html": [
              "<div>\n",
              "<style scoped>\n",
              "    .dataframe tbody tr th:only-of-type {\n",
              "        vertical-align: middle;\n",
              "    }\n",
              "\n",
              "    .dataframe tbody tr th {\n",
              "        vertical-align: top;\n",
              "    }\n",
              "\n",
              "    .dataframe thead th {\n",
              "        text-align: right;\n",
              "    }\n",
              "</style>\n",
              "<table border=\"1\" class=\"dataframe\">\n",
              "  <thead>\n",
              "    <tr style=\"text-align: right;\">\n",
              "      <th></th>\n",
              "      <th>연도</th>\n",
              "      <th>제품1</th>\n",
              "      <th>제품2</th>\n",
              "      <th>제품3</th>\n",
              "      <th>제품4</th>\n",
              "    </tr>\n",
              "  </thead>\n",
              "  <tbody>\n",
              "    <tr>\n",
              "      <th>0</th>\n",
              "      <td>2015</td>\n",
              "      <td>250.0</td>\n",
              "      <td>150</td>\n",
              "      <td>NaN</td>\n",
              "      <td>NaN</td>\n",
              "    </tr>\n",
              "    <tr>\n",
              "      <th>1</th>\n",
              "      <td>2016</td>\n",
              "      <td>200.0</td>\n",
              "      <td>160</td>\n",
              "      <td>170.0</td>\n",
              "      <td>NaN</td>\n",
              "    </tr>\n",
              "    <tr>\n",
              "      <th>2</th>\n",
              "      <td>2017</td>\n",
              "      <td>150.0</td>\n",
              "      <td>200</td>\n",
              "      <td>100.0</td>\n",
              "      <td>150.0</td>\n",
              "    </tr>\n",
              "    <tr>\n",
              "      <th>3</th>\n",
              "      <td>2018</td>\n",
              "      <td>120.0</td>\n",
              "      <td>230</td>\n",
              "      <td>130.0</td>\n",
              "      <td>170.0</td>\n",
              "    </tr>\n",
              "    <tr>\n",
              "      <th>4</th>\n",
              "      <td>2019</td>\n",
              "      <td>NaN</td>\n",
              "      <td>250</td>\n",
              "      <td>140.0</td>\n",
              "      <td>NaN</td>\n",
              "    </tr>\n",
              "  </tbody>\n",
              "</table>\n",
              "</div>"
            ],
            "text/plain": [
              "     연도    제품1  제품2    제품3    제품4\n",
              "0  2015  250.0  150    NaN    NaN\n",
              "1  2016  200.0  160  170.0    NaN\n",
              "2  2017  150.0  200  100.0  150.0\n",
              "3  2018  120.0  230  130.0  170.0\n",
              "4  2019    NaN  250  140.0    NaN"
            ]
          },
          "execution_count": 82,
          "metadata": {},
          "output_type": "execute_result"
        }
      ],
      "source": [
        "df"
      ]
    },
    {
      "cell_type": "code",
      "execution_count": null,
      "id": "770d2b7c",
      "metadata": {
        "id": "770d2b7c",
        "outputId": "5f74df11-39f6-408c-bf08-bb43ffcd2554"
      },
      "outputs": [
        {
          "data": {
            "text/html": [
              "<div>\n",
              "<style scoped>\n",
              "    .dataframe tbody tr th:only-of-type {\n",
              "        vertical-align: middle;\n",
              "    }\n",
              "\n",
              "    .dataframe tbody tr th {\n",
              "        vertical-align: top;\n",
              "    }\n",
              "\n",
              "    .dataframe thead th {\n",
              "        text-align: right;\n",
              "    }\n",
              "</style>\n",
              "<table border=\"1\" class=\"dataframe\">\n",
              "  <thead>\n",
              "    <tr style=\"text-align: right;\">\n",
              "      <th></th>\n",
              "      <th>제품1</th>\n",
              "      <th>제품2</th>\n",
              "      <th>제품3</th>\n",
              "      <th>제품4</th>\n",
              "    </tr>\n",
              "    <tr>\n",
              "      <th>연도</th>\n",
              "      <th></th>\n",
              "      <th></th>\n",
              "      <th></th>\n",
              "      <th></th>\n",
              "    </tr>\n",
              "  </thead>\n",
              "  <tbody>\n",
              "    <tr>\n",
              "      <th>2015</th>\n",
              "      <td>250.0</td>\n",
              "      <td>150</td>\n",
              "      <td>NaN</td>\n",
              "      <td>NaN</td>\n",
              "    </tr>\n",
              "    <tr>\n",
              "      <th>2016</th>\n",
              "      <td>200.0</td>\n",
              "      <td>160</td>\n",
              "      <td>170.0</td>\n",
              "      <td>NaN</td>\n",
              "    </tr>\n",
              "    <tr>\n",
              "      <th>2017</th>\n",
              "      <td>150.0</td>\n",
              "      <td>200</td>\n",
              "      <td>100.0</td>\n",
              "      <td>150.0</td>\n",
              "    </tr>\n",
              "    <tr>\n",
              "      <th>2018</th>\n",
              "      <td>120.0</td>\n",
              "      <td>230</td>\n",
              "      <td>130.0</td>\n",
              "      <td>170.0</td>\n",
              "    </tr>\n",
              "    <tr>\n",
              "      <th>2019</th>\n",
              "      <td>NaN</td>\n",
              "      <td>250</td>\n",
              "      <td>140.0</td>\n",
              "      <td>NaN</td>\n",
              "    </tr>\n",
              "  </tbody>\n",
              "</table>\n",
              "</div>"
            ],
            "text/plain": [
              "        제품1  제품2    제품3    제품4\n",
              "연도                            \n",
              "2015  250.0  150    NaN    NaN\n",
              "2016  200.0  160  170.0    NaN\n",
              "2017  150.0  200  100.0  150.0\n",
              "2018  120.0  230  130.0  170.0\n",
              "2019    NaN  250  140.0    NaN"
            ]
          },
          "execution_count": 83,
          "metadata": {},
          "output_type": "execute_result"
        }
      ],
      "source": [
        "df.set_index('연도')"
      ]
    },
    {
      "cell_type": "code",
      "execution_count": null,
      "id": "84d9a40f",
      "metadata": {
        "id": "84d9a40f"
      },
      "outputs": [],
      "source": [
        "df=df.set_index('연도')"
      ]
    },
    {
      "cell_type": "code",
      "execution_count": null,
      "id": "1985f4f4",
      "metadata": {
        "id": "1985f4f4",
        "outputId": "14adce1e-28d7-450b-af40-08f79fdd888d"
      },
      "outputs": [
        {
          "data": {
            "text/html": [
              "<div>\n",
              "<style scoped>\n",
              "    .dataframe tbody tr th:only-of-type {\n",
              "        vertical-align: middle;\n",
              "    }\n",
              "\n",
              "    .dataframe tbody tr th {\n",
              "        vertical-align: top;\n",
              "    }\n",
              "\n",
              "    .dataframe thead th {\n",
              "        text-align: right;\n",
              "    }\n",
              "</style>\n",
              "<table border=\"1\" class=\"dataframe\">\n",
              "  <thead>\n",
              "    <tr style=\"text-align: right;\">\n",
              "      <th></th>\n",
              "      <th>제품1</th>\n",
              "      <th>제품2</th>\n",
              "      <th>제품3</th>\n",
              "      <th>제품4</th>\n",
              "    </tr>\n",
              "    <tr>\n",
              "      <th>연도</th>\n",
              "      <th></th>\n",
              "      <th></th>\n",
              "      <th></th>\n",
              "      <th></th>\n",
              "    </tr>\n",
              "  </thead>\n",
              "  <tbody>\n",
              "    <tr>\n",
              "      <th>2015</th>\n",
              "      <td>250.0</td>\n",
              "      <td>150</td>\n",
              "      <td>NaN</td>\n",
              "      <td>NaN</td>\n",
              "    </tr>\n",
              "    <tr>\n",
              "      <th>2016</th>\n",
              "      <td>200.0</td>\n",
              "      <td>160</td>\n",
              "      <td>170.0</td>\n",
              "      <td>NaN</td>\n",
              "    </tr>\n",
              "    <tr>\n",
              "      <th>2017</th>\n",
              "      <td>150.0</td>\n",
              "      <td>200</td>\n",
              "      <td>100.0</td>\n",
              "      <td>150.0</td>\n",
              "    </tr>\n",
              "    <tr>\n",
              "      <th>2018</th>\n",
              "      <td>120.0</td>\n",
              "      <td>230</td>\n",
              "      <td>130.0</td>\n",
              "      <td>170.0</td>\n",
              "    </tr>\n",
              "    <tr>\n",
              "      <th>2019</th>\n",
              "      <td>NaN</td>\n",
              "      <td>250</td>\n",
              "      <td>140.0</td>\n",
              "      <td>NaN</td>\n",
              "    </tr>\n",
              "  </tbody>\n",
              "</table>\n",
              "</div>"
            ],
            "text/plain": [
              "        제품1  제품2    제품3    제품4\n",
              "연도                            \n",
              "2015  250.0  150    NaN    NaN\n",
              "2016  200.0  160  170.0    NaN\n",
              "2017  150.0  200  100.0  150.0\n",
              "2018  120.0  230  130.0  170.0\n",
              "2019    NaN  250  140.0    NaN"
            ]
          },
          "execution_count": 33,
          "metadata": {},
          "output_type": "execute_result"
        }
      ],
      "source": [
        "df"
      ]
    },
    {
      "cell_type": "code",
      "execution_count": null,
      "id": "ed16e4aa",
      "metadata": {
        "id": "ed16e4aa",
        "outputId": "1915ba02-9dee-4b51-f768-4c2e0cba0875"
      },
      "outputs": [
        {
          "data": {
            "text/plain": [
              "Index([2015, 2016, 2017, 2018, 2019], dtype='int64', name='연도')"
            ]
          },
          "execution_count": 34,
          "metadata": {},
          "output_type": "execute_result"
        }
      ],
      "source": [
        "df.index"
      ]
    },
    {
      "cell_type": "code",
      "execution_count": null,
      "id": "7cb38036",
      "metadata": {
        "id": "7cb38036",
        "outputId": "0fa703b0-a2f2-44cf-c5a8-c3472bf3e532"
      },
      "outputs": [
        {
          "data": {
            "text/plain": [
              "nan"
            ]
          },
          "execution_count": 38,
          "metadata": {},
          "output_type": "execute_result"
        }
      ],
      "source": [
        "df.loc[2015,'제품3']"
      ]
    },
    {
      "cell_type": "code",
      "execution_count": null,
      "id": "28cb5113",
      "metadata": {
        "id": "28cb5113",
        "outputId": "ba146326-2525-40a0-d999-ad63fb6317cc"
      },
      "outputs": [
        {
          "data": {
            "text/html": [
              "<div>\n",
              "<style scoped>\n",
              "    .dataframe tbody tr th:only-of-type {\n",
              "        vertical-align: middle;\n",
              "    }\n",
              "\n",
              "    .dataframe tbody tr th {\n",
              "        vertical-align: top;\n",
              "    }\n",
              "\n",
              "    .dataframe thead th {\n",
              "        text-align: right;\n",
              "    }\n",
              "</style>\n",
              "<table border=\"1\" class=\"dataframe\">\n",
              "  <thead>\n",
              "    <tr style=\"text-align: right;\">\n",
              "      <th></th>\n",
              "      <th>제품3</th>\n",
              "      <th>제품4</th>\n",
              "    </tr>\n",
              "    <tr>\n",
              "      <th>연도</th>\n",
              "      <th></th>\n",
              "      <th></th>\n",
              "    </tr>\n",
              "  </thead>\n",
              "  <tbody>\n",
              "    <tr>\n",
              "      <th>2015</th>\n",
              "      <td>NaN</td>\n",
              "      <td>NaN</td>\n",
              "    </tr>\n",
              "    <tr>\n",
              "      <th>2016</th>\n",
              "      <td>170.0</td>\n",
              "      <td>NaN</td>\n",
              "    </tr>\n",
              "    <tr>\n",
              "      <th>2017</th>\n",
              "      <td>100.0</td>\n",
              "      <td>150.0</td>\n",
              "    </tr>\n",
              "  </tbody>\n",
              "</table>\n",
              "</div>"
            ],
            "text/plain": [
              "        제품3    제품4\n",
              "연도                \n",
              "2015    NaN    NaN\n",
              "2016  170.0    NaN\n",
              "2017  100.0  150.0"
            ]
          },
          "execution_count": 39,
          "metadata": {},
          "output_type": "execute_result"
        }
      ],
      "source": [
        "df.loc[[2015,2016,2017],['제품3','제품4']]"
      ]
    },
    {
      "cell_type": "code",
      "execution_count": null,
      "id": "c20ba755",
      "metadata": {
        "id": "c20ba755",
        "outputId": "d99d7adf-2538-4549-9b8e-78ffad6d37c2"
      },
      "outputs": [
        {
          "data": {
            "text/html": [
              "<div>\n",
              "<style scoped>\n",
              "    .dataframe tbody tr th:only-of-type {\n",
              "        vertical-align: middle;\n",
              "    }\n",
              "\n",
              "    .dataframe tbody tr th {\n",
              "        vertical-align: top;\n",
              "    }\n",
              "\n",
              "    .dataframe thead th {\n",
              "        text-align: right;\n",
              "    }\n",
              "</style>\n",
              "<table border=\"1\" class=\"dataframe\">\n",
              "  <thead>\n",
              "    <tr style=\"text-align: right;\">\n",
              "      <th></th>\n",
              "      <th>제품2</th>\n",
              "      <th>제품4</th>\n",
              "    </tr>\n",
              "    <tr>\n",
              "      <th>연도</th>\n",
              "      <th></th>\n",
              "      <th></th>\n",
              "    </tr>\n",
              "  </thead>\n",
              "  <tbody>\n",
              "    <tr>\n",
              "      <th>2015</th>\n",
              "      <td>150</td>\n",
              "      <td>NaN</td>\n",
              "    </tr>\n",
              "    <tr>\n",
              "      <th>2017</th>\n",
              "      <td>200</td>\n",
              "      <td>150.0</td>\n",
              "    </tr>\n",
              "  </tbody>\n",
              "</table>\n",
              "</div>"
            ],
            "text/plain": [
              "      제품2    제품4\n",
              "연도              \n",
              "2015  150    NaN\n",
              "2017  200  150.0"
            ]
          },
          "execution_count": 40,
          "metadata": {},
          "output_type": "execute_result"
        }
      ],
      "source": [
        "df.loc[[2015,2017],['제품2','제품4']]"
      ]
    },
    {
      "cell_type": "code",
      "execution_count": null,
      "id": "aee1f168",
      "metadata": {
        "id": "aee1f168"
      },
      "outputs": [],
      "source": [
        "# help(df.set_index)"
      ]
    },
    {
      "cell_type": "code",
      "execution_count": null,
      "id": "dcdf8423",
      "metadata": {
        "id": "dcdf8423",
        "outputId": "7dc53316-8748-4a0a-dd8b-d2770f06a094"
      },
      "outputs": [
        {
          "data": {
            "text/plain": [
              "연도     2017.0\n",
              "제품1     150.0\n",
              "제품2     200.0\n",
              "제품3     100.0\n",
              "제품4     150.0\n",
              "Name: 2, dtype: float64"
            ]
          },
          "execution_count": 25,
          "metadata": {},
          "output_type": "execute_result"
        }
      ],
      "source": [
        "df.iloc[2,]"
      ]
    },
    {
      "cell_type": "code",
      "execution_count": null,
      "id": "f9059fb0",
      "metadata": {
        "id": "f9059fb0",
        "outputId": "04de55f3-96ba-4bf4-ab74-88b409b52f24"
      },
      "outputs": [
        {
          "data": {
            "text/html": [
              "<div>\n",
              "<style scoped>\n",
              "    .dataframe tbody tr th:only-of-type {\n",
              "        vertical-align: middle;\n",
              "    }\n",
              "\n",
              "    .dataframe tbody tr th {\n",
              "        vertical-align: top;\n",
              "    }\n",
              "\n",
              "    .dataframe thead th {\n",
              "        text-align: right;\n",
              "    }\n",
              "</style>\n",
              "<table border=\"1\" class=\"dataframe\">\n",
              "  <thead>\n",
              "    <tr style=\"text-align: right;\">\n",
              "      <th></th>\n",
              "      <th>연도</th>\n",
              "      <th>제품1</th>\n",
              "      <th>제품2</th>\n",
              "      <th>제품3</th>\n",
              "      <th>제품4</th>\n",
              "    </tr>\n",
              "  </thead>\n",
              "  <tbody>\n",
              "    <tr>\n",
              "      <th>2</th>\n",
              "      <td>2017</td>\n",
              "      <td>150.0</td>\n",
              "      <td>200</td>\n",
              "      <td>100.0</td>\n",
              "      <td>150.0</td>\n",
              "    </tr>\n",
              "    <tr>\n",
              "      <th>3</th>\n",
              "      <td>2018</td>\n",
              "      <td>120.0</td>\n",
              "      <td>230</td>\n",
              "      <td>130.0</td>\n",
              "      <td>170.0</td>\n",
              "    </tr>\n",
              "  </tbody>\n",
              "</table>\n",
              "</div>"
            ],
            "text/plain": [
              "     연도    제품1  제품2    제품3    제품4\n",
              "2  2017  150.0  200  100.0  150.0\n",
              "3  2018  120.0  230  130.0  170.0"
            ]
          },
          "execution_count": 26,
          "metadata": {},
          "output_type": "execute_result"
        }
      ],
      "source": [
        "df.iloc[2:4,]"
      ]
    },
    {
      "cell_type": "code",
      "execution_count": null,
      "id": "bce02b58",
      "metadata": {
        "id": "bce02b58",
        "outputId": "8c1d03ad-b248-4070-eeaa-0d2341ad4a35"
      },
      "outputs": [
        {
          "data": {
            "text/html": [
              "<div>\n",
              "<style scoped>\n",
              "    .dataframe tbody tr th:only-of-type {\n",
              "        vertical-align: middle;\n",
              "    }\n",
              "\n",
              "    .dataframe tbody tr th {\n",
              "        vertical-align: top;\n",
              "    }\n",
              "\n",
              "    .dataframe thead th {\n",
              "        text-align: right;\n",
              "    }\n",
              "</style>\n",
              "<table border=\"1\" class=\"dataframe\">\n",
              "  <thead>\n",
              "    <tr style=\"text-align: right;\">\n",
              "      <th></th>\n",
              "      <th>제품2</th>\n",
              "      <th>제품3</th>\n",
              "    </tr>\n",
              "  </thead>\n",
              "  <tbody>\n",
              "    <tr>\n",
              "      <th>2</th>\n",
              "      <td>200</td>\n",
              "      <td>100.0</td>\n",
              "    </tr>\n",
              "    <tr>\n",
              "      <th>3</th>\n",
              "      <td>230</td>\n",
              "      <td>130.0</td>\n",
              "    </tr>\n",
              "  </tbody>\n",
              "</table>\n",
              "</div>"
            ],
            "text/plain": [
              "   제품2    제품3\n",
              "2  200  100.0\n",
              "3  230  130.0"
            ]
          },
          "execution_count": 27,
          "metadata": {},
          "output_type": "execute_result"
        }
      ],
      "source": [
        "df.iloc[2:4,2:4]"
      ]
    },
    {
      "cell_type": "code",
      "execution_count": null,
      "id": "076af2e9",
      "metadata": {
        "id": "076af2e9",
        "outputId": "b940958a-0b89-4fcb-f02e-63efe9debb8d"
      },
      "outputs": [
        {
          "data": {
            "text/plain": [
              "pandas.core.frame.DataFrame"
            ]
          },
          "execution_count": 17,
          "metadata": {},
          "output_type": "execute_result"
        }
      ],
      "source": [
        "type(df)"
      ]
    },
    {
      "cell_type": "code",
      "execution_count": null,
      "id": "935ed6ff",
      "metadata": {
        "id": "935ed6ff",
        "outputId": "02a97eb6-f46f-49b2-f8a5-6870c674ffd6"
      },
      "outputs": [
        {
          "data": {
            "text/plain": [
              "RangeIndex(start=0, stop=5, step=1)"
            ]
          },
          "execution_count": 18,
          "metadata": {},
          "output_type": "execute_result"
        }
      ],
      "source": [
        "df.index"
      ]
    },
    {
      "cell_type": "code",
      "execution_count": null,
      "id": "c33aef7d",
      "metadata": {
        "id": "c33aef7d",
        "outputId": "9b215f2f-bfa0-44cb-c46b-7302d3a957d5"
      },
      "outputs": [
        {
          "data": {
            "text/plain": [
              "연도     2015.0\n",
              "제품1     250.0\n",
              "제품2     150.0\n",
              "제품3       NaN\n",
              "제품4       NaN\n",
              "Name: 0, dtype: float64"
            ]
          },
          "execution_count": 19,
          "metadata": {},
          "output_type": "execute_result"
        }
      ],
      "source": [
        "df.iloc[0]"
      ]
    },
    {
      "cell_type": "code",
      "execution_count": null,
      "id": "b42f7ed1",
      "metadata": {
        "id": "b42f7ed1",
        "outputId": "face1fee-623f-4e27-8fcc-8d474f65dd4d"
      },
      "outputs": [
        {
          "data": {
            "text/plain": [
              "pandas.core.series.Series"
            ]
          },
          "execution_count": 20,
          "metadata": {},
          "output_type": "execute_result"
        }
      ],
      "source": [
        "type(df.iloc[0]) # Series란 인덱스가 있는 배열"
      ]
    },
    {
      "cell_type": "code",
      "execution_count": null,
      "id": "20e75b4f",
      "metadata": {
        "id": "20e75b4f",
        "outputId": "a7e8b5b4-1b78-43fa-8a03-4cf5c427328c"
      },
      "outputs": [
        {
          "data": {
            "text/plain": [
              "Index(['연도', '제품1', '제품2', '제품3', '제품4'], dtype='object')"
            ]
          },
          "execution_count": 21,
          "metadata": {},
          "output_type": "execute_result"
        }
      ],
      "source": [
        "df.iloc[0].index"
      ]
    },
    {
      "cell_type": "code",
      "execution_count": null,
      "id": "d88f1b17",
      "metadata": {
        "id": "d88f1b17",
        "outputId": "7299a7b9-97bb-48fa-9756-69fa988f3dad"
      },
      "outputs": [
        {
          "data": {
            "text/plain": [
              "0    2015\n",
              "1    2016\n",
              "2    2017\n",
              "3    2018\n",
              "4    2019\n",
              "Name: 연도, dtype: int64"
            ]
          },
          "execution_count": 22,
          "metadata": {},
          "output_type": "execute_result"
        }
      ],
      "source": [
        "df.연도"
      ]
    },
    {
      "cell_type": "code",
      "execution_count": null,
      "id": "c4c3aa18",
      "metadata": {
        "id": "c4c3aa18",
        "outputId": "1dd1a455-2c29-49f2-caee-33304bdfabb0"
      },
      "outputs": [
        {
          "data": {
            "text/plain": [
              "0    2015\n",
              "1    2016\n",
              "2    2017\n",
              "3    2018\n",
              "4    2019\n",
              "Name: 연도, dtype: int64"
            ]
          },
          "execution_count": 23,
          "metadata": {},
          "output_type": "execute_result"
        }
      ],
      "source": [
        "df['연도']"
      ]
    },
    {
      "cell_type": "code",
      "execution_count": null,
      "id": "0eebb109",
      "metadata": {
        "id": "0eebb109",
        "outputId": "d164d715-4fb4-4127-abfc-875a2187ac3b"
      },
      "outputs": [
        {
          "data": {
            "text/html": [
              "<div>\n",
              "<style scoped>\n",
              "    .dataframe tbody tr th:only-of-type {\n",
              "        vertical-align: middle;\n",
              "    }\n",
              "\n",
              "    .dataframe tbody tr th {\n",
              "        vertical-align: top;\n",
              "    }\n",
              "\n",
              "    .dataframe thead th {\n",
              "        text-align: right;\n",
              "    }\n",
              "</style>\n",
              "<table border=\"1\" class=\"dataframe\">\n",
              "  <thead>\n",
              "    <tr style=\"text-align: right;\">\n",
              "      <th></th>\n",
              "      <th>제품1</th>\n",
              "      <th>제품2</th>\n",
              "      <th>제품3</th>\n",
              "      <th>제품4</th>\n",
              "    </tr>\n",
              "  </thead>\n",
              "  <tbody>\n",
              "    <tr>\n",
              "      <th>count</th>\n",
              "      <td>4.000000</td>\n",
              "      <td>5.000000</td>\n",
              "      <td>4.000000</td>\n",
              "      <td>2.000000</td>\n",
              "    </tr>\n",
              "    <tr>\n",
              "      <th>mean</th>\n",
              "      <td>180.000000</td>\n",
              "      <td>198.000000</td>\n",
              "      <td>135.000000</td>\n",
              "      <td>160.000000</td>\n",
              "    </tr>\n",
              "    <tr>\n",
              "      <th>std</th>\n",
              "      <td>57.154761</td>\n",
              "      <td>43.243497</td>\n",
              "      <td>28.867513</td>\n",
              "      <td>14.142136</td>\n",
              "    </tr>\n",
              "    <tr>\n",
              "      <th>min</th>\n",
              "      <td>120.000000</td>\n",
              "      <td>150.000000</td>\n",
              "      <td>100.000000</td>\n",
              "      <td>150.000000</td>\n",
              "    </tr>\n",
              "    <tr>\n",
              "      <th>25%</th>\n",
              "      <td>142.500000</td>\n",
              "      <td>160.000000</td>\n",
              "      <td>122.500000</td>\n",
              "      <td>155.000000</td>\n",
              "    </tr>\n",
              "    <tr>\n",
              "      <th>50%</th>\n",
              "      <td>175.000000</td>\n",
              "      <td>200.000000</td>\n",
              "      <td>135.000000</td>\n",
              "      <td>160.000000</td>\n",
              "    </tr>\n",
              "    <tr>\n",
              "      <th>75%</th>\n",
              "      <td>212.500000</td>\n",
              "      <td>230.000000</td>\n",
              "      <td>147.500000</td>\n",
              "      <td>165.000000</td>\n",
              "    </tr>\n",
              "    <tr>\n",
              "      <th>max</th>\n",
              "      <td>250.000000</td>\n",
              "      <td>250.000000</td>\n",
              "      <td>170.000000</td>\n",
              "      <td>170.000000</td>\n",
              "    </tr>\n",
              "  </tbody>\n",
              "</table>\n",
              "</div>"
            ],
            "text/plain": [
              "              제품1         제품2         제품3         제품4\n",
              "count    4.000000    5.000000    4.000000    2.000000\n",
              "mean   180.000000  198.000000  135.000000  160.000000\n",
              "std     57.154761   43.243497   28.867513   14.142136\n",
              "min    120.000000  150.000000  100.000000  150.000000\n",
              "25%    142.500000  160.000000  122.500000  155.000000\n",
              "50%    175.000000  200.000000  135.000000  160.000000\n",
              "75%    212.500000  230.000000  147.500000  165.000000\n",
              "max    250.000000  250.000000  170.000000  170.000000"
            ]
          },
          "execution_count": 42,
          "metadata": {},
          "output_type": "execute_result"
        }
      ],
      "source": [
        "df.describe()"
      ]
    },
    {
      "cell_type": "code",
      "execution_count": null,
      "id": "e5bcf8ab",
      "metadata": {
        "id": "e5bcf8ab",
        "outputId": "eafe859e-a8af-45db-db58-00847d5c6dc9"
      },
      "outputs": [
        {
          "data": {
            "text/plain": [
              "제품1    150.0\n",
              "제품2    200.0\n",
              "제품3    100.0\n",
              "제품4    150.0\n",
              "Name: 2017, dtype: float64"
            ]
          },
          "execution_count": 43,
          "metadata": {},
          "output_type": "execute_result"
        }
      ],
      "source": [
        "df.loc[2017]"
      ]
    },
    {
      "cell_type": "code",
      "execution_count": null,
      "id": "d158b98e",
      "metadata": {
        "id": "d158b98e",
        "outputId": "46440652-0218-4ba9-fd21-66891f052302"
      },
      "outputs": [
        {
          "data": {
            "text/plain": [
              "Index(['제품1', '제품2', '제품3', '제품4'], dtype='object')"
            ]
          },
          "execution_count": 45,
          "metadata": {},
          "output_type": "execute_result"
        }
      ],
      "source": [
        "df.loc[2017].index"
      ]
    },
    {
      "cell_type": "code",
      "execution_count": null,
      "id": "290f6b5d",
      "metadata": {
        "id": "290f6b5d",
        "outputId": "539d9a1c-b6d4-47a4-aa51-918466f4f5fd"
      },
      "outputs": [
        {
          "data": {
            "text/plain": [
              "array([150., 200., 100., 150.])"
            ]
          },
          "execution_count": 44,
          "metadata": {},
          "output_type": "execute_result"
        }
      ],
      "source": [
        "df.loc[2017].values"
      ]
    },
    {
      "cell_type": "code",
      "execution_count": null,
      "id": "4150bddd",
      "metadata": {
        "id": "4150bddd"
      },
      "outputs": [],
      "source": [
        "# 평균"
      ]
    },
    {
      "cell_type": "code",
      "execution_count": null,
      "id": "15d5353b",
      "metadata": {
        "id": "15d5353b"
      },
      "outputs": [],
      "source": [
        "avg = (150+200+100+150) / 4"
      ]
    },
    {
      "cell_type": "code",
      "execution_count": null,
      "id": "02a1d71d",
      "metadata": {
        "id": "02a1d71d",
        "outputId": "c67ba37f-e3ea-484f-e63f-fe9909deeccd"
      },
      "outputs": [
        {
          "data": {
            "text/plain": [
              "150.0"
            ]
          },
          "execution_count": 48,
          "metadata": {},
          "output_type": "execute_result"
        }
      ],
      "source": [
        "avg"
      ]
    },
    {
      "cell_type": "code",
      "execution_count": null,
      "id": "383c18b1",
      "metadata": {
        "id": "383c18b1",
        "outputId": "3cc0b7d6-6206-4e84-84e4-e245570fcd53"
      },
      "outputs": [
        {
          "data": {
            "text/plain": [
              "연도\n",
              "2015    150\n",
              "2016    160\n",
              "2017    200\n",
              "2018    230\n",
              "2019    250\n",
              "Name: 제품2, dtype: int64"
            ]
          },
          "execution_count": 49,
          "metadata": {},
          "output_type": "execute_result"
        }
      ],
      "source": [
        "df.제품2"
      ]
    },
    {
      "cell_type": "code",
      "execution_count": null,
      "id": "f11d9021",
      "metadata": {
        "id": "f11d9021"
      },
      "outputs": [],
      "source": [
        "import numpy as np"
      ]
    },
    {
      "cell_type": "code",
      "execution_count": null,
      "id": "0dfeb0c7",
      "metadata": {
        "id": "0dfeb0c7",
        "outputId": "2e902fdb-a711-4800-88ce-fa79d93f4e53"
      },
      "outputs": [
        {
          "data": {
            "text/plain": [
              "198.0"
            ]
          },
          "execution_count": 51,
          "metadata": {},
          "output_type": "execute_result"
        }
      ],
      "source": [
        "np.mean(df.제품2)"
      ]
    },
    {
      "cell_type": "code",
      "execution_count": null,
      "id": "dbc53bf8",
      "metadata": {
        "id": "dbc53bf8"
      },
      "outputs": [],
      "source": [
        "avg=np.mean(df.제품2)"
      ]
    },
    {
      "cell_type": "code",
      "execution_count": null,
      "id": "e46967fd",
      "metadata": {
        "id": "e46967fd",
        "outputId": "01146eb7-f6b9-4e95-900a-3e5cc01c0d70"
      },
      "outputs": [
        {
          "data": {
            "text/plain": [
              "198.0"
            ]
          },
          "execution_count": 68,
          "metadata": {},
          "output_type": "execute_result"
        }
      ],
      "source": [
        "avg"
      ]
    },
    {
      "cell_type": "code",
      "execution_count": null,
      "id": "dd72a594",
      "metadata": {
        "id": "dd72a594",
        "outputId": "0451f3bf-8871-4ea2-e5ba-d123a92dc19f"
      },
      "outputs": [
        {
          "data": {
            "text/plain": [
              "array([150, 160, 200, 230, 250], dtype=int64)"
            ]
          },
          "execution_count": 53,
          "metadata": {},
          "output_type": "execute_result"
        }
      ],
      "source": [
        "df.제품2.values"
      ]
    },
    {
      "cell_type": "code",
      "execution_count": null,
      "id": "648bf67b",
      "metadata": {
        "id": "648bf67b"
      },
      "outputs": [],
      "source": [
        "# 편차(deviation)"
      ]
    },
    {
      "cell_type": "code",
      "execution_count": null,
      "id": "a3ec28b7",
      "metadata": {
        "id": "a3ec28b7"
      },
      "outputs": [],
      "source": [
        "deviation=avg-df.제품2.values"
      ]
    },
    {
      "cell_type": "code",
      "execution_count": null,
      "id": "8874aebf",
      "metadata": {
        "id": "8874aebf",
        "outputId": "cf0e133b-7939-4eb8-d53e-dde1126174c3"
      },
      "outputs": [
        {
          "data": {
            "text/plain": [
              "array([ 48.,  38.,  -2., -32., -52.])"
            ]
          },
          "execution_count": 58,
          "metadata": {},
          "output_type": "execute_result"
        }
      ],
      "source": [
        "deviation"
      ]
    },
    {
      "cell_type": "code",
      "execution_count": null,
      "id": "553d509e",
      "metadata": {
        "id": "553d509e",
        "outputId": "c7f48e9f-0744-4525-b9a0-50b5360f3589"
      },
      "outputs": [
        {
          "data": {
            "text/plain": [
              "array([2304., 1444.,    4., 1024., 2704.])"
            ]
          },
          "execution_count": 59,
          "metadata": {},
          "output_type": "execute_result"
        }
      ],
      "source": [
        "deviation**2"
      ]
    },
    {
      "cell_type": "code",
      "execution_count": null,
      "id": "b57c384e",
      "metadata": {
        "id": "b57c384e",
        "outputId": "8df32707-8f61-4648-a5fd-4257eae1e39c"
      },
      "outputs": [
        {
          "data": {
            "text/plain": [
              "7480.0"
            ]
          },
          "execution_count": 60,
          "metadata": {},
          "output_type": "execute_result"
        }
      ],
      "source": [
        "np.sum(deviation**2)"
      ]
    },
    {
      "cell_type": "code",
      "execution_count": null,
      "id": "12226066",
      "metadata": {
        "id": "12226066",
        "outputId": "b1af0351-7c4d-428b-cc74-eb2c27b81a1a"
      },
      "outputs": [
        {
          "data": {
            "text/plain": [
              "1870.0"
            ]
          },
          "execution_count": 64,
          "metadata": {},
          "output_type": "execute_result"
        }
      ],
      "source": [
        "df.제품2.var()"
      ]
    },
    {
      "cell_type": "code",
      "execution_count": null,
      "id": "c43e6ceb",
      "metadata": {
        "id": "c43e6ceb",
        "outputId": "43f6059e-fb28-41a6-f166-bf5a3389734e"
      },
      "outputs": [
        {
          "data": {
            "text/plain": [
              "43.243496620879306"
            ]
          },
          "execution_count": 65,
          "metadata": {},
          "output_type": "execute_result"
        }
      ],
      "source": [
        "np.sqrt(df.제품2.var())"
      ]
    },
    {
      "cell_type": "code",
      "execution_count": null,
      "id": "fdff8da2",
      "metadata": {
        "id": "fdff8da2"
      },
      "outputs": [],
      "source": [
        "#분산(variation)에다가 제곱근 ->표준편차(standard deviation) 43.243497"
      ]
    },
    {
      "cell_type": "code",
      "execution_count": null,
      "id": "9e955914",
      "metadata": {
        "id": "9e955914",
        "outputId": "2127e814-7fde-43ee-ae77-94248d8f0472"
      },
      "outputs": [
        {
          "data": {
            "text/plain": [
              "1496.0"
            ]
          },
          "execution_count": 66,
          "metadata": {},
          "output_type": "execute_result"
        }
      ],
      "source": [
        "np.sum(deviation**2) / 5"
      ]
    },
    {
      "cell_type": "code",
      "execution_count": null,
      "id": "49e6c631",
      "metadata": {
        "id": "49e6c631",
        "outputId": "ab286e6f-aba3-49a1-c715-168e90912794"
      },
      "outputs": [
        {
          "data": {
            "text/plain": [
              "1870.0"
            ]
          },
          "execution_count": 67,
          "metadata": {},
          "output_type": "execute_result"
        }
      ],
      "source": [
        "np.sum(deviation**2) / 4"
      ]
    },
    {
      "cell_type": "code",
      "execution_count": null,
      "id": "532fed6d",
      "metadata": {
        "id": "532fed6d",
        "outputId": "fe694fcc-6d8a-423a-806d-6f2670b9ec69"
      },
      "outputs": [
        {
          "data": {
            "text/html": [
              "<div>\n",
              "<style scoped>\n",
              "    .dataframe tbody tr th:only-of-type {\n",
              "        vertical-align: middle;\n",
              "    }\n",
              "\n",
              "    .dataframe tbody tr th {\n",
              "        vertical-align: top;\n",
              "    }\n",
              "\n",
              "    .dataframe thead th {\n",
              "        text-align: right;\n",
              "    }\n",
              "</style>\n",
              "<table border=\"1\" class=\"dataframe\">\n",
              "  <thead>\n",
              "    <tr style=\"text-align: right;\">\n",
              "      <th></th>\n",
              "      <th>제품1</th>\n",
              "      <th>제품2</th>\n",
              "      <th>제품3</th>\n",
              "      <th>제품4</th>\n",
              "    </tr>\n",
              "    <tr>\n",
              "      <th>연도</th>\n",
              "      <th></th>\n",
              "      <th></th>\n",
              "      <th></th>\n",
              "      <th></th>\n",
              "    </tr>\n",
              "  </thead>\n",
              "  <tbody>\n",
              "    <tr>\n",
              "      <th>2015</th>\n",
              "      <td>250.0</td>\n",
              "      <td>150</td>\n",
              "      <td>NaN</td>\n",
              "      <td>NaN</td>\n",
              "    </tr>\n",
              "    <tr>\n",
              "      <th>2016</th>\n",
              "      <td>200.0</td>\n",
              "      <td>160</td>\n",
              "      <td>170.0</td>\n",
              "      <td>NaN</td>\n",
              "    </tr>\n",
              "    <tr>\n",
              "      <th>2017</th>\n",
              "      <td>150.0</td>\n",
              "      <td>200</td>\n",
              "      <td>100.0</td>\n",
              "      <td>150.0</td>\n",
              "    </tr>\n",
              "    <tr>\n",
              "      <th>2018</th>\n",
              "      <td>120.0</td>\n",
              "      <td>230</td>\n",
              "      <td>130.0</td>\n",
              "      <td>170.0</td>\n",
              "    </tr>\n",
              "    <tr>\n",
              "      <th>2019</th>\n",
              "      <td>NaN</td>\n",
              "      <td>250</td>\n",
              "      <td>140.0</td>\n",
              "      <td>NaN</td>\n",
              "    </tr>\n",
              "  </tbody>\n",
              "</table>\n",
              "</div>"
            ],
            "text/plain": [
              "        제품1  제품2    제품3    제품4\n",
              "연도                            \n",
              "2015  250.0  150    NaN    NaN\n",
              "2016  200.0  160  170.0    NaN\n",
              "2017  150.0  200  100.0  150.0\n",
              "2018  120.0  230  130.0  170.0\n",
              "2019    NaN  250  140.0    NaN"
            ]
          },
          "execution_count": 69,
          "metadata": {},
          "output_type": "execute_result"
        }
      ],
      "source": [
        "df"
      ]
    },
    {
      "cell_type": "code",
      "execution_count": null,
      "id": "536b100e",
      "metadata": {
        "id": "536b100e",
        "outputId": "6c49f616-9970-4958-8e5a-a0b90a001aa3"
      },
      "outputs": [
        {
          "data": {
            "text/html": [
              "<div>\n",
              "<style scoped>\n",
              "    .dataframe tbody tr th:only-of-type {\n",
              "        vertical-align: middle;\n",
              "    }\n",
              "\n",
              "    .dataframe tbody tr th {\n",
              "        vertical-align: top;\n",
              "    }\n",
              "\n",
              "    .dataframe thead th {\n",
              "        text-align: right;\n",
              "    }\n",
              "</style>\n",
              "<table border=\"1\" class=\"dataframe\">\n",
              "  <thead>\n",
              "    <tr style=\"text-align: right;\">\n",
              "      <th></th>\n",
              "      <th>제품1</th>\n",
              "      <th>제품2</th>\n",
              "      <th>제품3</th>\n",
              "      <th>제품4</th>\n",
              "    </tr>\n",
              "    <tr>\n",
              "      <th>연도</th>\n",
              "      <th></th>\n",
              "      <th></th>\n",
              "      <th></th>\n",
              "      <th></th>\n",
              "    </tr>\n",
              "  </thead>\n",
              "  <tbody>\n",
              "    <tr>\n",
              "      <th>2015</th>\n",
              "      <td>False</td>\n",
              "      <td>False</td>\n",
              "      <td>True</td>\n",
              "      <td>True</td>\n",
              "    </tr>\n",
              "    <tr>\n",
              "      <th>2016</th>\n",
              "      <td>False</td>\n",
              "      <td>False</td>\n",
              "      <td>False</td>\n",
              "      <td>True</td>\n",
              "    </tr>\n",
              "    <tr>\n",
              "      <th>2017</th>\n",
              "      <td>False</td>\n",
              "      <td>False</td>\n",
              "      <td>False</td>\n",
              "      <td>False</td>\n",
              "    </tr>\n",
              "    <tr>\n",
              "      <th>2018</th>\n",
              "      <td>False</td>\n",
              "      <td>False</td>\n",
              "      <td>False</td>\n",
              "      <td>False</td>\n",
              "    </tr>\n",
              "    <tr>\n",
              "      <th>2019</th>\n",
              "      <td>True</td>\n",
              "      <td>False</td>\n",
              "      <td>False</td>\n",
              "      <td>True</td>\n",
              "    </tr>\n",
              "  </tbody>\n",
              "</table>\n",
              "</div>"
            ],
            "text/plain": [
              "        제품1    제품2    제품3    제품4\n",
              "연도                              \n",
              "2015  False  False   True   True\n",
              "2016  False  False  False   True\n",
              "2017  False  False  False  False\n",
              "2018  False  False  False  False\n",
              "2019   True  False  False   True"
            ]
          },
          "execution_count": 70,
          "metadata": {},
          "output_type": "execute_result"
        }
      ],
      "source": [
        "df.isnull()"
      ]
    },
    {
      "cell_type": "code",
      "execution_count": null,
      "id": "0f032c06",
      "metadata": {
        "id": "0f032c06",
        "outputId": "94ea2fbf-1b13-43b7-872e-3ead89f4fef9"
      },
      "outputs": [
        {
          "data": {
            "text/plain": [
              "제품1    1\n",
              "제품2    0\n",
              "제품3    1\n",
              "제품4    3\n",
              "dtype: int64"
            ]
          },
          "execution_count": 71,
          "metadata": {},
          "output_type": "execute_result"
        }
      ],
      "source": [
        "df.isnull().sum()"
      ]
    },
    {
      "cell_type": "code",
      "execution_count": null,
      "id": "18f2bbd9",
      "metadata": {
        "id": "18f2bbd9"
      },
      "outputs": [],
      "source": [
        "# help(df.drop)"
      ]
    },
    {
      "cell_type": "code",
      "execution_count": null,
      "id": "6477a2ec",
      "metadata": {
        "id": "6477a2ec",
        "outputId": "0507f840-3606-489c-e652-9d485eae14ad"
      },
      "outputs": [
        {
          "data": {
            "text/html": [
              "<div>\n",
              "<style scoped>\n",
              "    .dataframe tbody tr th:only-of-type {\n",
              "        vertical-align: middle;\n",
              "    }\n",
              "\n",
              "    .dataframe tbody tr th {\n",
              "        vertical-align: top;\n",
              "    }\n",
              "\n",
              "    .dataframe thead th {\n",
              "        text-align: right;\n",
              "    }\n",
              "</style>\n",
              "<table border=\"1\" class=\"dataframe\">\n",
              "  <thead>\n",
              "    <tr style=\"text-align: right;\">\n",
              "      <th></th>\n",
              "      <th>제품1</th>\n",
              "      <th>제품2</th>\n",
              "      <th>제품3</th>\n",
              "      <th>제품4</th>\n",
              "    </tr>\n",
              "    <tr>\n",
              "      <th>연도</th>\n",
              "      <th></th>\n",
              "      <th></th>\n",
              "      <th></th>\n",
              "      <th></th>\n",
              "    </tr>\n",
              "  </thead>\n",
              "  <tbody>\n",
              "    <tr>\n",
              "      <th>2015</th>\n",
              "      <td>250.0</td>\n",
              "      <td>150</td>\n",
              "      <td>NaN</td>\n",
              "      <td>NaN</td>\n",
              "    </tr>\n",
              "    <tr>\n",
              "      <th>2016</th>\n",
              "      <td>200.0</td>\n",
              "      <td>160</td>\n",
              "      <td>170.0</td>\n",
              "      <td>NaN</td>\n",
              "    </tr>\n",
              "    <tr>\n",
              "      <th>2017</th>\n",
              "      <td>150.0</td>\n",
              "      <td>200</td>\n",
              "      <td>100.0</td>\n",
              "      <td>150.0</td>\n",
              "    </tr>\n",
              "    <tr>\n",
              "      <th>2018</th>\n",
              "      <td>120.0</td>\n",
              "      <td>230</td>\n",
              "      <td>130.0</td>\n",
              "      <td>170.0</td>\n",
              "    </tr>\n",
              "  </tbody>\n",
              "</table>\n",
              "</div>"
            ],
            "text/plain": [
              "        제품1  제품2    제품3    제품4\n",
              "연도                            \n",
              "2015  250.0  150    NaN    NaN\n",
              "2016  200.0  160  170.0    NaN\n",
              "2017  150.0  200  100.0  150.0\n",
              "2018  120.0  230  130.0  170.0"
            ]
          },
          "execution_count": 76,
          "metadata": {},
          "output_type": "execute_result"
        }
      ],
      "source": [
        "df.drop(index=[2019])"
      ]
    },
    {
      "cell_type": "code",
      "execution_count": null,
      "id": "676ecb8c",
      "metadata": {
        "id": "676ecb8c"
      },
      "outputs": [],
      "source": [
        "df_index=df.set_index('연도')"
      ]
    },
    {
      "cell_type": "code",
      "execution_count": null,
      "id": "f50c4a12",
      "metadata": {
        "id": "f50c4a12",
        "outputId": "746b03b5-2716-4a81-8224-7859abcd4841"
      },
      "outputs": [
        {
          "data": {
            "text/html": [
              "<div>\n",
              "<style scoped>\n",
              "    .dataframe tbody tr th:only-of-type {\n",
              "        vertical-align: middle;\n",
              "    }\n",
              "\n",
              "    .dataframe tbody tr th {\n",
              "        vertical-align: top;\n",
              "    }\n",
              "\n",
              "    .dataframe thead th {\n",
              "        text-align: right;\n",
              "    }\n",
              "</style>\n",
              "<table border=\"1\" class=\"dataframe\">\n",
              "  <thead>\n",
              "    <tr style=\"text-align: right;\">\n",
              "      <th></th>\n",
              "      <th>제품1</th>\n",
              "      <th>제품2</th>\n",
              "      <th>제품3</th>\n",
              "      <th>제품4</th>\n",
              "    </tr>\n",
              "    <tr>\n",
              "      <th>연도</th>\n",
              "      <th></th>\n",
              "      <th></th>\n",
              "      <th></th>\n",
              "      <th></th>\n",
              "    </tr>\n",
              "  </thead>\n",
              "  <tbody>\n",
              "    <tr>\n",
              "      <th>2015</th>\n",
              "      <td>250.0</td>\n",
              "      <td>150</td>\n",
              "      <td>NaN</td>\n",
              "      <td>NaN</td>\n",
              "    </tr>\n",
              "    <tr>\n",
              "      <th>2016</th>\n",
              "      <td>200.0</td>\n",
              "      <td>160</td>\n",
              "      <td>170.0</td>\n",
              "      <td>NaN</td>\n",
              "    </tr>\n",
              "    <tr>\n",
              "      <th>2017</th>\n",
              "      <td>150.0</td>\n",
              "      <td>200</td>\n",
              "      <td>100.0</td>\n",
              "      <td>150.0</td>\n",
              "    </tr>\n",
              "    <tr>\n",
              "      <th>2018</th>\n",
              "      <td>120.0</td>\n",
              "      <td>230</td>\n",
              "      <td>130.0</td>\n",
              "      <td>170.0</td>\n",
              "    </tr>\n",
              "    <tr>\n",
              "      <th>2019</th>\n",
              "      <td>NaN</td>\n",
              "      <td>250</td>\n",
              "      <td>140.0</td>\n",
              "      <td>NaN</td>\n",
              "    </tr>\n",
              "  </tbody>\n",
              "</table>\n",
              "</div>"
            ],
            "text/plain": [
              "        제품1  제품2    제품3    제품4\n",
              "연도                            \n",
              "2015  250.0  150    NaN    NaN\n",
              "2016  200.0  160  170.0    NaN\n",
              "2017  150.0  200  100.0  150.0\n",
              "2018  120.0  230  130.0  170.0\n",
              "2019    NaN  250  140.0    NaN"
            ]
          },
          "execution_count": 87,
          "metadata": {},
          "output_type": "execute_result"
        }
      ],
      "source": [
        "df_index"
      ]
    },
    {
      "cell_type": "code",
      "execution_count": null,
      "id": "6bf649d6",
      "metadata": {
        "id": "6bf649d6"
      },
      "outputs": [],
      "source": [
        "df2=df_index.drop(index=[2019])"
      ]
    },
    {
      "cell_type": "code",
      "execution_count": null,
      "id": "ec6e86aa",
      "metadata": {
        "id": "ec6e86aa",
        "outputId": "095fdf31-bb26-4c0e-b923-0740e513b983"
      },
      "outputs": [
        {
          "data": {
            "text/html": [
              "<div>\n",
              "<style scoped>\n",
              "    .dataframe tbody tr th:only-of-type {\n",
              "        vertical-align: middle;\n",
              "    }\n",
              "\n",
              "    .dataframe tbody tr th {\n",
              "        vertical-align: top;\n",
              "    }\n",
              "\n",
              "    .dataframe thead th {\n",
              "        text-align: right;\n",
              "    }\n",
              "</style>\n",
              "<table border=\"1\" class=\"dataframe\">\n",
              "  <thead>\n",
              "    <tr style=\"text-align: right;\">\n",
              "      <th></th>\n",
              "      <th>제품1</th>\n",
              "      <th>제품2</th>\n",
              "      <th>제품3</th>\n",
              "      <th>제품4</th>\n",
              "    </tr>\n",
              "    <tr>\n",
              "      <th>연도</th>\n",
              "      <th></th>\n",
              "      <th></th>\n",
              "      <th></th>\n",
              "      <th></th>\n",
              "    </tr>\n",
              "  </thead>\n",
              "  <tbody>\n",
              "    <tr>\n",
              "      <th>2015</th>\n",
              "      <td>250.0</td>\n",
              "      <td>150</td>\n",
              "      <td>NaN</td>\n",
              "      <td>NaN</td>\n",
              "    </tr>\n",
              "    <tr>\n",
              "      <th>2016</th>\n",
              "      <td>200.0</td>\n",
              "      <td>160</td>\n",
              "      <td>170.0</td>\n",
              "      <td>NaN</td>\n",
              "    </tr>\n",
              "    <tr>\n",
              "      <th>2017</th>\n",
              "      <td>150.0</td>\n",
              "      <td>200</td>\n",
              "      <td>100.0</td>\n",
              "      <td>150.0</td>\n",
              "    </tr>\n",
              "    <tr>\n",
              "      <th>2018</th>\n",
              "      <td>120.0</td>\n",
              "      <td>230</td>\n",
              "      <td>130.0</td>\n",
              "      <td>170.0</td>\n",
              "    </tr>\n",
              "  </tbody>\n",
              "</table>\n",
              "</div>"
            ],
            "text/plain": [
              "        제품1  제품2    제품3    제품4\n",
              "연도                            \n",
              "2015  250.0  150    NaN    NaN\n",
              "2016  200.0  160  170.0    NaN\n",
              "2017  150.0  200  100.0  150.0\n",
              "2018  120.0  230  130.0  170.0"
            ]
          },
          "execution_count": 89,
          "metadata": {},
          "output_type": "execute_result"
        }
      ],
      "source": [
        "df2"
      ]
    },
    {
      "cell_type": "code",
      "execution_count": null,
      "id": "e0c7a9fc",
      "metadata": {
        "id": "e0c7a9fc"
      },
      "outputs": [],
      "source": [
        "df3=df2.drop(columns=['제품3', '제품4'])"
      ]
    },
    {
      "cell_type": "code",
      "execution_count": null,
      "id": "44eec5b4",
      "metadata": {
        "id": "44eec5b4",
        "outputId": "95ac3c9d-80f3-4739-9260-47c25aa649f8"
      },
      "outputs": [
        {
          "data": {
            "text/html": [
              "<div>\n",
              "<style scoped>\n",
              "    .dataframe tbody tr th:only-of-type {\n",
              "        vertical-align: middle;\n",
              "    }\n",
              "\n",
              "    .dataframe tbody tr th {\n",
              "        vertical-align: top;\n",
              "    }\n",
              "\n",
              "    .dataframe thead th {\n",
              "        text-align: right;\n",
              "    }\n",
              "</style>\n",
              "<table border=\"1\" class=\"dataframe\">\n",
              "  <thead>\n",
              "    <tr style=\"text-align: right;\">\n",
              "      <th></th>\n",
              "      <th>제품1</th>\n",
              "      <th>제품2</th>\n",
              "    </tr>\n",
              "    <tr>\n",
              "      <th>연도</th>\n",
              "      <th></th>\n",
              "      <th></th>\n",
              "    </tr>\n",
              "  </thead>\n",
              "  <tbody>\n",
              "    <tr>\n",
              "      <th>2015</th>\n",
              "      <td>250.0</td>\n",
              "      <td>150</td>\n",
              "    </tr>\n",
              "    <tr>\n",
              "      <th>2016</th>\n",
              "      <td>200.0</td>\n",
              "      <td>160</td>\n",
              "    </tr>\n",
              "    <tr>\n",
              "      <th>2017</th>\n",
              "      <td>150.0</td>\n",
              "      <td>200</td>\n",
              "    </tr>\n",
              "    <tr>\n",
              "      <th>2018</th>\n",
              "      <td>120.0</td>\n",
              "      <td>230</td>\n",
              "    </tr>\n",
              "  </tbody>\n",
              "</table>\n",
              "</div>"
            ],
            "text/plain": [
              "        제품1  제품2\n",
              "연도              \n",
              "2015  250.0  150\n",
              "2016  200.0  160\n",
              "2017  150.0  200\n",
              "2018  120.0  230"
            ]
          },
          "execution_count": 91,
          "metadata": {},
          "output_type": "execute_result"
        }
      ],
      "source": [
        "df3"
      ]
    },
    {
      "cell_type": "code",
      "execution_count": null,
      "id": "46b290b4",
      "metadata": {
        "id": "46b290b4"
      },
      "outputs": [],
      "source": [
        "# df.drop(index=[2018, 2019], columns=['제품3', '제품4'])"
      ]
    },
    {
      "cell_type": "code",
      "execution_count": null,
      "id": "f3485c4c",
      "metadata": {
        "id": "f3485c4c",
        "outputId": "51eda207-fd59-43f6-fca1-c9d755521039"
      },
      "outputs": [
        {
          "data": {
            "text/html": [
              "<div>\n",
              "<style scoped>\n",
              "    .dataframe tbody tr th:only-of-type {\n",
              "        vertical-align: middle;\n",
              "    }\n",
              "\n",
              "    .dataframe tbody tr th {\n",
              "        vertical-align: top;\n",
              "    }\n",
              "\n",
              "    .dataframe thead th {\n",
              "        text-align: right;\n",
              "    }\n",
              "</style>\n",
              "<table border=\"1\" class=\"dataframe\">\n",
              "  <thead>\n",
              "    <tr style=\"text-align: right;\">\n",
              "      <th></th>\n",
              "      <th>연도</th>\n",
              "      <th>제품1</th>\n",
              "      <th>제품2</th>\n",
              "      <th>제품3</th>\n",
              "      <th>제품4</th>\n",
              "    </tr>\n",
              "  </thead>\n",
              "  <tbody>\n",
              "    <tr>\n",
              "      <th>0</th>\n",
              "      <td>2015</td>\n",
              "      <td>250.0</td>\n",
              "      <td>150</td>\n",
              "      <td>NaN</td>\n",
              "      <td>NaN</td>\n",
              "    </tr>\n",
              "    <tr>\n",
              "      <th>1</th>\n",
              "      <td>2016</td>\n",
              "      <td>200.0</td>\n",
              "      <td>160</td>\n",
              "      <td>170.0</td>\n",
              "      <td>NaN</td>\n",
              "    </tr>\n",
              "    <tr>\n",
              "      <th>2</th>\n",
              "      <td>2017</td>\n",
              "      <td>150.0</td>\n",
              "      <td>200</td>\n",
              "      <td>100.0</td>\n",
              "      <td>150.0</td>\n",
              "    </tr>\n",
              "    <tr>\n",
              "      <th>3</th>\n",
              "      <td>2018</td>\n",
              "      <td>120.0</td>\n",
              "      <td>230</td>\n",
              "      <td>130.0</td>\n",
              "      <td>170.0</td>\n",
              "    </tr>\n",
              "    <tr>\n",
              "      <th>4</th>\n",
              "      <td>2019</td>\n",
              "      <td>NaN</td>\n",
              "      <td>250</td>\n",
              "      <td>140.0</td>\n",
              "      <td>NaN</td>\n",
              "    </tr>\n",
              "  </tbody>\n",
              "</table>\n",
              "</div>"
            ],
            "text/plain": [
              "     연도    제품1  제품2    제품3    제품4\n",
              "0  2015  250.0  150    NaN    NaN\n",
              "1  2016  200.0  160  170.0    NaN\n",
              "2  2017  150.0  200  100.0  150.0\n",
              "3  2018  120.0  230  130.0  170.0\n",
              "4  2019    NaN  250  140.0    NaN"
            ]
          },
          "execution_count": 93,
          "metadata": {},
          "output_type": "execute_result"
        }
      ],
      "source": [
        "df"
      ]
    },
    {
      "cell_type": "code",
      "execution_count": null,
      "id": "d9d1a190",
      "metadata": {
        "id": "d9d1a190"
      },
      "outputs": [],
      "source": [
        "df_copy=df.copy()"
      ]
    },
    {
      "cell_type": "code",
      "execution_count": null,
      "id": "ca398491",
      "metadata": {
        "id": "ca398491",
        "outputId": "8033cb08-e996-4aaf-94c4-e83f3c484440"
      },
      "outputs": [
        {
          "data": {
            "text/html": [
              "<div>\n",
              "<style scoped>\n",
              "    .dataframe tbody tr th:only-of-type {\n",
              "        vertical-align: middle;\n",
              "    }\n",
              "\n",
              "    .dataframe tbody tr th {\n",
              "        vertical-align: top;\n",
              "    }\n",
              "\n",
              "    .dataframe thead th {\n",
              "        text-align: right;\n",
              "    }\n",
              "</style>\n",
              "<table border=\"1\" class=\"dataframe\">\n",
              "  <thead>\n",
              "    <tr style=\"text-align: right;\">\n",
              "      <th></th>\n",
              "      <th>연도</th>\n",
              "      <th>제품1</th>\n",
              "      <th>제품2</th>\n",
              "      <th>제품3</th>\n",
              "      <th>제품4</th>\n",
              "    </tr>\n",
              "  </thead>\n",
              "  <tbody>\n",
              "    <tr>\n",
              "      <th>0</th>\n",
              "      <td>2015</td>\n",
              "      <td>250.0</td>\n",
              "      <td>150</td>\n",
              "      <td>NaN</td>\n",
              "      <td>NaN</td>\n",
              "    </tr>\n",
              "    <tr>\n",
              "      <th>1</th>\n",
              "      <td>2016</td>\n",
              "      <td>200.0</td>\n",
              "      <td>160</td>\n",
              "      <td>170.0</td>\n",
              "      <td>NaN</td>\n",
              "    </tr>\n",
              "    <tr>\n",
              "      <th>2</th>\n",
              "      <td>2017</td>\n",
              "      <td>150.0</td>\n",
              "      <td>200</td>\n",
              "      <td>100.0</td>\n",
              "      <td>150.0</td>\n",
              "    </tr>\n",
              "    <tr>\n",
              "      <th>3</th>\n",
              "      <td>2018</td>\n",
              "      <td>120.0</td>\n",
              "      <td>230</td>\n",
              "      <td>130.0</td>\n",
              "      <td>170.0</td>\n",
              "    </tr>\n",
              "    <tr>\n",
              "      <th>4</th>\n",
              "      <td>2019</td>\n",
              "      <td>NaN</td>\n",
              "      <td>250</td>\n",
              "      <td>140.0</td>\n",
              "      <td>NaN</td>\n",
              "    </tr>\n",
              "  </tbody>\n",
              "</table>\n",
              "</div>"
            ],
            "text/plain": [
              "     연도    제품1  제품2    제품3    제품4\n",
              "0  2015  250.0  150    NaN    NaN\n",
              "1  2016  200.0  160  170.0    NaN\n",
              "2  2017  150.0  200  100.0  150.0\n",
              "3  2018  120.0  230  130.0  170.0\n",
              "4  2019    NaN  250  140.0    NaN"
            ]
          },
          "execution_count": 95,
          "metadata": {},
          "output_type": "execute_result"
        }
      ],
      "source": [
        "df_copy"
      ]
    },
    {
      "cell_type": "code",
      "execution_count": null,
      "id": "b4de0c92",
      "metadata": {
        "id": "b4de0c92",
        "outputId": "afa9df5c-a8cb-42fa-af51-a49dc749e216"
      },
      "outputs": [
        {
          "data": {
            "text/html": [
              "<div>\n",
              "<style scoped>\n",
              "    .dataframe tbody tr th:only-of-type {\n",
              "        vertical-align: middle;\n",
              "    }\n",
              "\n",
              "    .dataframe tbody tr th {\n",
              "        vertical-align: top;\n",
              "    }\n",
              "\n",
              "    .dataframe thead th {\n",
              "        text-align: right;\n",
              "    }\n",
              "</style>\n",
              "<table border=\"1\" class=\"dataframe\">\n",
              "  <thead>\n",
              "    <tr style=\"text-align: right;\">\n",
              "      <th></th>\n",
              "      <th>연도</th>\n",
              "      <th>제품1</th>\n",
              "      <th>제품2</th>\n",
              "      <th>제품3</th>\n",
              "      <th>제품4</th>\n",
              "    </tr>\n",
              "  </thead>\n",
              "  <tbody>\n",
              "    <tr>\n",
              "      <th>2</th>\n",
              "      <td>2017</td>\n",
              "      <td>150.0</td>\n",
              "      <td>200</td>\n",
              "      <td>100.0</td>\n",
              "      <td>150.0</td>\n",
              "    </tr>\n",
              "    <tr>\n",
              "      <th>3</th>\n",
              "      <td>2018</td>\n",
              "      <td>120.0</td>\n",
              "      <td>230</td>\n",
              "      <td>130.0</td>\n",
              "      <td>170.0</td>\n",
              "    </tr>\n",
              "  </tbody>\n",
              "</table>\n",
              "</div>"
            ],
            "text/plain": [
              "     연도    제품1  제품2    제품3    제품4\n",
              "2  2017  150.0  200  100.0  150.0\n",
              "3  2018  120.0  230  130.0  170.0"
            ]
          },
          "execution_count": 96,
          "metadata": {},
          "output_type": "execute_result"
        }
      ],
      "source": [
        "df_copy.dropna()"
      ]
    },
    {
      "cell_type": "code",
      "execution_count": null,
      "id": "e39fadcd",
      "metadata": {
        "id": "e39fadcd"
      },
      "outputs": [],
      "source": [
        "df_copy2=df.copy()"
      ]
    },
    {
      "cell_type": "code",
      "execution_count": null,
      "id": "3a4b5f8e",
      "metadata": {
        "id": "3a4b5f8e",
        "outputId": "560bdc39-0028-46cd-ba9c-7e5b744bad2e"
      },
      "outputs": [
        {
          "data": {
            "text/html": [
              "<div>\n",
              "<style scoped>\n",
              "    .dataframe tbody tr th:only-of-type {\n",
              "        vertical-align: middle;\n",
              "    }\n",
              "\n",
              "    .dataframe tbody tr th {\n",
              "        vertical-align: top;\n",
              "    }\n",
              "\n",
              "    .dataframe thead th {\n",
              "        text-align: right;\n",
              "    }\n",
              "</style>\n",
              "<table border=\"1\" class=\"dataframe\">\n",
              "  <thead>\n",
              "    <tr style=\"text-align: right;\">\n",
              "      <th></th>\n",
              "      <th>연도</th>\n",
              "      <th>제품1</th>\n",
              "      <th>제품2</th>\n",
              "      <th>제품3</th>\n",
              "      <th>제품4</th>\n",
              "    </tr>\n",
              "  </thead>\n",
              "  <tbody>\n",
              "    <tr>\n",
              "      <th>0</th>\n",
              "      <td>2015</td>\n",
              "      <td>250.0</td>\n",
              "      <td>150</td>\n",
              "      <td>NaN</td>\n",
              "      <td>NaN</td>\n",
              "    </tr>\n",
              "    <tr>\n",
              "      <th>1</th>\n",
              "      <td>2016</td>\n",
              "      <td>200.0</td>\n",
              "      <td>160</td>\n",
              "      <td>170.0</td>\n",
              "      <td>NaN</td>\n",
              "    </tr>\n",
              "    <tr>\n",
              "      <th>2</th>\n",
              "      <td>2017</td>\n",
              "      <td>150.0</td>\n",
              "      <td>200</td>\n",
              "      <td>100.0</td>\n",
              "      <td>150.0</td>\n",
              "    </tr>\n",
              "    <tr>\n",
              "      <th>3</th>\n",
              "      <td>2018</td>\n",
              "      <td>120.0</td>\n",
              "      <td>230</td>\n",
              "      <td>130.0</td>\n",
              "      <td>170.0</td>\n",
              "    </tr>\n",
              "    <tr>\n",
              "      <th>4</th>\n",
              "      <td>2019</td>\n",
              "      <td>NaN</td>\n",
              "      <td>250</td>\n",
              "      <td>140.0</td>\n",
              "      <td>NaN</td>\n",
              "    </tr>\n",
              "  </tbody>\n",
              "</table>\n",
              "</div>"
            ],
            "text/plain": [
              "     연도    제품1  제품2    제품3    제품4\n",
              "0  2015  250.0  150    NaN    NaN\n",
              "1  2016  200.0  160  170.0    NaN\n",
              "2  2017  150.0  200  100.0  150.0\n",
              "3  2018  120.0  230  130.0  170.0\n",
              "4  2019    NaN  250  140.0    NaN"
            ]
          },
          "execution_count": 99,
          "metadata": {},
          "output_type": "execute_result"
        }
      ],
      "source": [
        "df_copy2"
      ]
    },
    {
      "cell_type": "code",
      "execution_count": null,
      "id": "ae7a70f2",
      "metadata": {
        "id": "ae7a70f2",
        "outputId": "11123654-d057-4b32-8895-30d7431534d9"
      },
      "outputs": [
        {
          "data": {
            "text/html": [
              "<div>\n",
              "<style scoped>\n",
              "    .dataframe tbody tr th:only-of-type {\n",
              "        vertical-align: middle;\n",
              "    }\n",
              "\n",
              "    .dataframe tbody tr th {\n",
              "        vertical-align: top;\n",
              "    }\n",
              "\n",
              "    .dataframe thead th {\n",
              "        text-align: right;\n",
              "    }\n",
              "</style>\n",
              "<table border=\"1\" class=\"dataframe\">\n",
              "  <thead>\n",
              "    <tr style=\"text-align: right;\">\n",
              "      <th></th>\n",
              "      <th>연도</th>\n",
              "      <th>제품2</th>\n",
              "    </tr>\n",
              "  </thead>\n",
              "  <tbody>\n",
              "    <tr>\n",
              "      <th>0</th>\n",
              "      <td>2015</td>\n",
              "      <td>150</td>\n",
              "    </tr>\n",
              "    <tr>\n",
              "      <th>1</th>\n",
              "      <td>2016</td>\n",
              "      <td>160</td>\n",
              "    </tr>\n",
              "    <tr>\n",
              "      <th>2</th>\n",
              "      <td>2017</td>\n",
              "      <td>200</td>\n",
              "    </tr>\n",
              "    <tr>\n",
              "      <th>3</th>\n",
              "      <td>2018</td>\n",
              "      <td>230</td>\n",
              "    </tr>\n",
              "    <tr>\n",
              "      <th>4</th>\n",
              "      <td>2019</td>\n",
              "      <td>250</td>\n",
              "    </tr>\n",
              "  </tbody>\n",
              "</table>\n",
              "</div>"
            ],
            "text/plain": [
              "     연도  제품2\n",
              "0  2015  150\n",
              "1  2016  160\n",
              "2  2017  200\n",
              "3  2018  230\n",
              "4  2019  250"
            ]
          },
          "execution_count": 100,
          "metadata": {},
          "output_type": "execute_result"
        }
      ],
      "source": [
        "df_copy2.dropna(axis=1)"
      ]
    },
    {
      "cell_type": "code",
      "execution_count": null,
      "id": "007fc923",
      "metadata": {
        "id": "007fc923"
      },
      "outputs": [],
      "source": [
        "df_copy2_index=df_copy2.set_index('연도')"
      ]
    },
    {
      "cell_type": "code",
      "execution_count": null,
      "id": "7b463318",
      "metadata": {
        "id": "7b463318"
      },
      "outputs": [],
      "source": [
        "# help(df_copy2.dropna)"
      ]
    },
    {
      "cell_type": "code",
      "execution_count": null,
      "id": "ea29b10f",
      "metadata": {
        "id": "ea29b10f",
        "outputId": "432f88f3-4eb2-4809-cd79-cbd388653bda"
      },
      "outputs": [
        {
          "data": {
            "text/html": [
              "<div>\n",
              "<style scoped>\n",
              "    .dataframe tbody tr th:only-of-type {\n",
              "        vertical-align: middle;\n",
              "    }\n",
              "\n",
              "    .dataframe tbody tr th {\n",
              "        vertical-align: top;\n",
              "    }\n",
              "\n",
              "    .dataframe thead th {\n",
              "        text-align: right;\n",
              "    }\n",
              "</style>\n",
              "<table border=\"1\" class=\"dataframe\">\n",
              "  <thead>\n",
              "    <tr style=\"text-align: right;\">\n",
              "      <th></th>\n",
              "      <th>제품1</th>\n",
              "      <th>제품2</th>\n",
              "      <th>제품3</th>\n",
              "      <th>제품4</th>\n",
              "    </tr>\n",
              "    <tr>\n",
              "      <th>연도</th>\n",
              "      <th></th>\n",
              "      <th></th>\n",
              "      <th></th>\n",
              "      <th></th>\n",
              "    </tr>\n",
              "  </thead>\n",
              "  <tbody>\n",
              "    <tr>\n",
              "      <th>2015</th>\n",
              "      <td>250.0</td>\n",
              "      <td>150</td>\n",
              "      <td>NaN</td>\n",
              "      <td>NaN</td>\n",
              "    </tr>\n",
              "    <tr>\n",
              "      <th>2016</th>\n",
              "      <td>200.0</td>\n",
              "      <td>160</td>\n",
              "      <td>170.0</td>\n",
              "      <td>NaN</td>\n",
              "    </tr>\n",
              "    <tr>\n",
              "      <th>2017</th>\n",
              "      <td>150.0</td>\n",
              "      <td>200</td>\n",
              "      <td>100.0</td>\n",
              "      <td>150.0</td>\n",
              "    </tr>\n",
              "    <tr>\n",
              "      <th>2018</th>\n",
              "      <td>120.0</td>\n",
              "      <td>230</td>\n",
              "      <td>130.0</td>\n",
              "      <td>170.0</td>\n",
              "    </tr>\n",
              "    <tr>\n",
              "      <th>2019</th>\n",
              "      <td>NaN</td>\n",
              "      <td>250</td>\n",
              "      <td>140.0</td>\n",
              "      <td>NaN</td>\n",
              "    </tr>\n",
              "  </tbody>\n",
              "</table>\n",
              "</div>"
            ],
            "text/plain": [
              "        제품1  제품2    제품3    제품4\n",
              "연도                            \n",
              "2015  250.0  150    NaN    NaN\n",
              "2016  200.0  160  170.0    NaN\n",
              "2017  150.0  200  100.0  150.0\n",
              "2018  120.0  230  130.0  170.0\n",
              "2019    NaN  250  140.0    NaN"
            ]
          },
          "execution_count": 105,
          "metadata": {},
          "output_type": "execute_result"
        }
      ],
      "source": [
        "df_copy2_index"
      ]
    },
    {
      "cell_type": "code",
      "execution_count": null,
      "id": "0be2af5d",
      "metadata": {
        "id": "0be2af5d",
        "outputId": "c437faf6-a7cc-428f-9648-4128b417edfb"
      },
      "outputs": [
        {
          "data": {
            "text/html": [
              "<div>\n",
              "<style scoped>\n",
              "    .dataframe tbody tr th:only-of-type {\n",
              "        vertical-align: middle;\n",
              "    }\n",
              "\n",
              "    .dataframe tbody tr th {\n",
              "        vertical-align: top;\n",
              "    }\n",
              "\n",
              "    .dataframe thead th {\n",
              "        text-align: right;\n",
              "    }\n",
              "</style>\n",
              "<table border=\"1\" class=\"dataframe\">\n",
              "  <thead>\n",
              "    <tr style=\"text-align: right;\">\n",
              "      <th></th>\n",
              "      <th>제품1</th>\n",
              "      <th>제품2</th>\n",
              "    </tr>\n",
              "    <tr>\n",
              "      <th>연도</th>\n",
              "      <th></th>\n",
              "      <th></th>\n",
              "    </tr>\n",
              "  </thead>\n",
              "  <tbody>\n",
              "    <tr>\n",
              "      <th>2015</th>\n",
              "      <td>250.0</td>\n",
              "      <td>150</td>\n",
              "    </tr>\n",
              "    <tr>\n",
              "      <th>2016</th>\n",
              "      <td>200.0</td>\n",
              "      <td>160</td>\n",
              "    </tr>\n",
              "    <tr>\n",
              "      <th>2017</th>\n",
              "      <td>150.0</td>\n",
              "      <td>200</td>\n",
              "    </tr>\n",
              "    <tr>\n",
              "      <th>2018</th>\n",
              "      <td>120.0</td>\n",
              "      <td>230</td>\n",
              "    </tr>\n",
              "    <tr>\n",
              "      <th>2019</th>\n",
              "      <td>NaN</td>\n",
              "      <td>250</td>\n",
              "    </tr>\n",
              "  </tbody>\n",
              "</table>\n",
              "</div>"
            ],
            "text/plain": [
              "        제품1  제품2\n",
              "연도              \n",
              "2015  250.0  150\n",
              "2016  200.0  160\n",
              "2017  150.0  200\n",
              "2018  120.0  230\n",
              "2019    NaN  250"
            ]
          },
          "execution_count": 106,
          "metadata": {},
          "output_type": "execute_result"
        }
      ],
      "source": [
        "df_copy2_index.dropna(axis=1, subset=[2015])"
      ]
    },
    {
      "cell_type": "code",
      "execution_count": null,
      "id": "959c4bf6",
      "metadata": {
        "id": "959c4bf6",
        "outputId": "671b1993-58b0-439c-ae3f-b5ba255f6386"
      },
      "outputs": [
        {
          "data": {
            "text/html": [
              "<div>\n",
              "<style scoped>\n",
              "    .dataframe tbody tr th:only-of-type {\n",
              "        vertical-align: middle;\n",
              "    }\n",
              "\n",
              "    .dataframe tbody tr th {\n",
              "        vertical-align: top;\n",
              "    }\n",
              "\n",
              "    .dataframe thead th {\n",
              "        text-align: right;\n",
              "    }\n",
              "</style>\n",
              "<table border=\"1\" class=\"dataframe\">\n",
              "  <thead>\n",
              "    <tr style=\"text-align: right;\">\n",
              "      <th></th>\n",
              "      <th>제품2</th>\n",
              "      <th>제품3</th>\n",
              "    </tr>\n",
              "    <tr>\n",
              "      <th>연도</th>\n",
              "      <th></th>\n",
              "      <th></th>\n",
              "    </tr>\n",
              "  </thead>\n",
              "  <tbody>\n",
              "    <tr>\n",
              "      <th>2015</th>\n",
              "      <td>150</td>\n",
              "      <td>NaN</td>\n",
              "    </tr>\n",
              "    <tr>\n",
              "      <th>2016</th>\n",
              "      <td>160</td>\n",
              "      <td>170.0</td>\n",
              "    </tr>\n",
              "    <tr>\n",
              "      <th>2017</th>\n",
              "      <td>200</td>\n",
              "      <td>100.0</td>\n",
              "    </tr>\n",
              "    <tr>\n",
              "      <th>2018</th>\n",
              "      <td>230</td>\n",
              "      <td>130.0</td>\n",
              "    </tr>\n",
              "    <tr>\n",
              "      <th>2019</th>\n",
              "      <td>250</td>\n",
              "      <td>140.0</td>\n",
              "    </tr>\n",
              "  </tbody>\n",
              "</table>\n",
              "</div>"
            ],
            "text/plain": [
              "      제품2    제품3\n",
              "연도              \n",
              "2015  150    NaN\n",
              "2016  160  170.0\n",
              "2017  200  100.0\n",
              "2018  230  130.0\n",
              "2019  250  140.0"
            ]
          },
          "execution_count": 108,
          "metadata": {},
          "output_type": "execute_result"
        }
      ],
      "source": [
        "df_copy2_index.dropna(axis=1, subset=[2016, 2019])"
      ]
    },
    {
      "cell_type": "code",
      "execution_count": null,
      "id": "4fcdb5b3",
      "metadata": {
        "id": "4fcdb5b3",
        "outputId": "0014fce0-1dcb-4281-e6c1-35108c4c8af2"
      },
      "outputs": [
        {
          "data": {
            "text/html": [
              "<div>\n",
              "<style scoped>\n",
              "    .dataframe tbody tr th:only-of-type {\n",
              "        vertical-align: middle;\n",
              "    }\n",
              "\n",
              "    .dataframe tbody tr th {\n",
              "        vertical-align: top;\n",
              "    }\n",
              "\n",
              "    .dataframe thead th {\n",
              "        text-align: right;\n",
              "    }\n",
              "</style>\n",
              "<table border=\"1\" class=\"dataframe\">\n",
              "  <thead>\n",
              "    <tr style=\"text-align: right;\">\n",
              "      <th></th>\n",
              "      <th>연도</th>\n",
              "      <th>제품1</th>\n",
              "      <th>제품2</th>\n",
              "      <th>제품3</th>\n",
              "      <th>제품4</th>\n",
              "    </tr>\n",
              "  </thead>\n",
              "  <tbody>\n",
              "    <tr>\n",
              "      <th>0</th>\n",
              "      <td>2015</td>\n",
              "      <td>250.0</td>\n",
              "      <td>150</td>\n",
              "      <td>NaN</td>\n",
              "      <td>NaN</td>\n",
              "    </tr>\n",
              "    <tr>\n",
              "      <th>1</th>\n",
              "      <td>2016</td>\n",
              "      <td>200.0</td>\n",
              "      <td>160</td>\n",
              "      <td>170.0</td>\n",
              "      <td>NaN</td>\n",
              "    </tr>\n",
              "    <tr>\n",
              "      <th>2</th>\n",
              "      <td>2017</td>\n",
              "      <td>150.0</td>\n",
              "      <td>200</td>\n",
              "      <td>100.0</td>\n",
              "      <td>150.0</td>\n",
              "    </tr>\n",
              "    <tr>\n",
              "      <th>3</th>\n",
              "      <td>2018</td>\n",
              "      <td>120.0</td>\n",
              "      <td>230</td>\n",
              "      <td>130.0</td>\n",
              "      <td>170.0</td>\n",
              "    </tr>\n",
              "    <tr>\n",
              "      <th>4</th>\n",
              "      <td>2019</td>\n",
              "      <td>NaN</td>\n",
              "      <td>250</td>\n",
              "      <td>140.0</td>\n",
              "      <td>NaN</td>\n",
              "    </tr>\n",
              "  </tbody>\n",
              "</table>\n",
              "</div>"
            ],
            "text/plain": [
              "     연도    제품1  제품2    제품3    제품4\n",
              "0  2015  250.0  150    NaN    NaN\n",
              "1  2016  200.0  160  170.0    NaN\n",
              "2  2017  150.0  200  100.0  150.0\n",
              "3  2018  120.0  230  130.0  170.0\n",
              "4  2019    NaN  250  140.0    NaN"
            ]
          },
          "execution_count": 109,
          "metadata": {},
          "output_type": "execute_result"
        }
      ],
      "source": [
        "df"
      ]
    },
    {
      "cell_type": "code",
      "execution_count": null,
      "id": "dfbeb421",
      "metadata": {
        "id": "dfbeb421",
        "outputId": "bc7b8b28-406a-4750-c367-10f49d2977a7"
      },
      "outputs": [
        {
          "data": {
            "text/html": [
              "<div>\n",
              "<style scoped>\n",
              "    .dataframe tbody tr th:only-of-type {\n",
              "        vertical-align: middle;\n",
              "    }\n",
              "\n",
              "    .dataframe tbody tr th {\n",
              "        vertical-align: top;\n",
              "    }\n",
              "\n",
              "    .dataframe thead th {\n",
              "        text-align: right;\n",
              "    }\n",
              "</style>\n",
              "<table border=\"1\" class=\"dataframe\">\n",
              "  <thead>\n",
              "    <tr style=\"text-align: right;\">\n",
              "      <th></th>\n",
              "      <th>연도</th>\n",
              "      <th>제품1</th>\n",
              "      <th>제품2</th>\n",
              "      <th>제품3</th>\n",
              "      <th>제품4</th>\n",
              "    </tr>\n",
              "  </thead>\n",
              "  <tbody>\n",
              "    <tr>\n",
              "      <th>0</th>\n",
              "      <td>2015</td>\n",
              "      <td>250.0</td>\n",
              "      <td>150</td>\n",
              "      <td>0.0</td>\n",
              "      <td>0.0</td>\n",
              "    </tr>\n",
              "    <tr>\n",
              "      <th>1</th>\n",
              "      <td>2016</td>\n",
              "      <td>200.0</td>\n",
              "      <td>160</td>\n",
              "      <td>170.0</td>\n",
              "      <td>0.0</td>\n",
              "    </tr>\n",
              "    <tr>\n",
              "      <th>2</th>\n",
              "      <td>2017</td>\n",
              "      <td>150.0</td>\n",
              "      <td>200</td>\n",
              "      <td>100.0</td>\n",
              "      <td>150.0</td>\n",
              "    </tr>\n",
              "    <tr>\n",
              "      <th>3</th>\n",
              "      <td>2018</td>\n",
              "      <td>120.0</td>\n",
              "      <td>230</td>\n",
              "      <td>130.0</td>\n",
              "      <td>170.0</td>\n",
              "    </tr>\n",
              "    <tr>\n",
              "      <th>4</th>\n",
              "      <td>2019</td>\n",
              "      <td>0.0</td>\n",
              "      <td>250</td>\n",
              "      <td>140.0</td>\n",
              "      <td>0.0</td>\n",
              "    </tr>\n",
              "  </tbody>\n",
              "</table>\n",
              "</div>"
            ],
            "text/plain": [
              "     연도    제품1  제품2    제품3    제품4\n",
              "0  2015  250.0  150    0.0    0.0\n",
              "1  2016  200.0  160  170.0    0.0\n",
              "2  2017  150.0  200  100.0  150.0\n",
              "3  2018  120.0  230  130.0  170.0\n",
              "4  2019    0.0  250  140.0    0.0"
            ]
          },
          "execution_count": 110,
          "metadata": {},
          "output_type": "execute_result"
        }
      ],
      "source": [
        "df.fillna(0)"
      ]
    },
    {
      "cell_type": "code",
      "execution_count": null,
      "id": "ad2d71a0",
      "metadata": {
        "id": "ad2d71a0",
        "outputId": "1427b168-1e0e-4b4e-b1d1-cb0b863a70d6"
      },
      "outputs": [
        {
          "data": {
            "text/html": [
              "<div>\n",
              "<style scoped>\n",
              "    .dataframe tbody tr th:only-of-type {\n",
              "        vertical-align: middle;\n",
              "    }\n",
              "\n",
              "    .dataframe tbody tr th {\n",
              "        vertical-align: top;\n",
              "    }\n",
              "\n",
              "    .dataframe thead th {\n",
              "        text-align: right;\n",
              "    }\n",
              "</style>\n",
              "<table border=\"1\" class=\"dataframe\">\n",
              "  <thead>\n",
              "    <tr style=\"text-align: right;\">\n",
              "      <th></th>\n",
              "      <th>연도</th>\n",
              "      <th>제품1</th>\n",
              "      <th>제품2</th>\n",
              "      <th>제품3</th>\n",
              "      <th>제품4</th>\n",
              "    </tr>\n",
              "  </thead>\n",
              "  <tbody>\n",
              "    <tr>\n",
              "      <th>0</th>\n",
              "      <td>2015</td>\n",
              "      <td>250.0</td>\n",
              "      <td>150</td>\n",
              "      <td>NaN</td>\n",
              "      <td>NaN</td>\n",
              "    </tr>\n",
              "    <tr>\n",
              "      <th>1</th>\n",
              "      <td>2016</td>\n",
              "      <td>200.0</td>\n",
              "      <td>160</td>\n",
              "      <td>170.0</td>\n",
              "      <td>NaN</td>\n",
              "    </tr>\n",
              "    <tr>\n",
              "      <th>2</th>\n",
              "      <td>2017</td>\n",
              "      <td>150.0</td>\n",
              "      <td>200</td>\n",
              "      <td>100.0</td>\n",
              "      <td>150.0</td>\n",
              "    </tr>\n",
              "    <tr>\n",
              "      <th>3</th>\n",
              "      <td>2018</td>\n",
              "      <td>120.0</td>\n",
              "      <td>230</td>\n",
              "      <td>130.0</td>\n",
              "      <td>170.0</td>\n",
              "    </tr>\n",
              "    <tr>\n",
              "      <th>4</th>\n",
              "      <td>2019</td>\n",
              "      <td>NaN</td>\n",
              "      <td>250</td>\n",
              "      <td>140.0</td>\n",
              "      <td>NaN</td>\n",
              "    </tr>\n",
              "  </tbody>\n",
              "</table>\n",
              "</div>"
            ],
            "text/plain": [
              "     연도    제품1  제품2    제품3    제품4\n",
              "0  2015  250.0  150    NaN    NaN\n",
              "1  2016  200.0  160  170.0    NaN\n",
              "2  2017  150.0  200  100.0  150.0\n",
              "3  2018  120.0  230  130.0  170.0\n",
              "4  2019    NaN  250  140.0    NaN"
            ]
          },
          "execution_count": 111,
          "metadata": {},
          "output_type": "execute_result"
        }
      ],
      "source": [
        "df"
      ]
    },
    {
      "cell_type": "code",
      "execution_count": null,
      "id": "770e9ef2",
      "metadata": {
        "id": "770e9ef2",
        "outputId": "73f8d455-f001-4b36-a821-dfe6402e3ea0"
      },
      "outputs": [
        {
          "data": {
            "text/html": [
              "<div>\n",
              "<style scoped>\n",
              "    .dataframe tbody tr th:only-of-type {\n",
              "        vertical-align: middle;\n",
              "    }\n",
              "\n",
              "    .dataframe tbody tr th {\n",
              "        vertical-align: top;\n",
              "    }\n",
              "\n",
              "    .dataframe thead th {\n",
              "        text-align: right;\n",
              "    }\n",
              "</style>\n",
              "<table border=\"1\" class=\"dataframe\">\n",
              "  <thead>\n",
              "    <tr style=\"text-align: right;\">\n",
              "      <th></th>\n",
              "      <th>연도</th>\n",
              "      <th>제품1</th>\n",
              "      <th>제품2</th>\n",
              "      <th>제품3</th>\n",
              "      <th>제품4</th>\n",
              "    </tr>\n",
              "  </thead>\n",
              "  <tbody>\n",
              "    <tr>\n",
              "      <th>0</th>\n",
              "      <td>2015</td>\n",
              "      <td>250.0</td>\n",
              "      <td>150</td>\n",
              "      <td>170.0</td>\n",
              "      <td>150.0</td>\n",
              "    </tr>\n",
              "    <tr>\n",
              "      <th>1</th>\n",
              "      <td>2016</td>\n",
              "      <td>200.0</td>\n",
              "      <td>160</td>\n",
              "      <td>170.0</td>\n",
              "      <td>150.0</td>\n",
              "    </tr>\n",
              "    <tr>\n",
              "      <th>2</th>\n",
              "      <td>2017</td>\n",
              "      <td>150.0</td>\n",
              "      <td>200</td>\n",
              "      <td>100.0</td>\n",
              "      <td>150.0</td>\n",
              "    </tr>\n",
              "    <tr>\n",
              "      <th>3</th>\n",
              "      <td>2018</td>\n",
              "      <td>120.0</td>\n",
              "      <td>230</td>\n",
              "      <td>130.0</td>\n",
              "      <td>170.0</td>\n",
              "    </tr>\n",
              "    <tr>\n",
              "      <th>4</th>\n",
              "      <td>2019</td>\n",
              "      <td>NaN</td>\n",
              "      <td>250</td>\n",
              "      <td>140.0</td>\n",
              "      <td>NaN</td>\n",
              "    </tr>\n",
              "  </tbody>\n",
              "</table>\n",
              "</div>"
            ],
            "text/plain": [
              "     연도    제품1  제품2    제품3    제품4\n",
              "0  2015  250.0  150  170.0  150.0\n",
              "1  2016  200.0  160  170.0  150.0\n",
              "2  2017  150.0  200  100.0  150.0\n",
              "3  2018  120.0  230  130.0  170.0\n",
              "4  2019    NaN  250  140.0    NaN"
            ]
          },
          "execution_count": 112,
          "metadata": {},
          "output_type": "execute_result"
        }
      ],
      "source": [
        "df.fillna(method='bfill')"
      ]
    },
    {
      "cell_type": "code",
      "execution_count": null,
      "id": "d8be06f8",
      "metadata": {
        "id": "d8be06f8",
        "outputId": "fd18f09e-f239-4398-8a02-4bb299943a89"
      },
      "outputs": [
        {
          "data": {
            "text/html": [
              "<div>\n",
              "<style scoped>\n",
              "    .dataframe tbody tr th:only-of-type {\n",
              "        vertical-align: middle;\n",
              "    }\n",
              "\n",
              "    .dataframe tbody tr th {\n",
              "        vertical-align: top;\n",
              "    }\n",
              "\n",
              "    .dataframe thead th {\n",
              "        text-align: right;\n",
              "    }\n",
              "</style>\n",
              "<table border=\"1\" class=\"dataframe\">\n",
              "  <thead>\n",
              "    <tr style=\"text-align: right;\">\n",
              "      <th></th>\n",
              "      <th>연도</th>\n",
              "      <th>제품1</th>\n",
              "      <th>제품2</th>\n",
              "      <th>제품3</th>\n",
              "      <th>제품4</th>\n",
              "    </tr>\n",
              "  </thead>\n",
              "  <tbody>\n",
              "    <tr>\n",
              "      <th>0</th>\n",
              "      <td>2015</td>\n",
              "      <td>250.0</td>\n",
              "      <td>150</td>\n",
              "      <td>NaN</td>\n",
              "      <td>NaN</td>\n",
              "    </tr>\n",
              "    <tr>\n",
              "      <th>1</th>\n",
              "      <td>2016</td>\n",
              "      <td>200.0</td>\n",
              "      <td>160</td>\n",
              "      <td>170.0</td>\n",
              "      <td>NaN</td>\n",
              "    </tr>\n",
              "    <tr>\n",
              "      <th>2</th>\n",
              "      <td>2017</td>\n",
              "      <td>150.0</td>\n",
              "      <td>200</td>\n",
              "      <td>100.0</td>\n",
              "      <td>150.0</td>\n",
              "    </tr>\n",
              "    <tr>\n",
              "      <th>3</th>\n",
              "      <td>2018</td>\n",
              "      <td>120.0</td>\n",
              "      <td>230</td>\n",
              "      <td>130.0</td>\n",
              "      <td>170.0</td>\n",
              "    </tr>\n",
              "    <tr>\n",
              "      <th>4</th>\n",
              "      <td>2019</td>\n",
              "      <td>NaN</td>\n",
              "      <td>250</td>\n",
              "      <td>140.0</td>\n",
              "      <td>NaN</td>\n",
              "    </tr>\n",
              "  </tbody>\n",
              "</table>\n",
              "</div>"
            ],
            "text/plain": [
              "     연도    제품1  제품2    제품3    제품4\n",
              "0  2015  250.0  150    NaN    NaN\n",
              "1  2016  200.0  160  170.0    NaN\n",
              "2  2017  150.0  200  100.0  150.0\n",
              "3  2018  120.0  230  130.0  170.0\n",
              "4  2019    NaN  250  140.0    NaN"
            ]
          },
          "execution_count": 113,
          "metadata": {},
          "output_type": "execute_result"
        }
      ],
      "source": [
        "df"
      ]
    },
    {
      "cell_type": "code",
      "execution_count": null,
      "id": "513a7766",
      "metadata": {
        "id": "513a7766",
        "outputId": "2b46512a-4830-455e-9965-ee546e0b9214"
      },
      "outputs": [
        {
          "data": {
            "text/html": [
              "<div>\n",
              "<style scoped>\n",
              "    .dataframe tbody tr th:only-of-type {\n",
              "        vertical-align: middle;\n",
              "    }\n",
              "\n",
              "    .dataframe tbody tr th {\n",
              "        vertical-align: top;\n",
              "    }\n",
              "\n",
              "    .dataframe thead th {\n",
              "        text-align: right;\n",
              "    }\n",
              "</style>\n",
              "<table border=\"1\" class=\"dataframe\">\n",
              "  <thead>\n",
              "    <tr style=\"text-align: right;\">\n",
              "      <th></th>\n",
              "      <th>연도</th>\n",
              "      <th>제품1</th>\n",
              "      <th>제품2</th>\n",
              "      <th>제품3</th>\n",
              "      <th>제품4</th>\n",
              "    </tr>\n",
              "  </thead>\n",
              "  <tbody>\n",
              "    <tr>\n",
              "      <th>0</th>\n",
              "      <td>2015</td>\n",
              "      <td>250.0</td>\n",
              "      <td>150</td>\n",
              "      <td>NaN</td>\n",
              "      <td>NaN</td>\n",
              "    </tr>\n",
              "    <tr>\n",
              "      <th>1</th>\n",
              "      <td>2016</td>\n",
              "      <td>200.0</td>\n",
              "      <td>160</td>\n",
              "      <td>170.0</td>\n",
              "      <td>NaN</td>\n",
              "    </tr>\n",
              "    <tr>\n",
              "      <th>2</th>\n",
              "      <td>2017</td>\n",
              "      <td>150.0</td>\n",
              "      <td>200</td>\n",
              "      <td>100.0</td>\n",
              "      <td>150.0</td>\n",
              "    </tr>\n",
              "    <tr>\n",
              "      <th>3</th>\n",
              "      <td>2018</td>\n",
              "      <td>120.0</td>\n",
              "      <td>230</td>\n",
              "      <td>130.0</td>\n",
              "      <td>170.0</td>\n",
              "    </tr>\n",
              "    <tr>\n",
              "      <th>4</th>\n",
              "      <td>2019</td>\n",
              "      <td>120.0</td>\n",
              "      <td>250</td>\n",
              "      <td>140.0</td>\n",
              "      <td>170.0</td>\n",
              "    </tr>\n",
              "  </tbody>\n",
              "</table>\n",
              "</div>"
            ],
            "text/plain": [
              "     연도    제품1  제품2    제품3    제품4\n",
              "0  2015  250.0  150    NaN    NaN\n",
              "1  2016  200.0  160  170.0    NaN\n",
              "2  2017  150.0  200  100.0  150.0\n",
              "3  2018  120.0  230  130.0  170.0\n",
              "4  2019  120.0  250  140.0  170.0"
            ]
          },
          "execution_count": 114,
          "metadata": {},
          "output_type": "execute_result"
        }
      ],
      "source": [
        "df.fillna(method='ffill')"
      ]
    },
    {
      "cell_type": "code",
      "execution_count": null,
      "id": "27eb2481",
      "metadata": {
        "id": "27eb2481",
        "outputId": "b54a67bd-e21e-4db2-eaa4-3f35f0894344"
      },
      "outputs": [
        {
          "data": {
            "text/html": [
              "<div>\n",
              "<style scoped>\n",
              "    .dataframe tbody tr th:only-of-type {\n",
              "        vertical-align: middle;\n",
              "    }\n",
              "\n",
              "    .dataframe tbody tr th {\n",
              "        vertical-align: top;\n",
              "    }\n",
              "\n",
              "    .dataframe thead th {\n",
              "        text-align: right;\n",
              "    }\n",
              "</style>\n",
              "<table border=\"1\" class=\"dataframe\">\n",
              "  <thead>\n",
              "    <tr style=\"text-align: right;\">\n",
              "      <th></th>\n",
              "      <th>연도</th>\n",
              "      <th>제품1</th>\n",
              "      <th>제품2</th>\n",
              "      <th>제품3</th>\n",
              "      <th>제품4</th>\n",
              "    </tr>\n",
              "  </thead>\n",
              "  <tbody>\n",
              "    <tr>\n",
              "      <th>0</th>\n",
              "      <td>2015</td>\n",
              "      <td>250.0</td>\n",
              "      <td>150</td>\n",
              "      <td>NaN</td>\n",
              "      <td>NaN</td>\n",
              "    </tr>\n",
              "    <tr>\n",
              "      <th>1</th>\n",
              "      <td>2016</td>\n",
              "      <td>200.0</td>\n",
              "      <td>160</td>\n",
              "      <td>170.0</td>\n",
              "      <td>NaN</td>\n",
              "    </tr>\n",
              "    <tr>\n",
              "      <th>2</th>\n",
              "      <td>2017</td>\n",
              "      <td>150.0</td>\n",
              "      <td>200</td>\n",
              "      <td>100.0</td>\n",
              "      <td>150.0</td>\n",
              "    </tr>\n",
              "    <tr>\n",
              "      <th>3</th>\n",
              "      <td>2018</td>\n",
              "      <td>120.0</td>\n",
              "      <td>230</td>\n",
              "      <td>130.0</td>\n",
              "      <td>170.0</td>\n",
              "    </tr>\n",
              "    <tr>\n",
              "      <th>4</th>\n",
              "      <td>2019</td>\n",
              "      <td>NaN</td>\n",
              "      <td>250</td>\n",
              "      <td>140.0</td>\n",
              "      <td>NaN</td>\n",
              "    </tr>\n",
              "  </tbody>\n",
              "</table>\n",
              "</div>"
            ],
            "text/plain": [
              "     연도    제품1  제품2    제품3    제품4\n",
              "0  2015  250.0  150    NaN    NaN\n",
              "1  2016  200.0  160  170.0    NaN\n",
              "2  2017  150.0  200  100.0  150.0\n",
              "3  2018  120.0  230  130.0  170.0\n",
              "4  2019    NaN  250  140.0    NaN"
            ]
          },
          "execution_count": 115,
          "metadata": {},
          "output_type": "execute_result"
        }
      ],
      "source": [
        "df"
      ]
    },
    {
      "cell_type": "code",
      "execution_count": null,
      "id": "d9e72059",
      "metadata": {
        "id": "d9e72059",
        "outputId": "27eb764e-71cd-4811-9864-7e9aa64d14e5"
      },
      "outputs": [
        {
          "data": {
            "text/html": [
              "<div>\n",
              "<style scoped>\n",
              "    .dataframe tbody tr th:only-of-type {\n",
              "        vertical-align: middle;\n",
              "    }\n",
              "\n",
              "    .dataframe tbody tr th {\n",
              "        vertical-align: top;\n",
              "    }\n",
              "\n",
              "    .dataframe thead th {\n",
              "        text-align: right;\n",
              "    }\n",
              "</style>\n",
              "<table border=\"1\" class=\"dataframe\">\n",
              "  <thead>\n",
              "    <tr style=\"text-align: right;\">\n",
              "      <th></th>\n",
              "      <th>연도</th>\n",
              "      <th>제품1</th>\n",
              "      <th>제품2</th>\n",
              "      <th>제품3</th>\n",
              "      <th>제품4</th>\n",
              "    </tr>\n",
              "  </thead>\n",
              "  <tbody>\n",
              "    <tr>\n",
              "      <th>0</th>\n",
              "      <td>2015</td>\n",
              "      <td>250.0</td>\n",
              "      <td>150</td>\n",
              "      <td>NaN</td>\n",
              "      <td>400.0</td>\n",
              "    </tr>\n",
              "    <tr>\n",
              "      <th>1</th>\n",
              "      <td>2016</td>\n",
              "      <td>200.0</td>\n",
              "      <td>160</td>\n",
              "      <td>170.0</td>\n",
              "      <td>400.0</td>\n",
              "    </tr>\n",
              "    <tr>\n",
              "      <th>2</th>\n",
              "      <td>2017</td>\n",
              "      <td>150.0</td>\n",
              "      <td>200</td>\n",
              "      <td>100.0</td>\n",
              "      <td>150.0</td>\n",
              "    </tr>\n",
              "    <tr>\n",
              "      <th>3</th>\n",
              "      <td>2018</td>\n",
              "      <td>120.0</td>\n",
              "      <td>230</td>\n",
              "      <td>130.0</td>\n",
              "      <td>170.0</td>\n",
              "    </tr>\n",
              "    <tr>\n",
              "      <th>4</th>\n",
              "      <td>2019</td>\n",
              "      <td>100.0</td>\n",
              "      <td>250</td>\n",
              "      <td>140.0</td>\n",
              "      <td>400.0</td>\n",
              "    </tr>\n",
              "  </tbody>\n",
              "</table>\n",
              "</div>"
            ],
            "text/plain": [
              "     연도    제품1  제품2    제품3    제품4\n",
              "0  2015  250.0  150    NaN  400.0\n",
              "1  2016  200.0  160  170.0  400.0\n",
              "2  2017  150.0  200  100.0  150.0\n",
              "3  2018  120.0  230  130.0  170.0\n",
              "4  2019  100.0  250  140.0  400.0"
            ]
          },
          "execution_count": 116,
          "metadata": {},
          "output_type": "execute_result"
        }
      ],
      "source": [
        "values = {'제품1': 100,  '제품4': 400}\n",
        "df.fillna(value=values)"
      ]
    },
    {
      "cell_type": "code",
      "execution_count": null,
      "id": "3065ad85",
      "metadata": {
        "id": "3065ad85",
        "outputId": "fe1c9f4d-f4af-4693-fbe9-29ef2cce8477"
      },
      "outputs": [
        {
          "data": {
            "text/html": [
              "<div>\n",
              "<style scoped>\n",
              "    .dataframe tbody tr th:only-of-type {\n",
              "        vertical-align: middle;\n",
              "    }\n",
              "\n",
              "    .dataframe tbody tr th {\n",
              "        vertical-align: top;\n",
              "    }\n",
              "\n",
              "    .dataframe thead th {\n",
              "        text-align: right;\n",
              "    }\n",
              "</style>\n",
              "<table border=\"1\" class=\"dataframe\">\n",
              "  <thead>\n",
              "    <tr style=\"text-align: right;\">\n",
              "      <th></th>\n",
              "      <th>제품1</th>\n",
              "      <th>제품2</th>\n",
              "      <th>제품3</th>\n",
              "      <th>제품4</th>\n",
              "    </tr>\n",
              "    <tr>\n",
              "      <th>연도</th>\n",
              "      <th></th>\n",
              "      <th></th>\n",
              "      <th></th>\n",
              "      <th></th>\n",
              "    </tr>\n",
              "  </thead>\n",
              "  <tbody>\n",
              "    <tr>\n",
              "      <th>2015</th>\n",
              "      <td>250.0</td>\n",
              "      <td>150</td>\n",
              "      <td>NaN</td>\n",
              "      <td>NaN</td>\n",
              "    </tr>\n",
              "    <tr>\n",
              "      <th>2016</th>\n",
              "      <td>200.0</td>\n",
              "      <td>160</td>\n",
              "      <td>170.0</td>\n",
              "      <td>NaN</td>\n",
              "    </tr>\n",
              "    <tr>\n",
              "      <th>2017</th>\n",
              "      <td>150.0</td>\n",
              "      <td>200</td>\n",
              "      <td>100.0</td>\n",
              "      <td>150.0</td>\n",
              "    </tr>\n",
              "    <tr>\n",
              "      <th>2018</th>\n",
              "      <td>120.0</td>\n",
              "      <td>230</td>\n",
              "      <td>130.0</td>\n",
              "      <td>170.0</td>\n",
              "    </tr>\n",
              "  </tbody>\n",
              "</table>\n",
              "</div>"
            ],
            "text/plain": [
              "        제품1  제품2    제품3    제품4\n",
              "연도                            \n",
              "2015  250.0  150    NaN    NaN\n",
              "2016  200.0  160  170.0    NaN\n",
              "2017  150.0  200  100.0  150.0\n",
              "2018  120.0  230  130.0  170.0"
            ]
          },
          "execution_count": 118,
          "metadata": {},
          "output_type": "execute_result"
        }
      ],
      "source": [
        "df2"
      ]
    },
    {
      "cell_type": "code",
      "execution_count": null,
      "id": "e1c523e8",
      "metadata": {
        "id": "e1c523e8",
        "outputId": "d7b8fdee-c4b2-4ab4-e415-c8349da3074f"
      },
      "outputs": [
        {
          "data": {
            "text/html": [
              "<div>\n",
              "<style scoped>\n",
              "    .dataframe tbody tr th:only-of-type {\n",
              "        vertical-align: middle;\n",
              "    }\n",
              "\n",
              "    .dataframe tbody tr th {\n",
              "        vertical-align: top;\n",
              "    }\n",
              "\n",
              "    .dataframe thead th {\n",
              "        text-align: right;\n",
              "    }\n",
              "</style>\n",
              "<table border=\"1\" class=\"dataframe\">\n",
              "  <thead>\n",
              "    <tr style=\"text-align: right;\">\n",
              "      <th></th>\n",
              "      <th>제품1</th>\n",
              "      <th>제품2</th>\n",
              "    </tr>\n",
              "    <tr>\n",
              "      <th>연도</th>\n",
              "      <th></th>\n",
              "      <th></th>\n",
              "    </tr>\n",
              "  </thead>\n",
              "  <tbody>\n",
              "    <tr>\n",
              "      <th>2015</th>\n",
              "      <td>250.0</td>\n",
              "      <td>150</td>\n",
              "    </tr>\n",
              "    <tr>\n",
              "      <th>2016</th>\n",
              "      <td>200.0</td>\n",
              "      <td>160</td>\n",
              "    </tr>\n",
              "    <tr>\n",
              "      <th>2017</th>\n",
              "      <td>150.0</td>\n",
              "      <td>200</td>\n",
              "    </tr>\n",
              "    <tr>\n",
              "      <th>2018</th>\n",
              "      <td>120.0</td>\n",
              "      <td>230</td>\n",
              "    </tr>\n",
              "  </tbody>\n",
              "</table>\n",
              "</div>"
            ],
            "text/plain": [
              "        제품1  제품2\n",
              "연도              \n",
              "2015  250.0  150\n",
              "2016  200.0  160\n",
              "2017  150.0  200\n",
              "2018  120.0  230"
            ]
          },
          "execution_count": 119,
          "metadata": {},
          "output_type": "execute_result"
        }
      ],
      "source": [
        "df3"
      ]
    },
    {
      "cell_type": "code",
      "execution_count": null,
      "id": "cec22ad7",
      "metadata": {
        "id": "cec22ad7"
      },
      "outputs": [],
      "source": [
        "df4=df.copy()"
      ]
    },
    {
      "cell_type": "code",
      "execution_count": null,
      "id": "21ec0be8",
      "metadata": {
        "id": "21ec0be8",
        "outputId": "d7206e32-5db4-4485-ef52-365ef25d480b"
      },
      "outputs": [
        {
          "data": {
            "text/html": [
              "<div>\n",
              "<style scoped>\n",
              "    .dataframe tbody tr th:only-of-type {\n",
              "        vertical-align: middle;\n",
              "    }\n",
              "\n",
              "    .dataframe tbody tr th {\n",
              "        vertical-align: top;\n",
              "    }\n",
              "\n",
              "    .dataframe thead th {\n",
              "        text-align: right;\n",
              "    }\n",
              "</style>\n",
              "<table border=\"1\" class=\"dataframe\">\n",
              "  <thead>\n",
              "    <tr style=\"text-align: right;\">\n",
              "      <th></th>\n",
              "      <th>연도</th>\n",
              "      <th>제품1</th>\n",
              "      <th>제품2</th>\n",
              "      <th>제품3</th>\n",
              "      <th>제품4</th>\n",
              "    </tr>\n",
              "  </thead>\n",
              "  <tbody>\n",
              "    <tr>\n",
              "      <th>0</th>\n",
              "      <td>2015</td>\n",
              "      <td>250.0</td>\n",
              "      <td>150</td>\n",
              "      <td>NaN</td>\n",
              "      <td>NaN</td>\n",
              "    </tr>\n",
              "    <tr>\n",
              "      <th>1</th>\n",
              "      <td>2016</td>\n",
              "      <td>200.0</td>\n",
              "      <td>160</td>\n",
              "      <td>170.0</td>\n",
              "      <td>NaN</td>\n",
              "    </tr>\n",
              "    <tr>\n",
              "      <th>2</th>\n",
              "      <td>2017</td>\n",
              "      <td>150.0</td>\n",
              "      <td>200</td>\n",
              "      <td>100.0</td>\n",
              "      <td>150.0</td>\n",
              "    </tr>\n",
              "    <tr>\n",
              "      <th>3</th>\n",
              "      <td>2018</td>\n",
              "      <td>120.0</td>\n",
              "      <td>230</td>\n",
              "      <td>130.0</td>\n",
              "      <td>170.0</td>\n",
              "    </tr>\n",
              "    <tr>\n",
              "      <th>4</th>\n",
              "      <td>2019</td>\n",
              "      <td>NaN</td>\n",
              "      <td>250</td>\n",
              "      <td>140.0</td>\n",
              "      <td>NaN</td>\n",
              "    </tr>\n",
              "  </tbody>\n",
              "</table>\n",
              "</div>"
            ],
            "text/plain": [
              "     연도    제품1  제품2    제품3    제품4\n",
              "0  2015  250.0  150    NaN    NaN\n",
              "1  2016  200.0  160  170.0    NaN\n",
              "2  2017  150.0  200  100.0  150.0\n",
              "3  2018  120.0  230  130.0  170.0\n",
              "4  2019    NaN  250  140.0    NaN"
            ]
          },
          "execution_count": 123,
          "metadata": {},
          "output_type": "execute_result"
        }
      ],
      "source": [
        "df4"
      ]
    },
    {
      "cell_type": "code",
      "execution_count": null,
      "id": "a6c06101",
      "metadata": {
        "id": "a6c06101",
        "outputId": "dbd31f78-b72d-452e-d5a0-8a72c4defec3"
      },
      "outputs": [
        {
          "data": {
            "text/html": [
              "<div>\n",
              "<style scoped>\n",
              "    .dataframe tbody tr th:only-of-type {\n",
              "        vertical-align: middle;\n",
              "    }\n",
              "\n",
              "    .dataframe tbody tr th {\n",
              "        vertical-align: top;\n",
              "    }\n",
              "\n",
              "    .dataframe thead th {\n",
              "        text-align: right;\n",
              "    }\n",
              "</style>\n",
              "<table border=\"1\" class=\"dataframe\">\n",
              "  <thead>\n",
              "    <tr style=\"text-align: right;\">\n",
              "      <th></th>\n",
              "      <th>제품1</th>\n",
              "      <th>제품2</th>\n",
              "      <th>제품3</th>\n",
              "      <th>제품4</th>\n",
              "    </tr>\n",
              "    <tr>\n",
              "      <th>연도</th>\n",
              "      <th></th>\n",
              "      <th></th>\n",
              "      <th></th>\n",
              "      <th></th>\n",
              "    </tr>\n",
              "  </thead>\n",
              "  <tbody>\n",
              "    <tr>\n",
              "      <th>2015</th>\n",
              "      <td>250.0</td>\n",
              "      <td>150</td>\n",
              "      <td>NaN</td>\n",
              "      <td>NaN</td>\n",
              "    </tr>\n",
              "    <tr>\n",
              "      <th>2016</th>\n",
              "      <td>200.0</td>\n",
              "      <td>160</td>\n",
              "      <td>170.0</td>\n",
              "      <td>NaN</td>\n",
              "    </tr>\n",
              "    <tr>\n",
              "      <th>2017</th>\n",
              "      <td>150.0</td>\n",
              "      <td>200</td>\n",
              "      <td>100.0</td>\n",
              "      <td>150.0</td>\n",
              "    </tr>\n",
              "    <tr>\n",
              "      <th>2018</th>\n",
              "      <td>120.0</td>\n",
              "      <td>230</td>\n",
              "      <td>130.0</td>\n",
              "      <td>170.0</td>\n",
              "    </tr>\n",
              "    <tr>\n",
              "      <th>2019</th>\n",
              "      <td>NaN</td>\n",
              "      <td>250</td>\n",
              "      <td>140.0</td>\n",
              "      <td>NaN</td>\n",
              "    </tr>\n",
              "  </tbody>\n",
              "</table>\n",
              "</div>"
            ],
            "text/plain": [
              "        제품1  제품2    제품3    제품4\n",
              "연도                            \n",
              "2015  250.0  150    NaN    NaN\n",
              "2016  200.0  160  170.0    NaN\n",
              "2017  150.0  200  100.0  150.0\n",
              "2018  120.0  230  130.0  170.0\n",
              "2019    NaN  250  140.0    NaN"
            ]
          },
          "execution_count": 124,
          "metadata": {},
          "output_type": "execute_result"
        }
      ],
      "source": [
        "df4.set_index('연도')"
      ]
    },
    {
      "cell_type": "code",
      "execution_count": null,
      "id": "6ca42fe6",
      "metadata": {
        "id": "6ca42fe6"
      },
      "outputs": [],
      "source": [
        "df4_index=df4.set_index('연도')"
      ]
    },
    {
      "cell_type": "code",
      "execution_count": null,
      "id": "dfb626f5",
      "metadata": {
        "id": "dfb626f5",
        "outputId": "b4c332c6-6c2c-4811-d957-4429e09c62f1"
      },
      "outputs": [
        {
          "data": {
            "text/plain": [
              "Index([2015, 2016, 2017, 2018, 2019], dtype='int64', name='연도')"
            ]
          },
          "execution_count": 127,
          "metadata": {},
          "output_type": "execute_result"
        }
      ],
      "source": [
        "df4_index.index"
      ]
    },
    {
      "cell_type": "code",
      "execution_count": null,
      "id": "1e0abd88",
      "metadata": {
        "id": "1e0abd88",
        "outputId": "d6408fe3-e7a5-462d-818d-d26cb8c33eff"
      },
      "outputs": [
        {
          "data": {
            "text/html": [
              "<div>\n",
              "<style scoped>\n",
              "    .dataframe tbody tr th:only-of-type {\n",
              "        vertical-align: middle;\n",
              "    }\n",
              "\n",
              "    .dataframe tbody tr th {\n",
              "        vertical-align: top;\n",
              "    }\n",
              "\n",
              "    .dataframe thead th {\n",
              "        text-align: right;\n",
              "    }\n",
              "</style>\n",
              "<table border=\"1\" class=\"dataframe\">\n",
              "  <thead>\n",
              "    <tr style=\"text-align: right;\">\n",
              "      <th></th>\n",
              "      <th>연도</th>\n",
              "      <th>제품1</th>\n",
              "      <th>제품2</th>\n",
              "      <th>제품3</th>\n",
              "      <th>제품4</th>\n",
              "    </tr>\n",
              "  </thead>\n",
              "  <tbody>\n",
              "    <tr>\n",
              "      <th>0</th>\n",
              "      <td>2015</td>\n",
              "      <td>250.0</td>\n",
              "      <td>150</td>\n",
              "      <td>NaN</td>\n",
              "      <td>NaN</td>\n",
              "    </tr>\n",
              "    <tr>\n",
              "      <th>1</th>\n",
              "      <td>2016</td>\n",
              "      <td>200.0</td>\n",
              "      <td>160</td>\n",
              "      <td>170.0</td>\n",
              "      <td>NaN</td>\n",
              "    </tr>\n",
              "    <tr>\n",
              "      <th>2</th>\n",
              "      <td>2017</td>\n",
              "      <td>150.0</td>\n",
              "      <td>200</td>\n",
              "      <td>100.0</td>\n",
              "      <td>150.0</td>\n",
              "    </tr>\n",
              "    <tr>\n",
              "      <th>3</th>\n",
              "      <td>2018</td>\n",
              "      <td>120.0</td>\n",
              "      <td>230</td>\n",
              "      <td>130.0</td>\n",
              "      <td>170.0</td>\n",
              "    </tr>\n",
              "    <tr>\n",
              "      <th>4</th>\n",
              "      <td>2019</td>\n",
              "      <td>NaN</td>\n",
              "      <td>250</td>\n",
              "      <td>140.0</td>\n",
              "      <td>NaN</td>\n",
              "    </tr>\n",
              "  </tbody>\n",
              "</table>\n",
              "</div>"
            ],
            "text/plain": [
              "     연도    제품1  제품2    제품3    제품4\n",
              "0  2015  250.0  150    NaN    NaN\n",
              "1  2016  200.0  160  170.0    NaN\n",
              "2  2017  150.0  200  100.0  150.0\n",
              "3  2018  120.0  230  130.0  170.0\n",
              "4  2019    NaN  250  140.0    NaN"
            ]
          },
          "execution_count": 128,
          "metadata": {},
          "output_type": "execute_result"
        }
      ],
      "source": [
        "df4_index.reset_index()"
      ]
    },
    {
      "cell_type": "code",
      "execution_count": null,
      "id": "791958c5",
      "metadata": {
        "id": "791958c5"
      },
      "outputs": [],
      "source": [
        "df4_index=df4_index.reset_index()"
      ]
    },
    {
      "cell_type": "code",
      "execution_count": null,
      "id": "4e2d9392",
      "metadata": {
        "id": "4e2d9392",
        "outputId": "65f0b957-9522-488d-c094-1948eb6c0391"
      },
      "outputs": [
        {
          "data": {
            "text/html": [
              "<div>\n",
              "<style scoped>\n",
              "    .dataframe tbody tr th:only-of-type {\n",
              "        vertical-align: middle;\n",
              "    }\n",
              "\n",
              "    .dataframe tbody tr th {\n",
              "        vertical-align: top;\n",
              "    }\n",
              "\n",
              "    .dataframe thead th {\n",
              "        text-align: right;\n",
              "    }\n",
              "</style>\n",
              "<table border=\"1\" class=\"dataframe\">\n",
              "  <thead>\n",
              "    <tr style=\"text-align: right;\">\n",
              "      <th></th>\n",
              "      <th>연도</th>\n",
              "      <th>제품1</th>\n",
              "      <th>제품2</th>\n",
              "      <th>제품3</th>\n",
              "      <th>제품4</th>\n",
              "    </tr>\n",
              "  </thead>\n",
              "  <tbody>\n",
              "    <tr>\n",
              "      <th>0</th>\n",
              "      <td>2015</td>\n",
              "      <td>250.0</td>\n",
              "      <td>150</td>\n",
              "      <td>NaN</td>\n",
              "      <td>NaN</td>\n",
              "    </tr>\n",
              "    <tr>\n",
              "      <th>1</th>\n",
              "      <td>2016</td>\n",
              "      <td>200.0</td>\n",
              "      <td>160</td>\n",
              "      <td>170.0</td>\n",
              "      <td>NaN</td>\n",
              "    </tr>\n",
              "    <tr>\n",
              "      <th>2</th>\n",
              "      <td>2017</td>\n",
              "      <td>150.0</td>\n",
              "      <td>200</td>\n",
              "      <td>100.0</td>\n",
              "      <td>150.0</td>\n",
              "    </tr>\n",
              "    <tr>\n",
              "      <th>3</th>\n",
              "      <td>2018</td>\n",
              "      <td>120.0</td>\n",
              "      <td>230</td>\n",
              "      <td>130.0</td>\n",
              "      <td>170.0</td>\n",
              "    </tr>\n",
              "    <tr>\n",
              "      <th>4</th>\n",
              "      <td>2019</td>\n",
              "      <td>NaN</td>\n",
              "      <td>250</td>\n",
              "      <td>140.0</td>\n",
              "      <td>NaN</td>\n",
              "    </tr>\n",
              "  </tbody>\n",
              "</table>\n",
              "</div>"
            ],
            "text/plain": [
              "     연도    제품1  제품2    제품3    제품4\n",
              "0  2015  250.0  150    NaN    NaN\n",
              "1  2016  200.0  160  170.0    NaN\n",
              "2  2017  150.0  200  100.0  150.0\n",
              "3  2018  120.0  230  130.0  170.0\n",
              "4  2019    NaN  250  140.0    NaN"
            ]
          },
          "execution_count": 132,
          "metadata": {},
          "output_type": "execute_result"
        }
      ],
      "source": [
        "df4_index"
      ]
    },
    {
      "cell_type": "markdown",
      "id": "79f92dbf",
      "metadata": {
        "id": "79f92dbf"
      },
      "source": [
        "## 데이터의 요약 및 재구성\n",
        "### 데이터의 구조 살펴보기"
      ]
    },
    {
      "cell_type": "code",
      "execution_count": null,
      "id": "a7f945bb",
      "metadata": {
        "id": "a7f945bb",
        "outputId": "e19a1958-812b-493f-d0f4-5018b3cab4dd"
      },
      "outputs": [
        {
          "data": {
            "text/html": [
              "<div>\n",
              "<style scoped>\n",
              "    .dataframe tbody tr th:only-of-type {\n",
              "        vertical-align: middle;\n",
              "    }\n",
              "\n",
              "    .dataframe tbody tr th {\n",
              "        vertical-align: top;\n",
              "    }\n",
              "\n",
              "    .dataframe thead th {\n",
              "        text-align: right;\n",
              "    }\n",
              "</style>\n",
              "<table border=\"1\" class=\"dataframe\">\n",
              "  <thead>\n",
              "    <tr style=\"text-align: right;\">\n",
              "      <th></th>\n",
              "      <th>매장명</th>\n",
              "      <th>제품종류</th>\n",
              "      <th>모델명</th>\n",
              "      <th>판매</th>\n",
              "      <th>재고</th>\n",
              "    </tr>\n",
              "  </thead>\n",
              "  <tbody>\n",
              "    <tr>\n",
              "      <th>0</th>\n",
              "      <td>A</td>\n",
              "      <td>스마트폰</td>\n",
              "      <td>S1</td>\n",
              "      <td>1</td>\n",
              "      <td>2</td>\n",
              "    </tr>\n",
              "    <tr>\n",
              "      <th>1</th>\n",
              "      <td>A</td>\n",
              "      <td>스마트폰</td>\n",
              "      <td>S2</td>\n",
              "      <td>2</td>\n",
              "      <td>5</td>\n",
              "    </tr>\n",
              "    <tr>\n",
              "      <th>2</th>\n",
              "      <td>A</td>\n",
              "      <td>TV</td>\n",
              "      <td>V1</td>\n",
              "      <td>3</td>\n",
              "      <td>5</td>\n",
              "    </tr>\n",
              "    <tr>\n",
              "      <th>3</th>\n",
              "      <td>B</td>\n",
              "      <td>스마트폰</td>\n",
              "      <td>S2</td>\n",
              "      <td>4</td>\n",
              "      <td>6</td>\n",
              "    </tr>\n",
              "    <tr>\n",
              "      <th>4</th>\n",
              "      <td>B</td>\n",
              "      <td>스마트폰</td>\n",
              "      <td>S1</td>\n",
              "      <td>5</td>\n",
              "      <td>8</td>\n",
              "    </tr>\n",
              "    <tr>\n",
              "      <th>5</th>\n",
              "      <td>B</td>\n",
              "      <td>TV</td>\n",
              "      <td>V1</td>\n",
              "      <td>6</td>\n",
              "      <td>9</td>\n",
              "    </tr>\n",
              "    <tr>\n",
              "      <th>6</th>\n",
              "      <td>C</td>\n",
              "      <td>스마트폰</td>\n",
              "      <td>S2</td>\n",
              "      <td>2</td>\n",
              "      <td>4</td>\n",
              "    </tr>\n",
              "    <tr>\n",
              "      <th>7</th>\n",
              "      <td>C</td>\n",
              "      <td>TV</td>\n",
              "      <td>V1</td>\n",
              "      <td>3</td>\n",
              "      <td>6</td>\n",
              "    </tr>\n",
              "    <tr>\n",
              "      <th>8</th>\n",
              "      <td>C</td>\n",
              "      <td>TV</td>\n",
              "      <td>V2</td>\n",
              "      <td>7</td>\n",
              "      <td>9</td>\n",
              "    </tr>\n",
              "  </tbody>\n",
              "</table>\n",
              "</div>"
            ],
            "text/plain": [
              "  매장명  제품종류 모델명  판매  재고\n",
              "0   A  스마트폰  S1   1   2\n",
              "1   A  스마트폰  S2   2   5\n",
              "2   A    TV  V1   3   5\n",
              "3   B  스마트폰  S2   4   6\n",
              "4   B  스마트폰  S1   5   8\n",
              "5   B    TV  V1   6   9\n",
              "6   C  스마트폰  S2   2   4\n",
              "7   C    TV  V1   3   6\n",
              "8   C    TV  V2   7   9"
            ]
          },
          "execution_count": 133,
          "metadata": {},
          "output_type": "execute_result"
        }
      ],
      "source": [
        "data_file = \"C:/myPyCode/data/total_sales_data.csv\"\n",
        "\n",
        "df_sales = pd.read_csv(data_file)\n",
        "df_sales"
      ]
    },
    {
      "cell_type": "code",
      "execution_count": null,
      "id": "7009a7bf",
      "metadata": {
        "id": "7009a7bf",
        "outputId": "2c61522b-6829-4f20-8f78-e1ffe7cecffa"
      },
      "outputs": [
        {
          "data": {
            "text/plain": [
              "Index(['매장명', '제품종류', '모델명', '판매', '재고'], dtype='object')"
            ]
          },
          "execution_count": 134,
          "metadata": {},
          "output_type": "execute_result"
        }
      ],
      "source": [
        "df_sales.columns"
      ]
    },
    {
      "cell_type": "code",
      "execution_count": null,
      "id": "621125d9",
      "metadata": {
        "id": "621125d9",
        "outputId": "fedf4240-1f62-4852-f9df-148e4f602805"
      },
      "outputs": [
        {
          "data": {
            "text/plain": [
              "0    S1\n",
              "1    S2\n",
              "2    V1\n",
              "3    S2\n",
              "4    S1\n",
              "5    V1\n",
              "6    S2\n",
              "7    V1\n",
              "8    V2\n",
              "Name: 모델명, dtype: object"
            ]
          },
          "execution_count": 137,
          "metadata": {},
          "output_type": "execute_result"
        }
      ],
      "source": [
        "df_sales.모델명"
      ]
    },
    {
      "cell_type": "code",
      "execution_count": null,
      "id": "34be5c9d",
      "metadata": {
        "id": "34be5c9d",
        "outputId": "8dc6a455-c202-4855-df14-fa0334f638f4"
      },
      "outputs": [
        {
          "data": {
            "text/html": [
              "<div>\n",
              "<style scoped>\n",
              "    .dataframe tbody tr th:only-of-type {\n",
              "        vertical-align: middle;\n",
              "    }\n",
              "\n",
              "    .dataframe tbody tr th {\n",
              "        vertical-align: top;\n",
              "    }\n",
              "\n",
              "    .dataframe thead th {\n",
              "        text-align: right;\n",
              "    }\n",
              "</style>\n",
              "<table border=\"1\" class=\"dataframe\">\n",
              "  <thead>\n",
              "    <tr style=\"text-align: right;\">\n",
              "      <th></th>\n",
              "      <th>판매</th>\n",
              "      <th>재고</th>\n",
              "    </tr>\n",
              "  </thead>\n",
              "  <tbody>\n",
              "    <tr>\n",
              "      <th>count</th>\n",
              "      <td>9.000000</td>\n",
              "      <td>9.000000</td>\n",
              "    </tr>\n",
              "    <tr>\n",
              "      <th>mean</th>\n",
              "      <td>3.666667</td>\n",
              "      <td>6.000000</td>\n",
              "    </tr>\n",
              "    <tr>\n",
              "      <th>std</th>\n",
              "      <td>2.000000</td>\n",
              "      <td>2.345208</td>\n",
              "    </tr>\n",
              "    <tr>\n",
              "      <th>min</th>\n",
              "      <td>1.000000</td>\n",
              "      <td>2.000000</td>\n",
              "    </tr>\n",
              "    <tr>\n",
              "      <th>25%</th>\n",
              "      <td>2.000000</td>\n",
              "      <td>5.000000</td>\n",
              "    </tr>\n",
              "    <tr>\n",
              "      <th>50%</th>\n",
              "      <td>3.000000</td>\n",
              "      <td>6.000000</td>\n",
              "    </tr>\n",
              "    <tr>\n",
              "      <th>75%</th>\n",
              "      <td>5.000000</td>\n",
              "      <td>8.000000</td>\n",
              "    </tr>\n",
              "    <tr>\n",
              "      <th>max</th>\n",
              "      <td>7.000000</td>\n",
              "      <td>9.000000</td>\n",
              "    </tr>\n",
              "  </tbody>\n",
              "</table>\n",
              "</div>"
            ],
            "text/plain": [
              "             판매        재고\n",
              "count  9.000000  9.000000\n",
              "mean   3.666667  6.000000\n",
              "std    2.000000  2.345208\n",
              "min    1.000000  2.000000\n",
              "25%    2.000000  5.000000\n",
              "50%    3.000000  6.000000\n",
              "75%    5.000000  8.000000\n",
              "max    7.000000  9.000000"
            ]
          },
          "execution_count": 139,
          "metadata": {},
          "output_type": "execute_result"
        }
      ],
      "source": [
        "df_sales.describe()"
      ]
    },
    {
      "cell_type": "code",
      "execution_count": null,
      "id": "675663e7",
      "metadata": {
        "id": "675663e7",
        "outputId": "8358b320-16c4-435f-9c9e-00268d1cc448"
      },
      "outputs": [
        {
          "name": "stdout",
          "output_type": "stream",
          "text": [
            "<class 'pandas.core.frame.DataFrame'>\n",
            "RangeIndex: 9 entries, 0 to 8\n",
            "Data columns (total 5 columns):\n",
            " #   Column  Non-Null Count  Dtype \n",
            "---  ------  --------------  ----- \n",
            " 0   매장명     9 non-null      object\n",
            " 1   제품종류    9 non-null      object\n",
            " 2   모델명     9 non-null      object\n",
            " 3   판매      9 non-null      int64 \n",
            " 4   재고      9 non-null      int64 \n",
            "dtypes: int64(2), object(3)\n",
            "memory usage: 492.0+ bytes\n"
          ]
        }
      ],
      "source": [
        "df_sales.info()"
      ]
    },
    {
      "cell_type": "code",
      "execution_count": null,
      "id": "a01fcedd",
      "metadata": {
        "id": "a01fcedd",
        "outputId": "addc179c-8e9c-46fb-e107-b26f8d4fbf97"
      },
      "outputs": [
        {
          "data": {
            "text/plain": [
              "매장명\n",
              "A    3\n",
              "B    3\n",
              "C    3\n",
              "Name: count, dtype: int64"
            ]
          },
          "execution_count": 143,
          "metadata": {},
          "output_type": "execute_result"
        }
      ],
      "source": [
        "df_sales.매장명.value_counts()"
      ]
    },
    {
      "cell_type": "code",
      "execution_count": null,
      "id": "bebd75fa",
      "metadata": {
        "id": "bebd75fa",
        "outputId": "f058ff24-59ec-4439-b7b0-f398f4fcc5bb"
      },
      "outputs": [
        {
          "data": {
            "text/html": [
              "<div>\n",
              "<style scoped>\n",
              "    .dataframe tbody tr th:only-of-type {\n",
              "        vertical-align: middle;\n",
              "    }\n",
              "\n",
              "    .dataframe tbody tr th {\n",
              "        vertical-align: top;\n",
              "    }\n",
              "\n",
              "    .dataframe thead th {\n",
              "        text-align: right;\n",
              "    }\n",
              "</style>\n",
              "<table border=\"1\" class=\"dataframe\">\n",
              "  <thead>\n",
              "    <tr style=\"text-align: right;\">\n",
              "      <th></th>\n",
              "      <th></th>\n",
              "      <th></th>\n",
              "      <th>재고</th>\n",
              "      <th>판매</th>\n",
              "    </tr>\n",
              "    <tr>\n",
              "      <th>매장명</th>\n",
              "      <th>제품종류</th>\n",
              "      <th>모델명</th>\n",
              "      <th></th>\n",
              "      <th></th>\n",
              "    </tr>\n",
              "  </thead>\n",
              "  <tbody>\n",
              "    <tr>\n",
              "      <th rowspan=\"3\" valign=\"top\">A</th>\n",
              "      <th>TV</th>\n",
              "      <th>V1</th>\n",
              "      <td>5</td>\n",
              "      <td>3</td>\n",
              "    </tr>\n",
              "    <tr>\n",
              "      <th rowspan=\"2\" valign=\"top\">스마트폰</th>\n",
              "      <th>S1</th>\n",
              "      <td>2</td>\n",
              "      <td>1</td>\n",
              "    </tr>\n",
              "    <tr>\n",
              "      <th>S2</th>\n",
              "      <td>5</td>\n",
              "      <td>2</td>\n",
              "    </tr>\n",
              "    <tr>\n",
              "      <th rowspan=\"3\" valign=\"top\">B</th>\n",
              "      <th>TV</th>\n",
              "      <th>V1</th>\n",
              "      <td>9</td>\n",
              "      <td>6</td>\n",
              "    </tr>\n",
              "    <tr>\n",
              "      <th rowspan=\"2\" valign=\"top\">스마트폰</th>\n",
              "      <th>S1</th>\n",
              "      <td>8</td>\n",
              "      <td>5</td>\n",
              "    </tr>\n",
              "    <tr>\n",
              "      <th>S2</th>\n",
              "      <td>6</td>\n",
              "      <td>4</td>\n",
              "    </tr>\n",
              "    <tr>\n",
              "      <th rowspan=\"3\" valign=\"top\">C</th>\n",
              "      <th rowspan=\"2\" valign=\"top\">TV</th>\n",
              "      <th>V1</th>\n",
              "      <td>6</td>\n",
              "      <td>3</td>\n",
              "    </tr>\n",
              "    <tr>\n",
              "      <th>V2</th>\n",
              "      <td>9</td>\n",
              "      <td>7</td>\n",
              "    </tr>\n",
              "    <tr>\n",
              "      <th>스마트폰</th>\n",
              "      <th>S2</th>\n",
              "      <td>4</td>\n",
              "      <td>2</td>\n",
              "    </tr>\n",
              "  </tbody>\n",
              "</table>\n",
              "</div>"
            ],
            "text/plain": [
              "              재고  판매\n",
              "매장명 제품종류 모델명        \n",
              "A   TV   V1    5   3\n",
              "    스마트폰 S1    2   1\n",
              "         S2    5   2\n",
              "B   TV   V1    9   6\n",
              "    스마트폰 S1    8   5\n",
              "         S2    6   4\n",
              "C   TV   V1    6   3\n",
              "         V2    9   7\n",
              "    스마트폰 S2    4   2"
            ]
          },
          "execution_count": 144,
          "metadata": {},
          "output_type": "execute_result"
        }
      ],
      "source": [
        "df_sales.pivot_table(index=[\"매장명\", \"제품종류\", \"모델명\"],\n",
        "                     values =[\"판매\",\"재고\"], aggfunc='sum')"
      ]
    },
    {
      "cell_type": "code",
      "execution_count": null,
      "id": "4a942a70",
      "metadata": {
        "id": "4a942a70"
      },
      "outputs": [],
      "source": []
    }
  ],
  "metadata": {
    "kernelspec": {
      "display_name": "Python 3 (ipykernel)",
      "language": "python",
      "name": "python3"
    },
    "language_info": {
      "codemirror_mode": {
        "name": "ipython",
        "version": 3
      },
      "file_extension": ".py",
      "mimetype": "text/x-python",
      "name": "python",
      "nbconvert_exporter": "python",
      "pygments_lexer": "ipython3",
      "version": "3.11.5"
    },
    "colab": {
      "provenance": [],
      "include_colab_link": true
    }
  },
  "nbformat": 4,
  "nbformat_minor": 5
}