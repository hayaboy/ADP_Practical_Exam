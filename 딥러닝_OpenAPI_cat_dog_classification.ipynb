{
  "nbformat": 4,
  "nbformat_minor": 0,
  "metadata": {
    "colab": {
      "provenance": [],
      "mount_file_id": "1cNec2N6hb2r7RKqDlpMuo5V7mXYxMJMz",
      "authorship_tag": "ABX9TyMaYCex7lkUAQgnQ7uT1PTd",
      "include_colab_link": true
    },
    "kernelspec": {
      "name": "python3",
      "display_name": "Python 3"
    },
    "language_info": {
      "name": "python"
    }
  },
  "cells": [
    {
      "cell_type": "markdown",
      "metadata": {
        "id": "view-in-github",
        "colab_type": "text"
      },
      "source": [
        "<a href=\"https://colab.research.google.com/github/hayaboy/ADP_Practical_Exam/blob/main/%EB%94%A5%EB%9F%AC%EB%8B%9D_OpenAPI_cat_dog_classification.ipynb\" target=\"_parent\"><img src=\"https://colab.research.google.com/assets/colab-badge.svg\" alt=\"Open In Colab\"/></a>"
      ]
    },
    {
      "cell_type": "code",
      "source": [
        "from google.colab import drive\n",
        "drive.mount(\"./content/\")"
      ],
      "metadata": {
        "colab": {
          "base_uri": "https://localhost:8080/"
        },
        "id": "6evWAwVcKDTZ",
        "outputId": "a0ea4f0a-23ec-4f11-ca51-c81e2e02703f"
      },
      "execution_count": 4,
      "outputs": [
        {
          "output_type": "stream",
          "name": "stdout",
          "text": [
            "Mounted at ./content/\n"
          ]
        }
      ]
    },
    {
      "cell_type": "code",
      "source": [
        "# 작업 폴더 생성 및 이동\n",
        "import os\n",
        "os.makedirs('/content/content/MyDrive/', exist_ok=True)\n",
        "%cd \"/content/content/MyDrive/work\""
      ],
      "metadata": {
        "colab": {
          "base_uri": "https://localhost:8080/"
        },
        "id": "wqDCLqztKOVs",
        "outputId": "aced742b-f8e4-45b3-ac81-d74e656f52a3"
      },
      "execution_count": 5,
      "outputs": [
        {
          "output_type": "stream",
          "name": "stdout",
          "text": [
            "/content/content/MyDrive/work\n"
          ]
        }
      ]
    },
    {
      "cell_type": "code",
      "source": [
        "!ls \"/content/content/MyDrive/\""
      ],
      "metadata": {
        "colab": {
          "base_uri": "https://localhost:8080/"
        },
        "id": "-iwTHUDDKW8Z",
        "outputId": "eb54a108-4420-402a-fcb9-e0dbf9a20eff"
      },
      "execution_count": 6,
      "outputs": [
        {
          "output_type": "stream",
          "name": "stdout",
          "text": [
            " 040507_바탕화면      E.zip\t   데이터분석\n",
            " 24_05_06_backup      gr\t   딥러닝_OpenAPI_cat_dog_classification.ipynb\n",
            " ADP교안\t      MSA강의_HP   사업\n",
            " AI\t\t      week\t   스프링부트\n",
            " AI2_11_30시작_공유   week_stu\t   알고리즘\n",
            " album\t\t      wk_08_09\t   이z_안s\n",
            " colab\t\t      work\t   컴퓨터비젼\n",
            "'Colab Notebooks'     강사공유\t   프로젝트_참고용\n",
            " EMC\t\t      노트북백업   플레이데이터\n"
          ]
        }
      ]
    },
    {
      "cell_type": "code",
      "execution_count": 1,
      "metadata": {
        "colab": {
          "base_uri": "https://localhost:8080/"
        },
        "id": "9X7SEmEvHqS_",
        "outputId": "7bba64a1-c4ed-4893-9dc7-bbb7cfb005ae"
      },
      "outputs": [
        {
          "output_type": "stream",
          "name": "stdout",
          "text": [
            "Python 3.10.12\n"
          ]
        }
      ],
      "source": [
        "!python --version"
      ]
    },
    {
      "cell_type": "code",
      "source": [
        "!pip install boto3"
      ],
      "metadata": {
        "colab": {
          "base_uri": "https://localhost:8080/"
        },
        "id": "YdRtNel2H1vA",
        "outputId": "c98072a7-5c30-462c-ebab-29a41071f5a7"
      },
      "execution_count": 2,
      "outputs": [
        {
          "output_type": "stream",
          "name": "stdout",
          "text": [
            "Collecting boto3\n",
            "  Downloading boto3-1.34.105-py3-none-any.whl (139 kB)\n",
            "\u001b[2K     \u001b[90m━━━━━━━━━━━━━━━━━━━━━━━━━━━━━━━━━━━━━━━━\u001b[0m \u001b[32m139.3/139.3 kB\u001b[0m \u001b[31m3.6 MB/s\u001b[0m eta \u001b[36m0:00:00\u001b[0m\n",
            "\u001b[?25hCollecting botocore<1.35.0,>=1.34.105 (from boto3)\n",
            "  Downloading botocore-1.34.105-py3-none-any.whl (12.2 MB)\n",
            "\u001b[2K     \u001b[90m━━━━━━━━━━━━━━━━━━━━━━━━━━━━━━━━━━━━━━━━\u001b[0m \u001b[32m12.2/12.2 MB\u001b[0m \u001b[31m54.6 MB/s\u001b[0m eta \u001b[36m0:00:00\u001b[0m\n",
            "\u001b[?25hCollecting jmespath<2.0.0,>=0.7.1 (from boto3)\n",
            "  Downloading jmespath-1.0.1-py3-none-any.whl (20 kB)\n",
            "Collecting s3transfer<0.11.0,>=0.10.0 (from boto3)\n",
            "  Downloading s3transfer-0.10.1-py3-none-any.whl (82 kB)\n",
            "\u001b[2K     \u001b[90m━━━━━━━━━━━━━━━━━━━━━━━━━━━━━━━━━━━━━━━━\u001b[0m \u001b[32m82.2/82.2 kB\u001b[0m \u001b[31m6.4 MB/s\u001b[0m eta \u001b[36m0:00:00\u001b[0m\n",
            "\u001b[?25hRequirement already satisfied: python-dateutil<3.0.0,>=2.1 in /usr/local/lib/python3.10/dist-packages (from botocore<1.35.0,>=1.34.105->boto3) (2.8.2)\n",
            "Requirement already satisfied: urllib3!=2.2.0,<3,>=1.25.4 in /usr/local/lib/python3.10/dist-packages (from botocore<1.35.0,>=1.34.105->boto3) (2.0.7)\n",
            "Requirement already satisfied: six>=1.5 in /usr/local/lib/python3.10/dist-packages (from python-dateutil<3.0.0,>=2.1->botocore<1.35.0,>=1.34.105->boto3) (1.16.0)\n",
            "Installing collected packages: jmespath, botocore, s3transfer, boto3\n",
            "Successfully installed boto3-1.34.105 botocore-1.34.105 jmespath-1.0.1 s3transfer-0.10.1\n"
          ]
        }
      ]
    },
    {
      "cell_type": "code",
      "source": [
        "# !pip install 표준 라이브러리는 이미 파이썬에 포함되어 있기 때문에, 설치할 필요가 없습니다."
      ],
      "metadata": {
        "id": "86wnfDbjIqee"
      },
      "execution_count": 9,
      "outputs": []
    },
    {
      "cell_type": "code",
      "source": [
        "import base64"
      ],
      "metadata": {
        "id": "ekZp7j2cItl8"
      },
      "execution_count": 8,
      "outputs": []
    },
    {
      "cell_type": "code",
      "source": [
        "%matplotlib inline"
      ],
      "metadata": {
        "id": "6CF03M-UKsx4"
      },
      "execution_count": 10,
      "outputs": []
    },
    {
      "cell_type": "code",
      "source": [
        "import matplotlib.pyplot as plt\n",
        "img=plt.imread('/content/drive/MyDrive/플레이데이터/AI활용애플리케이션개발/딥러닝서비스개발_고양이_강아지분류데이터/2ad8e32e7332b82ed2bb61a7aa09e4a0.jpg')"
      ],
      "metadata": {
        "id": "7AGON3mOP53P"
      },
      "execution_count": 12,
      "outputs": []
    },
    {
      "cell_type": "code",
      "source": [
        "img"
      ],
      "metadata": {
        "colab": {
          "base_uri": "https://localhost:8080/",
          "height": 149
        },
        "id": "v7wIRFMpRR7Q",
        "outputId": "56ab3d89-36a3-4bf3-e1c2-c7549afd47d2"
      },
      "execution_count": 13,
      "outputs": [
        {
          "output_type": "execute_result",
          "data": {
            "text/plain": [
              "array([[[ 44,  70,  35],\n",
              "        [ 10,  36,   1],\n",
              "        [ 16,  37,   4],\n",
              "        ...,\n",
              "        [ 41,  45,  30],\n",
              "        [ 47,  51,  36],\n",
              "        [ 14,  21,   5]],\n",
              "\n",
              "       [[ 45,  71,  36],\n",
              "        [ 15,  41,   6],\n",
              "        [  9,  30,   0],\n",
              "        ...,\n",
              "        [ 35,  39,  24],\n",
              "        [ 44,  48,  33],\n",
              "        [ 22,  29,  13]],\n",
              "\n",
              "       [[ 19,  45,   8],\n",
              "        [ 28,  54,  17],\n",
              "        [ 41,  63,  27],\n",
              "        ...,\n",
              "        [ 20,  24,   9],\n",
              "        [ 30,  34,  19],\n",
              "        [ 22,  29,  13]],\n",
              "\n",
              "       ...,\n",
              "\n",
              "       [[148, 128, 127],\n",
              "        [146, 128, 126],\n",
              "        [134, 118, 118],\n",
              "        ...,\n",
              "        [175, 170, 164],\n",
              "        [173, 168, 162],\n",
              "        [169, 164, 158]],\n",
              "\n",
              "       [[157, 129, 128],\n",
              "        [161, 135, 134],\n",
              "        [160, 136, 134],\n",
              "        ...,\n",
              "        [170, 163, 157],\n",
              "        [169, 162, 156],\n",
              "        [167, 160, 154]],\n",
              "\n",
              "       [[120,  89,  87],\n",
              "        [128,  98,  96],\n",
              "        [134, 106, 103],\n",
              "        ...,\n",
              "        [161, 152, 147],\n",
              "        [165, 156, 151],\n",
              "        [166, 157, 152]]], dtype=uint8)"
            ],
            "text/html": [
              "<style>\n",
              "      .ndarray_repr .ndarray_raw_data {\n",
              "        display: none;\n",
              "      }\n",
              "      .ndarray_repr.show_array .ndarray_raw_data {\n",
              "        display: block;\n",
              "      }\n",
              "      .ndarray_repr.show_array .ndarray_image_preview {\n",
              "        display: none;\n",
              "      }\n",
              "      </style>\n",
              "      <div id=\"id-87e82b0e-bf11-402f-9e76-b044182bae3d\" class=\"ndarray_repr\"><pre>ndarray (110, 109, 3) <button style=\"padding: 0 2px;\">show data</button></pre><img src=\"data:image/png;base64,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\" class=\"ndarray_image_preview\" /><pre class=\"ndarray_raw_data\">array([[[ 44,  70,  35],\n",
              "        [ 10,  36,   1],\n",
              "        [ 16,  37,   4],\n",
              "        ...,\n",
              "        [ 41,  45,  30],\n",
              "        [ 47,  51,  36],\n",
              "        [ 14,  21,   5]],\n",
              "\n",
              "       [[ 45,  71,  36],\n",
              "        [ 15,  41,   6],\n",
              "        [  9,  30,   0],\n",
              "        ...,\n",
              "        [ 35,  39,  24],\n",
              "        [ 44,  48,  33],\n",
              "        [ 22,  29,  13]],\n",
              "\n",
              "       [[ 19,  45,   8],\n",
              "        [ 28,  54,  17],\n",
              "        [ 41,  63,  27],\n",
              "        ...,\n",
              "        [ 20,  24,   9],\n",
              "        [ 30,  34,  19],\n",
              "        [ 22,  29,  13]],\n",
              "\n",
              "       ...,\n",
              "\n",
              "       [[148, 128, 127],\n",
              "        [146, 128, 126],\n",
              "        [134, 118, 118],\n",
              "        ...,\n",
              "        [175, 170, 164],\n",
              "        [173, 168, 162],\n",
              "        [169, 164, 158]],\n",
              "\n",
              "       [[157, 129, 128],\n",
              "        [161, 135, 134],\n",
              "        [160, 136, 134],\n",
              "        ...,\n",
              "        [170, 163, 157],\n",
              "        [169, 162, 156],\n",
              "        [167, 160, 154]],\n",
              "\n",
              "       [[120,  89,  87],\n",
              "        [128,  98,  96],\n",
              "        [134, 106, 103],\n",
              "        ...,\n",
              "        [161, 152, 147],\n",
              "        [165, 156, 151],\n",
              "        [166, 157, 152]]], dtype=uint8)</pre></div><script>\n",
              "      (() => {\n",
              "      const titles = ['show data', 'hide data'];\n",
              "      let index = 0\n",
              "      document.querySelector('#id-87e82b0e-bf11-402f-9e76-b044182bae3d button').onclick = (e) => {\n",
              "        document.querySelector('#id-87e82b0e-bf11-402f-9e76-b044182bae3d').classList.toggle('show_array');\n",
              "        index = (++index) % 2;\n",
              "        document.querySelector('#id-87e82b0e-bf11-402f-9e76-b044182bae3d button').textContent = titles[index];\n",
              "        e.preventDefault();\n",
              "        e.stopPropagation();\n",
              "      }\n",
              "      })();\n",
              "    </script>"
            ]
          },
          "metadata": {},
          "execution_count": 13
        }
      ]
    },
    {
      "cell_type": "code",
      "source": [
        "!mkdir --help"
      ],
      "metadata": {
        "colab": {
          "base_uri": "https://localhost:8080/"
        },
        "id": "q70741jyRdlR",
        "outputId": "770a1b49-ba9f-4848-dfc8-ca1678df7aaf"
      },
      "execution_count": 14,
      "outputs": [
        {
          "output_type": "stream",
          "name": "stdout",
          "text": [
            "Usage: mkdir [OPTION]... DIRECTORY...\n",
            "Create the DIRECTORY(ies), if they do not already exist.\n",
            "\n",
            "Mandatory arguments to long options are mandatory for short options too.\n",
            "  -m, --mode=MODE   set file mode (as in chmod), not a=rwx - umask\n",
            "  -p, --parents     no error if existing, make parent directories as needed\n",
            "  -v, --verbose     print a message for each created directory\n",
            "  -Z                   set SELinux security context of each created directory\n",
            "                         to the default type\n",
            "      --context[=CTX]  like -Z, or if CTX is specified then set the SELinux\n",
            "                         or SMACK security context to CTX\n",
            "      --help     display this help and exit\n",
            "      --version  output version information and exit\n",
            "\n",
            "GNU coreutils online help: <https://www.gnu.org/software/coreutils/>\n",
            "Full documentation <https://www.gnu.org/software/coreutils/mkdir>\n",
            "or available locally via: info '(coreutils) mkdir invocation'\n"
          ]
        }
      ]
    },
    {
      "cell_type": "code",
      "source": [
        "!ls /"
      ],
      "metadata": {
        "colab": {
          "base_uri": "https://localhost:8080/"
        },
        "id": "1k00LCL8Sk0q",
        "outputId": "a0a0e1a3-3d58-49ce-b3d5-39c1962b0bf0"
      },
      "execution_count": 18,
      "outputs": [
        {
          "output_type": "stream",
          "name": "stdout",
          "text": [
            "bin\t\t\t    datalab  kaggle  libx32\t\t       opt   sbin  tools\n",
            "boot\t\t\t    dev      lib     media\t\t       proc  srv   usr\n",
            "content\t\t\t    etc      lib32   mnt\t\t       root  sys   var\n",
            "cuda-keyring_1.0-1_all.deb  home     lib64   NGC-DL-CONTAINER-LICENSE  run   tmp\n"
          ]
        }
      ]
    },
    {
      "cell_type": "code",
      "source": [
        "!ls -al /home"
      ],
      "metadata": {
        "colab": {
          "base_uri": "https://localhost:8080/"
        },
        "id": "6tO_wRkmS7LR",
        "outputId": "922dbe27-7b6d-401d-fc43-4357050912f2"
      },
      "execution_count": 20,
      "outputs": [
        {
          "output_type": "stream",
          "name": "stdout",
          "text": [
            "total 8\n",
            "drwxr-xr-x 2 root root 4096 Apr 18  2022 .\n",
            "drwxr-xr-x 1 root root 4096 May 14 21:58 ..\n"
          ]
        }
      ]
    },
    {
      "cell_type": "code",
      "source": [
        "!pwd"
      ],
      "metadata": {
        "colab": {
          "base_uri": "https://localhost:8080/"
        },
        "id": "Tc50T7xSSqMF",
        "outputId": "ba5bb19e-bdd6-4089-ccff-ab325d35fff9"
      },
      "execution_count": 16,
      "outputs": [
        {
          "output_type": "stream",
          "name": "stdout",
          "text": [
            "/content/content/MyDrive/work\n"
          ]
        }
      ]
    },
    {
      "cell_type": "code",
      "source": [
        "!mkdir -p ~/.aws && cp /content/drive/MyDrive/플레이데이터/AI활용애플리케이션개발/딥러닝서비스개발_고양이_강아지분류데이터/credentials.txt ~/.aws/credentials"
      ],
      "metadata": {
        "id": "DS8Q3vunSU7Y"
      },
      "execution_count": 22,
      "outputs": []
    },
    {
      "cell_type": "code",
      "source": [
        "!ls -al /root/"
      ],
      "metadata": {
        "colab": {
          "base_uri": "https://localhost:8080/"
        },
        "id": "Gr-XCoIdTG_H",
        "outputId": "957f1487-4f36-4840-aa23-5deec68cb435"
      },
      "execution_count": 24,
      "outputs": [
        {
          "output_type": "stream",
          "name": "stdout",
          "text": [
            "total 80\n",
            "drwx------ 1 root root 4096 May 14 22:50 .\n",
            "drwxr-xr-x 1 root root 4096 May 14 21:58 ..\n",
            "drwxr-xr-x 2 root root 4096 May 14 22:50 .aws\n",
            "-r-xr-xr-x 1 root root 1169 Jan  1  2000 .bashrc\n",
            "drwxr-xr-x 1 root root 4096 May 14 18:51 .cache\n",
            "drwx------ 1 root root 4096 May 14 22:10 .config\n",
            "drwxr-xr-x 1 root root 4096 May 14 18:51 .ipython\n",
            "drwx------ 1 root root 4096 May 14 18:51 .jupyter\n",
            "drwxr-xr-x 2 root root 4096 May 14 21:59 .keras\n",
            "drwx------ 3 root root 4096 May 14 18:18 .launchpadlib\n",
            "drwxr-xr-x 1 root root 4096 May 14 18:51 .local\n",
            "drwxr-xr-x 4 root root 4096 May 14 18:51 .npm\n",
            "-rw-r--r-- 1 root root  161 Jul  9  2019 .profile\n",
            "-r-xr-xr-x 1 root root  254 Jan  1  2000 .tmux.conf\n",
            "-rw-r--r-- 1 root root  165 May 14 18:51 .wget-hsts\n"
          ]
        }
      ]
    },
    {
      "cell_type": "code",
      "source": [
        "%cd  /root/.aws"
      ],
      "metadata": {
        "colab": {
          "base_uri": "https://localhost:8080/"
        },
        "id": "lCrpuXnCTZPv",
        "outputId": "1136ca33-a2d1-4211-8b87-c88624458e85"
      },
      "execution_count": 29,
      "outputs": [
        {
          "output_type": "stream",
          "name": "stdout",
          "text": [
            "/root/.aws\n"
          ]
        }
      ]
    },
    {
      "cell_type": "code",
      "source": [
        "!pwd"
      ],
      "metadata": {
        "colab": {
          "base_uri": "https://localhost:8080/"
        },
        "id": "HcFwDFmQTtJW",
        "outputId": "bed23b0a-22b6-4fc6-af30-cceeec398ebf"
      },
      "execution_count": 30,
      "outputs": [
        {
          "output_type": "stream",
          "name": "stdout",
          "text": [
            "/root/.aws\n"
          ]
        }
      ]
    },
    {
      "cell_type": "code",
      "source": [
        "!ls -al ./"
      ],
      "metadata": {
        "colab": {
          "base_uri": "https://localhost:8080/"
        },
        "id": "gmDDNDwNTuNX",
        "outputId": "09c3a339-a332-4d0e-efd4-7b092cfe7887"
      },
      "execution_count": 32,
      "outputs": [
        {
          "output_type": "stream",
          "name": "stdout",
          "text": [
            "total 16\n",
            "drwxr-xr-x 2 root root 4096 May 14 22:50 .\n",
            "drwx------ 1 root root 4096 May 14 22:50 ..\n",
            "-rw------- 1 root root  117 May 14 22:50 credentials\n"
          ]
        }
      ]
    },
    {
      "cell_type": "code",
      "source": [
        "import boto3"
      ],
      "metadata": {
        "id": "QZn9qWzjUOAv"
      },
      "execution_count": 33,
      "outputs": []
    },
    {
      "cell_type": "code",
      "source": [
        "import base64"
      ],
      "metadata": {
        "id": "LXZR_0-ka7r2"
      },
      "execution_count": 34,
      "outputs": []
    },
    {
      "cell_type": "code",
      "source": [
        "rekognition=boto3.client('rekognition', 'ap-northeast-2')"
      ],
      "metadata": {
        "id": "zivaw4Jia9qe"
      },
      "execution_count": 35,
      "outputs": []
    },
    {
      "cell_type": "code",
      "source": [
        "response = client.detect_labels(\n",
        "        Image={'Bytes': image_file.read()}\n",
        "    )"
      ],
      "metadata": {
        "id": "hpJ55H_be_R9"
      },
      "execution_count": null,
      "outputs": []
    },
    {
      "cell_type": "code",
      "source": [
        "with open('/content/drive/MyDrive/플레이데이터/AI활용애플리케이션개발/딥러닝서비스개발_고양이_강아지분류데이터/cat.jpg', 'rb') as image_file:\n",
        "  response = rekognition.detect_labels(\n",
        "        Image={'Bytes': image_file.read()}\n",
        "    )"
      ],
      "metadata": {
        "id": "4gWI7DUHbKHP"
      },
      "execution_count": 48,
      "outputs": []
    },
    {
      "cell_type": "code",
      "source": [
        "response"
      ],
      "metadata": {
        "colab": {
          "base_uri": "https://localhost:8080/"
        },
        "id": "lhQ8sQfDciD7",
        "outputId": "c123e58b-23be-4488-e465-40dc7ad4184e"
      },
      "execution_count": 49,
      "outputs": [
        {
          "output_type": "execute_result",
          "data": {
            "text/plain": [
              "{'Labels': [{'Name': 'Angora',\n",
              "   'Confidence': 99.99891662597656,\n",
              "   'Instances': [],\n",
              "   'Parents': [{'Name': 'Animal'},\n",
              "    {'Name': 'Cat'},\n",
              "    {'Name': 'Mammal'},\n",
              "    {'Name': 'Pet'}],\n",
              "   'Aliases': [],\n",
              "   'Categories': [{'Name': 'Animals and Pets'}]},\n",
              "  {'Name': 'Animal',\n",
              "   'Confidence': 99.99891662597656,\n",
              "   'Instances': [],\n",
              "   'Parents': [],\n",
              "   'Aliases': [],\n",
              "   'Categories': [{'Name': 'Animals and Pets'}]},\n",
              "  {'Name': 'Cat',\n",
              "   'Confidence': 99.99891662597656,\n",
              "   'Instances': [{'BoundingBox': {'Width': 0.743983268737793,\n",
              "      'Height': 0.6572215557098389,\n",
              "      'Left': 0.25424709916114807,\n",
              "      'Top': 0.28322094678878784},\n",
              "     'Confidence': 97.98649597167969}],\n",
              "   'Parents': [{'Name': 'Animal'}, {'Name': 'Mammal'}, {'Name': 'Pet'}],\n",
              "   'Aliases': [],\n",
              "   'Categories': [{'Name': 'Animals and Pets'}]},\n",
              "  {'Name': 'Mammal',\n",
              "   'Confidence': 99.99891662597656,\n",
              "   'Instances': [],\n",
              "   'Parents': [{'Name': 'Animal'}],\n",
              "   'Aliases': [],\n",
              "   'Categories': [{'Name': 'Animals and Pets'}]},\n",
              "  {'Name': 'Pet',\n",
              "   'Confidence': 99.99891662597656,\n",
              "   'Instances': [],\n",
              "   'Parents': [{'Name': 'Animal'}],\n",
              "   'Aliases': [],\n",
              "   'Categories': [{'Name': 'Animals and Pets'}]},\n",
              "  {'Name': 'Kitten',\n",
              "   'Confidence': 69.50605773925781,\n",
              "   'Instances': [],\n",
              "   'Parents': [{'Name': 'Animal'},\n",
              "    {'Name': 'Cat'},\n",
              "    {'Name': 'Mammal'},\n",
              "    {'Name': 'Pet'}],\n",
              "   'Aliases': [],\n",
              "   'Categories': [{'Name': 'Animals and Pets'}]}],\n",
              " 'LabelModelVersion': '3.0',\n",
              " 'ResponseMetadata': {'RequestId': 'f7c9817c-71b7-49eb-9da4-986cc3384852',\n",
              "  'HTTPStatusCode': 200,\n",
              "  'HTTPHeaders': {'x-amzn-requestid': 'f7c9817c-71b7-49eb-9da4-986cc3384852',\n",
              "   'content-type': 'application/x-amz-json-1.1',\n",
              "   'content-length': '1199',\n",
              "   'date': 'Tue, 14 May 2024 23:46:58 GMT'},\n",
              "  'RetryAttempts': 0}}"
            ]
          },
          "metadata": {},
          "execution_count": 49
        }
      ]
    },
    {
      "cell_type": "code",
      "source": [
        "# help(rekognition.detect_labels)"
      ],
      "metadata": {
        "id": "gRne5TnQc06K"
      },
      "execution_count": 44,
      "outputs": []
    },
    {
      "cell_type": "code",
      "source": [
        "# AWS Rekognition은 JPEG 및 PNG 형식의 이미지만 지원합니다."
      ],
      "metadata": {
        "id": "RWGj3xqbeqT0"
      },
      "execution_count": 43,
      "outputs": []
    },
    {
      "cell_type": "code",
      "source": [],
      "metadata": {
        "id": "_cwIGc8Vdymg"
      },
      "execution_count": null,
      "outputs": []
    }
  ]
}