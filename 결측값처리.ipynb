{
  "nbformat": 4,
  "nbformat_minor": 0,
  "metadata": {
    "colab": {
      "provenance": [],
      "authorship_tag": "ABX9TyOttvZTKAslGBiFihl9U4P6",
      "include_colab_link": true
    },
    "kernelspec": {
      "name": "python3",
      "display_name": "Python 3"
    },
    "language_info": {
      "name": "python"
    }
  },
  "cells": [
    {
      "cell_type": "markdown",
      "metadata": {
        "id": "view-in-github",
        "colab_type": "text"
      },
      "source": [
        "<a href=\"https://colab.research.google.com/github/hayaboy/ADP_Practical_Exam/blob/main/%EA%B2%B0%EC%B8%A1%EA%B0%92%EC%B2%98%EB%A6%AC.ipynb\" target=\"_parent\"><img src=\"https://colab.research.google.com/assets/colab-badge.svg\" alt=\"Open In Colab\"/></a>"
      ]
    },
    {
      "cell_type": "markdown",
      "source": [
        "결측값 처리 방법 중 평균대치법, 단순확률대치법, 다중대치법에 대해 설명하겠습니다. 각 방법에 대한 설명과 함께 Python 코드 예시를 제공하겠습니다.\n",
        "\n",
        "1. 평균대치법 (Mean Imputation)\n",
        "평균대치법은 결측값을 해당 열의 평균값으로 대체하는 방법입니다. 이 방법은 데이터의 분포를 유지하면서 결측값을 채우는 간단한 방법 중 하나입니다.\n",
        "\n",
        "설명:\n",
        "\n",
        "결측값이 있는 열의 평균을 계산합니다.\n",
        "평균값으로 결측값을 대체합니다.\n",
        "장단점:\n",
        "\n",
        "장점: 간단하고 이해하기 쉽습니다.\n",
        "단점: 데이터의 분산을 과소평가할 수 있으며, 실제 분포와 왜곡될 수 있습니다."
      ],
      "metadata": {
        "id": "0U-XLMX1hoHu"
      }
    },
    {
      "cell_type": "code",
      "source": [],
      "metadata": {
        "id": "2G1GXLhWhlrz"
      },
      "execution_count": null,
      "outputs": []
    },
    {
      "cell_type": "code",
      "execution_count": 1,
      "metadata": {
        "colab": {
          "base_uri": "https://localhost:8080/"
        },
        "id": "guOJOEikhfqc",
        "outputId": "418c2d5c-fc5c-488a-c117-32176b3f7ec9"
      },
      "outputs": [
        {
          "output_type": "stream",
          "name": "stdout",
          "text": [
            "평균 대치법 적용 결과:\n",
            "     A    B\n",
            "0  1.0  3.5\n",
            "1  2.0  2.0\n",
            "2  3.0  3.0\n",
            "3  4.0  4.0\n",
            "4  5.0  5.0\n"
          ]
        }
      ],
      "source": [
        "import pandas as pd\n",
        "\n",
        "# 데이터프레임 생성 (예시)\n",
        "data = {'A': [1, 2, None, 4, 5],\n",
        "        'B': [None, 2, 3, 4, 5]}\n",
        "df = pd.DataFrame(data)\n",
        "\n",
        "# 평균 대치법 적용\n",
        "df_mean_imputed = df.fillna(df.mean())\n",
        "\n",
        "print(\"평균 대치법 적용 결과:\")\n",
        "print(df_mean_imputed)\n"
      ]
    },
    {
      "cell_type": "markdown",
      "source": [
        "2. 단순확률대치법 (Single Imputation with Random Sampling)\n",
        "단순확률대치법은 결측값을 해당 열의 관측값을 기반으로 랜덤하게 선택하여 대체하는 방법입니다. 이 방법은 무작위로 결측값을 채우기 때문에 여러 번 적용할 때마다 다른 결과를 얻을 수 있습니다.\n",
        "\n",
        "설명:\n",
        "\n",
        "결측값이 있는 열에서 관측값을 무작위로 선택합니다.\n",
        "선택된 값으로 결측값을 대체합니다.\n",
        "장단점:\n",
        "\n",
        "장점: 데이터의 분산을 유지하면서 결측값을 대체합니다.\n",
        "단점: 무작위성으로 인해 반복적으로 적용할 때마다 결과가 달라질 수 있습니다."
      ],
      "metadata": {
        "id": "uBhMjcfkhy0X"
      }
    },
    {
      "cell_type": "code",
      "source": [
        "import pandas as pd\n",
        "import numpy as np\n",
        "\n",
        "# 데이터프레임 생성 (예시)\n",
        "data = {'A': [1, 2, None, 4, 5],\n",
        "        'B': [None, 2, 3, 4, 5]}\n",
        "df = pd.DataFrame(data)\n",
        "\n",
        "# 단순확률대치법 적용\n",
        "def single_imputation_with_random_sampling(column):\n",
        "    random_sample = np.random.choice(column.dropna(), size=column.isnull().sum(), replace=True)\n",
        "    column[column.isnull()] = random_sample\n",
        "    return column\n",
        "\n",
        "df_single_imputed = df.apply(single_imputation_with_random_sampling, axis=0)\n",
        "\n",
        "print(\"단순확률대치법 적용 결과:\")\n",
        "print(df_single_imputed)\n"
      ],
      "metadata": {
        "colab": {
          "base_uri": "https://localhost:8080/"
        },
        "id": "-u6HmxyUh1S2",
        "outputId": "d2ec46d9-90d3-4101-83d7-91c7977f1f04"
      },
      "execution_count": 5,
      "outputs": [
        {
          "output_type": "stream",
          "name": "stdout",
          "text": [
            "단순확률대치법 적용 결과:\n",
            "     A    B\n",
            "0  1.0  3.0\n",
            "1  2.0  2.0\n",
            "2  1.0  3.0\n",
            "3  4.0  4.0\n",
            "4  5.0  5.0\n"
          ]
        }
      ]
    },
    {
      "cell_type": "markdown",
      "source": [
        "3. 다중대치법 (Multiple Imputation)\n",
        "다중대치법은 결측값을 여러 번 대체하여 여러 가지 대체된 데이터 세트를 생성하는 방법입니다. 이 방법은 대체된 여러 데이터 세트를 분석하여 결측값 처리의 불확실성을 고려합니다.\n",
        "\n",
        "설명:\n",
        "\n",
        "결측값이 있는 열을 대체하여 여러 번 데이터 세트를 생성합니다.\n",
        "각 데이터 세트를 분석하여 결과를 통합합니다.\n",
        "장단점:\n",
        "\n",
        "장점: 결측값 처리의 불확실성을 고려하여 더 정확한 결과를 얻을 수 있습니다.\n",
        "단점: 계산 비용이 많이 들 수 있고, 구현하기 어려울 수 있습니다."
      ],
      "metadata": {
        "id": "8Bfzg7uhiPI-"
      }
    },
    {
      "cell_type": "code",
      "source": [
        "from sklearn.impute import SimpleImputer\n",
        "import numpy as np\n",
        "\n",
        "# 데이터프레임 생성 (예시)\n",
        "data = {'A': [1, 2, None, 4, 5],\n",
        "        'B': [None, 2, 3, 4, 5]}\n",
        "df = pd.DataFrame(data)\n",
        "\n",
        "# 다중대치법 적용\n",
        "def multiple_imputation(data, n):\n",
        "    imputer = SimpleImputer(strategy='mean')  # 다른 대치 방법을 선택할 수도 있음\n",
        "    imputed_dfs = []\n",
        "    for _ in range(n):\n",
        "        imputed_data = imputer.fit_transform(data)\n",
        "        imputed_dfs.append(pd.DataFrame(imputed_data, columns=data.columns))\n",
        "    return imputed_dfs\n",
        "\n",
        "n = 5  # 생성할 데이터 세트 수\n",
        "imputed_datasets = multiple_imputation(df, n)\n",
        "\n",
        "# 결과 출력\n",
        "for i, df_imputed in enumerate(imputed_datasets):\n",
        "    print(f\"다중대치법 적용 결과 {i+1}:\")\n",
        "    print(df_imputed)\n"
      ],
      "metadata": {
        "colab": {
          "base_uri": "https://localhost:8080/"
        },
        "id": "LEaXSI-TiOyW",
        "outputId": "6b450d80-ac63-4a22-84db-846348732543"
      },
      "execution_count": 7,
      "outputs": [
        {
          "output_type": "stream",
          "name": "stdout",
          "text": [
            "다중대치법 적용 결과 1:\n",
            "     A    B\n",
            "0  1.0  3.5\n",
            "1  2.0  2.0\n",
            "2  3.0  3.0\n",
            "3  4.0  4.0\n",
            "4  5.0  5.0\n",
            "다중대치법 적용 결과 2:\n",
            "     A    B\n",
            "0  1.0  3.5\n",
            "1  2.0  2.0\n",
            "2  3.0  3.0\n",
            "3  4.0  4.0\n",
            "4  5.0  5.0\n",
            "다중대치법 적용 결과 3:\n",
            "     A    B\n",
            "0  1.0  3.5\n",
            "1  2.0  2.0\n",
            "2  3.0  3.0\n",
            "3  4.0  4.0\n",
            "4  5.0  5.0\n",
            "다중대치법 적용 결과 4:\n",
            "     A    B\n",
            "0  1.0  3.5\n",
            "1  2.0  2.0\n",
            "2  3.0  3.0\n",
            "3  4.0  4.0\n",
            "4  5.0  5.0\n",
            "다중대치법 적용 결과 5:\n",
            "     A    B\n",
            "0  1.0  3.5\n",
            "1  2.0  2.0\n",
            "2  3.0  3.0\n",
            "3  4.0  4.0\n",
            "4  5.0  5.0\n"
          ]
        }
      ]
    }
  ]
}