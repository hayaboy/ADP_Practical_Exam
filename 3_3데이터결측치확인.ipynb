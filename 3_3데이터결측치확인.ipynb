{
  "cells": [
    {
      "cell_type": "markdown",
      "metadata": {
        "id": "view-in-github",
        "colab_type": "text"
      },
      "source": [
        "<a href=\"https://colab.research.google.com/github/hayaboy/ADP_Practical_Exam/blob/main/3_3%EB%8D%B0%EC%9D%B4%ED%84%B0%EA%B2%B0%EC%B8%A1%EC%B9%98%ED%99%95%EC%9D%B8.ipynb\" target=\"_parent\"><img src=\"https://colab.research.google.com/assets/colab-badge.svg\" alt=\"Open In Colab\"/></a>"
      ]
    },
    {
      "cell_type": "code",
      "execution_count": null,
      "id": "4399f4b2-3a69-49b1-b59d-8da7e125c64f",
      "metadata": {
        "id": "4399f4b2-3a69-49b1-b59d-8da7e125c64f"
      },
      "outputs": [],
      "source": [
        "import seaborn as sns"
      ]
    },
    {
      "cell_type": "code",
      "execution_count": null,
      "id": "9267592e-2ee9-4d1b-a5c1-f2c329ce78d0",
      "metadata": {
        "id": "9267592e-2ee9-4d1b-a5c1-f2c329ce78d0"
      },
      "outputs": [],
      "source": [
        "df=sns.load_dataset('titanic')"
      ]
    },
    {
      "cell_type": "code",
      "execution_count": null,
      "id": "27e3bb05-778c-4c1a-97f9-6bfd3e1e5472",
      "metadata": {
        "id": "27e3bb05-778c-4c1a-97f9-6bfd3e1e5472",
        "outputId": "90e9c93c-13b7-48cb-eb9f-6fb9dcb9ee27"
      },
      "outputs": [
        {
          "data": {
            "text/html": [
              "<div>\n",
              "<style scoped>\n",
              "    .dataframe tbody tr th:only-of-type {\n",
              "        vertical-align: middle;\n",
              "    }\n",
              "\n",
              "    .dataframe tbody tr th {\n",
              "        vertical-align: top;\n",
              "    }\n",
              "\n",
              "    .dataframe thead th {\n",
              "        text-align: right;\n",
              "    }\n",
              "</style>\n",
              "<table border=\"1\" class=\"dataframe\">\n",
              "  <thead>\n",
              "    <tr style=\"text-align: right;\">\n",
              "      <th></th>\n",
              "      <th>survived</th>\n",
              "      <th>pclass</th>\n",
              "      <th>sex</th>\n",
              "      <th>age</th>\n",
              "      <th>sibsp</th>\n",
              "      <th>parch</th>\n",
              "      <th>fare</th>\n",
              "      <th>embarked</th>\n",
              "      <th>class</th>\n",
              "      <th>who</th>\n",
              "      <th>adult_male</th>\n",
              "      <th>deck</th>\n",
              "      <th>embark_town</th>\n",
              "      <th>alive</th>\n",
              "      <th>alone</th>\n",
              "    </tr>\n",
              "  </thead>\n",
              "  <tbody>\n",
              "    <tr>\n",
              "      <th>0</th>\n",
              "      <td>0</td>\n",
              "      <td>3</td>\n",
              "      <td>male</td>\n",
              "      <td>22.0</td>\n",
              "      <td>1</td>\n",
              "      <td>0</td>\n",
              "      <td>7.2500</td>\n",
              "      <td>S</td>\n",
              "      <td>Third</td>\n",
              "      <td>man</td>\n",
              "      <td>True</td>\n",
              "      <td>NaN</td>\n",
              "      <td>Southampton</td>\n",
              "      <td>no</td>\n",
              "      <td>False</td>\n",
              "    </tr>\n",
              "    <tr>\n",
              "      <th>1</th>\n",
              "      <td>1</td>\n",
              "      <td>1</td>\n",
              "      <td>female</td>\n",
              "      <td>38.0</td>\n",
              "      <td>1</td>\n",
              "      <td>0</td>\n",
              "      <td>71.2833</td>\n",
              "      <td>C</td>\n",
              "      <td>First</td>\n",
              "      <td>woman</td>\n",
              "      <td>False</td>\n",
              "      <td>C</td>\n",
              "      <td>Cherbourg</td>\n",
              "      <td>yes</td>\n",
              "      <td>False</td>\n",
              "    </tr>\n",
              "    <tr>\n",
              "      <th>2</th>\n",
              "      <td>1</td>\n",
              "      <td>3</td>\n",
              "      <td>female</td>\n",
              "      <td>26.0</td>\n",
              "      <td>0</td>\n",
              "      <td>0</td>\n",
              "      <td>7.9250</td>\n",
              "      <td>S</td>\n",
              "      <td>Third</td>\n",
              "      <td>woman</td>\n",
              "      <td>False</td>\n",
              "      <td>NaN</td>\n",
              "      <td>Southampton</td>\n",
              "      <td>yes</td>\n",
              "      <td>True</td>\n",
              "    </tr>\n",
              "    <tr>\n",
              "      <th>3</th>\n",
              "      <td>1</td>\n",
              "      <td>1</td>\n",
              "      <td>female</td>\n",
              "      <td>35.0</td>\n",
              "      <td>1</td>\n",
              "      <td>0</td>\n",
              "      <td>53.1000</td>\n",
              "      <td>S</td>\n",
              "      <td>First</td>\n",
              "      <td>woman</td>\n",
              "      <td>False</td>\n",
              "      <td>C</td>\n",
              "      <td>Southampton</td>\n",
              "      <td>yes</td>\n",
              "      <td>False</td>\n",
              "    </tr>\n",
              "    <tr>\n",
              "      <th>4</th>\n",
              "      <td>0</td>\n",
              "      <td>3</td>\n",
              "      <td>male</td>\n",
              "      <td>35.0</td>\n",
              "      <td>0</td>\n",
              "      <td>0</td>\n",
              "      <td>8.0500</td>\n",
              "      <td>S</td>\n",
              "      <td>Third</td>\n",
              "      <td>man</td>\n",
              "      <td>True</td>\n",
              "      <td>NaN</td>\n",
              "      <td>Southampton</td>\n",
              "      <td>no</td>\n",
              "      <td>True</td>\n",
              "    </tr>\n",
              "  </tbody>\n",
              "</table>\n",
              "</div>"
            ],
            "text/plain": [
              "   survived  pclass     sex   age  sibsp  parch     fare embarked  class  \\\n",
              "0         0       3    male  22.0      1      0   7.2500        S  Third   \n",
              "1         1       1  female  38.0      1      0  71.2833        C  First   \n",
              "2         1       3  female  26.0      0      0   7.9250        S  Third   \n",
              "3         1       1  female  35.0      1      0  53.1000        S  First   \n",
              "4         0       3    male  35.0      0      0   8.0500        S  Third   \n",
              "\n",
              "     who  adult_male deck  embark_town alive  alone  \n",
              "0    man        True  NaN  Southampton    no  False  \n",
              "1  woman       False    C    Cherbourg   yes  False  \n",
              "2  woman       False  NaN  Southampton   yes   True  \n",
              "3  woman       False    C  Southampton   yes  False  \n",
              "4    man        True  NaN  Southampton    no   True  "
            ]
          },
          "execution_count": 3,
          "metadata": {},
          "output_type": "execute_result"
        }
      ],
      "source": [
        "df.head()"
      ]
    },
    {
      "cell_type": "code",
      "execution_count": null,
      "id": "f4f3f2d8-b475-4a8a-b266-8260bf7c7b2c",
      "metadata": {
        "id": "f4f3f2d8-b475-4a8a-b266-8260bf7c7b2c",
        "outputId": "892f67db-b7d7-4436-9b7a-7e5fad2ee419"
      },
      "outputs": [
        {
          "name": "stdout",
          "output_type": "stream",
          "text": [
            "<class 'pandas.core.frame.DataFrame'>\n",
            "RangeIndex: 891 entries, 0 to 890\n",
            "Data columns (total 15 columns):\n",
            " #   Column       Non-Null Count  Dtype   \n",
            "---  ------       --------------  -----   \n",
            " 0   survived     891 non-null    int64   \n",
            " 1   pclass       891 non-null    int64   \n",
            " 2   sex          891 non-null    object  \n",
            " 3   age          714 non-null    float64 \n",
            " 4   sibsp        891 non-null    int64   \n",
            " 5   parch        891 non-null    int64   \n",
            " 6   fare         891 non-null    float64 \n",
            " 7   embarked     889 non-null    object  \n",
            " 8   class        891 non-null    category\n",
            " 9   who          891 non-null    object  \n",
            " 10  adult_male   891 non-null    bool    \n",
            " 11  deck         203 non-null    category\n",
            " 12  embark_town  889 non-null    object  \n",
            " 13  alive        891 non-null    object  \n",
            " 14  alone        891 non-null    bool    \n",
            "dtypes: bool(2), category(2), float64(2), int64(4), object(5)\n",
            "memory usage: 80.7+ KB\n"
          ]
        }
      ],
      "source": [
        "df.info()"
      ]
    },
    {
      "cell_type": "code",
      "execution_count": null,
      "id": "c6787536-d342-4611-8411-34077994b46a",
      "metadata": {
        "id": "c6787536-d342-4611-8411-34077994b46a",
        "outputId": "705cec84-bc4b-49d0-babc-012a5ecbaf7d"
      },
      "outputs": [
        {
          "data": {
            "text/html": [
              "<div>\n",
              "<style scoped>\n",
              "    .dataframe tbody tr th:only-of-type {\n",
              "        vertical-align: middle;\n",
              "    }\n",
              "\n",
              "    .dataframe tbody tr th {\n",
              "        vertical-align: top;\n",
              "    }\n",
              "\n",
              "    .dataframe thead th {\n",
              "        text-align: right;\n",
              "    }\n",
              "</style>\n",
              "<table border=\"1\" class=\"dataframe\">\n",
              "  <thead>\n",
              "    <tr style=\"text-align: right;\">\n",
              "      <th></th>\n",
              "      <th>survived</th>\n",
              "      <th>pclass</th>\n",
              "      <th>sex</th>\n",
              "      <th>age</th>\n",
              "      <th>sibsp</th>\n",
              "      <th>parch</th>\n",
              "      <th>fare</th>\n",
              "      <th>embarked</th>\n",
              "      <th>class</th>\n",
              "      <th>who</th>\n",
              "      <th>adult_male</th>\n",
              "      <th>deck</th>\n",
              "      <th>embark_town</th>\n",
              "      <th>alive</th>\n",
              "      <th>alone</th>\n",
              "    </tr>\n",
              "  </thead>\n",
              "  <tbody>\n",
              "    <tr>\n",
              "      <th>0</th>\n",
              "      <td>False</td>\n",
              "      <td>False</td>\n",
              "      <td>False</td>\n",
              "      <td>False</td>\n",
              "      <td>False</td>\n",
              "      <td>False</td>\n",
              "      <td>False</td>\n",
              "      <td>False</td>\n",
              "      <td>False</td>\n",
              "      <td>False</td>\n",
              "      <td>False</td>\n",
              "      <td>True</td>\n",
              "      <td>False</td>\n",
              "      <td>False</td>\n",
              "      <td>False</td>\n",
              "    </tr>\n",
              "    <tr>\n",
              "      <th>1</th>\n",
              "      <td>False</td>\n",
              "      <td>False</td>\n",
              "      <td>False</td>\n",
              "      <td>False</td>\n",
              "      <td>False</td>\n",
              "      <td>False</td>\n",
              "      <td>False</td>\n",
              "      <td>False</td>\n",
              "      <td>False</td>\n",
              "      <td>False</td>\n",
              "      <td>False</td>\n",
              "      <td>False</td>\n",
              "      <td>False</td>\n",
              "      <td>False</td>\n",
              "      <td>False</td>\n",
              "    </tr>\n",
              "    <tr>\n",
              "      <th>2</th>\n",
              "      <td>False</td>\n",
              "      <td>False</td>\n",
              "      <td>False</td>\n",
              "      <td>False</td>\n",
              "      <td>False</td>\n",
              "      <td>False</td>\n",
              "      <td>False</td>\n",
              "      <td>False</td>\n",
              "      <td>False</td>\n",
              "      <td>False</td>\n",
              "      <td>False</td>\n",
              "      <td>True</td>\n",
              "      <td>False</td>\n",
              "      <td>False</td>\n",
              "      <td>False</td>\n",
              "    </tr>\n",
              "    <tr>\n",
              "      <th>3</th>\n",
              "      <td>False</td>\n",
              "      <td>False</td>\n",
              "      <td>False</td>\n",
              "      <td>False</td>\n",
              "      <td>False</td>\n",
              "      <td>False</td>\n",
              "      <td>False</td>\n",
              "      <td>False</td>\n",
              "      <td>False</td>\n",
              "      <td>False</td>\n",
              "      <td>False</td>\n",
              "      <td>False</td>\n",
              "      <td>False</td>\n",
              "      <td>False</td>\n",
              "      <td>False</td>\n",
              "    </tr>\n",
              "    <tr>\n",
              "      <th>4</th>\n",
              "      <td>False</td>\n",
              "      <td>False</td>\n",
              "      <td>False</td>\n",
              "      <td>False</td>\n",
              "      <td>False</td>\n",
              "      <td>False</td>\n",
              "      <td>False</td>\n",
              "      <td>False</td>\n",
              "      <td>False</td>\n",
              "      <td>False</td>\n",
              "      <td>False</td>\n",
              "      <td>True</td>\n",
              "      <td>False</td>\n",
              "      <td>False</td>\n",
              "      <td>False</td>\n",
              "    </tr>\n",
              "  </tbody>\n",
              "</table>\n",
              "</div>"
            ],
            "text/plain": [
              "   survived  pclass    sex    age  sibsp  parch   fare  embarked  class  \\\n",
              "0     False   False  False  False  False  False  False     False  False   \n",
              "1     False   False  False  False  False  False  False     False  False   \n",
              "2     False   False  False  False  False  False  False     False  False   \n",
              "3     False   False  False  False  False  False  False     False  False   \n",
              "4     False   False  False  False  False  False  False     False  False   \n",
              "\n",
              "     who  adult_male   deck  embark_town  alive  alone  \n",
              "0  False       False   True        False  False  False  \n",
              "1  False       False  False        False  False  False  \n",
              "2  False       False   True        False  False  False  \n",
              "3  False       False  False        False  False  False  \n",
              "4  False       False   True        False  False  False  "
            ]
          },
          "execution_count": 10,
          "metadata": {},
          "output_type": "execute_result"
        }
      ],
      "source": [
        "df.head().isnull()"
      ]
    },
    {
      "cell_type": "code",
      "execution_count": null,
      "id": "cc050189-5f04-4d11-b2f6-2ad27982ef46",
      "metadata": {
        "id": "cc050189-5f04-4d11-b2f6-2ad27982ef46",
        "outputId": "e989a67f-14ca-41db-fc95-2e5ab0f91083"
      },
      "outputs": [
        {
          "data": {
            "text/html": [
              "<div>\n",
              "<style scoped>\n",
              "    .dataframe tbody tr th:only-of-type {\n",
              "        vertical-align: middle;\n",
              "    }\n",
              "\n",
              "    .dataframe tbody tr th {\n",
              "        vertical-align: top;\n",
              "    }\n",
              "\n",
              "    .dataframe thead th {\n",
              "        text-align: right;\n",
              "    }\n",
              "</style>\n",
              "<table border=\"1\" class=\"dataframe\">\n",
              "  <thead>\n",
              "    <tr style=\"text-align: right;\">\n",
              "      <th></th>\n",
              "      <th>survived</th>\n",
              "      <th>pclass</th>\n",
              "      <th>sex</th>\n",
              "      <th>age</th>\n",
              "      <th>sibsp</th>\n",
              "      <th>parch</th>\n",
              "      <th>fare</th>\n",
              "      <th>embarked</th>\n",
              "      <th>class</th>\n",
              "      <th>who</th>\n",
              "      <th>adult_male</th>\n",
              "      <th>deck</th>\n",
              "      <th>embark_town</th>\n",
              "      <th>alive</th>\n",
              "      <th>alone</th>\n",
              "    </tr>\n",
              "  </thead>\n",
              "  <tbody>\n",
              "    <tr>\n",
              "      <th>0</th>\n",
              "      <td>True</td>\n",
              "      <td>True</td>\n",
              "      <td>True</td>\n",
              "      <td>True</td>\n",
              "      <td>True</td>\n",
              "      <td>True</td>\n",
              "      <td>True</td>\n",
              "      <td>True</td>\n",
              "      <td>True</td>\n",
              "      <td>True</td>\n",
              "      <td>True</td>\n",
              "      <td>False</td>\n",
              "      <td>True</td>\n",
              "      <td>True</td>\n",
              "      <td>True</td>\n",
              "    </tr>\n",
              "    <tr>\n",
              "      <th>1</th>\n",
              "      <td>True</td>\n",
              "      <td>True</td>\n",
              "      <td>True</td>\n",
              "      <td>True</td>\n",
              "      <td>True</td>\n",
              "      <td>True</td>\n",
              "      <td>True</td>\n",
              "      <td>True</td>\n",
              "      <td>True</td>\n",
              "      <td>True</td>\n",
              "      <td>True</td>\n",
              "      <td>True</td>\n",
              "      <td>True</td>\n",
              "      <td>True</td>\n",
              "      <td>True</td>\n",
              "    </tr>\n",
              "    <tr>\n",
              "      <th>2</th>\n",
              "      <td>True</td>\n",
              "      <td>True</td>\n",
              "      <td>True</td>\n",
              "      <td>True</td>\n",
              "      <td>True</td>\n",
              "      <td>True</td>\n",
              "      <td>True</td>\n",
              "      <td>True</td>\n",
              "      <td>True</td>\n",
              "      <td>True</td>\n",
              "      <td>True</td>\n",
              "      <td>False</td>\n",
              "      <td>True</td>\n",
              "      <td>True</td>\n",
              "      <td>True</td>\n",
              "    </tr>\n",
              "    <tr>\n",
              "      <th>3</th>\n",
              "      <td>True</td>\n",
              "      <td>True</td>\n",
              "      <td>True</td>\n",
              "      <td>True</td>\n",
              "      <td>True</td>\n",
              "      <td>True</td>\n",
              "      <td>True</td>\n",
              "      <td>True</td>\n",
              "      <td>True</td>\n",
              "      <td>True</td>\n",
              "      <td>True</td>\n",
              "      <td>True</td>\n",
              "      <td>True</td>\n",
              "      <td>True</td>\n",
              "      <td>True</td>\n",
              "    </tr>\n",
              "    <tr>\n",
              "      <th>4</th>\n",
              "      <td>True</td>\n",
              "      <td>True</td>\n",
              "      <td>True</td>\n",
              "      <td>True</td>\n",
              "      <td>True</td>\n",
              "      <td>True</td>\n",
              "      <td>True</td>\n",
              "      <td>True</td>\n",
              "      <td>True</td>\n",
              "      <td>True</td>\n",
              "      <td>True</td>\n",
              "      <td>False</td>\n",
              "      <td>True</td>\n",
              "      <td>True</td>\n",
              "      <td>True</td>\n",
              "    </tr>\n",
              "  </tbody>\n",
              "</table>\n",
              "</div>"
            ],
            "text/plain": [
              "   survived  pclass   sex   age  sibsp  parch  fare  embarked  class   who  \\\n",
              "0      True    True  True  True   True   True  True      True   True  True   \n",
              "1      True    True  True  True   True   True  True      True   True  True   \n",
              "2      True    True  True  True   True   True  True      True   True  True   \n",
              "3      True    True  True  True   True   True  True      True   True  True   \n",
              "4      True    True  True  True   True   True  True      True   True  True   \n",
              "\n",
              "   adult_male   deck  embark_town  alive  alone  \n",
              "0        True  False         True   True   True  \n",
              "1        True   True         True   True   True  \n",
              "2        True  False         True   True   True  \n",
              "3        True   True         True   True   True  \n",
              "4        True  False         True   True   True  "
            ]
          },
          "execution_count": 11,
          "metadata": {},
          "output_type": "execute_result"
        }
      ],
      "source": [
        "df.head().notnull()"
      ]
    },
    {
      "cell_type": "code",
      "execution_count": null,
      "id": "723d256a-6dc5-4a48-b3dd-e8ba6384d675",
      "metadata": {
        "id": "723d256a-6dc5-4a48-b3dd-e8ba6384d675",
        "outputId": "cae358d8-55d3-4a7a-a5a5-bec1a22b65df"
      },
      "outputs": [
        {
          "data": {
            "text/plain": [
              "survived         0\n",
              "pclass           0\n",
              "sex              0\n",
              "age            177\n",
              "sibsp            0\n",
              "parch            0\n",
              "fare             0\n",
              "embarked         2\n",
              "class            0\n",
              "who              0\n",
              "adult_male       0\n",
              "deck           688\n",
              "embark_town      2\n",
              "alive            0\n",
              "alone            0\n",
              "dtype: int64"
            ]
          },
          "execution_count": 12,
          "metadata": {},
          "output_type": "execute_result"
        }
      ],
      "source": [
        "df.isnull().sum()"
      ]
    },
    {
      "cell_type": "code",
      "execution_count": null,
      "id": "16986567-ea07-4d3e-aa38-2f3a4c941fc8",
      "metadata": {
        "id": "16986567-ea07-4d3e-aa38-2f3a4c941fc8",
        "outputId": "216c599a-e26e-4923-ece6-3d455dd20634"
      },
      "outputs": [
        {
          "data": {
            "text/plain": [
              "0      1\n",
              "1      0\n",
              "2      1\n",
              "3      0\n",
              "4      1\n",
              "      ..\n",
              "886    1\n",
              "887    0\n",
              "888    2\n",
              "889    0\n",
              "890    1\n",
              "Length: 891, dtype: int64"
            ]
          },
          "execution_count": 13,
          "metadata": {},
          "output_type": "execute_result"
        }
      ],
      "source": [
        "df.isnull().sum(axis=1)"
      ]
    },
    {
      "cell_type": "code",
      "execution_count": null,
      "id": "31f38e1b-d8f2-4255-baed-864e14c6f366",
      "metadata": {
        "id": "31f38e1b-d8f2-4255-baed-864e14c6f366"
      },
      "outputs": [],
      "source": [
        " # 'C85'라는 객실 번호는 C 데크(갑판)에 위치한 객실을 나타냅니다."
      ]
    },
    {
      "cell_type": "code",
      "execution_count": null,
      "id": "e0681198-b3a8-4dcd-b64f-3dbaaefb96ce",
      "metadata": {
        "id": "e0681198-b3a8-4dcd-b64f-3dbaaefb96ce",
        "outputId": "1ed06920-8982-41cc-8418-37be2ac431eb"
      },
      "outputs": [
        {
          "data": {
            "text/plain": [
              "deck\n",
              "C    59\n",
              "B    47\n",
              "D    33\n",
              "E    32\n",
              "A    15\n",
              "F    13\n",
              "G     4\n",
              "Name: count, dtype: int64"
            ]
          },
          "execution_count": 5,
          "metadata": {},
          "output_type": "execute_result"
        }
      ],
      "source": [
        "df['deck'].value_counts()"
      ]
    },
    {
      "cell_type": "code",
      "execution_count": null,
      "id": "690cf7eb-986b-4359-83f6-5737c7547143",
      "metadata": {
        "id": "690cf7eb-986b-4359-83f6-5737c7547143",
        "outputId": "8df13d38-cd2a-4948-8a28-f7801c9f6a99"
      },
      "outputs": [
        {
          "data": {
            "text/plain": [
              "deck\n",
              "NaN    688\n",
              "C       59\n",
              "B       47\n",
              "D       33\n",
              "E       32\n",
              "A       15\n",
              "F       13\n",
              "G        4\n",
              "Name: count, dtype: int64"
            ]
          },
          "execution_count": 8,
          "metadata": {},
          "output_type": "execute_result"
        }
      ],
      "source": [
        "df['deck'].value_counts(dropna=False)"
      ]
    },
    {
      "cell_type": "code",
      "execution_count": null,
      "id": "59c44097-62cd-4bff-9622-f59bfcf294e5",
      "metadata": {
        "id": "59c44097-62cd-4bff-9622-f59bfcf294e5"
      },
      "outputs": [],
      "source": [
        "nan_deck=df['deck'].value_counts(dropna=False)"
      ]
    },
    {
      "cell_type": "code",
      "execution_count": null,
      "id": "6456e622-087b-47b8-9401-a8fef63a03b2",
      "metadata": {
        "id": "6456e622-087b-47b8-9401-a8fef63a03b2"
      },
      "outputs": [],
      "source": [
        "df_thresh=df.dropna(axis=1, thresh=500)"
      ]
    },
    {
      "cell_type": "code",
      "execution_count": null,
      "id": "92627744-0280-4037-a285-4aaecc3bb775",
      "metadata": {
        "id": "92627744-0280-4037-a285-4aaecc3bb775",
        "outputId": "1df2b735-ff33-4c4d-82fa-99bba0e30987"
      },
      "outputs": [
        {
          "data": {
            "text/plain": [
              "Index(['survived', 'pclass', 'sex', 'age', 'sibsp', 'parch', 'fare',\n",
              "       'embarked', 'class', 'who', 'adult_male', 'embark_town', 'alive',\n",
              "       'alone'],\n",
              "      dtype='object')"
            ]
          },
          "execution_count": 16,
          "metadata": {},
          "output_type": "execute_result"
        }
      ],
      "source": [
        "df_thresh.columns"
      ]
    },
    {
      "cell_type": "code",
      "execution_count": null,
      "id": "969734ee-66b9-46c9-8b08-57dfd8f6dbd6",
      "metadata": {
        "id": "969734ee-66b9-46c9-8b08-57dfd8f6dbd6",
        "outputId": "c2cc86b3-fc63-49c3-d8e8-d99afd573ee4"
      },
      "outputs": [
        {
          "data": {
            "text/plain": [
              "0      22.0\n",
              "1      38.0\n",
              "2      26.0\n",
              "3      35.0\n",
              "4      35.0\n",
              "       ... \n",
              "886    27.0\n",
              "887    19.0\n",
              "888     NaN\n",
              "889    26.0\n",
              "890    32.0\n",
              "Name: age, Length: 891, dtype: float64"
            ]
          },
          "execution_count": 17,
          "metadata": {},
          "output_type": "execute_result"
        }
      ],
      "source": [
        "df.age"
      ]
    },
    {
      "cell_type": "code",
      "execution_count": null,
      "id": "7ec50475-ed41-4579-a3f4-2e48a437a2f0",
      "metadata": {
        "id": "7ec50475-ed41-4579-a3f4-2e48a437a2f0"
      },
      "outputs": [],
      "source": [
        "df_age=df.dropna(subset=['age'], how='any', axis=0)"
      ]
    },
    {
      "cell_type": "code",
      "execution_count": null,
      "id": "fa85d3d9-f4be-4a99-a1d3-5f100d2eccaa",
      "metadata": {
        "id": "fa85d3d9-f4be-4a99-a1d3-5f100d2eccaa",
        "outputId": "ca6e9036-3474-4a6a-c199-bfad116c6fce"
      },
      "outputs": [
        {
          "data": {
            "text/plain": [
              "714"
            ]
          },
          "execution_count": 20,
          "metadata": {},
          "output_type": "execute_result"
        }
      ],
      "source": [
        "891 - 177"
      ]
    },
    {
      "cell_type": "code",
      "execution_count": null,
      "id": "ca4e81f9-7ccc-4c4a-900c-f4c1793d4dcb",
      "metadata": {
        "id": "ca4e81f9-7ccc-4c4a-900c-f4c1793d4dcb",
        "outputId": "0c77c323-6d48-4ffb-bf66-f7a667ae10b6"
      },
      "outputs": [
        {
          "data": {
            "text/plain": [
              "714"
            ]
          },
          "execution_count": 21,
          "metadata": {},
          "output_type": "execute_result"
        }
      ],
      "source": [
        "len(df_age)"
      ]
    },
    {
      "cell_type": "code",
      "execution_count": null,
      "id": "d37fd5e6-b607-43f0-ba7c-8c3b7dcbb05b",
      "metadata": {
        "id": "d37fd5e6-b607-43f0-ba7c-8c3b7dcbb05b",
        "outputId": "17ce9b1a-0d21-425e-a3f4-cebd2b1533dd"
      },
      "outputs": [
        {
          "data": {
            "text/plain": [
              "0      22.0\n",
              "1      38.0\n",
              "2      26.0\n",
              "3      35.0\n",
              "4      35.0\n",
              "       ... \n",
              "886    27.0\n",
              "887    19.0\n",
              "888     NaN\n",
              "889    26.0\n",
              "890    32.0\n",
              "Name: age, Length: 891, dtype: float64"
            ]
          },
          "execution_count": 23,
          "metadata": {},
          "output_type": "execute_result"
        }
      ],
      "source": [
        "df['age']"
      ]
    },
    {
      "cell_type": "code",
      "execution_count": null,
      "id": "55aa7427-7668-45b1-be84-8a236ca81c51",
      "metadata": {
        "id": "55aa7427-7668-45b1-be84-8a236ca81c51",
        "outputId": "1cc04f50-4743-4bdc-be63-02883a3b8ee4"
      },
      "outputs": [
        {
          "data": {
            "text/plain": [
              "29.69911764705882"
            ]
          },
          "execution_count": 24,
          "metadata": {},
          "output_type": "execute_result"
        }
      ],
      "source": [
        "df['age'].mean(axis=0)"
      ]
    },
    {
      "cell_type": "code",
      "execution_count": null,
      "id": "be11d868-9661-468c-8db0-cbf63e9ffa74",
      "metadata": {
        "id": "be11d868-9661-468c-8db0-cbf63e9ffa74"
      },
      "outputs": [],
      "source": [
        "mean_age=df['age'].mean(axis=0)"
      ]
    },
    {
      "cell_type": "code",
      "execution_count": null,
      "id": "d580dfa9-707a-4a75-ad53-0fe648b4f06f",
      "metadata": {
        "id": "d580dfa9-707a-4a75-ad53-0fe648b4f06f",
        "outputId": "4426cbb3-57a9-4d14-b671-61e82992dee8"
      },
      "outputs": [
        {
          "data": {
            "text/plain": [
              "0    22.0\n",
              "1    38.0\n",
              "2    26.0\n",
              "3    35.0\n",
              "4    35.0\n",
              "5     NaN\n",
              "6    54.0\n",
              "7     2.0\n",
              "8    27.0\n",
              "9    14.0\n",
              "Name: age, dtype: float64"
            ]
          },
          "execution_count": 27,
          "metadata": {},
          "output_type": "execute_result"
        }
      ],
      "source": [
        "df['age'].head(10)"
      ]
    },
    {
      "cell_type": "code",
      "execution_count": null,
      "id": "071c9757-a160-4022-ab23-747c9315a230",
      "metadata": {
        "id": "071c9757-a160-4022-ab23-747c9315a230"
      },
      "outputs": [],
      "source": [
        "df['age'].fillna(mean_age, inplace=True)"
      ]
    },
    {
      "cell_type": "code",
      "execution_count": null,
      "id": "bbeb8ff9-3f68-4429-bc58-65f7717a4d73",
      "metadata": {
        "id": "bbeb8ff9-3f68-4429-bc58-65f7717a4d73",
        "outputId": "29f49346-74d5-4737-a197-2a374538d2e0"
      },
      "outputs": [
        {
          "data": {
            "text/plain": [
              "0    22.000000\n",
              "1    38.000000\n",
              "2    26.000000\n",
              "3    35.000000\n",
              "4    35.000000\n",
              "5    29.699118\n",
              "6    54.000000\n",
              "7     2.000000\n",
              "8    27.000000\n",
              "9    14.000000\n",
              "Name: age, dtype: float64"
            ]
          },
          "execution_count": 29,
          "metadata": {},
          "output_type": "execute_result"
        }
      ],
      "source": [
        "df['age'].head(10)"
      ]
    },
    {
      "cell_type": "code",
      "execution_count": null,
      "id": "f2e381c7-db55-4bc1-8628-a480cf28647b",
      "metadata": {
        "id": "f2e381c7-db55-4bc1-8628-a480cf28647b"
      },
      "outputs": [],
      "source": [
        "df=sns.load_dataset('titanic')"
      ]
    },
    {
      "cell_type": "code",
      "execution_count": null,
      "id": "d3ae09ce-0f95-41b3-911b-486e63509ac1",
      "metadata": {
        "id": "d3ae09ce-0f95-41b3-911b-486e63509ac1",
        "outputId": "c81bf7e1-0cdb-4b21-fce0-bacc71fa1328"
      },
      "outputs": [
        {
          "data": {
            "text/plain": [
              "0      Southampton\n",
              "1        Cherbourg\n",
              "2      Southampton\n",
              "3      Southampton\n",
              "4      Southampton\n",
              "          ...     \n",
              "886    Southampton\n",
              "887    Southampton\n",
              "888    Southampton\n",
              "889      Cherbourg\n",
              "890     Queenstown\n",
              "Name: embark_town, Length: 891, dtype: object"
            ]
          },
          "execution_count": 31,
          "metadata": {},
          "output_type": "execute_result"
        }
      ],
      "source": [
        "df.embark_town"
      ]
    },
    {
      "cell_type": "code",
      "execution_count": null,
      "id": "4b7406f5-606c-4e0c-a3b9-1abdcc85a256",
      "metadata": {
        "id": "4b7406f5-606c-4e0c-a3b9-1abdcc85a256",
        "outputId": "47c534cd-538a-41c4-d770-e38b4223b259"
      },
      "outputs": [
        {
          "data": {
            "text/plain": [
              "2"
            ]
          },
          "execution_count": 33,
          "metadata": {},
          "output_type": "execute_result"
        }
      ],
      "source": [
        "df.embark_town.isnull().sum()"
      ]
    },
    {
      "cell_type": "code",
      "execution_count": null,
      "id": "e7c1a5b4-8eba-45b6-a4a4-681af6e85a4f",
      "metadata": {
        "id": "e7c1a5b4-8eba-45b6-a4a4-681af6e85a4f"
      },
      "outputs": [],
      "source": [
        "df_embark_town=df.embark_town"
      ]
    },
    {
      "cell_type": "code",
      "execution_count": null,
      "id": "62132e60-a2a7-4e66-a894-bfec37681a77",
      "metadata": {
        "id": "62132e60-a2a7-4e66-a894-bfec37681a77",
        "outputId": "949f6690-a923-45cd-fd3e-829563de5ae1"
      },
      "outputs": [
        {
          "data": {
            "text/plain": [
              "61     NaN\n",
              "829    NaN\n",
              "Name: embark_town, dtype: object"
            ]
          },
          "execution_count": 41,
          "metadata": {},
          "output_type": "execute_result"
        }
      ],
      "source": [
        "df_embark_town[df_embark_town.isnull()]"
      ]
    },
    {
      "cell_type": "code",
      "execution_count": null,
      "id": "e91337f5-e38d-4533-bd88-2839307e3067",
      "metadata": {
        "id": "e91337f5-e38d-4533-bd88-2839307e3067",
        "outputId": "cb42fa12-27d4-422c-b36f-b72521ac47f4"
      },
      "outputs": [
        {
          "name": "stdout",
          "output_type": "stream",
          "text": [
            "결측치가 있는 행의 위치: Index([0, 2, 3], dtype='int64')\n"
          ]
        }
      ],
      "source": [
        "import pandas as pd\n",
        "\n",
        "# 데이터프레임을 생성하거나 불러옵니다.\n",
        "# 예를 들어, df라는 변수에 데이터프레임을 할당한 후 다음과 같이 결측치를 찾을 수 있습니다.\n",
        "\n",
        "# 예시 데이터프레임\n",
        "data = {'A': [1, 2, None, 4, 5],\n",
        "        'B': [None, 2, 3, None, 5],\n",
        "        'C': [1, 2, 3, 4, 5]}\n",
        "df_sample = pd.DataFrame(data)\n",
        "\n",
        "# 결측치가 있는 행의 위치를 찾습니다.\n",
        "missing_rows = df_sample[df_sample.isnull().any(axis=1)].index\n",
        "\n",
        "print(\"결측치가 있는 행의 위치:\", missing_rows)\n"
      ]
    },
    {
      "cell_type": "code",
      "execution_count": null,
      "id": "2bc88628-8c8c-4ad1-9c94-525ddfbc6122",
      "metadata": {
        "id": "2bc88628-8c8c-4ad1-9c94-525ddfbc6122",
        "outputId": "0510abed-f569-4ffd-a7cd-b2f161da10f4"
      },
      "outputs": [
        {
          "data": {
            "text/html": [
              "<div>\n",
              "<style scoped>\n",
              "    .dataframe tbody tr th:only-of-type {\n",
              "        vertical-align: middle;\n",
              "    }\n",
              "\n",
              "    .dataframe tbody tr th {\n",
              "        vertical-align: top;\n",
              "    }\n",
              "\n",
              "    .dataframe thead th {\n",
              "        text-align: right;\n",
              "    }\n",
              "</style>\n",
              "<table border=\"1\" class=\"dataframe\">\n",
              "  <thead>\n",
              "    <tr style=\"text-align: right;\">\n",
              "      <th></th>\n",
              "      <th>A</th>\n",
              "      <th>B</th>\n",
              "      <th>C</th>\n",
              "    </tr>\n",
              "  </thead>\n",
              "  <tbody>\n",
              "    <tr>\n",
              "      <th>0</th>\n",
              "      <td>1.0</td>\n",
              "      <td>NaN</td>\n",
              "      <td>1</td>\n",
              "    </tr>\n",
              "    <tr>\n",
              "      <th>1</th>\n",
              "      <td>2.0</td>\n",
              "      <td>2.0</td>\n",
              "      <td>2</td>\n",
              "    </tr>\n",
              "    <tr>\n",
              "      <th>2</th>\n",
              "      <td>NaN</td>\n",
              "      <td>3.0</td>\n",
              "      <td>3</td>\n",
              "    </tr>\n",
              "    <tr>\n",
              "      <th>3</th>\n",
              "      <td>4.0</td>\n",
              "      <td>NaN</td>\n",
              "      <td>4</td>\n",
              "    </tr>\n",
              "    <tr>\n",
              "      <th>4</th>\n",
              "      <td>5.0</td>\n",
              "      <td>5.0</td>\n",
              "      <td>5</td>\n",
              "    </tr>\n",
              "  </tbody>\n",
              "</table>\n",
              "</div>"
            ],
            "text/plain": [
              "     A    B  C\n",
              "0  1.0  NaN  1\n",
              "1  2.0  2.0  2\n",
              "2  NaN  3.0  3\n",
              "3  4.0  NaN  4\n",
              "4  5.0  5.0  5"
            ]
          },
          "execution_count": 47,
          "metadata": {},
          "output_type": "execute_result"
        }
      ],
      "source": [
        "df_sample"
      ]
    },
    {
      "cell_type": "code",
      "execution_count": null,
      "id": "1bf83d1c-ceea-46fc-a952-f3c3751739dd",
      "metadata": {
        "id": "1bf83d1c-ceea-46fc-a952-f3c3751739dd",
        "outputId": "8f151261-d11c-4edb-a54e-9437fa20b07a"
      },
      "outputs": [
        {
          "data": {
            "text/plain": [
              "Index(['survived', 'pclass', 'sex', 'age', 'sibsp', 'parch', 'fare',\n",
              "       'embarked', 'class', 'who', 'adult_male', 'deck', 'embark_town',\n",
              "       'alive', 'alone'],\n",
              "      dtype='object')"
            ]
          },
          "execution_count": 51,
          "metadata": {},
          "output_type": "execute_result"
        }
      ],
      "source": [
        "df.columns"
      ]
    },
    {
      "cell_type": "code",
      "execution_count": null,
      "id": "7c48eea3-d602-4b8c-86ba-82addf10cfb1",
      "metadata": {
        "id": "7c48eea3-d602-4b8c-86ba-82addf10cfb1",
        "outputId": "46864fd0-05c2-400c-d24a-3a0b880f73c3"
      },
      "outputs": [
        {
          "data": {
            "text/plain": [
              "'Southampton'"
            ]
          },
          "execution_count": 55,
          "metadata": {},
          "output_type": "execute_result"
        }
      ],
      "source": [
        "df['embark_town'].value_counts(dropna=True).idxmax()"
      ]
    },
    {
      "cell_type": "code",
      "execution_count": null,
      "id": "56b964c6-b9f5-4209-9773-e0e5a7b06fe6",
      "metadata": {
        "id": "56b964c6-b9f5-4209-9773-e0e5a7b06fe6"
      },
      "outputs": [],
      "source": [
        "most_freq=df['embark_town'].value_counts(dropna=True).idxmax()"
      ]
    },
    {
      "cell_type": "code",
      "execution_count": null,
      "id": "7b7eadec-37c1-47fa-beab-e2cfc8d010d8",
      "metadata": {
        "id": "7b7eadec-37c1-47fa-beab-e2cfc8d010d8"
      },
      "outputs": [],
      "source": [
        "df['embark_town'].fillna(most_freq, inplace=True)"
      ]
    },
    {
      "cell_type": "code",
      "execution_count": null,
      "id": "0fa9433f-e916-4254-9d07-af365e4dd8b5",
      "metadata": {
        "id": "0fa9433f-e916-4254-9d07-af365e4dd8b5",
        "outputId": "237d722e-454e-4c31-8989-71cbfeb8f773"
      },
      "outputs": [
        {
          "data": {
            "text/plain": [
              "0"
            ]
          },
          "execution_count": 59,
          "metadata": {},
          "output_type": "execute_result"
        }
      ],
      "source": [
        "df['embark_town'].isnull().sum()"
      ]
    },
    {
      "cell_type": "code",
      "execution_count": null,
      "id": "cb44f90e-7899-4460-a608-86e4a306b25c",
      "metadata": {
        "id": "cb44f90e-7899-4460-a608-86e4a306b25c"
      },
      "outputs": [],
      "source": [
        "df=sns.load_dataset('titanic')"
      ]
    },
    {
      "cell_type": "code",
      "execution_count": null,
      "id": "2023763d-699c-443b-ba20-b447298361a0",
      "metadata": {
        "id": "2023763d-699c-443b-ba20-b447298361a0",
        "outputId": "718aafed-b696-4ee8-a9b1-e068e271cceb"
      },
      "outputs": [
        {
          "data": {
            "text/plain": [
              "825     Queenstown\n",
              "826    Southampton\n",
              "827      Cherbourg\n",
              "828     Queenstown\n",
              "829            NaN\n",
              "Name: embark_town, dtype: object"
            ]
          },
          "execution_count": 62,
          "metadata": {},
          "output_type": "execute_result"
        }
      ],
      "source": [
        "df['embark_town'][825:830]"
      ]
    },
    {
      "cell_type": "code",
      "execution_count": null,
      "id": "e109d7b1-cba4-42f4-8387-1da8d720dbdd",
      "metadata": {
        "id": "e109d7b1-cba4-42f4-8387-1da8d720dbdd",
        "outputId": "4440c230-f673-423a-8bc5-b34354c0dc70"
      },
      "outputs": [
        {
          "name": "stderr",
          "output_type": "stream",
          "text": [
            "C:\\Users\\USer\\AppData\\Local\\Temp\\ipykernel_24556\\327458122.py:1: FutureWarning: Series.fillna with 'method' is deprecated and will raise in a future version. Use obj.ffill() or obj.bfill() instead.\n",
            "  df['embark_town'].fillna(method='ffill', inplace=True)\n"
          ]
        }
      ],
      "source": [
        "df['embark_town'].fillna(method='ffill', inplace=True)"
      ]
    },
    {
      "cell_type": "code",
      "execution_count": null,
      "id": "52ba42a9-90ba-4361-ad46-8bc855a7fe14",
      "metadata": {
        "id": "52ba42a9-90ba-4361-ad46-8bc855a7fe14",
        "outputId": "388fcec8-50df-4895-ea23-3769d8411fe1"
      },
      "outputs": [
        {
          "data": {
            "text/plain": [
              "825     Queenstown\n",
              "826    Southampton\n",
              "827      Cherbourg\n",
              "828     Queenstown\n",
              "829     Queenstown\n",
              "Name: embark_town, dtype: object"
            ]
          },
          "execution_count": 64,
          "metadata": {},
          "output_type": "execute_result"
        }
      ],
      "source": [
        "df['embark_town'][825:830]"
      ]
    },
    {
      "cell_type": "code",
      "execution_count": null,
      "id": "2691db64-ea3c-4eff-8498-b9126e3f057b",
      "metadata": {
        "id": "2691db64-ea3c-4eff-8498-b9126e3f057b"
      },
      "outputs": [],
      "source": []
    }
  ],
  "metadata": {
    "kernelspec": {
      "display_name": "Python 3 (ipykernel)",
      "language": "python",
      "name": "python3"
    },
    "language_info": {
      "codemirror_mode": {
        "name": "ipython",
        "version": 3
      },
      "file_extension": ".py",
      "mimetype": "text/x-python",
      "name": "python",
      "nbconvert_exporter": "python",
      "pygments_lexer": "ipython3",
      "version": "3.11.7"
    },
    "colab": {
      "provenance": [],
      "include_colab_link": true
    }
  },
  "nbformat": 4,
  "nbformat_minor": 5
}